{
 "cells": [
  {
   "cell_type": "code",
   "execution_count": null,
   "id": "1de2b893",
   "metadata": {
    "deletable": false,
    "editable": false
   },
   "outputs": [],
   "source": [
    "# Initialize Otter\n",
    "import otter\n",
    "grader = otter.Notebook(\"lab10.ipynb\")"
   ]
  },
  {
   "cell_type": "markdown",
   "id": "f3a461f7-c029-401a-90ef-56b24d8fbecd",
   "metadata": {},
   "source": [
    "<img src=\"./ccsf.png\" alt=\"CCSF Logo\" width=200px style=\"margin:0px -5px\">"
   ]
  },
  {
   "cell_type": "markdown",
   "id": "d2cbe8e5-49d9-4516-b6a1-c22eca603df2",
   "metadata": {},
   "source": [
    "# Lab 10: k-NN"
   ]
  },
  {
   "cell_type": "markdown",
   "id": "a6f84e19-5799-4e72-a47f-8d997aec0fda",
   "metadata": {},
   "source": [
    "## References"
   ]
  },
  {
   "cell_type": "markdown",
   "id": "2dd94be2-b43e-463d-b792-04343866248f",
   "metadata": {},
   "source": [
    "* [Sections 17.0 - 17.6 of the Textbook](https://inferentialthinking.com/chapters/17/Classification.html)\n",
    "* [datascience Documentation](https://datascience.readthedocs.io/)\n",
    "* [Python Quick Reference](https://ccsf-math-108.github.io/materials-sp24/resources/quick-reference.html)"
   ]
  },
  {
   "cell_type": "markdown",
   "id": "9c424465-bc60-43df-bea1-ee69d480be19",
   "metadata": {},
   "source": [
    "---"
   ]
  },
  {
   "cell_type": "markdown",
   "id": "3804cf0a-2ded-4977-b28e-18c28fcc5941",
   "metadata": {},
   "source": [
    "## Lab Assignment Reminders"
   ]
  },
  {
   "cell_type": "markdown",
   "id": "362822fe-9ddc-49b5-b0ce-5f79043b9ba7",
   "metadata": {},
   "source": [
    "- 🚨 Make sure to run the code cell at the top of this notebook that starts with `# Initialize Otter` to load the auto-grader.\n",
    "- Your tasks are categorized as auto-graded (📍) and manually graded (📍🔎):\n",
    "    - **For all auto-graded tasks:**\n",
    "        - Replace the `...` in the provided code cell with your own code.\n",
    "        - Run the `grader.check` code cell to execute tests on your code.\n",
    "        - There are no hidden auto-grader tests in the lab assignments. This means if you pass the tests, you can assume you've completed the task successfully.\n",
    "    - **For all manually graded tasks:**\n",
    "        - You may need to provide your own response to the provided prompt. Replace the template text \"_Type your answer here, replacing this text._\" with your own words.\n",
    "        - You might need to produce a graphic or another output using code. Replace the `...` in the code cell to generate the image, table, etc.\n",
    "        - In either case, check your response with a classmate, a tutor, or the instructor before moving on.\n",
    "- Throughout this assignment and all future ones, please **do not re-assign variables** throughout the notebook! _For example, if you use `max_temperature` in your answer to one question, do not reassign it later on. Otherwise, you may fail tests that you thought you were passing previously!_\n",
    "- You may [submit](#Submit-Your-Assignment-to-Canvas) this assignment as many times as you want before the deadline. Your instructor will score the last version you submit once the deadline has passed.\n",
    "- **Collaborating on labs is encouraged!** You should rarely remain stuck for more than a few minutes on questions in labs, so ask an instructor or classmate for help. (Explaining things is beneficial, too -- the best way to solidify your knowledge of a subject is to explain it.) However, please don't just share answers."
   ]
  },
  {
   "cell_type": "markdown",
   "id": "9bcbb34d-9d7f-4bcb-bd64-cdd5fc4081ce",
   "metadata": {},
   "source": [
    "---"
   ]
  },
  {
   "cell_type": "markdown",
   "id": "3ed433fd-cc50-4933-85ad-d774175aff26",
   "metadata": {},
   "source": [
    "## Configure the Notebook"
   ]
  },
  {
   "cell_type": "markdown",
   "id": "4aa2901a-e3fa-4bcf-9093-487c2ec0e379",
   "metadata": {},
   "source": [
    "Run the following cell to configure this Notebook."
   ]
  },
  {
   "cell_type": "code",
   "execution_count": null,
   "id": "e0b5ab0d-e07e-452b-8d2c-f9ff948789a8",
   "metadata": {},
   "outputs": [],
   "source": [
    "from datascience import *\n",
    "import numpy as np\n",
    "%matplotlib inline\n",
    "import matplotlib.pyplot as plt\n",
    "plt.style.use('fivethirtyeight')"
   ]
  },
  {
   "cell_type": "markdown",
   "id": "18d64994-5ca5-45d1-913c-c2fb1a739e06",
   "metadata": {},
   "source": [
    "---"
   ]
  },
  {
   "cell_type": "markdown",
   "id": "0f04ce0e-0197-4cba-b6b1-72f3340a7763",
   "metadata": {},
   "source": [
    "## 🐧 Penguins of the Palmer Archipelago"
   ]
  },
  {
   "cell_type": "markdown",
   "id": "b8ecd8a1-eb1d-41a4-ad72-5d8c48cc5fd7",
   "metadata": {},
   "source": [
    "<a href=\"https://allisonhorst.github.io/palmerpenguins/reference/figures/lter_penguins.png\" title=\"The Palmer Archipelago penguins. Artwork by @allison_horst.\"><img src=\"lter_penguins.png\" width=\"50%\" alt=\"The Palmer Archipelago penguins. Artwork by @allison_horst.\"></a>"
   ]
  },
  {
   "cell_type": "markdown",
   "id": "23e3d5d0-04bc-45ed-b55a-c44a0526ff16",
   "metadata": {},
   "source": [
    "[Dr. Kristen Gorman](https://www.uaf.edu/cfos/people/faculty/detail/kristen-gorman.php) is a renowned marine biologist whose research often focuses on penguins, particularly in Antarctica. She was with the [Palmer Station Long Term Ecological Research Program](https://pallter.marine.rutgers.edu/), part of the [US Long Term Ecological Research Network](https://lternet.edu/). From 2007 through 2009, Gorman gathered several measurements from three species of penguins, Adélie [[1](#Citations)], chinstrap [[2](#Citations)], and gentoo [[3](#Citations)], along the Palmer Archipelago near Palmer Station.\n",
    "\n",
    "<a href=\"https://en.wikipedia.org/wiki/Palmer_Archipelago\" title=\"Palmer Archipelago\n",
    "\"><img src=\"./palmer_archipelago.jpeg\" alt=\"Map of the Palmer archipelago\" width=30%></a>\n",
    "\n",
    "We imported the data sets for each penguin species directly from the [Environmental Data Initiative (EDI) Data Portal](https://portal.edirepository.org/nis/home.jsp) and combined them into one file `penguins.csv`. These data are available for use by [CC0 license](https://creativecommons.org/public-domain/cc0/) (\"No Rights Reserved\").\n",
    "\n",
    "Run the following code cell to load the data as `penguins`."
   ]
  },
  {
   "cell_type": "code",
   "execution_count": null,
   "id": "ccde10bf-8500-4747-9c9e-0b12dd8bc870",
   "metadata": {},
   "outputs": [],
   "source": [
    "penguins = Table.read_table('penguins.csv')\n",
    "penguins"
   ]
  },
  {
   "cell_type": "markdown",
   "id": "e963f79c-6c91-4307-ab7b-7a7cb420f8b8",
   "metadata": {},
   "source": [
    "---"
   ]
  },
  {
   "cell_type": "markdown",
   "id": "dc46fdf0-1516-44ba-8bfa-0c4c999ccd2b",
   "metadata": {},
   "source": [
    "## Features"
   ]
  },
  {
   "cell_type": "markdown",
   "id": "8ab5b7c6-6f5b-4915-a260-1da0316ac5ef",
   "metadata": {},
   "source": [
    "---"
   ]
  },
  {
   "cell_type": "markdown",
   "id": "209ce16f-ca0c-4138-b954-4571740a6cf2",
   "metadata": {
    "slideshow": {
     "slide_type": "slide"
    }
   },
   "source": [
    "In this lab, you will build a kNN classifier to predict a penguin's species based on two of their numerical attributes (features) using Gorman's data set."
   ]
  },
  {
   "cell_type": "markdown",
   "id": "7d90a360-9830-47ea-affb-560839254e4e",
   "metadata": {},
   "source": [
    "---"
   ]
  },
  {
   "cell_type": "markdown",
   "id": "94e4d8b1-5eeb-4a67-8fd6-ffe1a772bc28",
   "metadata": {
    "tags": []
   },
   "source": [
    "### Task 01 📍🔎"
   ]
  },
  {
   "cell_type": "markdown",
   "id": "23f92652-a0ff-4a7f-807f-53642d0e37b4",
   "metadata": {
    "deletable": false,
    "editable": false
   },
   "source": [
    "<!-- BEGIN QUESTION -->\n",
    "\n",
    "The first thing you want to do is visualize the relationship between several of the pairs of numerical measurements (features) for the penguins to see which pair would make the best classifier. The features you will focus on initially are `'Culmen Length (mm)'`, `'Culmen Depth (mm)'`, `'Flipper Length (mm)'`, `'Body Mass (g)'`. \n",
    "\n",
    "The culmen refers to the ridge along the penguin's bill.\n",
    "\n",
    "<a href=\"https://twitter.com/allison_horst/status/1270046411002753025\" title=\"Allison Horst X post\"><img src=\"./culmen.jpeg\" alt=\"An illustration of a penguins culmen.\" width=40%></a>\n",
    "\n",
    "For this task, create a scatter plot for each of the pairs of features listed above. To help you out, there are 6 ways to pair up the listed features, and we've stored those in an array called `feature_pairs`. \n",
    "* Each item in `feature_pairs` contains two strings, corresponding to the relevant column labels in the `penguins` table.\n",
    "* The code template loops through all the pairs and starts to make the scatter plots by creating the titles.\n",
    "\n",
    "To complete this task, you need to add the single line of code that makes the scatter plot from the `penguins` table. Use `group='Species'` to overlay the data from the three species on the same graph.\n",
    "\n",
    "**Notes:** \n",
    "* This task does not have an auto-grader, so check your scatter plots with a classmate, a tutor, or the instructor to make sure you're on the right track.\n",
    "* The code in the template uses Python's `combinations` function from the [`itertools` module](https://docs.python.org/3/library/itertools.html). You are not expected to know about `itertools` for this class. That module simply provides us with an easy way to determine all the unique pairs of the listed features."
   ]
  },
  {
   "cell_type": "code",
   "execution_count": null,
   "id": "0344cd21-81d1-4327-9514-32157d721a6b",
   "metadata": {
    "tags": []
   },
   "outputs": [],
   "source": [
    "from itertools import combinations\n",
    "\n",
    "features = ['Culmen Length (mm)', 'Culmen Depth (mm)', 'Flipper Length (mm)', 'Body Mass (g)']\n",
    "feature_pairs = np.array(list(combinations(features, 2)))\n",
    "\n",
    "for feature_pair in feature_pairs:\n",
    "    ...\n",
    "    plt.title(f'{feature_pair.item(0)} and {feature_pair.item(1)}')\n",
    "    plt.show()"
   ]
  },
  {
   "cell_type": "markdown",
   "id": "b32da404-1f70-4474-af1f-b0fd3e7223a1",
   "metadata": {
    "deletable": false,
    "editable": false
   },
   "source": [
    "<!-- END QUESTION -->\n",
    "\n",
    "---"
   ]
  },
  {
   "cell_type": "markdown",
   "id": "bdbd2d7b-dd59-4566-8cb0-d2eb46d40781",
   "metadata": {
    "tags": []
   },
   "source": [
    "### Task 02 📍"
   ]
  },
  {
   "cell_type": "markdown",
   "id": "07e93437-ad8e-4b5d-8d59-4633304b2b75",
   "metadata": {
    "deletable": false,
    "editable": false
   },
   "source": [
    "Based on the scatter plots, which pair of features do you think best shows separation in the species of penguins?\n",
    "\n",
    "Assign `a_good_pair` to one of the following integers that represent a good pair of features for showing separation of penguin species (especially for Andélie penguins):\n",
    "\n",
    "1. Culmen Length (mm) and Culmen Depth (mm)\n",
    "2. Culmen Length (mm) and Flipper Length (mm)\n",
    "3. Culmen Length (mm) and Body Mass (g)\n",
    "4. Culmen Depth (mm) and Flipper Length (mm)\n",
    "5. Culmen Depth (mm) and Body Mass (g)\n",
    "6. Flipper Length (mm) and Body Mass (g)"
   ]
  },
  {
   "cell_type": "code",
   "execution_count": null,
   "id": "7293de6e-2e5f-4e80-9b0d-2c6bab4db998",
   "metadata": {
    "tags": []
   },
   "outputs": [],
   "source": [
    "a_good_pair = ..."
   ]
  },
  {
   "cell_type": "code",
   "execution_count": null,
   "id": "906a10fc",
   "metadata": {
    "deletable": false,
    "editable": false
   },
   "outputs": [],
   "source": [
    "grader.check(\"task_02\")"
   ]
  },
  {
   "cell_type": "markdown",
   "id": "bf8423fd-355a-4631-b516-d997e20cd2e1",
   "metadata": {},
   "source": [
    "---"
   ]
  },
  {
   "cell_type": "markdown",
   "id": "70e3dc53-ce3d-4403-939a-015c375eb475",
   "metadata": {},
   "source": [
    "## Binary Classification"
   ]
  },
  {
   "cell_type": "markdown",
   "id": "d09c33df-fcab-415c-b7a5-cff50300c703",
   "metadata": {},
   "source": [
    "---"
   ]
  },
  {
   "cell_type": "markdown",
   "id": "7749d89a-e578-4f09-b3fc-c9cc72a4a2c9",
   "metadata": {},
   "source": [
    "There are three islands (Biscoe, Dream, and Torgersen) represented in this data set. \n",
    "\n",
    "Run the following code cell to the distribution of island and species combinations."
   ]
  },
  {
   "cell_type": "code",
   "execution_count": null,
   "id": "cb277154-a146-4914-bf6f-cae976e191b4",
   "metadata": {},
   "outputs": [],
   "source": [
    "(penguins.select('Island', 'Species')\n",
    "         .group(['Island', 'Species']))"
   ]
  },
  {
   "cell_type": "markdown",
   "id": "b56e4a30-5039-4167-8b08-f4fd5dbd7af6",
   "metadata": {},
   "source": [
    "Adélie penguins can be found on all three islands, but gentoo and chinstrap are not found on all three islands. In fact, the data shows that gentoo penguins inhabit Biscoe and chinstrap penguins inhabit Dream. This means we could easily differentiate between gentoo and chinstrap penguins based on what island the penguin was observed. However, we cannot just identify an Adélie penguin based on the island they are on. \n",
    "\n",
    "For this reason, we will reduce this classification problem to a binary classification and guide you to build a [kNN classifier](https://inferentialthinking.com/chapters/17/1/Nearest_Neighbors.html#k-nearest-neighbors) that will classify a penguin as Adélie or not Adélie. \n",
    "\n",
    "Since you are learning about how kNN works, we'll have you build the classifier in pieces."
   ]
  },
  {
   "cell_type": "markdown",
   "id": "c78cbb16-e11c-4a3e-9163-aad63097c285",
   "metadata": {},
   "source": [
    "---"
   ]
  },
  {
   "cell_type": "markdown",
   "id": "8c88bee3-c3aa-4cf3-a6b1-d5cadbfae3da",
   "metadata": {
    "tags": []
   },
   "source": [
    "### Task 03 📍"
   ]
  },
  {
   "cell_type": "markdown",
   "id": "b2e22d16-8e7d-4549-86f5-1043027ffeb4",
   "metadata": {
    "deletable": false,
    "editable": false
   },
   "source": [
    "First, we need to create our binary labels. There are 3 species, but we are just focusing on whether a penguin is an Adélie penguin or not."
   ]
  },
  {
   "cell_type": "markdown",
   "id": "ca669cb3-1187-41d9-82c4-e0d9ade78fa8",
   "metadata": {
    "deletable": false,
    "editable": false
   },
   "source": [
    "1. Write a function `is_adelie` that takes as input the species of a penguin (a `str` value as listed in the `penguins` table) and returns a `bool` value of `True` or `False` depending on whether it is an Adélie penguin or not.\n",
    "2. Add a column called `Adelie` to the end of the `penguins` table that contains the correct `True`/`False` value for the given penguin."
   ]
  },
  {
   "cell_type": "code",
   "execution_count": null,
   "id": "5efa46a0-8d94-4593-9a13-0e53408ed8c8",
   "metadata": {
    "tags": []
   },
   "outputs": [],
   "source": [
    "def is_adelie(species):\n",
    "    ...\n",
    "\n",
    "penguins = penguins.with_column(\n",
    "    'Adelie', ...)\n",
    "\n",
    "penguins"
   ]
  },
  {
   "cell_type": "code",
   "execution_count": null,
   "id": "4876eaf9",
   "metadata": {
    "deletable": false,
    "editable": false
   },
   "outputs": [],
   "source": [
    "grader.check(\"task_03\")"
   ]
  },
  {
   "cell_type": "markdown",
   "id": "2823f356-e036-44d9-a4ba-571d60ab9238",
   "metadata": {},
   "source": [
    "---"
   ]
  },
  {
   "cell_type": "markdown",
   "id": "5e976cc8-c11b-4a3e-b6fe-89cf800ec0c5",
   "metadata": {},
   "source": [
    "## Feature Selection"
   ]
  },
  {
   "cell_type": "markdown",
   "id": "e823faac-ce0f-4de8-bde7-bcd3935c6d73",
   "metadata": {},
   "source": [
    "---"
   ]
  },
  {
   "cell_type": "markdown",
   "id": "479cdb57-611c-4b82-b6f3-4a64847fd73c",
   "metadata": {},
   "source": [
    "We want you to use the features `'Culmen Length (mm)'` and `'Flipper Length (mm)'` to classify Adélie penguins. \n",
    "\n",
    "Run the following code cell to reduce the `penguins` table down to the relevant information for the rest of this lab."
   ]
  },
  {
   "cell_type": "code",
   "execution_count": null,
   "id": "6f903eea-a5f3-4bb9-a5dd-24bc8c33eeee",
   "metadata": {},
   "outputs": [],
   "source": [
    "penguins = penguins.select('Adelie', \n",
    "                           'Culmen Length (mm)', \n",
    "                           'Flipper Length (mm)')\n",
    "penguins"
   ]
  },
  {
   "cell_type": "markdown",
   "id": "3138b81a-c924-4db3-b58f-21c14985efb4",
   "metadata": {},
   "source": [
    "---"
   ]
  },
  {
   "cell_type": "markdown",
   "id": "6eda7f07-589b-4280-94fb-1acfb95b1927",
   "metadata": {},
   "source": [
    "## Distance"
   ]
  },
  {
   "cell_type": "markdown",
   "id": "ea100363-193c-4609-98f2-ba90f0e29ba7",
   "metadata": {},
   "source": [
    "---"
   ]
  },
  {
   "cell_type": "markdown",
   "id": "6281d6c8-7222-4ca1-aba3-e339873a7974",
   "metadata": {},
   "source": [
    "The kNN classifier works by identifying the majority label of the _nearest_ labeled data to the data you are trying to label. To determine the nearest data, we need to measure how far all the data pairs are from the unlabeled data. The (Euclidean) distance ($d$) between two points $(x_1, y_1)$ and $(x_2, y_2)$ was defined for you as $$d = \\sqrt{(x_1 - x_2)^2 + (y_1 - y_2)^2}.$$ Use this distance to define the distance between two penguins."
   ]
  },
  {
   "cell_type": "markdown",
   "id": "6be9bd11-da40-4a58-b202-dd24b5806744",
   "metadata": {},
   "source": [
    "From one of the recent lectures, we created a `distance` function and a `row_distance` function for you. The `distance` function does the above calculation for arrays and the `row_distance` function more specifically calculates the distance between two rows of a table where each row contains only numerical data. \n",
    "\n",
    "Run the following cell to define these functions."
   ]
  },
  {
   "cell_type": "code",
   "execution_count": null,
   "id": "9da9c615-2266-4f3f-b83b-31f917ec0485",
   "metadata": {},
   "outputs": [],
   "source": [
    "def distance(pt1, pt2):\n",
    "    \"\"\"Return the distance between two points, represented as arrays\"\"\"\n",
    "    return np.sqrt(sum((pt1 - pt2)**2))\n",
    "\n",
    "def row_distance(row1, row2):\n",
    "    \"\"\"Return the distance between two numerical rows of a table\"\"\"\n",
    "    return distance(np.array(row1), np.array(row2))"
   ]
  },
  {
   "cell_type": "markdown",
   "id": "e02eb2d8-59cc-484d-a823-afb369cf78b8",
   "metadata": {},
   "source": [
    "---"
   ]
  },
  {
   "cell_type": "markdown",
   "id": "0e49a625-f59c-4628-a34d-e41ed44f3271",
   "metadata": {},
   "source": [
    "## Training and Testing Data"
   ]
  },
  {
   "cell_type": "markdown",
   "id": "a1d640c6-5069-44b2-a673-5482b0d475a6",
   "metadata": {},
   "source": [
    "---"
   ]
  },
  {
   "cell_type": "markdown",
   "id": "ed28858f-f10c-4c58-9ae2-33815f928560",
   "metadata": {},
   "source": [
    "The kNN algorithm that you will implement is tied to a specific set of data, referred to as a training set. The training set is formed by using a certain percentage of the sample data. A common percentage is 80\\%. \n",
    "\n",
    "If 80\\% of the sample data is used for the nearest neighbors classification process, then what is the remaining 20\\% used for? The remaining sample data, known as the test set, is reserved for the evaluation of the classifier. You'll go through that process at the end of the lab."
   ]
  },
  {
   "cell_type": "markdown",
   "id": "2bc9c4e6-2ade-43a1-99e9-4132bfce861e",
   "metadata": {},
   "source": [
    "---"
   ]
  },
  {
   "cell_type": "markdown",
   "id": "a0c3a594-00f8-4a3d-9f6d-f28fac24d2ff",
   "metadata": {
    "tags": []
   },
   "source": [
    "### Task 04 📍"
   ]
  },
  {
   "cell_type": "markdown",
   "id": "102935c6-7bf5-4ca0-9450-7b39d80acaab",
   "metadata": {
    "deletable": false,
    "editable": false
   },
   "source": [
    "Define a function called `train_test_split` with one input, a table, that returns two tables reflecting the training and testing tables. \n",
    "* The first table returned should reflect the training data and consist of a random sample of 80\\% of the rows of the input table.\n",
    "* The second table returned should reflect testing data and consist of the remaining rows from the input table.\n",
    "\n",
    "The line `train, test = train_test_split(penguins)` in the following code template uses your function to create a training set and a testing set from `penguins`.\n",
    "\n",
    "**Notes:** \n",
    "* You have used a function like `minimize` that returns multiple values. We haven't had you make a function before that returns two things so we will help you with that. This is done in the line `return training_tbl, testing_tbl`. \n",
    "* To help make sure you are doing the tasks correctly, we'll make sure that you always get the same random training and test sets as everyone else. This is done with the code `np.random.seed(2024)`."
   ]
  },
  {
   "cell_type": "code",
   "execution_count": null,
   "id": "f62ef749-15a0-47fb-8063-586069e0add7",
   "metadata": {
    "tags": []
   },
   "outputs": [],
   "source": [
    "def train_test_split(data):\n",
    "    np.random.seed(2024)\n",
    "    percentile_80_row_index = int(np.ceil(0.8 * data.num_rows))\n",
    "    data_shuffled = ...\n",
    "    training_tbl = ...\n",
    "    testing_tbl = ...\n",
    "    return training_tbl, testing_tbl\n",
    "\n",
    "# Use the function to create training and testing sets from the penguins table. \n",
    "train, test = train_test_split(penguins)\n",
    "\n",
    "print(f'The following training set contains %{train.num_rows / penguins.num_rows * 100:.2f} of the rows of the penguins table.') \n",
    "\n",
    "display(train)\n",
    "print(f'\\nThe following test set contains %{test.num_rows / penguins.num_rows * 100:.2f} of the rows of the penguins table.')\n",
    "display(test)"
   ]
  },
  {
   "cell_type": "code",
   "execution_count": null,
   "id": "e2499e8d",
   "metadata": {
    "deletable": false,
    "editable": false
   },
   "outputs": [],
   "source": [
    "grader.check(\"task_04\")"
   ]
  },
  {
   "cell_type": "markdown",
   "id": "35c78136-19f2-4fd0-adc8-f54729c5f774",
   "metadata": {},
   "source": [
    "---"
   ]
  },
  {
   "cell_type": "markdown",
   "id": "6d5bcf20-8f70-4dab-be92-3700bcca5a6a",
   "metadata": {},
   "source": [
    "## An Example Point"
   ]
  },
  {
   "cell_type": "markdown",
   "id": "0a76cd39-aab8-4f69-ad21-2bd3611aee37",
   "metadata": {},
   "source": [
    "---"
   ]
  },
  {
   "cell_type": "markdown",
   "id": "aa954d77-be36-4be1-9972-5e394532e8fc",
   "metadata": {},
   "source": [
    "Your goal is to be able to classify a penguin as Adélie or not based on the labeled data in Gorman's data set. Let's use the first penguin listed in the `test` table as an example to use for a few tasks. That penguin should have a culmen length of 43.1 mm and a flipper length of 197 mm. You will now make and use a kNN classifier to predict the Adélie label for that penguin. You will be focusing on using table rows to do this. We know the true label for this penguin is `True`, but for now, let's ignore it and see how the classifier works. So an unlabeled example row for that penguin would be:"
   ]
  },
  {
   "cell_type": "code",
   "execution_count": null,
   "id": "be723fd9-383c-4048-865f-1a4899e8138b",
   "metadata": {},
   "outputs": [],
   "source": [
    "an_unlabeled_example = test.drop('Adelie').row(0)\n",
    "an_unlabeled_example"
   ]
  },
  {
   "cell_type": "markdown",
   "id": "538b67e7-03d8-44a5-9d5f-fbdf98b8ddd8",
   "metadata": {},
   "source": [
    "Notice where this example penguin fits within the collected data in `penguin`."
   ]
  },
  {
   "cell_type": "code",
   "execution_count": null,
   "id": "123768ae-894d-4fd5-9b62-c2ded3465ea9",
   "metadata": {},
   "outputs": [],
   "source": [
    "penguins.scatter('Culmen Length (mm)', 'Flipper Length (mm)', group='Adelie')\n",
    "plt.scatter(an_unlabeled_example.item(0), an_unlabeled_example.item(1), marker='*', s=100, color='red')\n",
    "plt.show()"
   ]
  },
  {
   "cell_type": "markdown",
   "id": "8bf3690f-6c80-4cbf-a377-a95bb243d69d",
   "metadata": {},
   "source": [
    "Visually, it seems that the unlabeled example is an Adélie penguin because it is near the points of other Adélie penguins. Now, teach the computer how to see that as well!"
   ]
  },
  {
   "cell_type": "markdown",
   "id": "da233280-1c7f-41b3-a644-af8f77e762a9",
   "metadata": {},
   "source": [
    "---"
   ]
  },
  {
   "cell_type": "markdown",
   "id": "a89f0c42-052f-42b5-be5d-333e3745e636",
   "metadata": {},
   "source": [
    "## Building a Classifier"
   ]
  },
  {
   "cell_type": "markdown",
   "id": "70c365ab-8991-4aaf-8968-5e93c3677328",
   "metadata": {},
   "source": [
    "---"
   ]
  },
  {
   "cell_type": "markdown",
   "id": "f5e7769e-dbf0-4157-a0cc-ba6e8a29a1ab",
   "metadata": {
    "tags": []
   },
   "source": [
    "### Task 05 📍"
   ]
  },
  {
   "cell_type": "markdown",
   "id": "ac7583b9-7739-4109-ab00-7aea4d4e190e",
   "metadata": {
    "deletable": false,
    "editable": false
   },
   "source": [
    "For this task, create a function called `distances`. It should:\n",
    "* Take the following as input:\n",
    "    * `unlabeled_example` (`Row`): a row object representing an unlabeled example of features,\n",
    "    * `labeled_features_tbl` (`Table`): a table containing labeled features, like `penguins`, with a column containing `True`/`False` labels, and\n",
    "    * `label_col` (`str`): a string representing the column in the labeled features table containing the labels.\n",
    "* It should produce a table (`Table`) as output that contains the same in formation in `labeled_features_tbl` along with an additional column labeled `'Distance'` containing the row distances between a row of features called `unlabeled_example` and every row in `labeled_features_tbl`. "
   ]
  },
  {
   "cell_type": "code",
   "execution_count": null,
   "id": "e2c20b02-525d-4514-9a2c-d4957b6fc510",
   "metadata": {
    "tags": []
   },
   "outputs": [],
   "source": [
    "def distances(unlabeled_example, labeled_features_tbl, label_col):\n",
    "    distances_array = make_array()\n",
    "    features = labeled_features_tbl.drop(...)\n",
    "   \n",
    "    for row in features.rows:\n",
    "        distances_array = np.append(distances_array, ...)\n",
    "    \n",
    "    labeled_features_tbl = labeled_features_tbl.with_column('Distance', ...)\n",
    "    return ...\n",
    "\n",
    "# Here is the results for the unlabeled example:\n",
    "distances(an_unlabeled_example, penguins, 'Adelie').show(3)"
   ]
  },
  {
   "cell_type": "code",
   "execution_count": null,
   "id": "3df253d5",
   "metadata": {
    "deletable": false,
    "editable": false
   },
   "outputs": [],
   "source": [
    "grader.check(\"task_05\")"
   ]
  },
  {
   "cell_type": "markdown",
   "id": "a17027ce-d1d9-4e83-b437-d98d93652b98",
   "metadata": {},
   "source": [
    "---"
   ]
  },
  {
   "cell_type": "markdown",
   "id": "13f67551-7ea1-4705-9225-92b555c1a2e8",
   "metadata": {
    "tags": []
   },
   "source": [
    "### Task 06 📍"
   ]
  },
  {
   "cell_type": "markdown",
   "id": "690e0d98-7c5c-42b7-9963-6ff31d0b1181",
   "metadata": {
    "deletable": false,
    "editable": false
   },
   "source": [
    "With a way to calculate distances between penguins based on their numerical attributes, the next part of the kNN process is to find the `k` nearest points. \n",
    "\n",
    "Define a function called `closest`.\n",
    "1. The function should have 4 input arguments:\n",
    "    * `labeled_features_tbl`: a table of labeled features (e.g. `penguins`)\n",
    "    * `unlabeled_example`: an example row (e.g. `an_unlabeled_example`)\n",
    "    * `label_col`: a column label that indicates which columns contain the labels (e.g. `'Adelie'`)\n",
    "    * `k`: an odd integer that indicates the number of nearest points to consider (e.g. `5`)\n",
    "2. If the value of `k` is even, the function should return an error. Otherwise, the function should return a table with the `k` nearest rows in the `labeled_features_tbl` table to the row `unlabeled_example`.\n",
    "\n",
    "**Note:** We'll help you raise the error since that is not part of this class; however the if/then programming logic is part of this class. 🤓"
   ]
  },
  {
   "cell_type": "code",
   "execution_count": null,
   "id": "4a027836-14dc-448b-b765-a07a71e30148",
   "metadata": {
    "tags": []
   },
   "outputs": [],
   "source": [
    "def closest(unlabeled_example, labeled_features_tbl, label_col, k):\n",
    "    '''\n",
    "    Return a table of the k (odd) closest neighbors to the unlabeled example\n",
    "    '''\n",
    "    if ...:\n",
    "        # Raise an error since k should be odd\n",
    "        raise ValueError(\"The value of k should be odd.\")\n",
    "    else:\n",
    "        # Use the value of k to make a table of the k closest rows\n",
    "        distances_tbl = ...\n",
    "        distances_tbl_sorted = ...\n",
    "        nearest_k = ...\n",
    "        return ...\n",
    "\n",
    "# Test even and odd values of k to see if your function is working\n",
    "\n",
    "k = ... # Try using k = 4 and k = 5\n",
    "try:\n",
    "    result = closest(an_unlabeled_example, penguins, 'Adelie', k)\n",
    "    display(result)\n",
    "except ValueError as the_error:\n",
    "    display(the_error)"
   ]
  },
  {
   "cell_type": "code",
   "execution_count": null,
   "id": "677c6dd0",
   "metadata": {
    "deletable": false,
    "editable": false
   },
   "outputs": [],
   "source": [
    "grader.check(\"task_06\")"
   ]
  },
  {
   "cell_type": "markdown",
   "id": "9d5bbcbb-bf9e-41a4-98a7-97c04c448dd4",
   "metadata": {},
   "source": [
    "---"
   ]
  },
  {
   "cell_type": "markdown",
   "id": "4d61c127-e1e1-4cd2-a3d3-d6d949ff192d",
   "metadata": {
    "tags": []
   },
   "source": [
    "### Task 07 📍"
   ]
  },
  {
   "cell_type": "markdown",
   "id": "da974f2f-445f-470a-be78-fe70c51e0b09",
   "metadata": {
    "deletable": false,
    "editable": false
   },
   "source": [
    "Using the fact that `closest` returns the `k` closest rows in the data table to the provided example, create a function called `majority_class` that takes a table (`top_k_closest`) as input and returns the majority label associated with those `k` rows."
   ]
  },
  {
   "cell_type": "code",
   "execution_count": null,
   "id": "e3c44511-6ea8-4ee4-bcbb-28a0f2dcb621",
   "metadata": {
    "tags": []
   },
   "outputs": [],
   "source": [
    "def majority_class(top_k_closest):\n",
    "    ..."
   ]
  },
  {
   "cell_type": "code",
   "execution_count": null,
   "id": "a3e0c9ad",
   "metadata": {
    "deletable": false,
    "editable": false
   },
   "outputs": [],
   "source": [
    "grader.check(\"task_07\")"
   ]
  },
  {
   "cell_type": "markdown",
   "id": "001e8751-924b-4e8f-9b6e-e21b10b8d3a1",
   "metadata": {},
   "source": [
    "---"
   ]
  },
  {
   "cell_type": "markdown",
   "id": "2c12f2dd-a8e3-4465-bbb3-e37cdc6b0a73",
   "metadata": {
    "tags": []
   },
   "source": [
    "### Task 08 📍"
   ]
  },
  {
   "cell_type": "markdown",
   "id": "764bb7a9-ab03-46f3-bf81-1ef6d3ee6312",
   "metadata": {
    "deletable": false,
    "editable": false
   },
   "source": [
    "Finally, using the `majority_class` and `closest` functions, create your kNN classifier as a function called `knn_classifier`. \n",
    "\n",
    "1. The function should have 4 input arguments:\n",
    "    * `labeled_features_tbl`: a table of labeled features (e.g. `penguins`)\n",
    "    * `unlabeled_example`: an example row (e.g. `an_unlabeled_example`)\n",
    "    * `label_col`: a column label that indicates which columns contain the labels (e.g. `'Adelie'`)\n",
    "    * `k`: an integer value that indicates the number of nearest points to consider (e.g. `5`)\n",
    "2. The function should return a `bool` value for whether the unlabeled example is an Adélie penguin or not using the kNN algorithm."
   ]
  },
  {
   "cell_type": "code",
   "execution_count": null,
   "id": "e831728e-3cfc-4f1a-a864-efdced9dd2b6",
   "metadata": {
    "tags": []
   },
   "outputs": [],
   "source": [
    "def knn_classifier(unlabeled_example, labeled_features_tbl, label_col, k):\n",
    "    ...."
   ]
  },
  {
   "cell_type": "code",
   "execution_count": null,
   "id": "8982a310",
   "metadata": {
    "deletable": false,
    "editable": false
   },
   "outputs": [],
   "source": [
    "grader.check(\"task_08\")"
   ]
  },
  {
   "cell_type": "markdown",
   "id": "98f38845-72f7-4adc-bc43-395d464430bb",
   "metadata": {},
   "source": [
    "---"
   ]
  },
  {
   "cell_type": "markdown",
   "id": "6232c86a-05d7-4c00-8a5a-5d0b1a98a6fb",
   "metadata": {},
   "source": [
    "## Classifier Accuracy"
   ]
  },
  {
   "cell_type": "markdown",
   "id": "46adfec6-3441-4cc3-815c-e7c5724d1614",
   "metadata": {},
   "source": [
    "---"
   ]
  },
  {
   "cell_type": "markdown",
   "id": "cb749c74-bb70-403b-a9bf-9448cac49d49",
   "metadata": {},
   "source": [
    "Great work building a classifier! It did a great job classifying the first row of the test set, but how good of a job does it do in general?\n",
    "\n",
    "A standard way to analyze how well a classifier does is to measure its accuracy in predicting the labels of the data in the test set. You can do this by:\n",
    "\n",
    "1. Using the classifier (including the training data) to predict the labels for the data in the test set.\n",
    "2. Define the accuracy of the model to be the proportion of the correctly labeled data points in the testing data set.\n",
    "\n",
    "Over the next few tasks, we'll help you define the accuracy of your classifier."
   ]
  },
  {
   "cell_type": "markdown",
   "id": "0ee9c4f6-81b9-458c-8979-4e2deda56e03",
   "metadata": {},
   "source": [
    "---"
   ]
  },
  {
   "cell_type": "markdown",
   "id": "f27e285a-12b5-4d47-9b33-1dffaec4e5cc",
   "metadata": {
    "tags": []
   },
   "source": [
    "### Task 09 📍"
   ]
  },
  {
   "cell_type": "markdown",
   "id": "65b56348-7caa-4ea5-a6bc-0b1805d322c3",
   "metadata": {
    "deletable": false,
    "editable": false
   },
   "source": [
    "Now, use the `train` and `test` tables to calculate the accuracy of your kNN classifer `knn_classifier`. We'll guide you through this in a few steps:\n",
    "1. Use the `train` set with the `knn_classifier` and `k=3` to create an array `predicted_labels` of the predicted labels for all the rows of the `test` table.\n",
    "2. Create a table called `test_with_predictions` that is copy of `test with an added column called `'Predicted Adelie'` containing the predictions in `predicted_labels`.\n",
    "3. Create an array called `success` that contains `bool` values showing whether or not the predicted label was correct for each row of the test set.\n",
    "4. Assign `accuracy_k_3` to the proportion of `True` values in `success`."
   ]
  },
  {
   "cell_type": "code",
   "execution_count": null,
   "id": "032d3f34-b195-46cd-9493-71337adcc601",
   "metadata": {
    "tags": []
   },
   "outputs": [],
   "source": [
    "# Step 1\n",
    "predicted_labels = make_array()\n",
    "\n",
    "for test_row in test.drop('Adelie').rows:\n",
    "    predicted_label = ...\n",
    "    predicted_labels = np.append(predicted_labels, predicted_label)\n",
    "\n",
    "# Step 2\n",
    "test_with_predictions = ...\n",
    "\n",
    "# Step 3\n",
    "success = test_with_predictions.column('Adelie') == ...\n",
    "\n",
    "# Step 4\n",
    "accuracy_k_3 = ...\n",
    "\n",
    "print(f'The accuracy of your kNN classifer (with k = 3) using your randomly \\\n",
    "generated train and test sets is: {accuracy_k_3*100:.02f}%.')"
   ]
  },
  {
   "cell_type": "code",
   "execution_count": null,
   "id": "a197f8fc",
   "metadata": {
    "deletable": false,
    "editable": false
   },
   "outputs": [],
   "source": [
    "grader.check(\"task_09\")"
   ]
  },
  {
   "cell_type": "markdown",
   "id": "8bedb47e-acff-47be-9960-62b7d7b109f0",
   "metadata": {},
   "source": [
    "---"
   ]
  },
  {
   "cell_type": "markdown",
   "id": "08e73c02-fc77-42a6-af78-5432827645cb",
   "metadata": {},
   "source": [
    "Now, when you apply the classifier you built to a new data point (pair of culmen lengths and flipper length measurements), you can more confidently believe it will correctly label the species of the penguin."
   ]
  },
  {
   "cell_type": "markdown",
   "id": "92991a19-8b8e-4d81-804d-264a31268563",
   "metadata": {},
   "source": [
    "---"
   ]
  },
  {
   "cell_type": "markdown",
   "id": "13df19e6-657e-4bce-8c75-dc5fed0b9d4d",
   "metadata": {
    "tags": []
   },
   "source": [
    "### Task 10 📍🔎"
   ]
  },
  {
   "cell_type": "markdown",
   "id": "1e153e22-8579-430d-b8e8-cd8b143ebeba",
   "metadata": {
    "deletable": false,
    "editable": false
   },
   "source": [
    "<!-- BEGIN QUESTION -->\n",
    "\n",
    "Fine-tuning existing classifiers to improve performance metrics like accuracy is a big part of machine learning. Since kNN classifiers use all the available data to make a prediction, there are not many parameters to adjust to improve accuracy. \n",
    "\n",
    "For this task, try at least one of the following ideas to improve the accuracy of your classifier:\n",
    "* Finding an optimal value for `k`. In this class, that means try some different values of `k`.\n",
    "* Pick different or more features. We used culmen length and flipper length, but maybe there is a better pair of features or maybe it is better to consider more features at once.\n",
    "* Standardize the data so that the scale of the data values for each feature doesn't cause a bias in one feature. Maybe culmen length and flipper length are great, but if we standardize the data, then we might see that flipper length has less of a biased influence on the classification. Right now flipper lengths are above 100 in general, but culmen lengths are less than 100 in general."
   ]
  },
  {
   "cell_type": "code",
   "execution_count": null,
   "id": "559e4aeb-78d7-46be-ac0f-8c31cf848a33",
   "metadata": {
    "tags": []
   },
   "outputs": [],
   "source": [
    "..."
   ]
  },
  {
   "cell_type": "markdown",
   "id": "ace284f5-76e4-4889-8956-ddce4bdb8655",
   "metadata": {
    "deletable": false,
    "editable": false
   },
   "source": [
    "<!-- END QUESTION -->\n",
    "\n",
    "---"
   ]
  },
  {
   "cell_type": "markdown",
   "id": "12bce134-1b93-44d9-8afc-ac75192ea59e",
   "metadata": {},
   "source": [
    "## Submit Your Assignment to Canvas"
   ]
  },
  {
   "cell_type": "markdown",
   "id": "171f981d-cc47-4e82-a921-f15b18c9170d",
   "metadata": {
    "jp-MarkdownHeadingCollapsed": true
   },
   "source": [
    "Follow these steps to submit your lab assignment:\n",
    "\n",
    "1. **Check the Assignment Completion Requirements:** This assignment is scored as Complete or Incomplete. Make sure to check with your instructor about their requirements for a Complete score. \n",
    "2. **Run the Auto-Grader:** Ensure you have executed the code cell containing the command `grader.check_all()` to run all tests for auto-graded tasks marked with 📍. This command will execute all auto-grader tests sequentially.\n",
    "3. **Complete Manually Graded Tasks:** Verify that you have responded to all the manually graded tasks marked with 📍🔎.\n",
    "4. **Save Your Work:** In the notebook's Toolbar, go to `File -> Save Notebook` to save your work and create a checkpoint.\n",
    "5. **Download the Notebook:** In the notebook's Toolbar, go to `File -> Download HTML` to download the HTML version (`.html`) of this notebook.\n",
    "6. **Upload to Canvas:** On the Canvas Assignment page, click \"Start Assignment\" or \"New Attempt\" to upload the downloaded `.html` file."
   ]
  },
  {
   "cell_type": "markdown",
   "id": "11779b22-3152-494b-a4d4-b465d2ec2aa7",
   "metadata": {},
   "source": [
    "---"
   ]
  },
  {
   "cell_type": "markdown",
   "id": "04ccb6d5-299b-47d3-ba7b-4603c6857a05",
   "metadata": {},
   "source": [
    "## Citations"
   ]
  },
  {
   "cell_type": "markdown",
   "id": "1de027e4-6a86-484b-9987-914cad876b4d",
   "metadata": {},
   "source": [
    "1. Palmer Station Antarctica LTER and K. Gorman. 2020. Structural size measurements and isotopic signatures of foraging among adult male and female Adélie penguins (Pygoscelis adeliae) nesting along the Palmer Archipelago near Palmer Station, 2007-2009 ver 5. Environmental Data Initiative. https://doi.org/10.6073/pasta/98b16d7d563f265cb52372c8ca99e60f (Accessed 2024-05-02).\n",
    "\n",
    "2. Palmer Station Antarctica LTER and K. Gorman. 2020. Structural size measurements and isotopic signatures of foraging among adult male and female Chinstrap penguins (Pygoscelis antarcticus) nesting along the Palmer Archipelago near Palmer Station, 2007-2009 ver 8. Environmental Data Initiative. https://doi.org/10.6073/pasta/ce9b4713bb8c065a8fcfd7f50bf30dde (Accessed 2024-05-02).\n",
    "\n",
    "3. Palmer Station Antarctica LTER and K. Gorman. 2020. Structural size measurements and isotopic signatures of foraging among adult male and female gentoo penguins (Pygoscelis papua) nesting along the Palmer Archipelago near Palmer Station, 2007-2009 ver 7. Environmental Data Initiative. https://doi.org/10.6073/pasta/9fc8f9b5a2fa28bdca96516649b6599b (Accessed 2024-05-02)."
   ]
  },
  {
   "cell_type": "markdown",
   "id": "04df1eb1-7e66-4441-90aa-148fa5fa58e8",
   "metadata": {},
   "source": [
    "---"
   ]
  },
  {
   "cell_type": "markdown",
   "id": "48f600da-dbfc-40ed-9c9f-bfcb907d4858",
   "metadata": {
    "editable": true,
    "slideshow": {
     "slide_type": "notes"
    },
    "tags": []
   },
   "source": [
    "## Attribution"
   ]
  },
  {
   "cell_type": "markdown",
   "id": "63edc4b5-207a-4e50-a37d-c53e815f13c5",
   "metadata": {},
   "source": [
    "This content is licensed under the <a href=\"https://creativecommons.org/licenses/by-nc-sa/4.0/\">Creative Commons Attribution-NonCommercial-ShareAlike 4.0 International License (CC BY-NC-SA 4.0)</a> and derived from the <a href=\"https://www.data8.org/\">Data 8: The Foundations of Data Science</a> offered by the University of California, Berkeley.\n",
    "\n",
    "<img src=\"./by-nc-sa.png\" width=100px>"
   ]
  },
  {
   "cell_type": "markdown",
   "id": "9af9a428",
   "metadata": {
    "deletable": false,
    "editable": false
   },
   "source": [
    "---\n",
    "\n",
    "To double-check your work, the cell below will rerun all of the autograder tests."
   ]
  },
  {
   "cell_type": "code",
   "execution_count": null,
   "id": "a944c3ad",
   "metadata": {
    "deletable": false,
    "editable": false
   },
   "outputs": [],
   "source": [
    "grader.check_all()"
   ]
  }
 ],
 "metadata": {
  "kernelspec": {
   "display_name": "Python 3 (ipykernel)",
   "language": "python",
   "name": "python3"
  },
  "language_info": {
   "codemirror_mode": {
    "name": "ipython",
    "version": 3
   },
   "file_extension": ".py",
   "mimetype": "text/x-python",
   "name": "python",
   "nbconvert_exporter": "python",
   "pygments_lexer": "ipython3",
   "version": "3.11.9"
  },
  "otter": {
   "OK_FORMAT": true,
   "assignment_name": "lab10_fa24",
   "tests": {
    "task_02": {
     "name": "task_02",
     "points": null,
     "suites": [
      {
       "cases": [
        {
         "code": ">>> import hashlib\n>>> \n>>> def get_hash(num):\n...     \"\"\"Helper function for assessing correctness.\"\"\"\n...     return hashlib.md5(str(num).encode()).hexdigest()\n>>> get_hash({a_good_pair, 1, 2})\n'190cda75e2bd9dc669b09abe9f1131c5'",
         "failure_message": "❌ We don't agree with your choice. There are 2 other pairs of features that better show separation in the species. Ask for help seeing this.",
         "hidden": false,
         "locked": false,
         "success_message": "✅ We agree with your choice! We don't feel there are is a clear winner, but there are two pairs that do a good job at showing the separation of the species types."
        }
       ],
       "scored": true,
       "setup": "",
       "teardown": "",
       "type": "doctest"
      }
     ]
    },
    "task_03": {
     "name": "task_03",
     "points": null,
     "suites": [
      {
       "cases": [
        {
         "code": ">>> is_adelie('Adelie Penguin (Pygoscelis adeliae)')\nTrue",
         "failure_message": "❌ is_adelie doesn't correctly label an Adélie penguin. Try checking the species value to see if it contains the substring 'Adelie'.",
         "hidden": false,
         "locked": false,
         "points": 1,
         "success_message": "✅ is_adelie correctly labels an Adélie penguin"
        },
        {
         "code": ">>> is_adelie('Chinstrap penguin (Pygoscelis antarctica)')\nFalse",
         "failure_message": "❌ is_adelie doesn't correctly label a chinstrap penguin. If the species name doesn't contain 'Adelie', then you want to return False.",
         "hidden": false,
         "locked": false,
         "points": 1,
         "success_message": "✅ is_adelie correctly labels an chinstrap penguin"
        },
        {
         "code": ">>> is_adelie('Gentoo penguin (Pygoscelis papua)')\nFalse",
         "failure_message": "❌ is_adelie doesn't correctly label a gentoo penguin. If the species name doesn't contain 'Adelie', then you want to return False.",
         "hidden": false,
         "locked": false,
         "points": 1,
         "success_message": "✅ is_adelie correctly labels an gentoo penguin"
        },
        {
         "code": ">>> 'Adelie' in penguins.labels\nTrue",
         "failure_message": "❌ You have not added the Adelie column to the penguins table. Try using the apply table method to get an array of True/False values and then using the with_column table method.",
         "hidden": false,
         "locked": false,
         "points": 1,
         "success_message": "✅ You've added the Adelie column to the penguins table."
        },
        {
         "code": ">>> np.sum(penguins.column('Adelie')) == 151\nTrue",
         "failure_message": "❌ Your updated penguins table doesn't seem correct. Ask for help.",
         "hidden": false,
         "locked": false,
         "points": 1,
         "success_message": "✅ Your updated penguins table seems correct."
        }
       ],
       "scored": true,
       "setup": "",
       "teardown": "",
       "type": "doctest"
      }
     ]
    },
    "task_04": {
     "name": "task_04",
     "points": null,
     "suites": [
      {
       "cases": [
        {
         "code": ">>> train, test = train_test_split(penguins)\n>>> isinstance(train, Table) and isinstance(test, Table)\nTrue",
         "failure_message": "❌ the train_test_split function should return two tables. Try using the take table method with the shuffled table.",
         "hidden": false,
         "locked": false,
         "points": 1,
         "success_message": "✅ The train_test_split function returns two tables."
        },
        {
         "code": ">>> np.isclose(train.num_rows / penguins.num_rows, 0.8012, 0.001)\nTrue",
         "failure_message": "❌ The training set should contain approximately 80 percent of the data.",
         "hidden": false,
         "locked": false,
         "points": 1,
         "success_message": "✅ Your training set contains approximately 80 percent of the data."
        },
        {
         "code": ">>> np.isclose(test.num_rows / penguins.num_rows, 0.1988, 0.001)\nTrue",
         "failure_message": "❌ The test set should contain approximately 20 percent of the data.",
         "hidden": false,
         "locked": false,
         "points": 1,
         "success_message": "✅ Your test set contains approximately 20 percent of the data."
        }
       ],
       "scored": true,
       "setup": "",
       "teardown": "",
       "type": "doctest"
      }
     ]
    },
    "task_05": {
     "name": "task_05",
     "points": null,
     "suites": [
      {
       "cases": [
        {
         "code": ">>> import hashlib\n>>> \n>>> def get_hash(num):\n...     \"\"\"Helper function for assessing correctness.\"\"\"\n...     return hashlib.md5(str(num).encode()).hexdigest()\n>>> isinstance(distances(an_unlabeled_example, penguins.take(0), 'Adelie'), Table)\nTrue",
         "failure_message": "❌ Your distances function doesn't return an array. Try returning distances_array.",
         "hidden": false,
         "locked": false,
         "points": 1,
         "success_message": "✅ Your distances function returns an array."
        },
        {
         "code": ">>> import hashlib\n>>> \n>>> def get_hash(num):\n...     \"\"\"Helper function for assessing correctness.\"\"\"\n...     return hashlib.md5(str(num).encode()).hexdigest()\n>>> distances(penguins.drop('Adelie').row(0), penguins.take(0), 'Adelie').row(0).item('Distance') == 0\nTrue",
         "failure_message": "❌ Your distances function doesn't correctly show that two data points with the same features have a distance of 0. Try using the row_distance function above.",
         "hidden": false,
         "locked": false,
         "points": 1,
         "success_message": "✅ Your distances function correctly shows that two data points with the same features have a distance of 0."
        },
        {
         "code": ">>> import hashlib\n>>> \n>>> def get_hash(num):\n...     \"\"\"Helper function for assessing correctness.\"\"\"\n...     return hashlib.md5(str(num).encode()).hexdigest()\n>>> get_hash(np.sum(distances(an_unlabeled_example, penguins, 'Adelie').column('Distance')))\n'83bd34aea9696759e5bf5aa26016b0bc'",
         "failure_message": "❌ Your function doesn't seem to be working with an_unlabeled_example. Ask for help before moving on.",
         "hidden": false,
         "locked": false,
         "points": 1,
         "success_message": "✅ Your function seems to be working with an_unlabeled_example."
        }
       ],
       "scored": true,
       "setup": "",
       "teardown": "",
       "type": "doctest"
      }
     ]
    },
    "task_06": {
     "name": "task_06",
     "points": null,
     "suites": [
      {
       "cases": [
        {
         "code": ">>> try:\n...     result = closest(an_unlabeled_example, penguins, 'Adelie', 4)\n...     print(result)\n... except ValueError as e:\n...     print(e)\nThe value of k should be odd.\n",
         "failure_message": "❌ Your function shouldn't accept even values of k. Remember that 8 % 2 equals 0 and 8 is an even number.",
         "hidden": false,
         "locked": false,
         "points": 1,
         "success_message": "✅ Your function doesn't accept even values of k."
        },
        {
         "code": ">>> isinstance(closest(an_unlabeled_example, penguins, 'Adelie', 5), Table)\nTrue",
         "failure_message": "❌ Your function should return a table. Try running printing type(...) on what you return to see if it is a Table.",
         "hidden": false,
         "locked": false,
         "points": 1,
         "success_message": "✅ Your function returns a table."
        },
        {
         "code": ">>> closest(an_unlabeled_example, penguins, 'Adelie', 5).num_rows == 5\nTrue",
         "failure_message": "❌ Your function should return a table with k rows. Try using take",
         "hidden": false,
         "locked": false,
         "points": 1,
         "success_message": "✅ Your function returns a table with k rows."
        },
        {
         "code": ">>> import numpy as np\n>>> \n>>> def is_sorted(arr):\n...     return np.all(arr[:-1] <= arr[1:])\n>>> test_closest = closest(an_unlabeled_example, penguins, 'Adelie', 5).column('Distance')\n>>> is_sorted(test_closest)\nTrue",
         "failure_message": "❌ Your function doesn't return a table where the Distance values are sorted in ascending order. Try using the sort table method and use descending=False (the default value).",
         "hidden": false,
         "locked": false,
         "points": 1,
         "success_message": "✅ Your function returns a table where the Distance values are sorted in ascending order."
        },
        {
         "code": ">>> closest(an_unlabeled_example, penguins, 'Adelie', 5)\nAdelie | Culmen Length (mm) | Flipper Length (mm) | Distance\nTrue   | 43.1               | 197                 | 0\nTrue   | 43.2               | 197                 | 0.1\nTrue   | 42.5               | 197                 | 0.6\nTrue   | 42.2               | 197                 | 0.9\nTrue   | 42.9               | 196                 | 1.0198",
         "failure_message": "❌ Your function doesn't seem to be working correctly for an_unlabeled_example. Ask for help.",
         "hidden": false,
         "locked": false,
         "points": 1,
         "success_message": "✅ Your function seems to be working correctly for an_unlabeled_example."
        }
       ],
       "scored": true,
       "setup": "",
       "teardown": "",
       "type": "doctest"
      }
     ]
    },
    "task_07": {
     "name": "task_07",
     "points": null,
     "suites": [
      {
       "cases": [
        {
         "code": ">>> test_result_majority_class = majority_class(closest(an_unlabeled_example, penguins, 'Adelie', 5))\n>>> test_result_majority_class in penguins.column('Adelie')\nTrue",
         "failure_message": "❌ Your majority_class function doesn't return a label from the data. ",
         "hidden": false,
         "locked": false,
         "points": 1,
         "success_message": "✅ Your majority_class function returns a label from the data."
        },
        {
         "code": ">>> majority_class(closest(an_unlabeled_example, penguins, 'Adelie', 5))\nTrue",
         "failure_message": "❌ The kNN classifier with k=5 and this data shouldn't label an_unlabeled_example as Adelie.",
         "hidden": false,
         "locked": false,
         "points": 1,
         "success_message": "✅ The kNN classifier with k=5 and this data doesn't label an_unlabeled_example as Adelie."
        }
       ],
       "scored": true,
       "setup": "",
       "teardown": "",
       "type": "doctest"
      }
     ]
    },
    "task_08": {
     "name": "task_08",
     "points": null,
     "suites": [
      {
       "cases": [
        {
         "code": ">>> knn_classifier(an_unlabeled_example, penguins, 'Adelie', 5)\nTrue",
         "failure_message": "❌ knn_classifier should classify an_unlabeled_example as an Andelie penguin. Ask for help.",
         "hidden": false,
         "locked": false,
         "points": 1,
         "success_message": "✅ knn_classifier classifies an_unlabeled_example as an Andelie penguin."
        },
        {
         "code": ">>> another_unlabeled_example = Table().with_columns('Culmen Length (mm)', [40.5], 'Flipper Length (mm)', [192]).row(0)\n>>> knn_classifier(another_unlabeled_example, penguins, 'Adelie', 5)\nTrue",
         "failure_message": "❌ knn_classifier doesn't classify our other text example as an Andelie penguin. Ask for help.",
         "hidden": false,
         "locked": false,
         "points": 1,
         "success_message": "✅ knn_classifier classifies our other text example as an Andelie penguin."
        }
       ],
       "scored": true,
       "setup": "",
       "teardown": "",
       "type": "doctest"
      }
     ]
    },
    "task_09": {
     "name": "task_09",
     "points": null,
     "suites": [
      {
       "cases": [
        {
         "code": ">>> isinstance(predicted_labels.item(0), bool)\nFalse",
         "failure_message": "❌ ",
         "hidden": false,
         "locked": false,
         "points": 1,
         "success_message": "✅ "
        },
        {
         "code": ">>> set(test_with_predictions.labels) == set(test.labels).union({'Predicted Adelie'})\nTrue",
         "failure_message": "❌ test_with_predictions doesn't appear to be a copy of test with an extra column of predictions.",
         "hidden": false,
         "locked": false,
         "points": 1,
         "success_message": "✅ test_with_predictions appears to be a copy of test with an extra column of predictions."
        },
        {
         "code": ">>> accuracy_k_3 > 0.9\nTrue",
         "failure_message": "❌ The accuracy you calculated should be above 90%. (Our value was approximately 96%).",
         "hidden": false,
         "locked": false,
         "points": 1,
         "success_message": "✅ The accuracy you calculated is above 90%"
        }
       ],
       "scored": true,
       "setup": "",
       "teardown": "",
       "type": "doctest"
      }
     ]
    }
   }
  }
 },
 "nbformat": 4,
 "nbformat_minor": 5
}
