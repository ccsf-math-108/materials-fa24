{
 "cells": [
  {
   "cell_type": "markdown",
   "id": "ed906d62-abbc-4246-9c58-f6094b269da4",
   "metadata": {},
   "source": [
    "<img src=\"./ccsf.png\" alt=\"CCSF Logo\" width=200px style=\"margin:0px -5px\">"
   ]
  },
  {
   "cell_type": "markdown",
   "id": "e0975302-b53e-4f0b-a3b4-8125c74c5a61",
   "metadata": {
    "slideshow": {
     "slide_type": "-"
    }
   },
   "source": [
    "# Lecture 30: Correlation"
   ]
  },
  {
   "cell_type": "markdown",
   "id": "e0dba3cc-ccdf-4f2f-953b-311793b40249",
   "metadata": {},
   "source": [
    "Associated Textbook Sections: [15.0, 15.1](https://inferentialthinking.com/chapters/15/1/Correlation.html)"
   ]
  },
  {
   "cell_type": "markdown",
   "id": "c9332416-462c-4ddb-a15a-1f248a9133ed",
   "metadata": {},
   "source": [
    "---"
   ]
  },
  {
   "cell_type": "markdown",
   "id": "fb6372b0-7d83-46bf-ad74-94dcc7bb217f",
   "metadata": {
    "slideshow": {
     "slide_type": "slide"
    }
   },
   "source": [
    "## Outline"
   ]
  },
  {
   "cell_type": "markdown",
   "id": "8ced8da2-37c3-4277-8312-2014bd36d803",
   "metadata": {},
   "source": [
    "* [Prediction](#Prediction)\n",
    "* [Association](#Association)\n",
    "* [Correlation Coefficient](#Correlation-Coefficient)\n",
    "* [Care in Interpretation](#Care-in-Interpretation)"
   ]
  },
  {
   "cell_type": "markdown",
   "id": "e46381ca-1d6a-408f-be4d-67c961c5454d",
   "metadata": {
    "slideshow": {
     "slide_type": "slide"
    }
   },
   "source": [
    "## Set Up the Notebook"
   ]
  },
  {
   "cell_type": "code",
   "execution_count": null,
   "id": "b46b04ee-3d63-4104-b609-17e8ce35f20e",
   "metadata": {
    "slideshow": {
     "slide_type": "-"
    }
   },
   "outputs": [],
   "source": [
    "from datascience import *\n",
    "import numpy as np\n",
    "%matplotlib inline\n",
    "import matplotlib.pyplot as plt\n",
    "plt.style.use('fivethirtyeight')\n",
    "\n",
    "def r_scatter(r):\n",
    "    plt.figure(figsize=(5,5))\n",
    "    \"Generate a scatter plot with a correlation approximately r\"\n",
    "    x = np.random.normal(0, 1, 1000)\n",
    "    z = np.random.normal(0, 1, 1000)\n",
    "    y = r*x + (np.sqrt(1-r**2))*z\n",
    "    plt.scatter(x, y, color='darkblue', s=20)\n",
    "    plt.xlim(-4, 4)\n",
    "    plt.ylim(-4, 4)"
   ]
  },
  {
   "cell_type": "markdown",
   "id": "0000c613-681d-44dd-8fe7-0c673f68f85a",
   "metadata": {
    "slideshow": {
     "slide_type": "fragment"
    }
   },
   "source": [
    "---"
   ]
  },
  {
   "cell_type": "markdown",
   "id": "a7cd44ae-a711-4b02-ac28-2f4ad606931a",
   "metadata": {},
   "source": [
    "## Prediction"
   ]
  },
  {
   "cell_type": "markdown",
   "id": "8c36e6cc-9005-406b-aff8-b65cb11963c8",
   "metadata": {},
   "source": [
    "---"
   ]
  },
  {
   "cell_type": "markdown",
   "id": "f976b8c2-a7f9-4566-ac30-36b71a3d1405",
   "metadata": {},
   "source": [
    "### Guessing the Future"
   ]
  },
  {
   "cell_type": "markdown",
   "id": "67274608-8f0d-4904-a1ae-345af4ca3ac1",
   "metadata": {},
   "source": [
    "* Based on incomplete information\n",
    "* One way of making predictions: \n",
    "    * To predict an outcome for an individual, \n",
    "    * find others who are like that individual\n",
    "    * and whose outcomes you know. \n",
    "    * Use those outcomes as the basis of your prediction.\n"
   ]
  },
  {
   "cell_type": "markdown",
   "id": "33c87086-865e-4d05-9b63-6fbd00b6ca6a",
   "metadata": {},
   "source": [
    "---"
   ]
  },
  {
   "cell_type": "markdown",
   "id": "c17d3c5c-5da1-41f9-8f60-a56fea5d4c77",
   "metadata": {},
   "source": [
    "### Demo: Prediction"
   ]
  },
  {
   "attachments": {},
   "cell_type": "markdown",
   "id": "890428e6-bc18-4e22-9ca0-5fd9b7d229b0",
   "metadata": {
    "deletable": false,
    "editable": false
   },
   "source": [
    "* Load the `galton.csv` data, and visualize the `midparentHeight` and `childHeight` height relationship.\n",
    "* Use the `predict_child` function below to predict a child's height based on a midparent height, and visualize the relationship of these predictions with the `'midparentHeight'` and `'childHeight'` values."
   ]
  },
  {
   "cell_type": "code",
   "execution_count": null,
   "id": "66af344a-ad9f-4795-8e48-59f53463ca0f",
   "metadata": {
    "tags": []
   },
   "outputs": [],
   "source": [
    "heights = (Table.read_table('galton.csv')\n",
    "                .select('midparentHeight', 'childHeight'))\n",
    "heights"
   ]
  },
  {
   "cell_type": "code",
   "execution_count": null,
   "id": "ec54b68e-435f-47ce-8ca5-4f64b9e3e9dd",
   "metadata": {
    "tags": []
   },
   "outputs": [],
   "source": [
    "..."
   ]
  },
  {
   "cell_type": "code",
   "execution_count": null,
   "id": "96454780-4467-4361-a9a7-d7d294e52e2a",
   "metadata": {
    "tags": []
   },
   "outputs": [],
   "source": [
    "def predict_child(h):\n",
    "    \"\"\"Return a prediction of the height of a child \n",
    "    whose parents have a midparent height of h.\n",
    "    \n",
    "    The prediction is the average height of the children \n",
    "    whose midparent height is in the range h plus or minus 0.5 inches.\n",
    "    \"\"\"\n",
    "    \n",
    "    close_points = heights.where('midparentHeight', are.between(h-0.5, h + 0.5))\n",
    "    return close_points.column('childHeight').mean()   "
   ]
  },
  {
   "cell_type": "code",
   "execution_count": null,
   "id": "b51b9b8c-efd9-4632-897f-fbd13fead29a",
   "metadata": {
    "tags": []
   },
   "outputs": [],
   "source": [
    "predicted_child_heights = ...\n",
    "heights_with_predictions = heights.with_column(\n",
    "    'predicted_ChildHeight', predicted_child_heights)"
   ]
  },
  {
   "cell_type": "code",
   "execution_count": null,
   "id": "2517eb00-42ae-4173-9c3d-fce46e517bef",
   "metadata": {
    "tags": []
   },
   "outputs": [],
   "source": [
    "heights_with_predictions.scatter('midparentHeight')"
   ]
  },
  {
   "cell_type": "markdown",
   "id": "f3e58a2a-1def-46a6-a4a4-9b397085ad00",
   "metadata": {},
   "source": [
    "---"
   ]
  },
  {
   "cell_type": "markdown",
   "id": "4a5b6e04-f61e-4eac-a7b7-15f461c36dc9",
   "metadata": {},
   "source": [
    "## Association"
   ]
  },
  {
   "cell_type": "markdown",
   "id": "dbeee2d8-5974-4f93-9265-06f95148c4cf",
   "metadata": {},
   "source": [
    "---"
   ]
  },
  {
   "cell_type": "markdown",
   "id": "a1ed4c7e-bace-40a7-8069-dbd097d3fdde",
   "metadata": {},
   "source": [
    "### Two Numerical Variables"
   ]
  },
  {
   "cell_type": "markdown",
   "id": "b3e73415-57ee-42b0-b51f-370e7e47b58e",
   "metadata": {},
   "source": [
    "* Trend\n",
    "    * Positive association\n",
    "    * Negative association\n",
    "* Pattern\n",
    "    * Any discernible \"shape\" in the scatter\n",
    "    * Linear vs. Non-linear\n",
    "* **Visualize, then quantify!**\n"
   ]
  },
  {
   "cell_type": "markdown",
   "id": "1e121cb7-7454-408a-a018-743989b3c84f",
   "metadata": {},
   "source": [
    "---"
   ]
  },
  {
   "cell_type": "markdown",
   "id": "701b2768-8234-48a0-9c42-0cc4344dab24",
   "metadata": {},
   "source": [
    "### Demo: Association"
   ]
  },
  {
   "attachments": {},
   "cell_type": "markdown",
   "id": "1c7846db-98cb-44b3-938b-3facc210b030",
   "metadata": {
    "deletable": false,
    "editable": false
   },
   "source": [
    "* Load the `hybrid.csv` data on several older hybrid cars.\n",
    "* Visualize the relationship between several of the numerical variables.\n",
    "* Use the `standard_units` function bellow to visualize the relationship between `mpg` and `msrp` in standard units.\n",
    "* Use the `standard_units` function bellow to visualize the relationship between `acceleration` and `msrp` in standard units."
   ]
  },
  {
   "cell_type": "code",
   "execution_count": null,
   "id": "7bce931e-7036-43ea-b303-8c6670a13deb",
   "metadata": {
    "tags": []
   },
   "outputs": [],
   "source": [
    "hybrid = Table.read_table('hybrid.csv')\n",
    "hybrid"
   ]
  },
  {
   "cell_type": "code",
   "execution_count": null,
   "id": "ec7146aa-40ff-410c-af7a-73f7e03b198c",
   "metadata": {
    "tags": []
   },
   "outputs": [],
   "source": [
    "hybrid.sort('msrp', descending=True)"
   ]
  },
  {
   "cell_type": "code",
   "execution_count": null,
   "id": "36498485-acb2-4b9b-b8e4-58b96085a9d7",
   "metadata": {
    "tags": []
   },
   "outputs": [],
   "source": [
    "hybrid.scatter('mpg', 'msrp')"
   ]
  },
  {
   "cell_type": "code",
   "execution_count": null,
   "id": "41572f3e-a9aa-4f65-b45d-96b851ad41b9",
   "metadata": {
    "tags": []
   },
   "outputs": [],
   "source": [
    "hybrid.scatter('acceleration', 'msrp')"
   ]
  },
  {
   "cell_type": "code",
   "execution_count": null,
   "id": "a2b427d5-0cef-4b34-b917-491565779cff",
   "metadata": {
    "tags": []
   },
   "outputs": [],
   "source": [
    "suv = hybrid.where('class', 'SUV')\n",
    "print(f'There are {suv.num_rows} SUVs in this dataset.')"
   ]
  },
  {
   "cell_type": "code",
   "execution_count": null,
   "id": "551a035c-b0aa-4276-9c78-c8f4b95b5e59",
   "metadata": {
    "tags": []
   },
   "outputs": [],
   "source": [
    "suv.scatter('acceleration', 'msrp')"
   ]
  },
  {
   "cell_type": "code",
   "execution_count": null,
   "id": "31e55b86-21b6-4a72-b343-2b7e3edff728",
   "metadata": {
    "tags": []
   },
   "outputs": [],
   "source": [
    "suv.scatter('mpg', 'msrp')"
   ]
  },
  {
   "cell_type": "code",
   "execution_count": null,
   "id": "d15dc8cf-77c1-4ee1-b109-b85064151062",
   "metadata": {
    "tags": []
   },
   "outputs": [],
   "source": [
    "def standard_units(x):\n",
    "    \"Convert any array of numbers to standard units.\"\n",
    "    ..."
   ]
  },
  {
   "cell_type": "code",
   "execution_count": null,
   "id": "95f786f0-1ec9-4b7d-84cd-89eecf872244",
   "metadata": {
    "tags": []
   },
   "outputs": [],
   "source": [
    "suv_standardized = suv\n",
    "for variable in ['msrp', 'acceleration', 'mpg']:\n",
    "    standardized_variable = standard_units(suv.column(variable))\n",
    "    suv_standardized = suv_standardized.with_column(variable, standardized_variable)\n",
    "suv_standardized"
   ]
  },
  {
   "cell_type": "code",
   "execution_count": null,
   "id": "bac63ba7-7735-4679-9c5a-93daa0605e65",
   "metadata": {
    "tags": []
   },
   "outputs": [],
   "source": [
    "suv.scatter('mpg', 'msrp')\n",
    "plt.title('Original Units')\n",
    "suv_standardized.scatter('mpg', 'msrp')\n",
    "plt.title('Standardized Units')\n",
    "plt.xlim(-3, 3)\n",
    "plt.ylim(-3, 3)\n",
    "plt.show()"
   ]
  },
  {
   "cell_type": "code",
   "execution_count": null,
   "id": "753ec9e9-671d-4a6e-bf0e-cb5020b65401",
   "metadata": {
    "tags": []
   },
   "outputs": [],
   "source": [
    "suv.scatter('acceleration', 'msrp')\n",
    "plt.title('Original Units')\n",
    "suv_standardized.scatter('acceleration', 'msrp')\n",
    "plt.title('Standardized Units')\n",
    "plt.xlim(-3, 3)\n",
    "plt.ylim(-3, 3)\n",
    "plt.show()"
   ]
  },
  {
   "cell_type": "markdown",
   "id": "5c847eac-61cb-4ce5-9ed9-05baa2a460ce",
   "metadata": {},
   "source": [
    "---"
   ]
  },
  {
   "cell_type": "markdown",
   "id": "dc53bf3b-48e4-4868-b0b6-845a2be31a01",
   "metadata": {},
   "source": [
    "## Correlation Coefficient"
   ]
  },
  {
   "cell_type": "markdown",
   "id": "95c67a52-6a6d-4fb3-bec1-fa0af863e9e3",
   "metadata": {},
   "source": [
    "---"
   ]
  },
  {
   "cell_type": "markdown",
   "id": "0a55d66a-d25b-4887-94b2-3dc7ac73f2b1",
   "metadata": {},
   "source": [
    "### The Correlation Coefficient"
   ]
  },
  {
   "cell_type": "markdown",
   "id": "b8a64c35-907a-416b-81c9-f34e1b7cf897",
   "metadata": {},
   "source": [
    "* Measures linear association\n",
    "* Based on standard units\n",
    "* $-1 \\leq r \\leq 1$\n",
    "    * $r =  1$: scatter is perfect straight line sloping up\n",
    "    * $r = -1$: scatter is perfect straight line sloping down\n",
    "    * $r = 0$: No linear association; *uncorrelated*\n"
   ]
  },
  {
   "cell_type": "markdown",
   "id": "17ca8d2f-ddc3-4287-8a7f-d091fa1fa718",
   "metadata": {},
   "source": [
    "---"
   ]
  },
  {
   "cell_type": "markdown",
   "id": "2408bce9-1ed9-4e00-9f1c-818bacd10f22",
   "metadata": {},
   "source": [
    "### Definition of $r$"
   ]
  },
  {
   "cell_type": "markdown",
   "id": "b8fd52e9-c10a-4cb1-bca3-c435a7f2a88e",
   "metadata": {},
   "source": [
    "* Correlation Coefficient ($r$) = \n",
    "    * average of\n",
    "    * product of\n",
    "    * $x$ in standard units\n",
    "    * and\n",
    "    * $y$ in standard units\n",
    "* Measures how clustered the scatter is around a straight line"
   ]
  },
  {
   "cell_type": "markdown",
   "id": "0bee0d04-172e-4c88-95d2-30cfd8a9e6cd",
   "metadata": {},
   "source": [
    "---"
   ]
  },
  {
   "cell_type": "markdown",
   "id": "7e86c24c-a403-4794-b348-f22c0089eccc",
   "metadata": {},
   "source": [
    "### Examples of Scatterplots and $r$ values"
   ]
  },
  {
   "cell_type": "markdown",
   "id": "43e370ee-162d-4ddb-9106-e4cece834d0e",
   "metadata": {},
   "source": [
    "<a href=\"https://en.wikipedia.org/wiki/Correlation\"><img src=\"./correlation_examples.png\" width = 80% alt=\"Several sets of (x, y) points, with the correlation coefficient of x and y for each set. The correlation reflects the noisiness and direction of a linear relationship (top row), but not the slope of that relationship (middle), nor many aspects of nonlinear relationships (bottom). N.B.: the figure in the center has a slope of 0 but in that case, the correlation coefficient is undefined because the variance of Y is zero.\" title=\"Correlation Examples\"></a>"
   ]
  },
  {
   "cell_type": "markdown",
   "id": "d6d7dfb9-ef66-43de-8c34-393be9811123",
   "metadata": {},
   "source": [
    "---"
   ]
  },
  {
   "cell_type": "markdown",
   "id": "00b02cac-d1c4-44ee-b1f9-fe016c3a975c",
   "metadata": {},
   "source": [
    "### Demo: Correlation"
   ]
  },
  {
   "cell_type": "markdown",
   "id": "248b30be-48bd-4589-9548-c43e7950bb74",
   "metadata": {},
   "source": [
    "Demonstrate various scatter plots based on an inputted correlation coefficient using the `r_scatter` function."
   ]
  },
  {
   "cell_type": "code",
   "execution_count": null,
   "id": "7405f5db-3760-452a-9721-0090f5c179aa",
   "metadata": {
    "tags": []
   },
   "outputs": [],
   "source": [
    "..."
   ]
  },
  {
   "cell_type": "markdown",
   "id": "c0eb0849-9f96-4d8c-bd67-487e79dc003e",
   "metadata": {},
   "source": [
    "---"
   ]
  },
  {
   "cell_type": "markdown",
   "id": "7a4f95e7-e129-4ac8-83a9-bd6c5a161059",
   "metadata": {},
   "source": [
    "### Demo: Calculating $r$"
   ]
  },
  {
   "attachments": {},
   "cell_type": "markdown",
   "id": "955ad7e6-443e-4bc9-a082-d4c8af9bd494",
   "metadata": {
    "deletable": false,
    "editable": false
   },
   "source": [
    "* Explore the concept of calculating the $r$ value. \n",
    "* Notice that $r$ is the average of the products of the standard units\n",
    "* Define `correlation` as a function for a given table and x, y column labels."
   ]
  },
  {
   "cell_type": "code",
   "execution_count": null,
   "id": "f97fac09-398b-4d48-88bc-d8a419f63b05",
   "metadata": {
    "tags": []
   },
   "outputs": [],
   "source": [
    "x = np.arange(1, 7, 1)\n",
    "y = make_array(2, 3, 1, 5, 2, 7)\n",
    "t = Table().with_columns(\n",
    "        'x', x,\n",
    "        'y', y)\n",
    "t"
   ]
  },
  {
   "cell_type": "code",
   "execution_count": null,
   "id": "4842b229-e785-43bf-986e-7d5d07519cb7",
   "metadata": {
    "tags": []
   },
   "outputs": [],
   "source": [
    "t.scatter('x', 'y', s=30, color='red')"
   ]
  },
  {
   "cell_type": "code",
   "execution_count": null,
   "id": "c3df6192-63fc-40a0-9ac2-ba99d63c188d",
   "metadata": {
    "tags": []
   },
   "outputs": [],
   "source": [
    "t = t.with_columns(\n",
    "        'x (standard units)', ...,\n",
    "        'y (standard units)', ...)\n",
    "t"
   ]
  },
  {
   "cell_type": "code",
   "execution_count": null,
   "id": "6bf04ed8-eaa7-4d04-a2f3-fce387bf7b11",
   "metadata": {
    "tags": []
   },
   "outputs": [],
   "source": [
    "t = t.with_columns('product of standard units', \n",
    "                   ...)\n",
    "t"
   ]
  },
  {
   "cell_type": "code",
   "execution_count": null,
   "id": "545aef3e-4ae4-495a-bda9-9440002bdc7c",
   "metadata": {
    "tags": []
   },
   "outputs": [],
   "source": [
    "r = ...\n",
    "r"
   ]
  },
  {
   "cell_type": "code",
   "execution_count": null,
   "id": "ed4ffcc3-171a-4424-86cc-b47b599348be",
   "metadata": {
    "tags": []
   },
   "outputs": [],
   "source": [
    "def correlation(t, x, y):\n",
    "    '''t is a table; x and y are column labels'''\n",
    "    x_in_standard_units = ...\n",
    "    y_in_standard_units = ...\n",
    "    return ..."
   ]
  },
  {
   "cell_type": "code",
   "execution_count": null,
   "id": "618384c5-7295-40f4-823e-42ba0390297e",
   "metadata": {
    "tags": []
   },
   "outputs": [],
   "source": [
    "correlation(t, 'x', 'y')"
   ]
  },
  {
   "cell_type": "code",
   "execution_count": null,
   "id": "1718353f-0e5d-4632-ae69-d465a6701b44",
   "metadata": {
    "tags": []
   },
   "outputs": [],
   "source": [
    "suv.scatter('mpg', 'msrp')\n",
    "plt.title('msrp vs. mpg')\n",
    "plt.show()\n",
    "corr_mpg_msrp = correlation(suv, 'mpg', 'msrp')\n",
    "print(f'The correlation between these variables is {corr_mpg_msrp: .3f}')"
   ]
  },
  {
   "cell_type": "code",
   "execution_count": null,
   "id": "6012f247-99c7-486b-8741-a8de016b0b0a",
   "metadata": {
    "tags": []
   },
   "outputs": [],
   "source": [
    "suv.scatter('acceleration', 'msrp')\n",
    "plt.title('msrp vs. acceleration')\n",
    "plt.show()\n",
    "corr_accel_msrp = correlation(suv, 'acceleration', 'msrp')\n",
    "print(f'The correlation between these variables is {corr_accel_msrp: .3f}')"
   ]
  },
  {
   "cell_type": "markdown",
   "id": "3ff5ba3c-6b74-4640-b433-e3add72d0999",
   "metadata": {},
   "source": [
    "---"
   ]
  },
  {
   "cell_type": "markdown",
   "id": "914b8bad-34ba-4e00-8611-488b5e618bd6",
   "metadata": {},
   "source": [
    "## Care in Interpretation"
   ]
  },
  {
   "cell_type": "markdown",
   "id": "9c667cdf-6214-4e7a-993b-b7fad60e52d6",
   "metadata": {},
   "source": [
    "---"
   ]
  },
  {
   "cell_type": "markdown",
   "id": "f96e98a5-47c7-47fb-a3db-cf6f8ebff0d4",
   "metadata": {},
   "source": [
    "### Watch Out For ..."
   ]
  },
  {
   "cell_type": "markdown",
   "id": "6ba142d4-fadd-49d4-9755-a0f6fce4140e",
   "metadata": {},
   "source": [
    "* False conclusions of causation\n",
    "* Nonlinearity\n",
    "* Outliers\n",
    "* Ecological Correlations"
   ]
  },
  {
   "cell_type": "markdown",
   "id": "a7a8df04-a30c-4420-b31d-2275b06847e3",
   "metadata": {},
   "source": [
    "---"
   ]
  },
  {
   "cell_type": "markdown",
   "id": "b06daf0f-bfe9-4f2f-9536-3feab82b7b8e",
   "metadata": {},
   "source": [
    "### Demo: Switching Axes"
   ]
  },
  {
   "cell_type": "markdown",
   "id": "c27636b9-e2b4-4a25-a339-6e79ca274616",
   "metadata": {},
   "source": [
    "Notice that `correlation(t, 'x', 'y') == correlation(t, 'y', 'x')`. This can lead to a false conclusion of causation."
   ]
  },
  {
   "cell_type": "code",
   "execution_count": null,
   "id": "7e310718-f148-481e-94d1-ffcae243e5ab",
   "metadata": {},
   "outputs": [],
   "source": [
    "t.scatter('x', 'y', s=30, color='red')\n",
    "plt.title('y vs x')\n",
    "plt.show()"
   ]
  },
  {
   "cell_type": "code",
   "execution_count": null,
   "id": "c9e2b38a-8316-44cd-872c-c4f2e159d9c1",
   "metadata": {},
   "outputs": [],
   "source": [
    "correlation(t, 'x', 'y')"
   ]
  },
  {
   "cell_type": "code",
   "execution_count": null,
   "id": "bf322354-dc29-4240-a48c-a4cd2ed801a1",
   "metadata": {},
   "outputs": [],
   "source": [
    "t.scatter('y', 'x', s=30, color='red')\n",
    "plt.title('x vs y')\n",
    "plt.show()"
   ]
  },
  {
   "cell_type": "code",
   "execution_count": null,
   "id": "468593d7-0b38-4bd2-a0b7-d8fb70a9d41d",
   "metadata": {},
   "outputs": [],
   "source": [
    "correlation(t, 'y', 'x')"
   ]
  },
  {
   "cell_type": "markdown",
   "id": "1e079739-672b-4a7c-922c-801d2bc52932",
   "metadata": {},
   "source": [
    "---"
   ]
  },
  {
   "cell_type": "markdown",
   "id": "7d04c20f-bfc1-4995-b469-a5e636b9aa03",
   "metadata": {},
   "source": [
    "### Demo: Nonlinearity"
   ]
  },
  {
   "cell_type": "markdown",
   "id": "e4889e09-2d58-46d7-bc26-05a933c1a0a6",
   "metadata": {},
   "source": [
    "Explore the correlation calculation for symmetrical non-linear data."
   ]
  },
  {
   "cell_type": "code",
   "execution_count": null,
   "id": "cf3a5422-69e0-414f-be2d-9903bff247ab",
   "metadata": {},
   "outputs": [],
   "source": [
    "new_x = np.arange(-4, 4.1, 0.5)\n",
    "nonlinear = Table().with_columns(\n",
    "        'x', new_x,\n",
    "        'y', new_x**2)\n",
    "nonlinear.scatter('x', 'y', s=30, color='r')"
   ]
  },
  {
   "cell_type": "code",
   "execution_count": null,
   "id": "b248e7eb-0c71-417a-90de-a7ba9c946382",
   "metadata": {},
   "outputs": [],
   "source": [
    "correlation(nonlinear, 'x', 'y')"
   ]
  },
  {
   "cell_type": "markdown",
   "id": "8b807b2a-8140-4389-8130-44ea128bc4c4",
   "metadata": {},
   "source": [
    "---"
   ]
  },
  {
   "cell_type": "markdown",
   "id": "cb812c93-7fce-4f9e-8657-43781b9a2851",
   "metadata": {},
   "source": [
    "### Demo: Outliers"
   ]
  },
  {
   "cell_type": "markdown",
   "id": "0c7ab297-5fd6-4022-8fa8-0019248ba06c",
   "metadata": {},
   "source": [
    "Notice how 1 outlier can strengthen or weaken an $r$ value depending on its value."
   ]
  },
  {
   "cell_type": "code",
   "execution_count": null,
   "id": "9c732a12-bc41-4033-97f8-3953c9677d7a",
   "metadata": {},
   "outputs": [],
   "source": [
    "line = Table().with_columns(\n",
    "        'x', make_array(1, 2, 3, 4),\n",
    "        'y', make_array(1, 2, 3, 4))\n",
    "line.scatter('x', 'y', s=30, color='r')"
   ]
  },
  {
   "cell_type": "code",
   "execution_count": null,
   "id": "bc825fa6-2651-4996-bebd-7e804d645f5e",
   "metadata": {},
   "outputs": [],
   "source": [
    "correlation(line, 'x', 'y')"
   ]
  },
  {
   "cell_type": "code",
   "execution_count": null,
   "id": "e531c601-1f3c-492e-ad0f-b5ac2b8876e2",
   "metadata": {},
   "outputs": [],
   "source": [
    "outlier = Table().with_columns(\n",
    "        'x', make_array(1, 2, 3, 4, 5),\n",
    "        'y', make_array(1, 2, 3, 4, 0)\n",
    "    )\n",
    "outlier.scatter('x', 'y', s=30, color='r')"
   ]
  },
  {
   "cell_type": "code",
   "execution_count": null,
   "id": "1b00d0e5-b2c6-4b2a-ab79-7d3165b27866",
   "metadata": {},
   "outputs": [],
   "source": [
    "correlation(outlier, 'x', 'y')"
   ]
  },
  {
   "cell_type": "markdown",
   "id": "c0edf1ab-ffc9-479c-ae19-36384a8a08c1",
   "metadata": {},
   "source": [
    "---"
   ]
  },
  {
   "cell_type": "markdown",
   "id": "2340bdd4-f04a-47b0-afbd-17ab2f4bbf3c",
   "metadata": {},
   "source": [
    "### Demo: Ecological Correlations"
   ]
  },
  {
   "cell_type": "markdown",
   "id": "4def9233-a5d4-49e1-9bfc-dae69ce7cd36",
   "metadata": {},
   "source": [
    "Explore an example of SAT scores (`sat2014.csv`) in connection to ecological correlations."
   ]
  },
  {
   "cell_type": "code",
   "execution_count": null,
   "id": "7d4bc38c-30c7-4437-b9e1-11751ef77c0d",
   "metadata": {},
   "outputs": [],
   "source": [
    "sat2014 = Table.read_table('sat2014.csv').sort('State')\n",
    "sat2014"
   ]
  },
  {
   "cell_type": "code",
   "execution_count": null,
   "id": "8f88c1c9-102c-46fa-bc2e-851e7c957f49",
   "metadata": {},
   "outputs": [],
   "source": [
    "sat2014.scatter('Critical Reading', 'Math')"
   ]
  },
  {
   "cell_type": "code",
   "execution_count": null,
   "id": "fc90f61a-5086-48b3-9389-a998208db251",
   "metadata": {},
   "outputs": [],
   "source": [
    "correlation(sat2014, 'Critical Reading', 'Math')"
   ]
  },
  {
   "cell_type": "markdown",
   "id": "b0f922f1-902e-4c4e-af74-893677194a13",
   "metadata": {},
   "source": [
    "* The correlation between aggregated data (e.g., after grouping) may be much higher than the correlation between the underlying variables.\n",
    "* The correlation between these scores at the state level does not translate to the same correlation between the variables at the individual level.\n",
    "* You may see a linear pattern in your data, but you need to consider the factors contributing to the formation of that line."
   ]
  },
  {
   "cell_type": "code",
   "execution_count": null,
   "id": "6bf93f29-6204-46a0-b5f3-a49f2df1101e",
   "metadata": {},
   "outputs": [],
   "source": [
    "import plotly.express as px\n",
    "\n",
    "px.scatter(sat2014.to_df(), x = 'Critical Reading', y = 'Math', \n",
    "           hover_name = 'State', size = 'Participation Rate')"
   ]
  },
  {
   "cell_type": "markdown",
   "id": "49c6ca87-ad1a-4a62-be60-d037b417ba7e",
   "metadata": {
    "slideshow": {
     "slide_type": "fragment"
    }
   },
   "source": [
    "---"
   ]
  },
  {
   "cell_type": "markdown",
   "id": "ac022636-23b1-4ea2-b5d8-14913d7fde43",
   "metadata": {
    "editable": true,
    "slideshow": {
     "slide_type": "notes"
    },
    "tags": []
   },
   "source": [
    "## Attribution"
   ]
  },
  {
   "cell_type": "markdown",
   "id": "133c26a7-6f10-46d5-b5be-76863152be21",
   "metadata": {},
   "source": [
    "This content is licensed under the <a href=\"https://creativecommons.org/licenses/by-nc-sa/4.0/\">Creative Commons Attribution-NonCommercial-ShareAlike 4.0 International License (CC BY-NC-SA 4.0)</a> and derived from the <a href=\"https://www.data8.org/\">Data 8: The Foundations of Data Science</a> offered by the University of California, Berkeley.\n",
    "\n",
    "<img src=\"./by-nc-sa.png\" width=100px>"
   ]
  }
 ],
 "metadata": {
  "kernelspec": {
   "display_name": "Python 3 (ipykernel)",
   "language": "python",
   "name": "python3"
  },
  "language_info": {
   "codemirror_mode": {
    "name": "ipython",
    "version": 3
   },
   "file_extension": ".py",
   "mimetype": "text/x-python",
   "name": "python",
   "nbconvert_exporter": "python",
   "pygments_lexer": "ipython3",
   "version": "3.11.9"
  },
  "otter": {
   "OK_FORMAT": true,
   "tests": {}
  }
 },
 "nbformat": 4,
 "nbformat_minor": 5
}
