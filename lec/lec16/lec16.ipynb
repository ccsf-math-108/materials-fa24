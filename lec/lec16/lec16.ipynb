{
 "cells": [
  {
   "cell_type": "markdown",
   "id": "7940c9a2-4ef0-4ff5-ad1c-dfa1f16c4681",
   "metadata": {},
   "source": [
    "<img src=\"./ccsf.png\" alt=\"CCSF Logo\" width=200px style=\"margin:0px -5px\">"
   ]
  },
  {
   "cell_type": "markdown",
   "id": "a8f0d2e4-73c7-4bf7-9d36-2c8b41d9a28b",
   "metadata": {
    "slideshow": {
     "slide_type": "-"
    }
   },
   "source": [
    "# Lecture 16: Sampling"
   ]
  },
  {
   "cell_type": "markdown",
   "id": "1dd99790-0415-4979-8a5a-bc611423323c",
   "metadata": {
    "slideshow": {
     "slide_type": "-"
    }
   },
   "source": [
    "Associated Textbook Sections: [10.1, 10.2, 10.3, and 10.4](https://inferentialthinking.com/chapters/10/1/Empirical_Distributions.html)"
   ]
  },
  {
   "cell_type": "markdown",
   "id": "377dc20a-3a54-49c0-a10f-182f76ccf663",
   "metadata": {
    "slideshow": {
     "slide_type": "fragment"
    }
   },
   "source": [
    "---"
   ]
  },
  {
   "cell_type": "markdown",
   "id": "af4e0622-b0aa-4cd2-8610-d12e1ccf134f",
   "metadata": {
    "slideshow": {
     "slide_type": "slide"
    }
   },
   "source": [
    "## Outline"
   ]
  },
  {
   "cell_type": "markdown",
   "id": "a2d4a810-f83a-4881-94c4-f7fe79406461",
   "metadata": {
    "slideshow": {
     "slide_type": "-"
    }
   },
   "source": [
    "* [Sampling](#Sampling)\n",
    "* [Sampling with Technology](#Sampling-with-Technology)\n",
    "* [Distributions](#Distributions)\n",
    "* [Law of Large Numbers](#Law-of-Large-Numbers)\n",
    "* [A Statistic](#A-Statistic)"
   ]
  },
  {
   "cell_type": "markdown",
   "id": "6e918755-7fcb-4e4b-a13d-4981bd11be59",
   "metadata": {
    "slideshow": {
     "slide_type": "fragment"
    }
   },
   "source": [
    "---"
   ]
  },
  {
   "cell_type": "markdown",
   "id": "72899e80-153b-416c-9d2d-decf2f9f6fb3",
   "metadata": {
    "slideshow": {
     "slide_type": "slide"
    }
   },
   "source": [
    "## Set Up the Notebook"
   ]
  },
  {
   "cell_type": "code",
   "execution_count": null,
   "id": "6a0c9fe7-80a4-4c46-a688-63a9552b546b",
   "metadata": {
    "slideshow": {
     "slide_type": "-"
    }
   },
   "outputs": [],
   "source": [
    "from datascience import *\n",
    "import numpy as np\n",
    "%matplotlib inline\n",
    "import matplotlib.pyplot as plt\n",
    "plt.style.use('fivethirtyeight')"
   ]
  },
  {
   "cell_type": "markdown",
   "id": "24dd2b9c-4db7-4d85-a40c-d22ac3a3a28e",
   "metadata": {
    "slideshow": {
     "slide_type": "fragment"
    }
   },
   "source": [
    "---"
   ]
  },
  {
   "cell_type": "markdown",
   "id": "75369240-7a98-414c-afed-db2e32f46f98",
   "metadata": {
    "slideshow": {
     "slide_type": "slide"
    }
   },
   "source": [
    "## Sampling"
   ]
  },
  {
   "cell_type": "markdown",
   "id": "a0cbcf1e-7d95-4e4c-b09b-4edc50b1c020",
   "metadata": {
    "slideshow": {
     "slide_type": "fragment"
    }
   },
   "source": [
    "---"
   ]
  },
  {
   "cell_type": "markdown",
   "id": "2e9e7c14-fb19-4613-ba71-dc80e62ed241",
   "metadata": {
    "slideshow": {
     "slide_type": "subslide"
    }
   },
   "source": [
    "### Random Samples"
   ]
  },
  {
   "cell_type": "markdown",
   "id": "e064f4be-5f8f-4822-8029-b0d6e2cd7baa",
   "metadata": {
    "slideshow": {
     "slide_type": "-"
    }
   },
   "source": [
    "* Population: Set of all elements from whom a sample will be drawn\n",
    "* Deterministic sample: The sampling scheme doesn't involve chance\n",
    "* Random (Probability) sample: \n",
    "    * Before the sample is drawn, you have to know the selection probability of every group of people in the population\n",
    "    * Not all individuals/groups have to have an equal chance of being selected\n",
    "    * If the chances are equal, then the sample is a simple random sample."
   ]
  },
  {
   "cell_type": "markdown",
   "id": "9d2cd3bc-0c35-4775-8308-6f0cd0a93d8e",
   "metadata": {
    "slideshow": {
     "slide_type": "fragment"
    }
   },
   "source": [
    "---"
   ]
  },
  {
   "cell_type": "markdown",
   "id": "f33a4422-6bf4-4beb-a82d-e62a24fa2c69",
   "metadata": {
    "slideshow": {
     "slide_type": "subslide"
    }
   },
   "source": [
    "### Sample of Convenience"
   ]
  },
  {
   "cell_type": "markdown",
   "id": "311898d8-43e6-47f6-afda-7378154f872c",
   "metadata": {
    "slideshow": {
     "slide_type": "-"
    }
   },
   "source": [
    "* Example: sample consists of whoever walks by\n",
    "* Just because you think you're sampling \"randomly\", doesn't mean you have a random sample.\n",
    "* If you can't figure out the following ahead of time, then you don't have a random sample\n",
    "    * what's the population\n",
    "    * what's the chance of selection, for each group in the population"
   ]
  },
  {
   "cell_type": "markdown",
   "id": "d3cac60c-d631-4349-a877-f7d372f82331",
   "metadata": {
    "slideshow": {
     "slide_type": "fragment"
    }
   },
   "source": [
    "---"
   ]
  },
  {
   "cell_type": "markdown",
   "id": "c56314ae-46f7-4bc0-b630-ff5489bfdc8c",
   "metadata": {},
   "source": [
    "### With and Without Replacement"
   ]
  },
  {
   "cell_type": "markdown",
   "id": "e479c7b1-2d44-410d-b50c-7d572ca24232",
   "metadata": {},
   "source": [
    "* Sampling with Replacement:\n",
    "    * One event happening does not impact the chance of another event happening\n",
    "    * Associated with the concept called independent events.\n",
    "* Sampling without Replacement:\n",
    "    * One event happening may impact the chance of another event happening\n",
    "    * Associated with the concept called dependent events."
   ]
  },
  {
   "cell_type": "markdown",
   "id": "21c17d3e-e4d0-45ba-9170-89414a54d8a3",
   "metadata": {
    "slideshow": {
     "slide_type": "fragment"
    }
   },
   "source": [
    "---"
   ]
  },
  {
   "cell_type": "markdown",
   "id": "9dadb6bc-cc90-4828-9165-16769a85b64d",
   "metadata": {
    "slideshow": {
     "slide_type": "slide"
    }
   },
   "source": [
    "## Sampling with Technology"
   ]
  },
  {
   "cell_type": "markdown",
   "id": "a8f59ea8-afbe-431b-8366-4fa910b3e15c",
   "metadata": {
    "slideshow": {
     "slide_type": "fragment"
    }
   },
   "source": [
    "---"
   ]
  },
  {
   "cell_type": "markdown",
   "id": "57b5a831-bc24-49f3-9523-e825ae7a825b",
   "metadata": {
    "slideshow": {
     "slide_type": "subslide"
    }
   },
   "source": [
    "### Sampling from Arrays and Tables"
   ]
  },
  {
   "cell_type": "markdown",
   "id": "721fa1de-de20-41d3-9e55-6022d3d318b4",
   "metadata": {
    "slideshow": {
     "slide_type": "-"
    }
   },
   "source": [
    "* Sampling from a table\n",
    "    * Use can use `take` to systematically sample data from a table \n",
    "    * `tbl.sample(k=n, with_replacement=True)`:\n",
    "        * Randomly samples with replacement `n` rows from `tbl` and creates a new table\n",
    "        * `k` is `tbl.num_rows` by default\n",
    "        * `with_replacement` is `True` by default\n",
    "* Sampling from an array\n",
    "    * `np.random.choice(a=an_array, size=n, replace=True)`:\n",
    "        * Randomly samples with replacement `n` elements from the elements in `an_array`\n",
    "        * `size` is 1 by default\n",
    "        * `replace` is `True` by default"
   ]
  },
  {
   "cell_type": "markdown",
   "id": "2787bbf7-26d8-4f41-a19c-941d25739ef2",
   "metadata": {
    "slideshow": {
     "slide_type": "fragment"
    }
   },
   "source": [
    "---"
   ]
  },
  {
   "cell_type": "markdown",
   "id": "59353222-ee58-4607-81f0-98034eccba08",
   "metadata": {
    "slideshow": {
     "slide_type": "subslide"
    }
   },
   "source": [
    "### Demo: Sampling from Arrays and Tables"
   ]
  },
  {
   "cell_type": "markdown",
   "id": "c0529fe7-d985-4792-91fc-b3ea388b29ac",
   "metadata": {
    "slideshow": {
     "slide_type": "notes"
    }
   },
   "source": [
    "Load the November 2023 flight delay data in `delay.csv` sourced from the [Bureau of Transportation Statistic's Reporting Carrier On-Time Performance Data](https://www.transtats.bts.gov/DL_SelectFields.aspx?gnoyr_VQ=FGJ&QO_fu146_anzr=b0-gvzr). The variable `ARR_DELAY` contains the difference in minutes between scheduled and actual arrival time at the destination airport `DEST`. Early arrivals show negative numbers, and the airline code is expressed in the variable `OP_CARRIER`."
   ]
  },
  {
   "cell_type": "code",
   "execution_count": null,
   "id": "e990e8e1-796a-4c39-ab9a-5215bf715ae0",
   "metadata": {
    "slideshow": {
     "slide_type": "-"
    }
   },
   "outputs": [],
   "source": [
    "delays = Table.read_table('delays.csv')\n",
    "delays"
   ]
  },
  {
   "cell_type": "markdown",
   "id": "a74866ea-3e5c-403f-8e6d-2d2ee5800e3c",
   "metadata": {
    "slideshow": {
     "slide_type": "fragment"
    }
   },
   "source": [
    "---"
   ]
  },
  {
   "cell_type": "markdown",
   "id": "7f9233e2-044d-4c95-8ef2-c7cff75989a8",
   "metadata": {
    "deletable": false,
    "editable": false,
    "slideshow": {
     "slide_type": "notes"
    }
   },
   "source": [
    "Demonstrate how to use the `take` method to systematically sample the data."
   ]
  },
  {
   "cell_type": "code",
   "execution_count": null,
   "id": "36504fe6-3467-415d-964a-f295e4b470a2",
   "metadata": {
    "slideshow": {
     "slide_type": "fragment"
    },
    "tags": []
   },
   "outputs": [],
   "source": [
    "..."
   ]
  },
  {
   "cell_type": "code",
   "execution_count": null,
   "id": "b466d116-0f90-47ca-b612-1aa8f6a579e8",
   "metadata": {
    "slideshow": {
     "slide_type": "subslide"
    },
    "tags": []
   },
   "outputs": [],
   "source": [
    "..."
   ]
  },
  {
   "cell_type": "code",
   "execution_count": null,
   "id": "3f844725-6be5-47b3-9d79-225dce9d60e9",
   "metadata": {
    "scrolled": true,
    "slideshow": {
     "slide_type": "subslide"
    },
    "tags": []
   },
   "outputs": [],
   "source": [
    "start = ...\n",
    "systematic_sample = ...\n",
    "systematic_sample.show()"
   ]
  },
  {
   "cell_type": "markdown",
   "id": "b7463040-5e96-48c5-88ea-0c3fbd270988",
   "metadata": {
    "slideshow": {
     "slide_type": "fragment"
    }
   },
   "source": [
    "---"
   ]
  },
  {
   "cell_type": "markdown",
   "id": "aef5a02e-d738-4b7e-9d1f-6b0bbc61a8af",
   "metadata": {
    "deletable": false,
    "editable": false
   },
   "source": [
    "Demonstrate how to get a simple random sample of 12 flight delays using `np.random.choice` and `sample`."
   ]
  },
  {
   "cell_type": "code",
   "execution_count": null,
   "id": "6f9c0751-1278-4d85-b2d6-0c04a8e7b853",
   "metadata": {
    "tags": []
   },
   "outputs": [],
   "source": [
    "delays_arr = delays.column('ARR_DELAY')\n",
    "..."
   ]
  },
  {
   "cell_type": "code",
   "execution_count": null,
   "id": "23040841-d269-46fd-aeca-379992928bdf",
   "metadata": {
    "tags": []
   },
   "outputs": [],
   "source": [
    "random_sample = ...\n",
    "random_sample.show()"
   ]
  },
  {
   "cell_type": "markdown",
   "id": "af0cdbdb-ab8b-42d0-b29d-ddadaa4c0192",
   "metadata": {
    "slideshow": {
     "slide_type": "fragment"
    }
   },
   "source": [
    "--- "
   ]
  },
  {
   "cell_type": "markdown",
   "id": "3effa706-b51e-4ff2-ab07-06db1210156e",
   "metadata": {
    "slideshow": {
     "slide_type": "slide"
    }
   },
   "source": [
    "## Distributions"
   ]
  },
  {
   "cell_type": "markdown",
   "id": "0ddd7c16-898e-432f-8996-3cfb9695ae10",
   "metadata": {
    "slideshow": {
     "slide_type": "fragment"
    }
   },
   "source": [
    "---"
   ]
  },
  {
   "cell_type": "markdown",
   "id": "dc90dd39-e320-4f9f-8c91-c61b07512faf",
   "metadata": {
    "slideshow": {
     "slide_type": "subslide"
    }
   },
   "source": [
    "### Probability Distribution"
   ]
  },
  {
   "cell_type": "markdown",
   "id": "bca13235-f33a-4286-a0d6-7e39115ba4c5",
   "metadata": {
    "slideshow": {
     "slide_type": "-"
    }
   },
   "source": [
    "* Random quantity with various possible values\n",
    "* Probability Distribution:\n",
    "    * All the possible values of the quantity\n",
    "    * The probability of each of those values\n",
    "* If you can do the math, you can work out the probability distribution without ever simulating it\n",
    "* But... simulation is often easier!\n"
   ]
  },
  {
   "cell_type": "markdown",
   "id": "056d9565-0cc9-413a-b4a9-a8b2f4a05a0d",
   "metadata": {
    "slideshow": {
     "slide_type": "fragment"
    }
   },
   "source": [
    "---"
   ]
  },
  {
   "cell_type": "markdown",
   "id": "a4691829-29f1-41fa-9856-799633e80bf1",
   "metadata": {
    "slideshow": {
     "slide_type": "subslide"
    }
   },
   "source": [
    "### Empirical Distribution"
   ]
  },
  {
   "cell_type": "markdown",
   "id": "4406ab51-d5ae-45b0-a487-2895270ea885",
   "metadata": {
    "slideshow": {
     "slide_type": "-"
    }
   },
   "source": [
    "* Empirical: based on observations\n",
    "* Observations can be from repetitions of an experiment\n",
    "* Empirical Distribution:\n",
    "    * All observed values\n",
    "    * The proportion of times each value appears"
   ]
  },
  {
   "cell_type": "markdown",
   "id": "d066d52e-a8de-41a5-92cd-0e6b0ee22be3",
   "metadata": {
    "slideshow": {
     "slide_type": "fragment"
    }
   },
   "source": [
    "---"
   ]
  },
  {
   "cell_type": "markdown",
   "id": "86d0fda2-2d4c-4df2-9cd2-4d11d4886d02",
   "metadata": {
    "slideshow": {
     "slide_type": "subslide"
    }
   },
   "source": [
    "### Demo: Distributions"
   ]
  },
  {
   "cell_type": "markdown",
   "id": "bb8a82eb-2e7d-4749-8efa-e222aae5065b",
   "metadata": {
    "deletable": false,
    "editable": false,
    "slideshow": {
     "slide_type": "notes"
    }
   },
   "source": [
    "Create a table with the face numbers of a six-sided die. Use that table with the `sample` method to simulate randomly rolling a die. Visualize the probability distribution."
   ]
  },
  {
   "cell_type": "code",
   "execution_count": null,
   "id": "c322c8b5-0df7-4b62-afe4-49d3084eb7c4",
   "metadata": {
    "slideshow": {
     "slide_type": "-"
    },
    "tags": []
   },
   "outputs": [],
   "source": [
    "die = ...\n",
    "die"
   ]
  },
  {
   "cell_type": "code",
   "execution_count": null,
   "id": "58ead8da-c700-473f-a7b7-7992f2df0c63",
   "metadata": {
    "slideshow": {
     "slide_type": "fragment"
    },
    "tags": []
   },
   "outputs": [],
   "source": [
    "..."
   ]
  },
  {
   "cell_type": "code",
   "execution_count": null,
   "id": "b052a478-6ce1-4ca2-b9b9-bce90be50153",
   "metadata": {
    "slideshow": {
     "slide_type": "subslide"
    },
    "tags": []
   },
   "outputs": [],
   "source": [
    "..."
   ]
  },
  {
   "cell_type": "code",
   "execution_count": null,
   "id": "aee603e9-3090-4862-8519-62305bc71895",
   "metadata": {
    "slideshow": {
     "slide_type": "subslide"
    },
    "tags": []
   },
   "outputs": [],
   "source": [
    "roll_bins = np.arange(0.5, 7.5)\n",
    "..."
   ]
  },
  {
   "cell_type": "markdown",
   "id": "f927ab3b-257e-4691-98ad-954211747bd9",
   "metadata": {
    "slideshow": {
     "slide_type": "fragment"
    }
   },
   "source": [
    "---"
   ]
  },
  {
   "cell_type": "markdown",
   "id": "dc3a6e71-a934-4c9a-8d7f-9c08660b1107",
   "metadata": {
    "deletable": false,
    "editable": false,
    "slideshow": {
     "slide_type": "notes"
    }
   },
   "source": [
    "Randomly sample using a few different sample sizes and visualize the resulting empirical distributions."
   ]
  },
  {
   "cell_type": "code",
   "execution_count": null,
   "id": "9b1d65fb-b65b-492e-8acf-0b297db7d7fd",
   "metadata": {
    "slideshow": {
     "slide_type": "subslide"
    },
    "tags": []
   },
   "outputs": [],
   "source": [
    "..."
   ]
  },
  {
   "cell_type": "code",
   "execution_count": null,
   "id": "56f531a5-5dc1-4ec5-abee-f0828af7ac1a",
   "metadata": {
    "slideshow": {
     "slide_type": "subslide"
    },
    "tags": []
   },
   "outputs": [],
   "source": [
    "..."
   ]
  },
  {
   "cell_type": "code",
   "execution_count": null,
   "id": "67e884b6-56c5-450f-8455-f9d3468064bb",
   "metadata": {
    "slideshow": {
     "slide_type": "subslide"
    },
    "tags": []
   },
   "outputs": [],
   "source": [
    "..."
   ]
  },
  {
   "cell_type": "markdown",
   "id": "29a2bd40-1251-4bbd-b6b9-180d45b09f0a",
   "metadata": {
    "slideshow": {
     "slide_type": "fragment"
    }
   },
   "source": [
    "---"
   ]
  },
  {
   "cell_type": "markdown",
   "id": "0a1c0856-12ef-41ac-8960-ed971cc5c7bb",
   "metadata": {
    "slideshow": {
     "slide_type": "slide"
    }
   },
   "source": [
    "## Law of Large Numbers"
   ]
  },
  {
   "cell_type": "markdown",
   "id": "bc802fa3-586f-4df1-800c-9dd294188508",
   "metadata": {
    "slideshow": {
     "slide_type": "fragment"
    }
   },
   "source": [
    "---"
   ]
  },
  {
   "cell_type": "markdown",
   "id": "7f4f816d-38a9-4707-a61b-274fb273f02c",
   "metadata": {
    "slideshow": {
     "slide_type": "subslide"
    }
   },
   "source": [
    "### Law of Averages / Law of Large Numbers"
   ]
  },
  {
   "cell_type": "markdown",
   "id": "ed9b678e-6b27-4060-959b-102d325698e5",
   "metadata": {
    "slideshow": {
     "slide_type": "-"
    }
   },
   "source": [
    "* If a chance experiment is repeated many times, independently and under the same conditions, then the proportion of times that an event occurs gets closer to the theoretical probability of the event\n",
    "* As you increase the number of rolls of a six-sided die, the proportion of times you see the face with five spots gets closer to 1/6\n"
   ]
  },
  {
   "cell_type": "markdown",
   "id": "50693db1-0295-4289-a987-1ffe2c955df3",
   "metadata": {
    "slideshow": {
     "slide_type": "fragment"
    }
   },
   "source": [
    "---"
   ]
  },
  {
   "cell_type": "markdown",
   "id": "10df1f20-b627-4dc8-bcdd-30b85be17e34",
   "metadata": {
    "slideshow": {
     "slide_type": "subslide"
    }
   },
   "source": [
    "### Empirical Distribution of a Sample"
   ]
  },
  {
   "cell_type": "markdown",
   "id": "866fe5d8-2b73-4987-b29b-2fa6c4fed43f",
   "metadata": {
    "slideshow": {
     "slide_type": "-"
    }
   },
   "source": [
    "If the sample size is large, then the empirical distribution of a uniform random sample resembles the distribution of the population, with high probability.\n"
   ]
  },
  {
   "cell_type": "markdown",
   "id": "f091fe2a-8149-47dd-b226-d44637575faf",
   "metadata": {
    "slideshow": {
     "slide_type": "fragment"
    }
   },
   "source": [
    "---"
   ]
  },
  {
   "cell_type": "markdown",
   "id": "726fe920-b6f6-4aa6-9c99-db24b8c7df7a",
   "metadata": {
    "slideshow": {
     "slide_type": "subslide"
    }
   },
   "source": [
    "### Demo: Large Random Samples"
   ]
  },
  {
   "cell_type": "markdown",
   "id": "4ef21602-27e5-4b09-9231-abc9912560da",
   "metadata": {
    "slideshow": {
     "slide_type": "notes"
    }
   },
   "source": [
    "The following code loads the same SFO November 2023 flight delay data in `delays.csv` sourced from the [Bureau of Transportation Statistic's Reporting Carrier On-Time Performance Data](https://www.transtats.bts.gov/DL_SelectFields.aspx?gnoyr_VQ=FGJ&QO_fu146_anzr=b0-gvzr). Additionally, we filter out the rows with missing delay data."
   ]
  },
  {
   "cell_type": "code",
   "execution_count": null,
   "id": "82bf2733-9d47-4f9d-86ce-190d7d3f89f1",
   "metadata": {
    "slideshow": {
     "slide_type": "-"
    }
   },
   "outputs": [],
   "source": [
    "delays = Table.read_table('delays.csv')\n",
    "sfo_delays = delays.where('ORIGIN', 'SFO').drop(0,2).relabeled('ARR_DELAY', 'DELAY')\n",
    "nan_filter = np.invert(np.isnan(sfo_delays.column('DELAY')))\n",
    "sfo_delays = sfo_delays.where(nan_filter)\n",
    "sfo_delays"
   ]
  },
  {
   "cell_type": "markdown",
   "id": "671ae93b-6b98-41e9-86a8-2e11fb79a59b",
   "metadata": {
    "slideshow": {
     "slide_type": "fragment"
    }
   },
   "source": [
    "---"
   ]
  },
  {
   "cell_type": "markdown",
   "id": "af0f6fc3-949d-4b15-a8ae-d3ef362211b8",
   "metadata": {
    "deletable": false,
    "editable": false,
    "slideshow": {
     "slide_type": "notes"
    }
   },
   "source": [
    "Visualize the empirical distribution of flight delays in the delay data. You'll need to adjust the bins. Take note of the average and median flight delays."
   ]
  },
  {
   "cell_type": "code",
   "execution_count": null,
   "id": "32f820a4-4290-4fcf-b8fc-b6d2d299ecca",
   "metadata": {
    "slideshow": {
     "slide_type": "subslide"
    },
    "tags": []
   },
   "outputs": [],
   "source": [
    "..."
   ]
  },
  {
   "cell_type": "code",
   "execution_count": null,
   "id": "efbb4997-202d-442e-a4c6-40dc52fa7a25",
   "metadata": {
    "slideshow": {
     "slide_type": "subslide"
    },
    "tags": []
   },
   "outputs": [],
   "source": [
    "min_delay = min(sfo_delays.column('DELAY'))\n",
    "min_delay"
   ]
  },
  {
   "cell_type": "code",
   "execution_count": null,
   "id": "72669374-7f30-4ff8-aaf2-001720e54b1c",
   "metadata": {
    "slideshow": {
     "slide_type": "fragment"
    },
    "tags": []
   },
   "outputs": [],
   "source": [
    "max_delay = max(sfo_delays.column('DELAY'))\n",
    "max_delay"
   ]
  },
  {
   "cell_type": "code",
   "execution_count": null,
   "id": "4eb1f700-fd9c-4463-978b-2ddc5d203baa",
   "metadata": {
    "tags": []
   },
   "outputs": [],
   "source": [
    "# The percentile function will be introduced later in the course\n",
    "percentile_99 = percentile(99, sfo_delays.column('DELAY'))\n",
    "print(f'99% of the delays are most {percentile_99} mins.') "
   ]
  },
  {
   "cell_type": "code",
   "execution_count": null,
   "id": "cf9e7c96-0067-41ac-a922-3db53599c6e4",
   "metadata": {
    "slideshow": {
     "slide_type": "subslide"
    },
    "tags": []
   },
   "outputs": [],
   "source": [
    "bins = np.arange(min_delay, percentile_99, 5)\n",
    "..."
   ]
  },
  {
   "cell_type": "code",
   "execution_count": null,
   "id": "9e69572c-dd5d-4fb5-a5d9-75d5a84ab3c0",
   "metadata": {
    "slideshow": {
     "slide_type": "subslide"
    },
    "tags": []
   },
   "outputs": [],
   "source": [
    "average_delay = ...\n",
    "average_delay"
   ]
  },
  {
   "cell_type": "code",
   "execution_count": null,
   "id": "29758fd9-540b-4223-88bc-1944cd5e9d83",
   "metadata": {
    "slideshow": {
     "slide_type": "fragment"
    },
    "tags": []
   },
   "outputs": [],
   "source": [
    "median_delay = ...\n",
    "median_delay"
   ]
  },
  {
   "cell_type": "markdown",
   "id": "cec2e870-8fbd-45d4-9c68-22d5ce9fdab5",
   "metadata": {
    "slideshow": {
     "slide_type": "fragment"
    }
   },
   "source": [
    "---"
   ]
  },
  {
   "cell_type": "markdown",
   "id": "e1224268-4292-4425-b58d-85ef8218a955",
   "metadata": {
    "deletable": false,
    "editable": false,
    "slideshow": {
     "slide_type": "notes"
    }
   },
   "source": [
    "Randomly sample 10 and 1000 flights from the delay data and visualize the distributions of the samples."
   ]
  },
  {
   "cell_type": "code",
   "execution_count": null,
   "id": "3f4ef7d7-8b85-4fcb-83f0-797a970c3fb5",
   "metadata": {
    "slideshow": {
     "slide_type": "subslide"
    },
    "tags": []
   },
   "outputs": [],
   "source": [
    "sfo_delays.sample(...).hist('DELAY', bins = bins, unit='Minute') "
   ]
  },
  {
   "cell_type": "code",
   "execution_count": null,
   "id": "cbd34ba4-f358-482c-b7db-eacd1a9b919a",
   "metadata": {
    "slideshow": {
     "slide_type": "subslide"
    },
    "tags": []
   },
   "outputs": [],
   "source": [
    "sfo_delays.sample(...).hist('DELAY', bins = bins, unit='Minute') "
   ]
  },
  {
   "cell_type": "markdown",
   "id": "2817094b-2cff-4d3e-9586-f178c147f059",
   "metadata": {
    "slideshow": {
     "slide_type": "fragment"
    }
   },
   "source": [
    "---"
   ]
  },
  {
   "cell_type": "markdown",
   "id": "3590eb93-082e-4c7e-8ccb-fd8feb274ca1",
   "metadata": {
    "slideshow": {
     "slide_type": "slide"
    }
   },
   "source": [
    "## A Statistic"
   ]
  },
  {
   "cell_type": "markdown",
   "id": "83092df3-2376-4166-a9b0-9d7516fd1470",
   "metadata": {
    "slideshow": {
     "slide_type": "fragment"
    }
   },
   "source": [
    "---"
   ]
  },
  {
   "cell_type": "markdown",
   "id": "33cc63db-c743-4e1c-aec8-cf0dc514de61",
   "metadata": {
    "slideshow": {
     "slide_type": "subslide"
    }
   },
   "source": [
    "### Inference"
   ]
  },
  {
   "cell_type": "markdown",
   "id": "36cb61fb-2191-406d-b2d3-04009a2df12d",
   "metadata": {
    "slideshow": {
     "slide_type": "-"
    }
   },
   "source": [
    "* Statistical Inference: Making conclusions based on data in random samples\n",
    "* Example: Use the data to guess the value of an unknown and fixed number by creating an estimate of the unknown quantity that depends on the random sample.\n",
    "\n"
   ]
  },
  {
   "cell_type": "markdown",
   "id": "6ca920ba-4633-4324-b202-307aebfb6f34",
   "metadata": {
    "slideshow": {
     "slide_type": "fragment"
    }
   },
   "source": [
    "---"
   ]
  },
  {
   "cell_type": "markdown",
   "id": "b49d82ef-2c2a-4bb7-b3a6-4641b304fa60",
   "metadata": {
    "slideshow": {
     "slide_type": "subslide"
    }
   },
   "source": [
    "### Terminology"
   ]
  },
  {
   "cell_type": "markdown",
   "id": "602dc743-ad72-4942-b740-a5729efd5240",
   "metadata": {
    "slideshow": {
     "slide_type": "-"
    }
   },
   "source": [
    "* Parameter: A number associated with the population\n",
    "* Statistic: A number calculated from the sample\n",
    "* A statistic can be used as an estimate of a parameter"
   ]
  },
  {
   "cell_type": "markdown",
   "id": "b7c68d59-e7fd-4b49-8b01-e4d9e04451a4",
   "metadata": {
    "slideshow": {
     "slide_type": "fragment"
    }
   },
   "source": [
    "---"
   ]
  },
  {
   "cell_type": "markdown",
   "id": "9edf8d67-1578-4c41-bb76-91f367c1e41f",
   "metadata": {
    "slideshow": {
     "slide_type": "subslide"
    }
   },
   "source": [
    "### Demo: Simulating Statistics"
   ]
  },
  {
   "cell_type": "markdown",
   "id": "2b609267-c864-473a-aab1-0950537acb35",
   "metadata": {
    "deletable": false,
    "editable": false,
    "slideshow": {
     "slide_type": "notes"
    }
   },
   "source": [
    "Recall the median for the flight delays (parameter) and compare it to the median statistic associated with a random sample of 10 flights."
   ]
  },
  {
   "cell_type": "code",
   "execution_count": null,
   "id": "e4d6fa78-1709-44d5-b349-04b61e34e3fd",
   "metadata": {
    "slideshow": {
     "slide_type": "-"
    },
    "tags": []
   },
   "outputs": [],
   "source": [
    "median_delay"
   ]
  },
  {
   "cell_type": "code",
   "execution_count": null,
   "id": "28410751-1d9c-4da5-8cfe-57c4cf623939",
   "metadata": {
    "slideshow": {
     "slide_type": "fragment"
    },
    "tags": []
   },
   "outputs": [],
   "source": [
    "..."
   ]
  },
  {
   "cell_type": "markdown",
   "id": "40647f6f-720e-4b5e-beeb-6b1fad1f96fa",
   "metadata": {
    "slideshow": {
     "slide_type": "fragment"
    }
   },
   "source": [
    "---"
   ]
  },
  {
   "cell_type": "markdown",
   "id": "3add46c0-6dae-46fa-98e3-0dd3f3819bf9",
   "metadata": {
    "deletable": false,
    "editable": false,
    "slideshow": {
     "slide_type": "notes"
    }
   },
   "source": [
    "Define a function that randomly samples delay data for an inputted sample size and returns the median delay for that sample."
   ]
  },
  {
   "cell_type": "code",
   "execution_count": null,
   "id": "5456ca39-4fe5-467f-9ec8-d398dbbc8515",
   "metadata": {
    "slideshow": {
     "slide_type": "subslide"
    },
    "tags": []
   },
   "outputs": [],
   "source": [
    "def sample_median(size):\n",
    "    ..."
   ]
  },
  {
   "cell_type": "code",
   "execution_count": null,
   "id": "dd198c57-7c82-45d4-9c3b-abe89dae11c5",
   "metadata": {
    "slideshow": {
     "slide_type": "fragment"
    },
    "tags": []
   },
   "outputs": [],
   "source": [
    "sample_median(10)"
   ]
  },
  {
   "cell_type": "markdown",
   "id": "01f93134-7a20-4e2d-9ef9-8e92419c1fde",
   "metadata": {
    "slideshow": {
     "slide_type": "fragment"
    }
   },
   "source": [
    "---"
   ]
  },
  {
   "cell_type": "markdown",
   "id": "6db250df-3701-425f-bd50-731ff82ce2e7",
   "metadata": {
    "deletable": false,
    "editable": false,
    "slideshow": {
     "slide_type": "notes"
    }
   },
   "source": [
    "Simulate randomly sampling 10 flights 1000 times and storing the sample delay medians for each iteration. Add the results to a table and visualize the sampling distribution."
   ]
  },
  {
   "cell_type": "code",
   "execution_count": null,
   "id": "ddcf2326-c148-43fc-ab59-f25078e51688",
   "metadata": {
    "slideshow": {
     "slide_type": "subslide"
    },
    "tags": []
   },
   "outputs": [],
   "source": [
    "sample_medians = ...\n",
    "reps = ...\n",
    "sample_size = ...\n",
    "\n",
    "for ...:\n",
    "    new_median = ...\n",
    "    sample_medians = ..."
   ]
  },
  {
   "cell_type": "code",
   "execution_count": null,
   "id": "4330602a-1f5f-4cca-b4d0-8e95b91846a7",
   "metadata": {
    "slideshow": {
     "slide_type": "fragment"
    },
    "tags": []
   },
   "outputs": [],
   "source": [
    "Table().with_column('Sample Medians', sample_medians).hist(bins = np.arange(-30,20), unit='Minute')"
   ]
  },
  {
   "cell_type": "markdown",
   "id": "f1ba02a0-b5b0-48a9-8640-a5a269400d08",
   "metadata": {
    "slideshow": {
     "slide_type": "fragment"
    }
   },
   "source": [
    "---"
   ]
  },
  {
   "cell_type": "markdown",
   "id": "41439270-e1be-4bc6-a7e8-6086a1eab9af",
   "metadata": {
    "deletable": false,
    "editable": false,
    "slideshow": {
     "slide_type": "notes"
    }
   },
   "source": [
    "Repeat the sample simulation except use a sample size of 1000, instead of 10."
   ]
  },
  {
   "cell_type": "code",
   "execution_count": null,
   "id": "3ef90198-c18b-4b16-9059-e0205750c831",
   "metadata": {
    "slideshow": {
     "slide_type": "subslide"
    },
    "tags": []
   },
   "outputs": [],
   "source": [
    "sample_medians = ...\n",
    "reps = ...\n",
    "sample_size = ...\n",
    "\n",
    "for ...:\n",
    "    new_median = ...\n",
    "    sample_medians = ..."
   ]
  },
  {
   "cell_type": "code",
   "execution_count": null,
   "id": "c228fa3f-b1f9-4f84-b579-bc6fdcd7f8f7",
   "metadata": {
    "slideshow": {
     "slide_type": "fragment"
    },
    "tags": []
   },
   "outputs": [],
   "source": [
    "Table().with_column('Sample Medians', sample_medians).hist(bins = np.arange(-30,20), unit='Minute')"
   ]
  },
  {
   "cell_type": "markdown",
   "id": "9bf52c12-cf28-433a-8998-48d4d21200ca",
   "metadata": {
    "slideshow": {
     "slide_type": "fragment"
    }
   },
   "source": [
    "---"
   ]
  },
  {
   "cell_type": "markdown",
   "id": "cd1f5a4b-056f-49d8-b9eb-3812c01e9cdd",
   "metadata": {
    "slideshow": {
     "slide_type": "subslide"
    }
   },
   "source": [
    "### Probability Distribution of a Statistic"
   ]
  },
  {
   "cell_type": "markdown",
   "id": "ae7c120d-2876-42fc-9da4-6058e759799c",
   "metadata": {
    "slideshow": {
     "slide_type": "-"
    }
   },
   "source": [
    "* Values of a statistic vary because random samples vary\n",
    "* Sampling distribution (or probability distribution) of the statistic:\n",
    "    * All possible values of the statistic,\n",
    "    * and all the corresponding probabilities\n",
    "    * Can be hard to calculate\n",
    "        * Either have to do the math\n",
    "        * Or have to generate all possible samples and calculate the statistic based on each sample\n"
   ]
  },
  {
   "cell_type": "markdown",
   "id": "3c51d556-4248-4093-b629-b019f37a2665",
   "metadata": {
    "slideshow": {
     "slide_type": "fragment"
    }
   },
   "source": [
    "---"
   ]
  },
  {
   "cell_type": "markdown",
   "id": "f90ca415-ede3-4941-a5b9-1bcb66c2d294",
   "metadata": {
    "slideshow": {
     "slide_type": "subslide"
    }
   },
   "source": [
    "### Empirical Distribution of a Statistic"
   ]
  },
  {
   "cell_type": "markdown",
   "id": "c4b9bcdc-8c16-4a86-a779-315bf246a2a7",
   "metadata": {
    "slideshow": {
     "slide_type": "-"
    }
   },
   "source": [
    "* Empirical distribution of the statistic:\n",
    "    * Based on simulated values of the statistic\n",
    "    * Consists of all the observed values of the statistic,\n",
    "    * and the proportion of times each value appeared\n",
    "* Good approximation to the probability distribution of the statistic if the number of repetitions in the simulation is large\n"
   ]
  },
  {
   "cell_type": "markdown",
   "id": "fcc71a44-39a9-402f-958d-58583b096b67",
   "metadata": {
    "slideshow": {
     "slide_type": "fragment"
    }
   },
   "source": [
    "--- "
   ]
  },
  {
   "cell_type": "markdown",
   "id": "24af2328-e7f3-419f-9437-8c10260607fd",
   "metadata": {
    "editable": true,
    "slideshow": {
     "slide_type": "notes"
    },
    "tags": []
   },
   "source": [
    "## Attribution"
   ]
  },
  {
   "cell_type": "markdown",
   "id": "f01e2c43-7057-410f-a6ec-25aa047b61df",
   "metadata": {},
   "source": [
    "This content is licensed under the <a href=\"https://creativecommons.org/licenses/by-nc-sa/4.0/\">Creative Commons Attribution-NonCommercial-ShareAlike 4.0 International License (CC BY-NC-SA 4.0)</a> and derived from the <a href=\"https://www.data8.org/\">Data 8: The Foundations of Data Science</a> offered by the University of California, Berkeley.\n",
    "\n",
    "<img src=\"./by-nc-sa.png\" width=100px>"
   ]
  }
 ],
 "metadata": {
  "kernelspec": {
   "display_name": "Python 3 (ipykernel)",
   "language": "python",
   "name": "python3"
  },
  "language_info": {
   "codemirror_mode": {
    "name": "ipython",
    "version": 3
   },
   "file_extension": ".py",
   "mimetype": "text/x-python",
   "name": "python",
   "nbconvert_exporter": "python",
   "pygments_lexer": "ipython3",
   "version": "3.11.9"
  },
  "otter": {
   "OK_FORMAT": true,
   "tests": {}
  }
 },
 "nbformat": 4,
 "nbformat_minor": 5
}
