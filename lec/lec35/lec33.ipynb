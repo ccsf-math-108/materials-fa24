{
 "cells": [
  {
   "cell_type": "markdown",
   "id": "313cc096-34bf-4ad3-b01d-8bd3edba8f76",
   "metadata": {},
   "source": [
    "<img src=\"./ccsf.png\" alt=\"CCSF Logo\" width=200px style=\"margin:0px -5px\">"
   ]
  },
  {
   "cell_type": "markdown",
   "id": "89638a68-910c-4e2b-91d3-e2cffd979f8c",
   "metadata": {
    "slideshow": {
     "slide_type": "-"
    }
   },
   "source": [
    "# Lecture 33: Residuals"
   ]
  },
  {
   "cell_type": "markdown",
   "id": "8dc78611-e217-45ee-96c6-afdcd35d967f",
   "metadata": {
    "slideshow": {
     "slide_type": "-"
    }
   },
   "source": [
    "Associated Textbook Sections: [15.5 - 15.6](https://inferentialthinking.com/chapters/15/5/Visual_Diagnostics.html)"
   ]
  },
  {
   "cell_type": "markdown",
   "id": "87cf8797-46ae-417f-9a1c-8018acf73274",
   "metadata": {
    "slideshow": {
     "slide_type": "fragment"
    }
   },
   "source": [
    "---"
   ]
  },
  {
   "cell_type": "markdown",
   "id": "1aa528a1-4c37-426e-a0d1-721aa11d63f4",
   "metadata": {
    "slideshow": {
     "slide_type": "slide"
    }
   },
   "source": [
    "## Outline"
   ]
  },
  {
   "cell_type": "markdown",
   "id": "41790cc0-3141-4464-95eb-d152f3b55791",
   "metadata": {},
   "source": [
    "* [Residuals](#Residuals)\n",
    "* [Regression Diagnostics](#Regression-Diagnostics)\n",
    "* [A Measure of Clustering](#A-Measure-of-Clustering)"
   ]
  },
  {
   "cell_type": "markdown",
   "id": "8f97508b-9b40-4c80-9146-16dcb0ca17c9",
   "metadata": {
    "slideshow": {
     "slide_type": "fragment"
    }
   },
   "source": [
    "---"
   ]
  },
  {
   "cell_type": "markdown",
   "id": "8b367858-f3b5-4afa-ba3e-ac5d3d6d1c33",
   "metadata": {
    "slideshow": {
     "slide_type": "slide"
    }
   },
   "source": [
    "## Set Up the Notebook"
   ]
  },
  {
   "cell_type": "code",
   "execution_count": null,
   "id": "6fcec560-b160-485e-aabd-74bb1cfca071",
   "metadata": {
    "slideshow": {
     "slide_type": "-"
    }
   },
   "outputs": [],
   "source": [
    "from datascience import *\n",
    "import numpy as np\n",
    "%matplotlib inline\n",
    "import matplotlib.pyplot as plt\n",
    "plt.style.use('fivethirtyeight')\n",
    "\n",
    "# Functions defined in previous lectures\n",
    "\n",
    "def standard_units(arr):\n",
    "    \"\"\" Converts an array to standard units \"\"\"\n",
    "    return (arr - np.average(arr))/np.std(arr)\n",
    "\n",
    "def correlation(t, x, y):\n",
    "    \"\"\" Computes correlation: t is a table, and x and y are column names \"\"\"\n",
    "    x_standard = standard_units(t.column(x))\n",
    "    y_standard = standard_units(t.column(y))\n",
    "    return np.average(x_standard * y_standard)\n",
    "\n",
    "def slope(t, x, y):\n",
    "    \"\"\" Computes the slope of the regression line, like correlation above \"\"\"\n",
    "    r = correlation(t, x, y)\n",
    "    y_sd = np.std(t.column(y))\n",
    "    x_sd = np.std(t.column(x))\n",
    "    return r * y_sd / x_sd\n",
    "\n",
    "def intercept(t, x, y):\n",
    "    \"\"\" Computes the intercept of the regression line, like slope above \"\"\"\n",
    "    x_mean = np.mean(t.column(x))\n",
    "    y_mean = np.mean(t.column(y))\n",
    "    return y_mean - slope(t, x, y)*x_mean\n",
    "\n",
    "def fitted_values(t, x, y):\n",
    "    \"\"\"Return an array of the regression estimates (predictions) at all the x values\"\"\"\n",
    "    a = slope(t, x, y)\n",
    "    b = intercept(t, x, y)\n",
    "    return a*t.column(x) + b"
   ]
  },
  {
   "cell_type": "markdown",
   "id": "2d862b5d-b04b-49e5-a2ce-67d681861da7",
   "metadata": {
    "slideshow": {
     "slide_type": "fragment"
    }
   },
   "source": [
    "---"
   ]
  },
  {
   "cell_type": "markdown",
   "id": "60ea1e36-b718-4f98-acb4-f1d2562eaf37",
   "metadata": {
    "slideshow": {
     "slide_type": "slide"
    }
   },
   "source": [
    "## Residuals"
   ]
  },
  {
   "cell_type": "markdown",
   "id": "a3db89be-5d56-4ed1-a1e6-fb08bf093a23",
   "metadata": {
    "slideshow": {
     "slide_type": "fragment"
    }
   },
   "source": [
    "---"
   ]
  },
  {
   "cell_type": "markdown",
   "id": "efa4b10c-4082-4cd0-ae48-c6a845e44e2f",
   "metadata": {
    "slideshow": {
     "slide_type": "subslide"
    },
    "tags": []
   },
   "source": [
    "### Residuals"
   ]
  },
  {
   "cell_type": "markdown",
   "id": "e8957d38-ddf7-465b-940a-68183f9c58a9",
   "metadata": {
    "slideshow": {
     "slide_type": "-"
    }
   },
   "source": [
    "* Error in regression estimate\n",
    "* One residual corresponding to each point (x, y)\n",
    "* residual \n",
    "    * = observed y - regression estimate of y\n",
    "    *  = observed y - height of regression line at x\n",
    "    *  = vertical distance between the point and the best line\n"
   ]
  },
  {
   "cell_type": "markdown",
   "id": "b9bb73e3-79bb-426d-bf36-6d42c724c1db",
   "metadata": {
    "slideshow": {
     "slide_type": "fragment"
    }
   },
   "source": [
    "---"
   ]
  },
  {
   "cell_type": "markdown",
   "id": "92f9d561-cf96-4359-b0e0-79bf534aaae1",
   "metadata": {
    "slideshow": {
     "slide_type": "subslide"
    },
    "tags": []
   },
   "source": [
    "### Demo: Residuals"
   ]
  },
  {
   "cell_type": "markdown",
   "id": "01fbb572-0442-469b-9170-271474d99a69",
   "metadata": {
    "deletable": false,
    "editable": false,
    "slideshow": {
     "slide_type": "notes"
    },
    "tags": []
   },
   "source": [
    "Calculate and visualize the residuals associated with linear regression estimates for `Median Income` values based on `College%` in the `district_demographics2016.csv` data. "
   ]
  },
  {
   "cell_type": "code",
   "execution_count": null,
   "id": "9ab92a7e-b1d7-4249-9a4d-39a653fc8f3d",
   "metadata": {
    "slideshow": {
     "slide_type": "subslide"
    },
    "tags": []
   },
   "outputs": [],
   "source": [
    "demographics = Table.read_table('district_demographics2016.csv')\n",
    "demographics"
   ]
  },
  {
   "cell_type": "code",
   "execution_count": null,
   "id": "111486d5-2af7-4e47-bf0c-6899ac9e752c",
   "metadata": {
    "tags": []
   },
   "outputs": [],
   "source": [
    "predict_income = demographics.select('College%', 'Median Income')\n",
    "predict_income = predict_income.with_columns('Fitted',\n",
    "    fitted_values(demographics, 'College%', 'Median Income'))\n",
    "predict_income.scatter('College%')"
   ]
  },
  {
   "cell_type": "code",
   "execution_count": null,
   "id": "0111246a-76fa-427b-9bfb-7e3089fc0370",
   "metadata": {
    "tags": []
   },
   "outputs": [],
   "source": [
    "demographics = demographics.drop(\n",
    "    'State', 'District')\n",
    "demographics.show(5)"
   ]
  },
  {
   "cell_type": "code",
   "execution_count": null,
   "id": "55e4cf27-fc2e-4eec-8ef7-1064005c5c5c",
   "metadata": {
    "tags": []
   },
   "outputs": [],
   "source": [
    "def residuals(t, x, y):\n",
    "    predictions = ...\n",
    "    ..."
   ]
  },
  {
   "cell_type": "code",
   "execution_count": null,
   "id": "9b3bef1d-975b-49ae-9662-8f1c9ddeec62",
   "metadata": {
    "tags": []
   },
   "outputs": [],
   "source": [
    "demographics = demographics.with_columns(\n",
    "    'Fitted Value', fitted_values(demographics, 'College%', 'Median Income'),\n",
    "    'Residual', residuals(demographics, 'College%', 'Median Income')\n",
    ")\n",
    "demographics"
   ]
  },
  {
   "cell_type": "code",
   "execution_count": null,
   "id": "8776cdd6-42ec-4db4-86f4-d2de0060e3f5",
   "metadata": {
    "tags": []
   },
   "outputs": [],
   "source": [
    "demographics.scatter('College%')"
   ]
  },
  {
   "cell_type": "code",
   "execution_count": null,
   "id": "a407cf20-df42-45e9-80af-ef6c21932758",
   "metadata": {
    "slideshow": {
     "slide_type": "subslide"
    },
    "tags": []
   },
   "outputs": [],
   "source": [
    "def plot_residuals(t, x, y):\n",
    "    tbl = t.with_columns(\n",
    "        'Fitted', fitted_values(t, x, y),\n",
    "        'Residual', residuals(t, x, y)\n",
    "    )\n",
    "    tbl.select(x, y, 'Fitted').scatter(0)\n",
    "    tbl.scatter(x, 'Residual')"
   ]
  },
  {
   "cell_type": "code",
   "execution_count": null,
   "id": "099d634e-9f72-454e-945d-ebfc2cf555b9",
   "metadata": {
    "slideshow": {
     "slide_type": "subslide"
    },
    "tags": []
   },
   "outputs": [],
   "source": [
    "plot_residuals(demographics, 'College%', 'Median Income')"
   ]
  },
  {
   "cell_type": "markdown",
   "id": "3f846376-f178-4da0-adc6-7853bb532520",
   "metadata": {
    "slideshow": {
     "slide_type": "fragment"
    }
   },
   "source": [
    "---"
   ]
  },
  {
   "cell_type": "markdown",
   "id": "ced9fb5a-e79d-4416-8c83-20fe5bf49ba2",
   "metadata": {
    "slideshow": {
     "slide_type": "subslide"
    },
    "tags": []
   },
   "source": [
    "### Demo: More Residuals"
   ]
  },
  {
   "cell_type": "markdown",
   "id": "179db6a9-d827-40d6-a1ed-028bc96d2b7c",
   "metadata": {
    "deletable": false,
    "editable": false
   },
   "source": [
    "Visualize the residuals associated with the `family_heights.csv` data set when predicting `Child` values from `Midparent` values using linear regression."
   ]
  },
  {
   "cell_type": "code",
   "execution_count": null,
   "id": "ea716dd1-a5ca-4458-8354-e44de67241e0",
   "metadata": {
    "slideshow": {
     "slide_type": "subslide"
    },
    "tags": []
   },
   "outputs": [],
   "source": [
    "family_heights = Table.read_table('family_heights.csv')\n",
    "parents = (family_heights.column('father') + family_heights.column('mother'))/2\n",
    "heights = Table().with_columns(\n",
    "    'Parent Average', parents,\n",
    "    'Child', family_heights.column('childHeight')\n",
    "    )\n",
    "plot_residuals(heights, 'Parent Average', 'Child')"
   ]
  },
  {
   "cell_type": "markdown",
   "id": "d1f639bb-33d5-4d49-9b39-ff7d1bc6236c",
   "metadata": {},
   "source": [
    "### Examples: Scatter Plots from Residual Plots"
   ]
  },
  {
   "cell_type": "markdown",
   "id": "15138003-8e2d-4383-97aa-c1720f7dde64",
   "metadata": {},
   "source": [
    "* Generate some example data.\n",
    "* Inspect residual plots with the goal of trying to visualize the related scatter plots.\n",
    "\n",
    "*Note:* We do not cover `np.linspace` and `np.random.normal` in this course, so you are not expected to understand that part of the following code. We are just using those functions to conveniently create example data."
   ]
  },
  {
   "cell_type": "code",
   "execution_count": null,
   "id": "3c927d6d-a012-4a51-8314-3f0866668d49",
   "metadata": {},
   "outputs": [],
   "source": [
    "np.random.seed(2024) # For reproducibility\n",
    "\n",
    "x1 = np.linspace(0, 10, 100)\n",
    "x2 = np.linspace(-5, 5, 100)\n",
    "x3 = np.linspace(0, 10, 100)\n",
    "\n",
    "examples = Table().with_columns(\n",
    "    'x1', x1,\n",
    "    'y1', 2 * x1 + 1 + np.random.normal(0, 1, len(x1)),\n",
    "    'x2', x2,\n",
    "    'y2', 0.5 * x2**2 + 2 * x2 + 1 + np.random.normal(0, 1, len(x2)),\n",
    "    'x3', x3, \n",
    "    'y3', 2 * x3 + 1 + np.random.normal(0, 0.5 * x3, len(x3)),\n",
    ")\n",
    "examples = examples.with_columns(\n",
    "    'residuals1', residuals(examples, 'x1', 'y1'),\n",
    "    'residuals2', residuals(examples, 'x2', 'y2'),\n",
    "    'residuals3', residuals(examples, 'x3', 'y3'),\n",
    ")\n",
    "examples"
   ]
  },
  {
   "cell_type": "markdown",
   "id": "ac136138-a7f8-4180-9ae8-6a08e4fc0930",
   "metadata": {},
   "source": [
    "#### Example 1"
   ]
  },
  {
   "cell_type": "code",
   "execution_count": null,
   "id": "2d353854-2fbe-44df-9918-a48cc3759ff1",
   "metadata": {},
   "outputs": [],
   "source": [
    "examples.scatter('x1', 'residuals1', fit_line=True)\n",
    "plt.title('Example 1: Residual Plot')\n",
    "plt.show()"
   ]
  },
  {
   "cell_type": "code",
   "execution_count": null,
   "id": "60c6e3b4-e490-4e44-b562-1daaa1c1fcca",
   "metadata": {},
   "outputs": [],
   "source": [
    "examples.scatter('x1', 'y1', fit_line=True)\n",
    "plt.title('Example 1: Scatter Plot')\n",
    "plt.show()"
   ]
  },
  {
   "cell_type": "markdown",
   "id": "7e990e56-9cb4-4f67-8af2-8a596779eea1",
   "metadata": {},
   "source": [
    "#### Example 2"
   ]
  },
  {
   "cell_type": "code",
   "execution_count": null,
   "id": "bd477cf8-636d-41b9-87f1-9ced2233b1e9",
   "metadata": {},
   "outputs": [],
   "source": [
    "examples.scatter('x2', 'residuals2', fit_line=True)\n",
    "plt.title('Example 2: Residual Plot')\n",
    "plt.show()"
   ]
  },
  {
   "cell_type": "code",
   "execution_count": null,
   "id": "7223951d-6c9e-4468-8c3d-0a54d84438ff",
   "metadata": {},
   "outputs": [],
   "source": [
    "examples.scatter('x2', 'y2', fit_line=True)\n",
    "plt.title('Example 2: Scatter Plot')\n",
    "plt.show()"
   ]
  },
  {
   "cell_type": "markdown",
   "id": "8e1d9bfb-e1cc-4e2b-ab95-24f2bb4c8e7a",
   "metadata": {},
   "source": [
    "#### Example 3"
   ]
  },
  {
   "cell_type": "code",
   "execution_count": null,
   "id": "ac205cc1-46cf-4841-966b-d844604ef4b3",
   "metadata": {},
   "outputs": [],
   "source": [
    "examples.scatter('x3', 'residuals3', fit_line=True)\n",
    "plt.title('Example 3: Residual Plot')\n",
    "plt.show()"
   ]
  },
  {
   "cell_type": "code",
   "execution_count": null,
   "id": "34b95c41-86b2-40c4-810d-e4d396e0ee33",
   "metadata": {},
   "outputs": [],
   "source": [
    "examples.scatter('x3', 'y3', fit_line=True)\n",
    "plt.title('Example 3: Scatter Plot')\n",
    "plt.show()"
   ]
  },
  {
   "cell_type": "markdown",
   "id": "98b68e7f-1e51-4794-8ebe-e828fbe2120a",
   "metadata": {
    "slideshow": {
     "slide_type": "fragment"
    },
    "tags": []
   },
   "source": [
    "---"
   ]
  },
  {
   "cell_type": "markdown",
   "id": "31cd138c-c7b5-4b9b-8b62-932bb336de69",
   "metadata": {
    "slideshow": {
     "slide_type": "slide"
    }
   },
   "source": [
    "## Regression Diagnostics"
   ]
  },
  {
   "cell_type": "markdown",
   "id": "bbdc5c50-6bc4-43c1-86f7-745f2a9ebb1d",
   "metadata": {
    "slideshow": {
     "slide_type": "fragment"
    }
   },
   "source": [
    "---"
   ]
  },
  {
   "cell_type": "markdown",
   "id": "64a2aa56-1c88-4da5-8fe8-a47c0d7a1cd3",
   "metadata": {
    "slideshow": {
     "slide_type": "subslide"
    },
    "tags": []
   },
   "source": [
    "### Example: Dugongs"
   ]
  },
  {
   "cell_type": "markdown",
   "id": "965bd02e-c3ed-49fc-aa1f-4a1bce605d6d",
   "metadata": {
    "slideshow": {
     "slide_type": "-"
    }
   },
   "source": [
    "<a href=\"https://blogs.oregonstate.edu/gemmlab/2021/09/27/let-me-introduce-you-to-dugongs/\" title=\"OSU Geospatial Ecology of Marine Megafauna Laboratory\"><img src=\"./dugong_OSU.jpeg\" alt=\"A drawing of a dugong\" width=50%></a>"
   ]
  },
  {
   "cell_type": "markdown",
   "id": "2d1dd3dc-5de5-48a7-b8c8-3ae00832320e",
   "metadata": {
    "slideshow": {
     "slide_type": "fragment"
    }
   },
   "source": [
    "---"
   ]
  },
  {
   "cell_type": "markdown",
   "id": "ca09efae-0175-48e1-af2e-141b1f5e48dc",
   "metadata": {
    "slideshow": {
     "slide_type": "subslide"
    },
    "tags": []
   },
   "source": [
    "### Demo: Dugongs"
   ]
  },
  {
   "attachments": {},
   "cell_type": "markdown",
   "id": "44b83ae6-44d7-4a4a-a19b-39f4d857dc5e",
   "metadata": {
    "deletable": false,
    "editable": false,
    "slideshow": {
     "slide_type": "notes"
    },
    "tags": []
   },
   "source": [
    "* Visualize the relationship between a dugong's length and age based on the `dugong.csv` dataset.\n",
    "* Although the data is not linear, calculate the correlation coefficient.\n",
    "* Visualize the residuals associated with the linear regression prediction for a dugong's age based on its height.\n",
    "* Determine if linear regression is a good choice for a prediction model in this case."
   ]
  },
  {
   "cell_type": "code",
   "execution_count": null,
   "id": "d8378848-6937-4529-bb86-52311cce1662",
   "metadata": {
    "scrolled": true,
    "tags": []
   },
   "outputs": [],
   "source": [
    "dugong = Table.read_table('dugong.csv')\n",
    "dugong.show(5)"
   ]
  },
  {
   "cell_type": "code",
   "execution_count": null,
   "id": "3491fadd-2b76-4189-838f-da9a4a620a6e",
   "metadata": {
    "slideshow": {
     "slide_type": "subslide"
    },
    "tags": []
   },
   "outputs": [],
   "source": [
    "..."
   ]
  },
  {
   "cell_type": "code",
   "execution_count": null,
   "id": "e3123173-ae47-41e2-be7d-78a835993d45",
   "metadata": {
    "slideshow": {
     "slide_type": "fragment"
    },
    "tags": []
   },
   "outputs": [],
   "source": [
    "..."
   ]
  },
  {
   "cell_type": "code",
   "execution_count": null,
   "id": "7b23fcdc-cd41-4a05-8307-0fc1e7dc4c2b",
   "metadata": {
    "slideshow": {
     "slide_type": "subslide"
    },
    "tags": []
   },
   "outputs": [],
   "source": [
    "..."
   ]
  },
  {
   "cell_type": "markdown",
   "id": "d422b3af-db53-490d-9147-56ddea488df2",
   "metadata": {
    "slideshow": {
     "slide_type": "fragment"
    }
   },
   "source": [
    "---"
   ]
  },
  {
   "cell_type": "markdown",
   "id": "849ff483-f1b0-4f17-8158-ac81d7e5e363",
   "metadata": {},
   "source": [
    "### Example: Blood Pressure"
   ]
  },
  {
   "cell_type": "markdown",
   "id": "2760159e-a9bb-422b-bc83-416c265e8e1e",
   "metadata": {},
   "source": [
    "* A person's blood pressure reading consists of two numbers:\n",
    "    * Systolic pressure (the top number) reflects the force produced by the heart when it pumps blood out to the body\n",
    "    * Diastolic blood pressure (the bottom number) is the pressure in your blood vessels when the heart is at rest\n",
    "* According to [Harvard Health](https://www.health.harvard.edu/staying-healthy/which-blood-pressure-number-is-important#:~:text=Over%20the%20years%2C%20research%20has,compared%20with%20elevated%20diastolic%20pressures.):\n",
    "> Over the years, research has found that both numbers are equally important in monitoring heart health. However, most studies show a greater risk of stroke and heart disease related to higher systolic pressures compared with elevated diastolic pressures. That's especially true in people ages 50 and older, which is why doctors tend to monitor the top number more closely.\n",
    "\n"
   ]
  },
  {
   "cell_type": "markdown",
   "id": "738d573f-4545-43e7-a251-9788d097743e",
   "metadata": {},
   "source": [
    "### Demo: US Blood Pressure"
   ]
  },
  {
   "cell_type": "markdown",
   "id": "73651429-5604-4669-81d3-5ed1fc3ed768",
   "metadata": {
    "deletable": false,
    "editable": false
   },
   "source": [
    "* Load recent blood pressure data from US residents (18+) according to the [most recent NHANES data](https://wwwn.cdc.gov/nchs/nhanes/continuousnhanes/default.aspx?Cycle=2021-2023).\n",
    "* Examine the residuals associated with average systolic pressure over the ages.\n",
    "* Determine if linear regression is a good choice for a prediction model in this case."
   ]
  },
  {
   "cell_type": "code",
   "execution_count": null,
   "id": "6667bc95-9732-4fa2-a185-ba256d22a812",
   "metadata": {
    "tags": []
   },
   "outputs": [],
   "source": [
    "blood_pressure = Table.read_table('blood_pressure.csv')\n",
    "blood_pressure"
   ]
  },
  {
   "cell_type": "code",
   "execution_count": null,
   "id": "e90fb16a-8a97-48ef-bd27-803246cd4404",
   "metadata": {
    "tags": []
   },
   "outputs": [],
   "source": [
    "blood_pressure.scatter('Age')"
   ]
  },
  {
   "cell_type": "code",
   "execution_count": null,
   "id": "1e70a71b-2585-4f87-9e1b-d0e8ec93cff6",
   "metadata": {
    "tags": []
   },
   "outputs": [],
   "source": [
    "blood_pressure.scatter('Age', 'Average Systolic average', fit_line=True)"
   ]
  },
  {
   "cell_type": "code",
   "execution_count": null,
   "id": "2ab629bc-4a73-42ba-9d4a-4fda797e2b5d",
   "metadata": {
    "tags": []
   },
   "outputs": [],
   "source": [
    "..."
   ]
  },
  {
   "cell_type": "code",
   "execution_count": null,
   "id": "c9cc8463-aaef-4697-92ca-eb840046104c",
   "metadata": {
    "tags": []
   },
   "outputs": [],
   "source": [
    "..."
   ]
  },
  {
   "cell_type": "markdown",
   "id": "db5eb89c-ca8a-43d2-8951-9005ec24083e",
   "metadata": {},
   "source": [
    "_Be careful of the ecological correlation issue we have talked about previously._"
   ]
  },
  {
   "cell_type": "markdown",
   "id": "eaab9bae-1d2c-4e17-845c-71c78bafa768",
   "metadata": {
    "slideshow": {
     "slide_type": "fragment"
    }
   },
   "source": [
    "---"
   ]
  },
  {
   "cell_type": "markdown",
   "id": "7fc57290-0056-4a53-9dac-5e807e01997f",
   "metadata": {
    "slideshow": {
     "slide_type": "subslide"
    },
    "tags": []
   },
   "source": [
    "### Residual Plot"
   ]
  },
  {
   "cell_type": "markdown",
   "id": "899b0ee2-b079-4e75-983a-10aacca33a92",
   "metadata": {
    "slideshow": {
     "slide_type": "-"
    }
   },
   "source": [
    "A scatter diagram of residuals\n",
    "* Should look like an unassociated blob for linear relations\n",
    "* But will show patterns for non-linear relations\n",
    "* Used to check whether linear regression is appropriate\n",
    "* Look for curves, trends, changes in spread, outliers, or any other patterns\n"
   ]
  },
  {
   "cell_type": "markdown",
   "id": "4a499312-fab7-42de-b7cd-415d08eb9f44",
   "metadata": {
    "slideshow": {
     "slide_type": "fragment"
    }
   },
   "source": [
    "---"
   ]
  },
  {
   "cell_type": "markdown",
   "id": "c0d558b6-4b46-41d3-b032-92e0622c0aa3",
   "metadata": {
    "slideshow": {
     "slide_type": "subslide"
    },
    "tags": []
   },
   "source": [
    "### Properties of Residuals"
   ]
  },
  {
   "cell_type": "markdown",
   "id": "1f5ac6d5-d93b-4e4c-9269-3c631ae2da21",
   "metadata": {
    "slideshow": {
     "slide_type": "-"
    }
   },
   "source": [
    "Residuals from a linear regression always have\n",
    "* Zero mean (so rmse = SD of residuals)\n",
    "* Zero correlation with $x$\n",
    "* Zero correlation with the fitted values"
   ]
  },
  {
   "cell_type": "markdown",
   "id": "6c569f5c-1373-44e0-bbb9-19395967c1d6",
   "metadata": {
    "slideshow": {
     "slide_type": "fragment"
    }
   },
   "source": [
    "---"
   ]
  },
  {
   "cell_type": "markdown",
   "id": "4217f2b3-d9e6-49e5-9214-bcb4720b28c0",
   "metadata": {},
   "source": [
    "#### Demo: Properties of Residuals"
   ]
  },
  {
   "cell_type": "code",
   "execution_count": null,
   "id": "6ab9fc9e-ad33-4d63-8fe9-f568c063cc27",
   "metadata": {},
   "outputs": [],
   "source": [
    "round(np.average(residuals(dugong, 'Length', 'Age')), 6)"
   ]
  },
  {
   "cell_type": "code",
   "execution_count": null,
   "id": "d5bbace5-7bbf-4b80-97d5-d0787a725672",
   "metadata": {},
   "outputs": [],
   "source": [
    "round(np.average(residuals(heights, 'Parent Average', 'Child')), 6)"
   ]
  },
  {
   "cell_type": "code",
   "execution_count": null,
   "id": "70859c6b-5676-4778-b32a-b4f10c1c478c",
   "metadata": {},
   "outputs": [],
   "source": [
    "round(np.average(residuals(demographics, 'College%', 'Median Income')), 6)"
   ]
  },
  {
   "cell_type": "code",
   "execution_count": null,
   "id": "29050f8f-5406-41c0-a793-095d0c674369",
   "metadata": {},
   "outputs": [],
   "source": [
    "heights = heights.with_columns(\n",
    "    'Residual', residuals(heights, 'Parent Average', 'Child'),\n",
    "    'Fitted Value', fitted_values(heights, 'Parent Average', 'Child')\n",
    ")"
   ]
  },
  {
   "cell_type": "code",
   "execution_count": null,
   "id": "fd4597fd-eb83-4713-8023-72c602f89cd0",
   "metadata": {},
   "outputs": [],
   "source": [
    "round(correlation(heights, 'Parent Average', 'Residual'), 6)"
   ]
  },
  {
   "cell_type": "code",
   "execution_count": null,
   "id": "f8f0adb9-9635-4a9c-98c9-0ba182b5aef6",
   "metadata": {},
   "outputs": [],
   "source": [
    "round(correlation(heights, 'Fitted Value', 'Residual'), 6)"
   ]
  },
  {
   "cell_type": "markdown",
   "id": "bb3e4a15-1353-4191-b29c-cd4b32493c3e",
   "metadata": {
    "slideshow": {
     "slide_type": "fragment"
    }
   },
   "source": [
    "---"
   ]
  },
  {
   "cell_type": "markdown",
   "id": "13b8293a-daf7-411d-a164-27d5853de4d0",
   "metadata": {
    "editable": true,
    "slideshow": {
     "slide_type": "notes"
    },
    "tags": []
   },
   "source": [
    "## Attribution"
   ]
  },
  {
   "cell_type": "markdown",
   "id": "c12b5608-7cd8-400a-842b-89d78184e166",
   "metadata": {},
   "source": [
    "This content is licensed under the <a href=\"https://creativecommons.org/licenses/by-nc-sa/4.0/\">Creative Commons Attribution-NonCommercial-ShareAlike 4.0 International License (CC BY-NC-SA 4.0)</a> and derived from the <a href=\"https://www.data8.org/\">Data 8: The Foundations of Data Science</a> offered by the University of California, Berkeley.\n",
    "\n",
    "<img src=\"./by-nc-sa.png\" width=100px>"
   ]
  }
 ],
 "metadata": {
  "kernelspec": {
   "display_name": "Python 3 (ipykernel)",
   "language": "python",
   "name": "python3"
  },
  "language_info": {
   "codemirror_mode": {
    "name": "ipython",
    "version": 3
   },
   "file_extension": ".py",
   "mimetype": "text/x-python",
   "name": "python",
   "nbconvert_exporter": "python",
   "pygments_lexer": "ipython3",
   "version": "3.11.9"
  },
  "otter": {
   "OK_FORMAT": true,
   "tests": {}
  }
 },
 "nbformat": 4,
 "nbformat_minor": 5
}
