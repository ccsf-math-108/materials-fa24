{
 "cells": [
  {
   "cell_type": "markdown",
   "id": "4cba739c-1c86-4638-a17f-a4686c90e7e0",
   "metadata": {},
   "source": [
    "# Fall 2024 Survey Analysis"
   ]
  },
  {
   "cell_type": "markdown",
   "id": "4f4e862b-145a-4d44-aaf7-7f1ebc092663",
   "metadata": {},
   "source": [
    "Run the following code cell to import the course tools."
   ]
  },
  {
   "cell_type": "code",
   "execution_count": null,
   "id": "04886564-18c8-4e63-ad2f-fff49fda55bf",
   "metadata": {},
   "outputs": [],
   "source": [
    "from datascience import *\n",
    "import numpy as np\n",
    "%matplotlib inline\n",
    "import matplotlib.pyplot as plt\n",
    "plt.style.use('fivethirtyeight')"
   ]
  },
  {
   "cell_type": "markdown",
   "id": "8f3a4292-81ba-4a68-91d8-6418a34f0a8e",
   "metadata": {},
   "source": [
    "## Data"
   ]
  },
  {
   "cell_type": "markdown",
   "id": "6d1f2bcb-6608-44c5-901b-c3d36f4676c4",
   "metadata": {},
   "source": [
    "Run the following cell to load the reduced, un-edited survey data into the table called `pre_survey`."
   ]
  },
  {
   "cell_type": "code",
   "execution_count": null,
   "id": "3a1e1749-95fb-45a9-8000-cafc53b47e17",
   "metadata": {},
   "outputs": [],
   "source": [
    "data_url = 'https://raw.githubusercontent.com/ccsf-math-108/\\\n",
    "materials-fa24/main/resources/pre_survey.csv'\n",
    "pre_survey = Table.read_table(data_url)\n",
    "pre_survey"
   ]
  },
  {
   "cell_type": "markdown",
   "id": "0532319f-602d-4f35-843c-5987c1a816fb",
   "metadata": {},
   "source": [
    "## Variables"
   ]
  },
  {
   "cell_type": "markdown",
   "id": "720ae5c2-9726-4d1f-abc5-6dc1b32648c8",
   "metadata": {},
   "source": [
    "Here are the column indexes of `pre_survey` and the related questions from the survey. You might find it easier to navigate the table using column index values, instead of the the labels. For example, `pre_survey.column(4)` will provide an array of all the Data Analytics Certificate responses.\n",
    "\n",
    "0. What is your intended or proposed major(s)? (Select all that apply)\n",
    "1. What category describes your highest education level prior to this semester?\n",
    "2. Why have you chosen this major(s)? (Select all that apply)\n",
    "3. What forms of course support do you plan to utilize this semester?\n",
    "4. Are you planning to complete the Data Analytics Certificate requirements at CCSF?\n",
    "5. Are you planning to complete the Associates Degree requirements at CCSF?\n",
    "6. If yes, please state ALL of the AS Degrees you are planning to complete, separated by commas.\n",
    "7. Are you taking Math 108 with the intention to change careers?\n",
    "8. Are you taking Math 108 with the intention to transfer?\n",
    "9. If yes, please list your top 3 choices of transfer schools.\n",
    "10. Which of the following math classes did you take in high school? (Select all that apply)\n",
    "11. Which math course(s) have you taken previously (in community college, including as a high school student)? (Select all that apply)\n",
    "12. Do you have family members, friends, or high school teachers who have experience in data science, computer science and/or engineering? (Select all that apply)\n",
    "13. Math 108 is set up based on the belief that you have no prior programming experience and have at least passed a high school level Algebra course. How prepared do you feel that you were to take this course?\n",
    "14. How prepared do you feel for Math 108, based on your math knowledge and skills?\n",
    "15. How prepared do you feel for Math 108, your data science knowledge and skills?\n",
    "16. How conﬁdent are you that you can succeed in this class?\n",
    "17. What programming languages, if any, do you have at least some experience with? (Select all that apply)\n",
    "18. What is your birthday?\n",
    "19. What ZIP code do you currently associate with your main residence?\n",
    "20. How many hours of screen time do you have on average a day?\n",
    "21. What generation immigrant would you say you are?\n",
    "22. Approximately how many minutes does it take for you to commute to the lab/discussion meeting for this course?\n",
    "23. What best describes how you commute to the lab/discussion meeting for this course?\n",
    "24. On average, how many hours of sleep do you get per night?\n",
    "25. Are you planning to choose the Pass/No Pass grading option for this course?\n",
    "26. How do you typically recharge after a long day?\n",
    "27. How fast is your reaction time? Go to [https://humanbenchmark.com/tests/reactiontime](https://humanbenchmark.com/tests/reactiontime) and complete the test 5 times until it tells you to save your score. Respond with the time (ms) they show you on the save screen. Please, be honest :)\n",
    "28. How long of a sequence can you remember? Go to [https://humanbenchmark.com/tests/sequence](https://humanbenchmark.com/tests/sequence) and complete the test twice. Respond with your best level number. Please, be honest :)"
   ]
  },
  {
   "cell_type": "markdown",
   "id": "8e52874a-259f-42a9-9315-745c4fc25c4f",
   "metadata": {},
   "source": [
    "## Analysis"
   ]
  },
  {
   "cell_type": "code",
   "execution_count": null,
   "id": "0f88a600-0cde-4c81-9d6e-5f830f16485d",
   "metadata": {},
   "outputs": [],
   "source": []
  }
 ],
 "metadata": {
  "kernelspec": {
   "display_name": "Python 3 (ipykernel)",
   "language": "python",
   "name": "python3"
  },
  "language_info": {
   "codemirror_mode": {
    "name": "ipython",
    "version": 3
   },
   "file_extension": ".py",
   "mimetype": "text/x-python",
   "name": "python",
   "nbconvert_exporter": "python",
   "pygments_lexer": "ipython3",
   "version": "3.11.9"
  }
 },
 "nbformat": 4,
 "nbformat_minor": 5
}
