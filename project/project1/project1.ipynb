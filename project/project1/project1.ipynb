{
 "cells": [
  {
   "cell_type": "code",
   "execution_count": null,
   "id": "f458a129",
   "metadata": {
    "deletable": false,
    "editable": false
   },
   "outputs": [],
   "source": [
    "# Initialize Otter\n",
    "import otter\n",
    "grader = otter.Notebook(\"project1.ipynb\")"
   ]
  },
  {
   "cell_type": "markdown",
   "id": "05657e37-8dbe-4947-82e9-9ad55f920d3f",
   "metadata": {},
   "source": [
    "<img src=\"./ccsf.png\" alt=\"CCSF Logo\" width=200px style=\"margin:0px -5px\">"
   ]
  },
  {
   "cell_type": "markdown",
   "id": "8c8089db-7ae9-4e66-909e-3ab7184c7a9d",
   "metadata": {},
   "source": [
    "# Project 1: World Population and Poverty"
   ]
  },
  {
   "cell_type": "markdown",
   "id": "396086a3-d5e6-474d-8829-8ce0063c6acc",
   "metadata": {},
   "source": [
    "In this project, you'll explore data from [Gapminder.org](http://gapminder.org), a website dedicated to providing a fact-based view of the world and how it has changed. That site includes several data visualizations and presentations, but also publishes the raw data that we will use in this project to recreate and extend some of their most famous visualizations.\n",
    "\n",
    "The Gapminder website collects data from many sources and compiles them into tables that describe many countries around the world. All of the data they aggregate are published in the [Systema Globalis](https://github.com/open-numbers/ddf--gapminder--systema_globalis/blob/master/README.md). Their goal is \"to compile all public statistics; Social, Economic and Environmental; into a comparable total dataset.\" All data sets in this project are copied directly from the Systema Globalis folder [countries-etc-datapoints](https://github.com/open-numbers/ddf--gapminder--systema_globalis/tree/master/countries-etc-datapoints) on GitHub without any changes. \n",
    "\n",
    "*Since the data changes over time, the project will actually use CSV files in the project folder for consistency rather than drawing from the real data that could update while you are working on the project.*\n",
    "\n",
    "This project is dedicated to [Hans Rosling](https://en.wikipedia.org/wiki/Hans_Rosling) (1948-2017), who championed the use of data to understand and prioritize global development challenges."
   ]
  },
  {
   "cell_type": "markdown",
   "id": "5726b23f-9219-4dd0-8acc-7ad9e02de0a6",
   "metadata": {},
   "source": [
    "---"
   ]
  },
  {
   "cell_type": "markdown",
   "id": "9d79c662-79d6-47b2-a121-605a8cb7a895",
   "metadata": {},
   "source": [
    "## 🎗️ Assignment Reminders"
   ]
  },
  {
   "cell_type": "markdown",
   "id": "558bcd27-4795-45ed-99ed-3c20943c63d8",
   "metadata": {},
   "source": [
    "- **Initialize Otter.** 🚨 Make sure to run the code cell at the top of this notebook that starts with `# Initialize Otter` to load the auto-grader.\n",
    "- **Complete the Tasks.** Your Tasks are categorized as auto-graded (📍) and manually graded (📍🔎).\n",
    "    - For all the auto-graded tasks:\n",
    "        - Replace the `...` in the provided code cell with your own code.\n",
    "        - Run the `grader.check` code cell to run some tests on your code.\n",
    "        - Keep in mind that for homework and project assignments, sometimes there are hidden tests that you will not be able to see the results of that we use for scoring the correctness of your response. **Passing the auto-grader does not guarantee that your answer is correct.**\n",
    "    - For all the manually graded tasks:\n",
    "        - You might need to provide your own response to the provided prompt. Do so by replacing the template text \"_Type your answer here, replacing this text._\" with your own words.\n",
    "        - You might need to produce a graphic or something else using code. Do so by replacing the `...` in the code cell to generate the image, table, etc.\n",
    "        - In either case, review the rubric on the associated <a href=\"https://ccsf.instructure.com\" target=\"_blank\">Canvas</a> Assignment page to understand the scoring criteria.\n",
    "- **Submit Checkpoint.** Since the project assignments span several weeks, we require you to submit a checkpoint assignment where we are looking for a reasonable attempt on a certain set of tasks by a posted deadline.\n",
    "- **[Optional] Project Partner.** \n",
    "    * For this assignment, you are allowed to complete this project with a partner, but you are not required to work with a partner.\n",
    "    * If you want to work with someone, you and your partner should set up a Canvas group with your instructor for this assignment.\n",
    "    * Keep in mind that for group assignments, one submission will count for the entire group in Canvas.\n",
    "- **Code Sharing.** Don't share your code directly with anybody but your partner. You are welcome to discuss questions with other students but don't share the answers. The experience of solving the problems in this project will prepare you for our exams and potentially for future work in this field. If someone asks you for the answer, resist! Instead, you can demonstrate how you would solve a similar problem or you can focus on a specific part of a task.\n",
    "- **Support.** You are not alone! Meet with your instructor or the tutors, post questions on Canvas or the student Discord channel, and talk to your classmates during our meetings. If you're ever feeling overwhelmed or don't know how to make progress, talk to your instructor or a tutor.\n",
    "- **Advice.** Develop your answers incrementally. To perform a complicated table manipulation, break it up into steps, perform each step on a different line, give a new name to each result, and check that each intermediate result is what you expect. You can add any additional names or functions you want to the provided cells. Make sure that you are using distinct and meaningful variable names throughout the notebook.\n",
    "- **Variable Names.** Throughout this assignment and all future ones, please be sure to not re-assign variables throughout the notebook! _For example, if you use `max_temperature` in your answer to one question, do not reassign it later on. Otherwise, you will fail tests that you thought you were passing previously!_\n",
    "- **Re-Submitting.** You may [submit](#Submit-Your-Assignment-to-Canvas) this assignment as many times as you want before the deadline. Your instructor will score the last version you submit once the deadline has passed.\n"
   ]
  },
  {
   "cell_type": "markdown",
   "id": "6fceac2e-8ed1-4f0f-aac2-b21555aef6b7",
   "metadata": {},
   "source": [
    "---"
   ]
  },
  {
   "cell_type": "markdown",
   "id": "b2542c04-28d5-426e-9d33-b83f0246fc2d",
   "metadata": {},
   "source": [
    "## Configure the Notebook"
   ]
  },
  {
   "cell_type": "markdown",
   "id": "2464e813-5478-4e21-b075-27a6e057da1f",
   "metadata": {},
   "source": [
    "Run the following cell to configure this Notebook."
   ]
  },
  {
   "cell_type": "code",
   "execution_count": null,
   "id": "61d6975f-70c6-4465-ad58-b8d84b11ea59",
   "metadata": {},
   "outputs": [],
   "source": [
    "from datascience import *\n",
    "import numpy as np\n",
    "%matplotlib inline\n",
    "import matplotlib.pyplot as plt\n",
    "plt.style.use('fivethirtyeight')\n",
    "from ipywidgets import interact, interactive, fixed, interact_manual\n",
    "import ipywidgets as widgets"
   ]
  },
  {
   "cell_type": "markdown",
   "id": "656edcc8-e7db-4751-a730-a115dcc599dc",
   "metadata": {},
   "source": [
    "---"
   ]
  },
  {
   "cell_type": "markdown",
   "id": "e49bf70c-ad3c-4d85-a9b0-b056dd4b1298",
   "metadata": {
    "tags": []
   },
   "source": [
    "## 📈 Global Population Growth\n"
   ]
  },
  {
   "cell_type": "markdown",
   "id": "9feb136b-95a6-43fe-8010-b70cf4d7e798",
   "metadata": {
    "tags": []
   },
   "source": [
    "The global population of humans reached 1 billion around 1800, 3 billion around 1960, 7 billion around 2011, and 8 billion around 2022. The potential impact of population growth has concerned scientists, economists, and politicians alike.\n",
    "\n",
    "The United Nations Population Division estimates that the world population will likely continue to grow throughout the 21st century, but at a slower rate, perhaps reaching and stabilizing at 11 billion by 2100. However, the UN does not rule out scenarios of slower or more extreme growth. These projections help us understand long-term population processes, even if they leave out possible global catastrophic events like war or climate crises.\n",
    "\n",
    "The following image was taken from the [United Nation's World Population Prospects 2022 report](https://www.un.org/development/desa/pd/sites/www.un.org.development.desa.pd/files/wpp2022_summary_of_results.pdf).\n",
    "\n",
    "<img src=\"UN_WPP_2022_Global_Projection.png\" alt=\"The UN's projection of Global population size and growth rate from 1950 through 2050.\"/> \n",
    "\n",
    "In this part of the project, we will examine some of the factors that influence population growth and how they have been changing over the years and around the world. There are two main sub-parts of this analysis.\n",
    "\n",
    "- First, we will examine the data for one country, Poland. We will see how factors such as life expectancy, fertility rate, and child mortality have changed over time in Poland, and how they are related to the rate of population growth.\n",
    "- Next, we will examine whether the changes we have observed for Poland are particular to that country or whether they reflect general patterns observable in other countries too. We will study aspects of world population growth and see how they have been changing.\n",
    "\n",
    "The first table we will consider contains the total population of each country over time. Run the cell below."
   ]
  },
  {
   "cell_type": "code",
   "execution_count": null,
   "id": "ee41410c-6ede-44c9-a2a3-a57750c63156",
   "metadata": {
    "tags": []
   },
   "outputs": [],
   "source": [
    "population = Table.read_table('population.csv')\n",
    "population.show(3)"
   ]
  },
  {
   "cell_type": "markdown",
   "id": "ed7d70ec-3b3d-4bef-b0bc-bcb089617df5",
   "metadata": {},
   "source": [
    "---"
   ]
  },
  {
   "cell_type": "markdown",
   "id": "ca909c73-a593-4194-9a45-9a8017b07bb0",
   "metadata": {
    "tags": []
   },
   "source": [
    "### 🇵🇱 Poland\n",
    "\n",
    "The Central European nation of Poland has undergone many changes over the centuries. In modern times it was (re)created as a democratic republic in 1919 after World War I. It was invaded and divided in World War II between Germany and the Soviet Union. War and the Holocaust had a devastating impact on its people. Poland was constituted in its current borders at the end of World War II (1945) under a communist government. In 1989, with the fall of the Soviet Union, Poland re-established itself as a democratic republic.\n",
    "\n",
    "In this section of the project, we will examine aspects of the population of Poland since 1900. Poland's borders have changed, so we will look at the population within its current (2012) borders.\n",
    "\n",
    "In the `population` table, the `geo` column contains three-letter codes established by the [International Organization for Standardization](https://en.wikipedia.org/wiki/International_Organization_for_Standardization) (ISO) in the [Alpha-3](https://en.wikipedia.org/wiki/ISO_3166-1_alpha-3#Current_codes) standard. Use the Alpha-3 link to find the 3-letter code for Poland."
   ]
  },
  {
   "cell_type": "markdown",
   "id": "4a83f1b3-b2de-44a2-8037-bd90e2e9adf6",
   "metadata": {},
   "source": [
    "---"
   ]
  },
  {
   "cell_type": "markdown",
   "id": "7d4a1a54-6749-4c93-9ae4-9b2cde70dccc",
   "metadata": {},
   "source": [
    "### Task 01 📍"
   ]
  },
  {
   "cell_type": "markdown",
   "id": "b38a19d7-0062-4adc-9753-30dbfa75f398",
   "metadata": {
    "deletable": false,
    "editable": false
   },
   "source": [
    "Create a table called `p_pop` that has two columns labeled `time` and `population_total`. The first column should contain the years from 1900 through 2020 (including both 1900 and 2020) and the second should contain the population of Poland in each of those years.\n",
    "\n",
    "\n",
    "_Points:_ 4"
   ]
  },
  {
   "cell_type": "code",
   "execution_count": null,
   "id": "4c890461-07f8-4109-95e5-0ecdf372e7d0",
   "metadata": {
    "tags": []
   },
   "outputs": [],
   "source": [
    "p_pop = ...\n",
    "p_pop.show(3)"
   ]
  },
  {
   "cell_type": "code",
   "execution_count": null,
   "id": "f1d4a66f",
   "metadata": {
    "deletable": false,
    "editable": false
   },
   "outputs": [],
   "source": [
    "grader.check(\"task_01\")"
   ]
  },
  {
   "cell_type": "markdown",
   "id": "ccf17165-9770-44e3-aea4-44fd86bdd190",
   "metadata": {},
   "source": [
    "---"
   ]
  },
  {
   "cell_type": "markdown",
   "id": "7458cd06-054b-477b-928c-8b286f2ee82a",
   "metadata": {
    "editable": false
   },
   "source": [
    "Run the following cell to create a table called `p_five` that has the population of Poland every five years."
   ]
  },
  {
   "cell_type": "code",
   "execution_count": null,
   "id": "d7774ea6-b269-44b3-9c22-6406b75a536f",
   "metadata": {
    "tags": []
   },
   "outputs": [],
   "source": [
    "p_pop.set_format('population_total', NumberFormatter)\n",
    "\n",
    "fives = np.arange(1900, 2021, 5) # 1900, 1905, 1910, ...\n",
    "p_five = p_pop.sort('time').where('time', are.contained_in(fives))\n",
    "p_five.show(3)"
   ]
  },
  {
   "cell_type": "markdown",
   "id": "b2f33d44-014e-48a7-9ca0-cd1cf04d4d99",
   "metadata": {},
   "source": [
    "Run the following cell to visualize the population over time. Following the devastating effects of World War I and World War II, Poland's population increased steadily from 1950 to 2000 and then leveled off. In the following questions we'll investigate this period of population growth."
   ]
  },
  {
   "cell_type": "code",
   "execution_count": null,
   "id": "df39eb87-9aa3-4059-bca3-e20eb697c9b4",
   "metadata": {},
   "outputs": [],
   "source": [
    "p_five.plot(0, 1)"
   ]
  },
  {
   "cell_type": "markdown",
   "id": "c4351e77-20f5-4038-9bcc-4baac230dbea",
   "metadata": {},
   "source": [
    "---"
   ]
  },
  {
   "cell_type": "markdown",
   "id": "0962e68c-e40b-4a08-a67e-0ef3960ac0f2",
   "metadata": {},
   "source": [
    "---"
   ]
  },
  {
   "cell_type": "markdown",
   "id": "6032a7b5-2298-4aae-be4e-a386dc60a6d9",
   "metadata": {},
   "source": [
    "### Task 02 📍"
   ]
  },
  {
   "cell_type": "markdown",
   "id": "c0ef4193-f9fc-4a80-a95b-af5f13c5f07c",
   "metadata": {
    "deletable": false,
    "editable": false
   },
   "source": [
    "Assign `initial` to an array that contains the population for every five year interval from **1900 to 2015** (inclusive). Then, assign `changed` to an array that contains the population for every five year interval from **1905 to 2020** (inclusive). The first array should include both 1900 and 2015, and the second array should include both 1905 and 2020. You should use the `p_five` table to create both arrays, by first filtering the table to only contain the relevant years.\n",
    "\n",
    "The annual growth rate for a time period is equal to:\n",
    "\n",
    "$$\\left(\\left(\\frac{\\text{Population at end of period}}{\\text{Population at start of period}}\\right)^{\\displaystyle\\frac{1}{\\text{number of years}}}\\right) -1$$\n",
    "\n",
    "We have provided the code below that uses  `initial` and `changed` in order to add a column to `p_five` called `annual_growth`. **Don't worry about the calculation of the growth rates**; run the test below to test your solution.\n",
    "\n",
    "If you are interested in how we came up with the formula for growth rates, consult the [growth rates](https://inferentialthinking.com/chapters/03/2/1/Growth.html) section of the textbook.\n",
    "\n",
    "_Points:_ 3"
   ]
  },
  {
   "cell_type": "code",
   "execution_count": null,
   "id": "aca6391f-4d11-4ea6-a2e2-40de4605f28d",
   "metadata": {
    "tags": []
   },
   "outputs": [],
   "source": [
    "initial = ...\n",
    "changed = ...\n",
    "\n",
    "p_1900_through_2015 = p_five.where('time', are.between_or_equal_to(1900, 2015)) \n",
    "p_five_growth = p_1900_through_2015.with_column('annual_growth', (changed/initial)**0.2-1)\n",
    "p_five_growth.set_format('annual_growth', PercentFormatter)"
   ]
  },
  {
   "cell_type": "code",
   "execution_count": null,
   "id": "25ec5dbe",
   "metadata": {
    "deletable": false,
    "editable": false
   },
   "outputs": [],
   "source": [
    "grader.check(\"task_02\")"
   ]
  },
  {
   "cell_type": "markdown",
   "id": "ecd7a74d-f116-4804-98df-3b375476fb9d",
   "metadata": {},
   "source": [
    "---"
   ]
  },
  {
   "cell_type": "markdown",
   "id": "6804a2bb-7283-475a-8c51-6e82c62a7d1e",
   "metadata": {},
   "source": [
    "The annual growth rate in Poland has been declining since 1950, as shown in the table below. "
   ]
  },
  {
   "cell_type": "code",
   "execution_count": null,
   "id": "007c088e-a137-4b1a-bea2-4e753b510350",
   "metadata": {},
   "outputs": [],
   "source": [
    "p_five_growth.where('time', are.above_or_equal_to(1950)).show()"
   ]
  },
  {
   "cell_type": "markdown",
   "id": "0e9edcd3-8386-49f0-95c1-5cc99dbd1a97",
   "metadata": {
    "editable": false
   },
   "source": [
    "Next, we'll try to understand what has changed in Poland that might explain the slowing population growth rate. Run the next cell to load three additional tables of measurements about countries over time."
   ]
  },
  {
   "cell_type": "code",
   "execution_count": null,
   "id": "f4064555-060b-45b3-ba3a-dd611da37b67",
   "metadata": {
    "tags": []
   },
   "outputs": [],
   "source": [
    "life_expectancy = Table.read_table('life_expectancy.csv').where('time', are.below(2021))\n",
    "child_mortality = Table.read_table('child_mortality.csv').relabel(2, 'child_mortality_under_5_per_1000_born').where('time', are.below(2021))\n",
    "fertility = Table.read_table('fertility.csv').where('time', are.below(2021))"
   ]
  },
  {
   "cell_type": "markdown",
   "id": "5245600a-545a-4245-a72f-077868166cbf",
   "metadata": {
    "editable": false
   },
   "source": [
    "The `life_expectancy` table contains a statistic that is often used to measure how long people live, called *life expectancy at birth*. This number, for a country in a given year, [does not measure how long babies born in that year are expected to live](http://blogs.worldbank.org/opendata/what-does-life-expectancy-birth-really-mean). Instead, it measures how long someone would live, on average, if the *mortality conditions* in that year persisted throughout their lifetime. These \"mortality conditions\" describe what fraction of people at each age survived the year. So, it is a way of measuring the proportion of people that are staying alive, aggregated over different age groups in the population."
   ]
  },
  {
   "cell_type": "markdown",
   "id": "b354fb11-88f8-4988-8370-70bf6431f296",
   "metadata": {},
   "source": [
    "Run the following cells below to see `life_expectancy`, `child_mortality`, and `fertility`. Refer back to these tables as they will be helpful for answering further questions!"
   ]
  },
  {
   "cell_type": "code",
   "execution_count": null,
   "id": "8db4be25-97b0-4ac6-b1a2-df9f1287023b",
   "metadata": {},
   "outputs": [],
   "source": [
    "life_expectancy.show(3)"
   ]
  },
  {
   "cell_type": "code",
   "execution_count": null,
   "id": "dc9d63bf-ece4-4915-8cba-a851777df06a",
   "metadata": {},
   "outputs": [],
   "source": [
    "child_mortality.show(3)"
   ]
  },
  {
   "cell_type": "code",
   "execution_count": null,
   "id": "30fe5a83-c79e-42bb-b58b-13e641983983",
   "metadata": {},
   "outputs": [],
   "source": [
    "fertility.show(3)"
   ]
  },
  {
   "cell_type": "markdown",
   "id": "831f6385-cf6e-4206-8295-f4b5d2c47489",
   "metadata": {},
   "source": [
    "---"
   ]
  },
  {
   "cell_type": "markdown",
   "id": "e075a270-012c-4d6f-af2f-e6dca0fab7b8",
   "metadata": {},
   "source": [
    "### Task 03 📍🔎"
   ]
  },
  {
   "cell_type": "markdown",
   "id": "e01ef7a8-dd31-4ad9-a0bf-9cbc839acc07",
   "metadata": {
    "deletable": false,
    "editable": false
   },
   "source": [
    "<!-- BEGIN QUESTION -->\n",
    "\n",
    "Is population growing more slowly perhaps because people aren't living as long? Use the `life_expectancy` table to draw a line graph with the years 1950 and later on the horizontal axis that shows how the *life expectancy at birth* has changed in Poland. Make sure you filter the table properly; otherwise, the graph may look strange!\n",
    "\n",
    "\n",
    "_Points:_ 3"
   ]
  },
  {
   "cell_type": "code",
   "execution_count": null,
   "id": "926b44ef-13af-4f08-817b-616bf7818b28",
   "metadata": {
    "export_pdf": true,
    "manual_grade": true,
    "manual_problem_id": "global_pop_3",
    "tags": []
   },
   "outputs": [],
   "source": [
    "#Fill in code here\n",
    "..."
   ]
  },
  {
   "cell_type": "markdown",
   "id": "75ef7a47-680d-469e-a8b2-ba4adcd92980",
   "metadata": {
    "deletable": false,
    "editable": false
   },
   "source": [
    "<!-- END QUESTION -->\n",
    "\n",
    "---"
   ]
  },
  {
   "cell_type": "markdown",
   "id": "96dbbcdd-8a8f-4055-a143-070038ac4ba0",
   "metadata": {},
   "source": [
    "### Task 04 📍🔎"
   ]
  },
  {
   "cell_type": "markdown",
   "id": "91dcc0c1-f401-474c-baa6-09b597a45759",
   "metadata": {
    "deletable": false,
    "editable": false
   },
   "source": [
    "<!-- BEGIN QUESTION -->\n",
    "\n",
    "Do the trends in life expectancy in the graph above directly explain why the population growth rate decreased since 1950 in Poland? Why or why not?\n",
    "\n",
    "_Points:_ 3"
   ]
  },
  {
   "cell_type": "markdown",
   "id": "fd476c42",
   "metadata": {},
   "source": [
    "_Type your answer here, replacing this text._"
   ]
  },
  {
   "cell_type": "markdown",
   "id": "ac29a7a0-067e-4842-92cc-9081f75ac3fe",
   "metadata": {
    "deletable": false,
    "editable": false
   },
   "source": [
    "<!-- END QUESTION -->\n",
    "\n",
    "---"
   ]
  },
  {
   "cell_type": "markdown",
   "id": "d03e4ab6-83e4-40e7-a071-7fe2481a9cd4",
   "metadata": {
    "editable": false
   },
   "source": [
    "The `fertility` table contains a statistic that is often used to measure how many babies are being born, the *total fertility rate*. This number describes the [number of children a woman would have in her lifetime](https://www.measureevaluation.org/prh/rh_indicators/specific/fertility/total-fertility-rate), on average, if the current rates of birth by age of the mother persisted throughout her child bearing years, assuming she survived through age 49. "
   ]
  },
  {
   "cell_type": "markdown",
   "id": "f73eb12b-f239-4a06-a774-8f5921d37b14",
   "metadata": {},
   "source": [
    "---"
   ]
  },
  {
   "cell_type": "markdown",
   "id": "6619787e-3399-43f3-94ba-f4fb6606a47e",
   "metadata": {},
   "source": [
    "### Task 05 📍"
   ]
  },
  {
   "cell_type": "markdown",
   "id": "17a6c2c2-b99d-4e66-9708-65022c1aecde",
   "metadata": {
    "deletable": false,
    "editable": false
   },
   "source": [
    "1. Complete the function `fertility_over_time`.\n",
    "    * As input, the function should take the Alpha-3 code of a country as `country` and a `start` year.\n",
    "    * The function should return a **two-column** table with labels `Year` and `Children per woman` with one row per year starting with (and including) the `start` year and including all later years in the `fertility` table.\n",
    "    * You will probably need to use the `relabeled` method from the `datascience` module to relabel the columns.\n",
    "2. Set `poland_code` to the Alpha-3 code for Poland, so the provided call `fertility_over_time(poland_code, 1950)` returns a table that shows Poland's annual fertility rates since 1950.\n",
    "\n",
    "**Note**: The final line of code in this task should produce a line plot of the fertility rates over time.\n",
    "\n",
    "_Points:_ 5"
   ]
  },
  {
   "cell_type": "code",
   "execution_count": null,
   "id": "b2259f75-212c-4b4a-9b10-f011cef3ce03",
   "metadata": {
    "tags": []
   },
   "outputs": [],
   "source": [
    "def fertility_over_time(country, start):\n",
    "    '''Create a two-column table that describes a country's total fertility rate each year.'''\n",
    "    ...\n",
    "\n",
    "poland_code = ...\n",
    "\n",
    "fertility_over_time(poland_code, 1950).plot('Year', 'Children per woman') # You should *not* change this line."
   ]
  },
  {
   "cell_type": "code",
   "execution_count": null,
   "id": "4b275199",
   "metadata": {
    "deletable": false,
    "editable": false
   },
   "outputs": [],
   "source": [
    "grader.check(\"task_05\")"
   ]
  },
  {
   "cell_type": "markdown",
   "id": "b31b27a2-90e2-46a6-8408-9c1b61655659",
   "metadata": {
    "tags": []
   },
   "source": [
    "Plotting the fertility rate in Poland since 1950, we see a downward trend."
   ]
  },
  {
   "cell_type": "markdown",
   "id": "0e556388-7677-408e-b733-25271e11a305",
   "metadata": {},
   "source": [
    "---"
   ]
  },
  {
   "cell_type": "markdown",
   "id": "d9c3ab52-8144-41a0-b137-d66b357f9cda",
   "metadata": {},
   "source": [
    "### Task 06 📍🔎"
   ]
  },
  {
   "cell_type": "markdown",
   "id": "4de46dce-da3e-4292-af4a-44a41b31ea54",
   "metadata": {
    "deletable": false,
    "editable": false
   },
   "source": [
    "<!-- BEGIN QUESTION -->\n",
    "\n",
    "Do the trends in fertility in the graph above help explain why the population growth rate decreased from 1950 to 2020 in Poland? \n",
    "\n",
    "_Points:_ 3"
   ]
  },
  {
   "cell_type": "markdown",
   "id": "bc88e21d",
   "metadata": {},
   "source": [
    "_Type your answer here, replacing this text._"
   ]
  },
  {
   "cell_type": "markdown",
   "id": "31038bdd-e485-4cd4-b3aa-fb373b7c2807",
   "metadata": {
    "deletable": false,
    "editable": false,
    "tags": []
   },
   "source": [
    "<!-- END QUESTION -->\n",
    "\n",
    "As seen in the [Population Horizons Factsheet No.5]((https://www.ageing.ox.ac.uk/download/143)), lower fertility rates are often associated with lower child mortality rates. We can see if this association is evident in Poland by plotting the relationship between total fertility rate and [child mortality rate per 1000 children](https://en.wikipedia.org/wiki/Child_mortality)."
   ]
  },
  {
   "cell_type": "markdown",
   "id": "61e175d4-1cf7-4d8f-b97e-20a85a7f877b",
   "metadata": {},
   "source": [
    "---"
   ]
  },
  {
   "cell_type": "markdown",
   "id": "de735357-571d-4180-95b6-a2565b232c47",
   "metadata": {},
   "source": [
    "### Task 07 📍"
   ]
  },
  {
   "cell_type": "markdown",
   "id": "1f6a11b7-5403-4818-95e3-95f7c13d488a",
   "metadata": {
    "deletable": false,
    "editable": false
   },
   "source": [
    "Create a table `poland_since_1950` that contains one row per year starting with 1950 and:\n",
    "\n",
    "- A column `Year` containing the year\n",
    "- A column `Children per woman` describing total fertility in Poland that year\n",
    "- A column `Child deaths per 1000 born` describing child mortality\n",
    "\n",
    "_Points:_ 8"
   ]
  },
  {
   "cell_type": "code",
   "execution_count": null,
   "id": "eb141bbd-9bc3-4198-9181-178534c93f6f",
   "metadata": {
    "tags": []
   },
   "outputs": [],
   "source": [
    "pol_fertility = ...  # Try starting with the table you built already!\n",
    "pol_child_mortality = ...\n",
    "poland_since_1950 =  ...\n",
    "poland_since_1950"
   ]
  },
  {
   "cell_type": "code",
   "execution_count": null,
   "id": "64ca4c4d",
   "metadata": {
    "deletable": false,
    "editable": false
   },
   "outputs": [],
   "source": [
    "grader.check(\"task_07\")"
   ]
  },
  {
   "cell_type": "markdown",
   "id": "86cd4a5f-74c0-4c6c-8936-64b9f30c2146",
   "metadata": {},
   "source": [
    "---"
   ]
  },
  {
   "cell_type": "markdown",
   "id": "434b8740-9298-4603-8095-1f0abddde47a",
   "metadata": {},
   "source": [
    "Run the following cell to generate a scatter plot from the `poland_since_1950` table you created.\n",
    "\n",
    "The plot uses **color** to encode data about the `Year` column. The colors, ranging from dark blue to white, represent the passing of time between 1950 and 2020. For example, a point on the scatter plot representing data from the 1950s would appear as **dark blue** and a point from the 2010s would appear as **light blue**."
   ]
  },
  {
   "cell_type": "code",
   "execution_count": null,
   "id": "663084ee-da9c-42cd-91f9-ef65b0fef585",
   "metadata": {},
   "outputs": [],
   "source": [
    "x_births = poland_since_1950.column(\"Children per woman\")\n",
    "y_deaths = poland_since_1950.column(\"Child deaths per 1000 born\")\n",
    "time_colors = poland_since_1950.column(\"Year\")\n",
    "\n",
    "plt.figure(figsize=(6,6))\n",
    "plt.scatter(x_births, y_deaths, c=time_colors, cmap=\"Blues_r\")\n",
    "plt.colorbar()                  \n",
    "plt.xlabel(\"Children per woman\")\n",
    "plt.ylabel(\"Child deaths per 1000 born\");"
   ]
  },
  {
   "cell_type": "markdown",
   "id": "cc35a8cd-619d-4a9c-8a1f-a933b38683c2",
   "metadata": {},
   "source": [
    "---"
   ]
  },
  {
   "cell_type": "markdown",
   "id": "169617bc-4ddd-4f17-b5e6-c44381b7ae4e",
   "metadata": {},
   "source": [
    "### Task 08 📍🔎"
   ]
  },
  {
   "cell_type": "markdown",
   "id": "86898d67-31b5-44f7-b98b-59236206809a",
   "metadata": {
    "deletable": false,
    "editable": false
   },
   "source": [
    "<!-- BEGIN QUESTION -->\n",
    "\n",
    "In one or two sentences, describe the association (if any) that is illustrated by this scatter plot. Does the diagram show any causal relation between fertility and child mortality?\n",
    "\n",
    "_Points:_ 3"
   ]
  },
  {
   "cell_type": "markdown",
   "id": "b7e0a125",
   "metadata": {},
   "source": [
    "_Type your answer here, replacing this text._"
   ]
  },
  {
   "cell_type": "markdown",
   "id": "0ee1f4b3-b0f3-4e98-873c-bdf9ab424c09",
   "metadata": {
    "deletable": false,
    "editable": false
   },
   "source": [
    "<!-- END QUESTION -->\n",
    "\n",
    "---"
   ]
  },
  {
   "cell_type": "markdown",
   "id": "8036f54f-def1-455a-9a38-0f922a2ad738",
   "metadata": {},
   "source": [
    "### 👋 Submit Checkpoint to Canvas"
   ]
  },
  {
   "cell_type": "markdown",
   "id": "ff93ba6e-5d28-4128-a694-5d5709b2b89d",
   "metadata": {},
   "source": [
    "1. **Check the Assignment Checkpoint Completion Requirements:** This checkpoint assignment is scored as Complete or Incomplete. For a Complete score, you'll need to show a reasonable attempt on Tasks 01 - 08 by the posted deadline.\n",
    "2. **Complete Manually Graded Tasks:** Verify that you have responded to all the manually graded tasks marked with 📍🔎.\n",
    "3. **Run the Auto-Grader:** Run the following code cell that will run all tests for the above auto-graded tasks.\n",
    "4. **Save Your Work:** In the notebook's Toolbar, go to `File -> Save Notebook` to save your work and create a checkpoint.\n",
    "5. **Download the Notebook:** In the notebook's Toolbar, go to `File -> Download HTML` to download the HTML version (`.html`) of this notebook.\n",
    "6. **Upload to Canvas:** On the Canvas Assignment page, click \"Start Assignment\" or \"New Attempt\" to upload the downloaded `.html` file."
   ]
  },
  {
   "cell_type": "code",
   "execution_count": null,
   "id": "8ce46a0d-ed4f-42d0-b8f2-845a09db65b7",
   "metadata": {},
   "outputs": [],
   "source": [
    "try:\n",
    "    checkpoint_tests = [\"task_01\", \"task_02\", \"task_05\", \"task_07\"]\n",
    "    for test in checkpoint_tests:\n",
    "        display(grader.check(test))\n",
    "except NameError:\n",
    "    print('The auto-grader has not be initialized.')"
   ]
  },
  {
   "cell_type": "markdown",
   "id": "16420c13-83fa-40df-9a77-2e4778a63e98",
   "metadata": {},
   "source": [
    "---"
   ]
  },
  {
   "cell_type": "markdown",
   "id": "fce17303-41eb-41b9-bce6-3a77df10a605",
   "metadata": {
    "tags": []
   },
   "source": [
    "### 🌐 The World\n",
    "\n",
    "The changes observed in Poland can also be observed in many other countries: except during periods of extended war, famine, and social chaos, health services generally improve, life expectancy increases, and child mortality decreases. At the same time, the fertility rate often plummets, and where it does, the population growth rate decreases despite increasing longevity."
   ]
  },
  {
   "cell_type": "markdown",
   "id": "c1a4738b-7376-4bcc-8278-2c11061940b1",
   "metadata": {
    "editable": false
   },
   "source": [
    "Run the cell below to generate two overlaid histograms, one for 1962 and one for 2010, that show the distributions of total fertility rates for these two years among all 201 countries in the `fertility` table."
   ]
  },
  {
   "cell_type": "code",
   "execution_count": null,
   "id": "20a896fb-51d0-4af8-8437-936aeaeef086",
   "metadata": {
    "scrolled": true
   },
   "outputs": [],
   "source": [
    "Table().with_columns(\n",
    "    '1962', fertility.where('time', 1962).column(2),\n",
    "    '2010', fertility.where('time', 2010).column(2)\n",
    ").hist(bins=np.arange(0, 10, 0.5), unit='child per woman')\n",
    "_ = plt.xlabel('Children per woman')\n",
    "_ = plt.ylabel('Percent per children per woman')\n",
    "_ = plt.xticks(np.arange(10))"
   ]
  },
  {
   "cell_type": "markdown",
   "id": "1899d268-1a3e-4146-a135-9e8972eacda6",
   "metadata": {},
   "source": [
    "---"
   ]
  },
  {
   "cell_type": "markdown",
   "id": "34e8af75-3a9b-43f3-87f3-6021cca30d84",
   "metadata": {},
   "source": [
    "### Task 09 📍"
   ]
  },
  {
   "cell_type": "markdown",
   "id": "478c098c-7daa-4520-b994-976a3f069b13",
   "metadata": {
    "deletable": false,
    "editable": false
   },
   "source": [
    "Assign `fertility_statements` to an **array** of the numbers of each statement below that can be correctly inferred from these histograms.\n",
    "\n",
    "1. About the same number (within 3%) of countries had a fertility rate between 3.5 and 4.5 in both 1962 and 2010.\n",
    "1. In 1962, less than 20% of countries had a fertility rate below 3.\n",
    "1. At least half of countries had a fertility rate between 5 and 8 in 1962.\n",
    "1. In 2010, about 40% of countries had a fertility rate between 1.5 and 2.\n",
    "1. At least half of countries had a fertility rate below 3 in 2010.\n",
    "1. More countries had a fertility rate above 3 in 1962 than in 2010.\n",
    "\n",
    "\n",
    "_Points:_ 2"
   ]
  },
  {
   "cell_type": "code",
   "execution_count": null,
   "id": "6409d811-2d6d-4f3c-8ac6-f351493f4a71",
   "metadata": {
    "tags": []
   },
   "outputs": [],
   "source": [
    "fertility_statements = ..."
   ]
  },
  {
   "cell_type": "code",
   "execution_count": null,
   "id": "4a4fe342",
   "metadata": {
    "deletable": false,
    "editable": false
   },
   "outputs": [],
   "source": [
    "grader.check(\"task_09\")"
   ]
  },
  {
   "cell_type": "markdown",
   "id": "f260c08f-479f-48ab-9e17-b03acff33275",
   "metadata": {},
   "source": [
    "---"
   ]
  },
  {
   "cell_type": "markdown",
   "id": "bdecaf40-3091-4435-9104-128027125f57",
   "metadata": {},
   "source": [
    "### Task 10 📍🔎"
   ]
  },
  {
   "cell_type": "markdown",
   "id": "ec0279fc-8948-4ac9-a030-6c2ef4fcba41",
   "metadata": {
    "deletable": false,
    "editable": false
   },
   "source": [
    "<!-- BEGIN QUESTION -->\n",
    "\n",
    "Draw a line plot of the world population from 1800 through 2020 (inclusive of both endpoints). The world population is the sum of all of the countries' populations. You should use the `population` table defined earlier in the project. \n",
    "\n",
    "_Points:_ 3"
   ]
  },
  {
   "cell_type": "code",
   "execution_count": null,
   "id": "c98a3248-f25c-480f-89e9-6aeb968a68d5",
   "metadata": {
    "export_pdf": true,
    "manual_grade": true,
    "manual_problem_id": "global_pop_10",
    "tags": []
   },
   "outputs": [],
   "source": [
    "#Fill in code here\n",
    "..."
   ]
  },
  {
   "cell_type": "markdown",
   "id": "1f9e729d-ee37-4131-8dd0-886433f6d7fd",
   "metadata": {
    "deletable": false,
    "editable": false
   },
   "source": [
    "<!-- END QUESTION -->\n",
    "\n",
    "---"
   ]
  },
  {
   "cell_type": "markdown",
   "id": "ff2dfcb0-1401-4027-aad5-2fcf92ca5a8b",
   "metadata": {},
   "source": [
    "### Task 11 📍"
   ]
  },
  {
   "cell_type": "markdown",
   "id": "e48381b9-58c8-4d8f-8ccb-84ad3cfbfcfb",
   "metadata": {
    "deletable": false,
    "editable": false
   },
   "source": [
    "Create a function `stats_for_year` that takes a `year` and returns a table of statistics that addresses the following: \n",
    "* The table it returns should have four columns: `geo`, `population_total`, `children_per_woman_total_fertility`, and `child_mortality_under_5_per_1000_born`.\n",
    "* Each row should contain one unique Alpha-3 country code and three statistics: population, fertility rate, and child mortality for that `year` from the `population`, `fertility` and `child_mortality` tables. \n",
    "* Only include rows for which all three statistics are available for the country and year.\n",
    "* In addition, restrict the result to country codes that appears in `big_50`, an array of the 50 most populous countries in 2020. This restriction will speed up computations later in the project.\n",
    "* After you write `stats_for_year`, CALL `stats_for_year` on any year between 1960 and 2020. Try to understand the output of stats_for_year.\n",
    "\n",
    "As you work, consider the following:\n",
    "* The tests for this question are quite comprehensive, so if you pass the tests, your function is probably correct. However, without calling your function yourself and looking at the output, it will be very difficult to understand any problems you have, so try your best to write the function correctly and check that it works before you rely on the `grader` tests to confirm your work.\n",
    "* What do all three tables have in common (pay attention to column names)?\n",
    "\n",
    "\n",
    "_Points:_ 4"
   ]
  },
  {
   "cell_type": "code",
   "execution_count": null,
   "id": "d0a76984-60f9-46d2-80e6-d5ebcb47cb60",
   "metadata": {
    "tags": []
   },
   "outputs": [],
   "source": [
    "# We first create a population table that only includes the \n",
    "# 50 countries with the largest 2020 populations. We focus on \n",
    "# these 50 countries only so that plotting later will run faster.\n",
    "big_50 = population.where('time', are.equal_to(2020)).sort(\"population_total\", descending=True).take(np.arange(50)).column('geo')\n",
    "population_of_big_50 = population.where('time', are.above(1959)).where('geo', are.contained_in(big_50))\n",
    "\n",
    "def stats_for_year(year):\n",
    "    \"\"\"Return a table of the stats for each country that year.\"\"\"\n",
    "    p = population_of_big_50.where('time', are.equal_to(year)).drop('time')\n",
    "    f = fertility.where('time', are.equal_to(year)).drop('time')\n",
    "    c = child_mortality.where('time', are.equal_to(year)).drop('time')\n",
    "    ...\n",
    "\n",
    "# Call stats_for_year for any year between 1960 and 2020.\n",
    "..."
   ]
  },
  {
   "cell_type": "code",
   "execution_count": null,
   "id": "b3853b12",
   "metadata": {
    "deletable": false,
    "editable": false
   },
   "outputs": [],
   "source": [
    "grader.check(\"task_11\")"
   ]
  },
  {
   "cell_type": "markdown",
   "id": "641f4b91-81d9-47f2-a868-bb5518f1b044",
   "metadata": {},
   "source": [
    "---"
   ]
  },
  {
   "cell_type": "markdown",
   "id": "f2fd7cc8-5dd1-4f4e-9121-87e8cd5cb9a6",
   "metadata": {},
   "source": [
    "### Task 12 📍"
   ]
  },
  {
   "cell_type": "markdown",
   "id": "4b3f6b15-f628-4bfb-b403-42e1e8682618",
   "metadata": {
    "deletable": false,
    "editable": false
   },
   "source": [
    "Create a table called `pop_by_decade` with two columns called `decade` and `population`, in this order. \n",
    "* It has a row for each year that starts a decade, in increasing order starting with 1960 and ending with 2020. For example, 1960 is the start of the 1960's decade. \n",
    "* The `population` column contains the total population of all countries included in the result of `stats_for_year(year)` for the first `year` of the decade. You should see that these countries contain most of the world's population.\n",
    "\n",
    "As you work on this task, consider:\n",
    "* One approach is to define a function `pop_for_year` that computes this total population, then `apply` it to the `decade` column.  **Think about how you can use the `stats_for_year` function** from the previous question if you want to implement `pop_for_year`. This first test is just a sanity check for your helper function if you choose to use it. **You will not lose points for not implementing the function `pop_for_year`**.\n",
    "* The cell where you will generate the `pop_by_decade` table is below the cell where you can choose to define the helper function `pop_for_year`. You should define your `pop_by_decade` table in the cell that starts with the table `decades` being defined. \n",
    "\n",
    "_Points:_ 0"
   ]
  },
  {
   "cell_type": "code",
   "execution_count": null,
   "id": "1998a147-c4d4-4ed0-9673-58935dc691e8",
   "metadata": {
    "tags": []
   },
   "outputs": [],
   "source": [
    "def pop_for_year(year):\n",
    "    ..."
   ]
  },
  {
   "cell_type": "code",
   "execution_count": null,
   "id": "545771f3",
   "metadata": {
    "deletable": false,
    "editable": false
   },
   "outputs": [],
   "source": [
    "grader.check(\"task_12_pop_for_year_check\")"
   ]
  },
  {
   "cell_type": "markdown",
   "id": "32cc74ae-587f-4d3e-b15b-9d87b09027d2",
   "metadata": {
    "deletable": false,
    "editable": false
   },
   "source": [
    "Now that you've defined your helper function (if you've chosen to do so), define the `pop_by_decade` table.\n",
    "\n",
    "\n",
    "_Points:_ 7"
   ]
  },
  {
   "cell_type": "code",
   "execution_count": null,
   "id": "3288200d-c170-4164-8555-dd096fc8be05",
   "metadata": {
    "tags": []
   },
   "outputs": [],
   "source": [
    "decades = Table().with_column('decade', np.arange(1960, 2021, 10))\n",
    "\n",
    "pop_by_decade = ...\n",
    "pop_by_decade.set_format(1, NumberFormatter)"
   ]
  },
  {
   "cell_type": "code",
   "execution_count": null,
   "id": "ce1c221c",
   "metadata": {
    "deletable": false,
    "editable": false
   },
   "outputs": [],
   "source": [
    "grader.check(\"task_12\")"
   ]
  },
  {
   "cell_type": "markdown",
   "id": "4bd35c7e-9aa7-4ac9-93be-b9557bcdd7ef",
   "metadata": {},
   "source": [
    "---"
   ]
  },
  {
   "cell_type": "markdown",
   "id": "3291deb6-e1db-4ff7-bd1c-8b57feded2c6",
   "metadata": {
    "editable": false
   },
   "source": [
    "The `countries` table describes various characteristics of countries. The `country` column contains the same codes as the `geo` column in each of the other data tables (`population`, `fertility`, and `child_mortality`). The `world_6region` column classifies each country into a region of the world. Run the cell below to inspect the data."
   ]
  },
  {
   "cell_type": "code",
   "execution_count": null,
   "id": "05117a40-66d7-4d70-bc4a-b6b6bfe84dd5",
   "metadata": {},
   "outputs": [],
   "source": [
    "countries = Table.read_table('countries.csv').where('country', are.contained_in(population.group('geo').column('geo')))\n",
    "countries.select('country', 'name', 'world_6region')"
   ]
  },
  {
   "cell_type": "markdown",
   "id": "141aa9bf-0c67-4667-bbb9-f1f8d8869e77",
   "metadata": {},
   "source": [
    "---"
   ]
  },
  {
   "cell_type": "markdown",
   "id": "2a5912a9-f225-4a87-9db4-4118a632927a",
   "metadata": {},
   "source": [
    "### Task 13 📍"
   ]
  },
  {
   "cell_type": "markdown",
   "id": "ce82bf6b-030e-4c05-8526-26f13670563b",
   "metadata": {
    "deletable": false,
    "editable": false
   },
   "source": [
    "Create a table called `region_counts`. \n",
    "* It should contain two columns called `region` and `count`. \n",
    "    * The `region` column should contain regions of the world\n",
    "    * The`count` column should contain the number of countries in each region that appears in the result of `stats_for_year(2020)`. \n",
    "\n",
    "For example, one row would have `south_asia` as its `region` value and an integer as its `count` value: the number of large South Asian countries for which we have population, fertility, and child mortality numbers from 2020.\n",
    "\n",
    "As you work, consider that you may have to relabel a column to name it `region`.\n",
    "\n",
    "_Points:_ 4"
   ]
  },
  {
   "cell_type": "code",
   "execution_count": null,
   "id": "e19fd5f1-4513-4706-bc34-5f0623724bb7",
   "metadata": {
    "tags": []
   },
   "outputs": [],
   "source": [
    "stats_for_2020 = ...\n",
    "region_counts = ...\n",
    "region_counts"
   ]
  },
  {
   "cell_type": "code",
   "execution_count": null,
   "id": "0932e1c8",
   "metadata": {
    "deletable": false,
    "editable": false
   },
   "outputs": [],
   "source": [
    "grader.check(\"task_13\")"
   ]
  },
  {
   "cell_type": "markdown",
   "id": "7b755366-8017-4e78-93c4-013dac7cf629",
   "metadata": {},
   "source": [
    "---"
   ]
  },
  {
   "cell_type": "markdown",
   "id": "a1c62078-c3e9-4c59-a22d-c6ebff4f60f7",
   "metadata": {
    "editable": false
   },
   "source": [
    "The following scatter diagram compares total fertility rate and child mortality rate for each country in 1960. The area of each dot represents the population of the country, and the color represents its region of the world. Run the cell. Do you think you can identify any of the dots?"
   ]
  },
  {
   "cell_type": "code",
   "execution_count": null,
   "id": "062d9e1c-1cfe-4c08-bf1d-6f50be463f60",
   "metadata": {},
   "outputs": [],
   "source": [
    "from functools import lru_cache as cache\n",
    "import pandas as pd\n",
    "import plotly.express as px\n",
    "\n",
    "# This cache annotation makes sure that if the same year\n",
    "# is passed as an argument twice, the work of computing\n",
    "# the result is only carried out once.\n",
    "@cache(None)\n",
    "def stats_relabeled(year):\n",
    "    \"\"\"Relabeled and cached version of stats_for_year.\"\"\"\n",
    "    return stats_for_year(year).relabel(2, 'Children per woman').relabel(3, 'Child deaths per 1000 born')\n",
    "\n",
    "def fertility_vs_child_mortality(year):\n",
    "    \"\"\"Draw a color scatter diagram comparing child mortality and fertility.\"\"\"\n",
    "    with_region = stats_relabeled(year).join('geo', countries.select('country', 'world_6region'), 'country') \n",
    "    fig = px.scatter(with_region.to_df(),\n",
    "                     'Children per woman', \n",
    "                     'Child deaths per 1000 born',\n",
    "                     size='population_total',\n",
    "                     color='world_6region',\n",
    "                     title=year)\n",
    "    fig.update_xaxes(range=[0, 10])\n",
    "    fig.update_yaxes(range=[-50, 500])\n",
    "    fig.update_layout(width=1000, height=600)\n",
    "    fig.update_traces(marker=dict(sizemode='area', sizeref=30_000))\n",
    "    fig.show()\n",
    "    \n",
    "fertility_vs_child_mortality(1960)"
   ]
  },
  {
   "cell_type": "markdown",
   "id": "c6536b07-8bda-47fd-8772-2a036fd7ec5a",
   "metadata": {},
   "source": [
    "---"
   ]
  },
  {
   "cell_type": "markdown",
   "id": "3ca660c6-28ea-49aa-b757-4e11a23ec2f4",
   "metadata": {},
   "source": [
    "### Task 14 📍"
   ]
  },
  {
   "cell_type": "markdown",
   "id": "615f5538-03b2-4516-84d0-fd1c5ca6f7af",
   "metadata": {
    "deletable": false,
    "editable": false
   },
   "source": [
    "Assign `scatter_statements` to an array of the numbers of each statement below that can be inferred from this scatter diagram for 1960. \n",
    "1. All countries in `europe_central_asia` had uniformly low fertility rates.\n",
    "1. The lowest child mortality rate of any country was from an `east_asia_pacific` country.\n",
    "1. Most countries had a fertility rate above 5.\n",
    "1. There was an association between child mortality and fertility.\n",
    "1. The two largest countries by population also had the two highest child mortality rates.\n",
    "\n",
    "_Points:_ 2"
   ]
  },
  {
   "cell_type": "code",
   "execution_count": null,
   "id": "bf794faa-b512-42ea-884c-dc893cd69b0c",
   "metadata": {
    "tags": []
   },
   "outputs": [],
   "source": [
    "scatter_statements = ..."
   ]
  },
  {
   "cell_type": "code",
   "execution_count": null,
   "id": "a775c40f",
   "metadata": {
    "deletable": false,
    "editable": false
   },
   "outputs": [],
   "source": [
    "grader.check(\"task_14\")"
   ]
  },
  {
   "cell_type": "markdown",
   "id": "103a6a12-6e36-4084-be50-184ea5b75540",
   "metadata": {},
   "source": [
    "---"
   ]
  },
  {
   "cell_type": "markdown",
   "id": "cf5d1ba0-8ca6-47f6-92bd-291531071176",
   "metadata": {},
   "source": [
    "You'll find that in terms of population growth, the divide between the countries of the global North and global South that existed in the 1960s has shrunk significantly. This shift in fertility rates is the reason that the global population is expected to grow more slowly in the 21st century than it did in the 19th and 20th centuries. Fertility rates change for reasons that include cultural patterns, better prospects for children surviving to adulthood, and family planning."
   ]
  },
  {
   "cell_type": "markdown",
   "id": "489a1b14-3713-470f-a349-ce4106c16e22",
   "metadata": {},
   "source": [
    "---"
   ]
  },
  {
   "cell_type": "markdown",
   "id": "6c448e27-4a46-47a7-aeb7-d56a34fb8532",
   "metadata": {
    "editable": false
   },
   "source": [
    "Now is a great time to take a break and watch the same data presented by [Hans Rosling in a 2010 TEDx talk](https://www.gapminder.org/videos/reducing-child-mortality-a-moral-and-environmental-imperative) with smoother animation and witty commentary."
   ]
  },
  {
   "cell_type": "code",
   "execution_count": null,
   "id": "fcee6ae0-4706-42bd-a8a6-0d36e9b60198",
   "metadata": {},
   "outputs": [],
   "source": [
    "from IPython.display import YouTubeVideo\n",
    "YouTubeVideo(\"N-x7eHuUhNM\")"
   ]
  },
  {
   "cell_type": "markdown",
   "id": "212c12e4-137d-4259-90ae-f4bc65532279",
   "metadata": {},
   "source": [
    "When we look at population and fertility as data scientists, we need to learn about the experiences of people in real life, not just abstractly as data. We should also recognize that population studies have sometimes had political undercurrents. Those undercurrents have included population control, control of reproduction, or fears of shifts between racial groups. To do better as data scientists, we should check our assumptions to avoid unthinkingly reproducing past patterns."
   ]
  },
  {
   "cell_type": "markdown",
   "id": "b3924429-4707-4964-90c5-f76791f0f38e",
   "metadata": {},
   "source": [
    "---"
   ]
  },
  {
   "cell_type": "markdown",
   "id": "968a9aa3-2f33-496e-899f-7f4e2d6aac9b",
   "metadata": {
    "tags": []
   },
   "source": [
    "## 💰 Global Poverty\n"
   ]
  },
  {
   "cell_type": "markdown",
   "id": "582c5414-844f-4d75-b4ca-e069433163ba",
   "metadata": {
    "tags": []
   },
   "source": [
    "In 1800, 85% of the world's 1 billion people lived in [extreme poverty](https://en.wikipedia.org/wiki/Extreme_poverty), defined by the United Nations as \"a condition characterized by severe deprivation of basic human needs, including food, safe drinking water, sanitation facilities, health, shelter, education and information.\" At the time when the data in this project were gathered, a common definition of extreme poverty was a person living on less than \\$1.90 per day.\n",
    "\n",
    "In 2018, the proportion of people living in extreme poverty was estimated to be [about 9\\%](https://unstats.un.org/sdgs/report/2019/goal-01/). Although the world rate of extreme poverty has declined consistently for hundreds of years, the number of people living in extreme poverty is still over 600 million. The United Nations adopted an [ambitious goal](http://www.un.org/sustainabledevelopment/poverty/): \"By 2030, eradicate extreme poverty for all people everywhere.\" However, recently, researchers projected on [the World Bank blog](https://blogs.worldbank.org/opendata/updated-estimates-impact-covid-19-global-poverty-turning-corner-pandemic-2021) that there will be an increase in extreme poverty since the start of COVID-19 pandemic.\n",
    "\n",
    "In this part of the project, we will examine some aspects of global poverty that might affect whether the goal is achievable. The causes of poverty are complex. They include global histories, such as colonialism, as well as factors such as health care, economics, and social inequality in each country."
   ]
  },
  {
   "cell_type": "markdown",
   "id": "a60cd7a8-ba5a-4c6c-90c7-ae107b5d5e21",
   "metadata": {
    "editable": false
   },
   "source": [
    "First, load the population and poverty rate by country and year and the country descriptions. While the `population` table has values for every recent year for many countries, the `poverty` table only includes certain years for each country in which a measurement of the rate of extreme poverty was available."
   ]
  },
  {
   "cell_type": "code",
   "execution_count": null,
   "id": "17ed8749-0f48-4edb-b875-1a3a34fb9638",
   "metadata": {},
   "outputs": [],
   "source": [
    "population = Table.read_table('population.csv')\n",
    "countries = Table.read_table('countries.csv').where('country', are.contained_in(population.group('geo').column('geo')))\n",
    "poverty = Table.read_table('poverty.csv')\n",
    "poverty.show(3)"
   ]
  },
  {
   "cell_type": "markdown",
   "id": "d6ae0073-924c-4cfa-b462-075c9e464ae8",
   "metadata": {},
   "source": [
    "---"
   ]
  },
  {
   "cell_type": "markdown",
   "id": "b223e26a-3721-4590-ae3c-a4ed3e9af9b0",
   "metadata": {},
   "source": [
    "### Task 15 📍"
   ]
  },
  {
   "cell_type": "markdown",
   "id": "68f4e1f2-ea5d-476e-b309-0c1028ff8f65",
   "metadata": {
    "deletable": false,
    "editable": false
   },
   "source": [
    "Assign `latest_poverty` to a three-column table with one row for each country that appears in the `poverty` table. The first column should contain the 3-letter code for the country. The second column should contain the most recent year for which an extreme poverty rate is available for the country. The third column should contain the poverty rate in that year. **Do not change the last line, so that the labels of your table are set correctly.**\n",
    "\n",
    "*Hint*: think about how ```group``` works: it does a sequential search of the table (from top to bottom) and collects values in the array in the order in which they appear, and then applies a function to that array. The `first` function may be helpful, but you are not required to use it.\n",
    "\n",
    "\n",
    "_Points:_ 3"
   ]
  },
  {
   "cell_type": "code",
   "execution_count": null,
   "id": "ec4dcecd-74fe-49d7-8a9b-9e136c9a7215",
   "metadata": {
    "tags": []
   },
   "outputs": [],
   "source": [
    "def first(values):\n",
    "    return values.item(0)\n",
    "\n",
    "latest_poverty = ...\n",
    "latest_poverty = latest_poverty.relabeled(0, 'geo').relabeled(1, 'time').relabeled(2, 'poverty_percent') # You should *not* change this line.  \n",
    "latest_poverty"
   ]
  },
  {
   "cell_type": "code",
   "execution_count": null,
   "id": "f91b604b",
   "metadata": {
    "deletable": false,
    "editable": false
   },
   "outputs": [],
   "source": [
    "grader.check(\"task_15\")"
   ]
  },
  {
   "cell_type": "markdown",
   "id": "4395e6f0-6932-4e7f-b6ed-dd0424a96578",
   "metadata": {},
   "source": [
    "---"
   ]
  },
  {
   "cell_type": "markdown",
   "id": "e82ecefe-f467-4a16-85a1-b9dd10c43772",
   "metadata": {},
   "source": [
    "### Task 16 📍"
   ]
  },
  {
   "cell_type": "markdown",
   "id": "cfee91ce-c358-4224-acac-89469de66879",
   "metadata": {
    "deletable": false,
    "editable": false
   },
   "source": [
    "Using both `latest_poverty` and `population`, create a four-column table called `recent_poverty_total` with one row for each country in `latest_poverty`. The four columns should have the following labels and contents:\n",
    "1. `geo` contains the 3-letter country code,\n",
    "1. `poverty_percent` contains the most recent poverty percent,\n",
    "1. `population_total` contains the population of the country in 2010,\n",
    "1. `poverty_total` contains the number of people in poverty **rounded to the nearest integer**, based on the 2010 population and most recent poverty rate.\n",
    "\n",
    "You are **not** required to use `poverty_and_pop`, and you are always welcome to add any additional names.\n",
    "\n",
    "_Points:_ 4"
   ]
  },
  {
   "cell_type": "code",
   "execution_count": null,
   "id": "4ddcf5ab-8817-4435-ae0e-f5113d823bd1",
   "metadata": {
    "tags": []
   },
   "outputs": [],
   "source": [
    "poverty_and_pop = ...\n",
    "recent_poverty_total = ...\n",
    "recent_poverty_total"
   ]
  },
  {
   "cell_type": "code",
   "execution_count": null,
   "id": "72ab8e74",
   "metadata": {
    "deletable": false,
    "editable": false
   },
   "outputs": [],
   "source": [
    "grader.check(\"task_16\")"
   ]
  },
  {
   "cell_type": "markdown",
   "id": "a1f39d06-944b-4bf4-853d-5af80b2ce513",
   "metadata": {},
   "source": [
    "---"
   ]
  },
  {
   "cell_type": "markdown",
   "id": "124a8abd-a727-491b-9776-6b0f94ff5e94",
   "metadata": {},
   "source": [
    "### Task 17 📍"
   ]
  },
  {
   "cell_type": "markdown",
   "id": "31111605-1690-47cf-bbe9-4af848c82b4f",
   "metadata": {
    "deletable": false,
    "editable": false
   },
   "source": [
    "Assign the name `poverty_percent` to the known percentage of the world’s 2010 population that were living in extreme poverty. Assume that the `poverty_total` numbers in the `recent_poverty_total` table describe **all** people in 2010 living in extreme poverty. You should find a number that is above the 2018 global estimate of 8%, since many country-specific poverty rates are older than 2018.\n",
    "\n",
    "*Hint*: The sum of the `population_total` column in the `recent_poverty_total` table is not the world population, because only a subset of the world's countries are included in the `recent_poverty_total` table (only some countries have known poverty rates). Use the `population` table to compute the world's 2010 total population.\n",
    "\n",
    "\n",
    "_Points:_ 2"
   ]
  },
  {
   "cell_type": "code",
   "execution_count": null,
   "id": "f66da888-3bf8-4a0c-9b8c-e37630af8bae",
   "metadata": {
    "tags": []
   },
   "outputs": [],
   "source": [
    "poverty_percent = ...\n",
    "poverty_percent"
   ]
  },
  {
   "cell_type": "code",
   "execution_count": null,
   "id": "4f40a740",
   "metadata": {
    "deletable": false,
    "editable": false
   },
   "outputs": [],
   "source": [
    "grader.check(\"task_17\")"
   ]
  },
  {
   "cell_type": "markdown",
   "id": "ccef3de3-2715-432c-bad4-4a3ee0e6a12d",
   "metadata": {},
   "source": [
    "---"
   ]
  },
  {
   "cell_type": "markdown",
   "id": "04cf5afc-f0df-4124-b5a6-711b677d6106",
   "metadata": {
    "editable": false
   },
   "source": [
    "The `countries` table includes not only the name and region of countries, but also their positions on the globe."
   ]
  },
  {
   "cell_type": "code",
   "execution_count": null,
   "id": "1dda263e-28cd-4393-8dee-a15ffd298bb7",
   "metadata": {
    "editable": false
   },
   "outputs": [],
   "source": [
    "countries.select('country', 'name', 'world_4region', 'latitude', 'longitude')"
   ]
  },
  {
   "cell_type": "markdown",
   "id": "4b4754b5-7b31-43a1-8151-30b2cb98b1f3",
   "metadata": {},
   "source": [
    "---"
   ]
  },
  {
   "cell_type": "markdown",
   "id": "85a96d8d-dfd5-4db2-9c7c-c2e102b5e2df",
   "metadata": {},
   "source": [
    "### Task 18 📍"
   ]
  },
  {
   "cell_type": "markdown",
   "id": "da25f2b2-80cd-49d8-9179-c4999d2c0f9d",
   "metadata": {
    "deletable": false,
    "editable": false
   },
   "source": [
    "Using both `countries` and `recent_poverty_total`, create a five-column table called `poverty_map` with one row for every country in `recent_poverty_total`.  The five columns should have the following labels and contents, in this order:\n",
    "1. `latitude` contains the country's latitude,\n",
    "1. `longitude` contains the country's longitude,\n",
    "1. `name` contains the country's name,\n",
    "1. `region` contains the country's region from the `world_4region` column of `countries`,\n",
    "1. `poverty_total` contains the country's poverty total.\n",
    "\n",
    "\n",
    "_Points:_ 3"
   ]
  },
  {
   "cell_type": "code",
   "execution_count": null,
   "id": "08a1ba0e-f72c-4eee-85c5-de08994d2d14",
   "metadata": {
    "tags": []
   },
   "outputs": [],
   "source": [
    "poverty_map = ...\n",
    "poverty_map"
   ]
  },
  {
   "cell_type": "code",
   "execution_count": null,
   "id": "198fe53b",
   "metadata": {
    "deletable": false,
    "editable": false
   },
   "outputs": [],
   "source": [
    "grader.check(\"task_18\")"
   ]
  },
  {
   "cell_type": "markdown",
   "id": "96bef27a-3d14-4179-a893-33aa86326731",
   "metadata": {},
   "source": [
    "---"
   ]
  },
  {
   "cell_type": "markdown",
   "id": "99ff3587-a4f1-4470-9e25-595acdcda85e",
   "metadata": {
    "tags": []
   },
   "source": [
    "Run the cell below to draw a map of the world in which the areas of circles represent the number of people living in extreme poverty according to this data. Double-click on the map to zoom in."
   ]
  },
  {
   "cell_type": "code",
   "execution_count": null,
   "id": "54b1d221-6f88-4fc9-a7fb-21c7be92043d",
   "metadata": {
    "tags": []
   },
   "outputs": [],
   "source": [
    "# It may take a few seconds to generate this map.\n",
    "colors = {'africa': 'blue', 'europe': 'black', 'asia': 'red', 'americas': 'green'}\n",
    "scaled = poverty_map.with_columns(\n",
    "    'labels', poverty_map.column('poverty_total'),\n",
    "    'colors', poverty_map.apply(colors.get, 'region'),\n",
    "    'areas', 1e-4 * poverty_map.column('poverty_total') + 1\n",
    ").drop('name', 'region', 'poverty_total')\n",
    "\n",
    "Circle.map_table(scaled)"
   ]
  },
  {
   "cell_type": "markdown",
   "id": "883cdf27-c316-47bd-bd03-7380754e9ccf",
   "metadata": {
    "tags": []
   },
   "source": [
    "Although people live in extreme poverty throughout the world, this data shows the largest numbers are in Asia and Africa. Keep in mind that what you are observing is based on the data that was collected. There are clear inconsistencies between what is seen in the data and what people actually experience in the world."
   ]
  },
  {
   "cell_type": "markdown",
   "id": "177bc94e-f504-42c9-b4e4-5b2dba4e27aa",
   "metadata": {},
   "source": [
    "---"
   ]
  },
  {
   "cell_type": "markdown",
   "id": "34f2ca31-b2a4-420c-a2e0-3056e0c12545",
   "metadata": {},
   "source": [
    "### Task 19 📍"
   ]
  },
  {
   "cell_type": "markdown",
   "id": "e55b63ef-e8cb-4aab-97db-7ec6bf267d08",
   "metadata": {
    "deletable": false,
    "editable": false
   },
   "source": [
    "Assign `largest` to a two-column table with the `name` (not the 3-letter code) and `poverty_total` of the 10 countries with the largest number of people living in extreme poverty.\n",
    "\n",
    "\n",
    "_Points:_ 4"
   ]
  },
  {
   "cell_type": "code",
   "execution_count": null,
   "id": "2bfe2b69-7948-4e44-95d0-c6f677a346b4",
   "metadata": {
    "tags": []
   },
   "outputs": [],
   "source": [
    "largest = ...\n",
    "largest.set_format('poverty_total', NumberFormatter)"
   ]
  },
  {
   "cell_type": "code",
   "execution_count": null,
   "id": "ae810ef5",
   "metadata": {
    "deletable": false,
    "editable": false
   },
   "outputs": [],
   "source": [
    "grader.check(\"task_19\")"
   ]
  },
  {
   "cell_type": "markdown",
   "id": "72cac927-450d-47d7-ae48-2f084539c6c4",
   "metadata": {},
   "source": [
    "---"
   ]
  },
  {
   "cell_type": "markdown",
   "id": "0f14c802-3f5f-48e3-bb3b-852bc3e369d3",
   "metadata": {
    "tags": []
   },
   "source": [
    "### Task 20 📍🔎"
   ]
  },
  {
   "cell_type": "markdown",
   "id": "c61edc9f-b43e-4b73-b244-cbedd2f568cf",
   "metadata": {
    "deletable": false,
    "editable": false
   },
   "source": [
    "<!-- BEGIN QUESTION -->\n",
    "\n",
    "It is important to study the absolute number of people living in poverty, not just the percent. The absolute number is an important factor in determining the amount of resources needed to support people living in poverty. In the next two questions you will explore this.\n",
    "\n",
    "In the task after this, you will be asked to write a function called `poverty_timeline` that takes the name of a country as its argument (not the Alpha-3 country code). It should draw a line plot of the number of people living in poverty in that country with time on the horizontal axis. The line plot should have a point for each row in the poverty table for that country. To compute the population living in poverty from a poverty percentage, multiply by the population of the country in that year.\n",
    "\n",
    "For this task, write out a generalized process for the function you will write in the next task. What should this function output, and what steps will you take within the function? Keep in mind you are not focusing on writing the code, you are focusing on explaining the concept of how the function should work.\n",
    "\n",
    "_Points:_ 3"
   ]
  },
  {
   "cell_type": "markdown",
   "id": "e863cabe",
   "metadata": {},
   "source": [
    "_Type your answer here, replacing this text._"
   ]
  },
  {
   "cell_type": "markdown",
   "id": "cb57fa13-f35c-494f-97af-e8517fe2b546",
   "metadata": {
    "deletable": false,
    "editable": false
   },
   "source": [
    "<!-- END QUESTION -->\n",
    "\n",
    "---"
   ]
  },
  {
   "cell_type": "markdown",
   "id": "0c92f727-69e9-4b68-b1a5-315600581917",
   "metadata": {},
   "source": [
    "### Task 21 📍🔎"
   ]
  },
  {
   "cell_type": "markdown",
   "id": "e40fe9ed-495b-408b-a8bd-68e7bd659b0c",
   "metadata": {
    "deletable": false,
    "editable": false
   },
   "source": [
    "<!-- BEGIN QUESTION -->\n",
    "\n",
    "Now, we'll actually write the function called `poverty_timeline`. Recall that `poverty_timeline` takes **the name of a country** as its argument (not the Alpha-3 country code). \n",
    "* It should draw a line plot of the number of people living in poverty in that country with time on the horizontal axis. \n",
    "* The line plot should have a point for each row in the `poverty` table for that country. To compute the population living in poverty from a poverty percentage, multiply by the population of the country **in that year**.\n",
    "\n",
    "Consider the following while working on this task:\n",
    "* This question is long. Feel free to create cells and experiment. You can create cells by going to the toolbar and hitting the `+` button.\n",
    "* It might be helpful to join the information from different tables in your code.\n",
    "\n",
    "_Points:_ 3"
   ]
  },
  {
   "cell_type": "code",
   "execution_count": null,
   "id": "c2445177-fdc7-4937-810e-73944357e15e",
   "metadata": {
    "tags": []
   },
   "outputs": [],
   "source": [
    "def poverty_timeline(country):\n",
    "    '''Draw a timeline of people living in extreme poverty in a country.'''\n",
    "    geo = ...\n",
    "    # This solution will take multiple lines of code. Use as many as you need\n",
    "    ...\n",
    "    \n",
    "    # Don't change anything below this line. \n",
    "    plt.title(country)\n",
    "    plt.ylim(bottom=0)\n",
    "    plt.show() # This should be the last line of your function. \n",
    "..."
   ]
  },
  {
   "cell_type": "markdown",
   "id": "b759ffe0-d72b-4443-96c9-02b2eafbf636",
   "metadata": {
    "deletable": false,
    "editable": false
   },
   "source": [
    "<!-- END QUESTION -->\n",
    "\n",
    "---"
   ]
  },
  {
   "cell_type": "markdown",
   "id": "6a45ac2b-4d24-4c14-a217-9a5fd6beecf2",
   "metadata": {},
   "source": [
    "Finally, draw the timeline below for India. You can check your work by comparing your graph to the one on [gapminder.org](https://www.gapminder.org/tools/#$state$entities$show$country$/$in@=ind;;;;&marker$axis_y$which=number_of_people_in_poverty&scaleType=linear&spaceRef:null;;;&chart-type=linechart).\n"
   ]
  },
  {
   "cell_type": "code",
   "execution_count": null,
   "id": "c8e0469f-8ab0-432d-9259-990ee158d4da",
   "metadata": {
    "export_pdf": true,
    "tags": []
   },
   "outputs": [],
   "source": [
    "poverty_timeline('Nigeria')\n",
    "poverty_timeline('United States')\n",
    "poverty_timeline('China')\n",
    "poverty_timeline('India')"
   ]
  },
  {
   "cell_type": "markdown",
   "id": "c569de3f-76f6-4e2f-befb-cff0c7ff6cb9",
   "metadata": {},
   "source": [
    "---"
   ]
  },
  {
   "cell_type": "markdown",
   "id": "9d233be1-f8f9-4cd5-b584-dda636f5b438",
   "metadata": {},
   "source": [
    "### Task 22 📍🔎"
   ]
  },
  {
   "cell_type": "markdown",
   "id": "a89330f0-10b0-479c-9cc1-7627cce8574a",
   "metadata": {
    "deletable": false,
    "editable": false,
    "tags": []
   },
   "source": [
    "<!-- BEGIN QUESTION -->\n",
    "\n",
    "According to the data, the number of people living in extreme poverty has been increasing in Nigeria and the United States, and the massive decreases in China and India have shaped the overall trend that extreme poverty is decreasing worldwide, both in percentage and in absolute number. \n",
    "\n",
    "To learn more, watch [Hans Rosling in a 2015 film](https://www.gapminder.org/videos/dont-panic-end-poverty/) about the UN goal of eradicating extreme poverty from the world. \n",
    "\n",
    "Below, we've also added an interactive dropdown menu for you to visualize `poverty_timeline` graphs for other countries. Note that each dropdown menu selection may take a few seconds to run.\n",
    "\n",
    "For this task, make sure to address the following. Your response should be about 3-4 sentences, but you are welcome to provide more details.\n",
    "\n",
    "* Select a country that is not Nigeria, the United States, China, or India in the dropdown menu of the widget below to create the plot showing poverty numbers over the time periods available in the data set.\n",
    "* In general, describe how the number of those in extreme poverty in that particular country has changed over time.\n",
    "* Almost every graph has some interesting point(s) in the line where there was a change in the trend of the poverty numbers. Connect the pattern you see to at least one historical observation about that particular country or global event. Include a link to a resource that provides context for that historical observation. Sometimes these changes are associated with changes in political leadership, war, famine, economic development, etc.\n",
    "\n",
    "_Points:_ 3"
   ]
  },
  {
   "cell_type": "code",
   "execution_count": null,
   "id": "61bcc22c-fe3d-4125-beb7-8b95c3d1a607",
   "metadata": {
    "deletable": false,
    "editable": false,
    "tags": []
   },
   "outputs": [],
   "source": [
    "all_countries = poverty_map.column('name')\n",
    "_ = widgets.interact(poverty_timeline, country=list(all_countries))"
   ]
  },
  {
   "cell_type": "markdown",
   "id": "085f183f",
   "metadata": {},
   "source": [
    "_Type your answer here, replacing this text._"
   ]
  },
  {
   "cell_type": "markdown",
   "id": "02ca7b3c-3601-4282-a0af-5fa30acd1af3",
   "metadata": {
    "deletable": false,
    "editable": false,
    "tags": []
   },
   "source": [
    "<!-- END QUESTION -->\n",
    "\n",
    "**You're finished!** Congratulations on working through your first project on data visualization and table manipulation."
   ]
  },
  {
   "cell_type": "markdown",
   "id": "3181d8a2-5ea5-43c2-8c0f-ce5abe040bec",
   "metadata": {},
   "source": [
    "---"
   ]
  },
  {
   "cell_type": "markdown",
   "id": "39070a92-b406-4f64-a304-ddeb2405321e",
   "metadata": {},
   "source": [
    "## 🏁 Submit Your Assignment to Canvas"
   ]
  },
  {
   "cell_type": "markdown",
   "id": "3fd22c07-e278-4a5c-a579-5abd862e531d",
   "metadata": {},
   "source": [
    "Follow these steps to submit your project assignment:\n",
    "\n",
    "1. **Review the Rubric:** View the rubric on the associated Canvas Assignment page to understand the scoring criteria.\n",
    "2. **Run the Auto-Grader:** Ensure you have executed the code cell containing the command `grader.check_all()` to run all tests for auto-graded tasks marked with 📍. This command will execute all auto-grader tests sequentially.\n",
    "3. **Complete Manually Graded Tasks:** Verify that you have responded to all the manually graded tasks marked with 📍🔎.\n",
    "4. **Save Your Work:** In the notebook's Toolbar, go to `File -> Save Notebook` to save your work and create a checkpoint.\n",
    "5. **Download the Notebook:** In the notebook's Toolbar, go to `File -> Download IPYNB` to download the notebook (`.ipynb`) file.\n",
    "6. **Upload to Canvas:** On the Canvas Assignment page, click \"Start Assignment\" or \"New Attempt\" to upload the downloaded `.ipynb` file."
   ]
  },
  {
   "cell_type": "markdown",
   "id": "2ce566ea-7b3d-480f-b133-eeea13273334",
   "metadata": {},
   "source": [
    "---"
   ]
  },
  {
   "cell_type": "markdown",
   "id": "30082ea6-6ac2-4e1d-aaf1-8729579b7570",
   "metadata": {
    "editable": true,
    "slideshow": {
     "slide_type": "notes"
    },
    "tags": []
   },
   "source": [
    "## Attribution"
   ]
  },
  {
   "cell_type": "markdown",
   "id": "91fe88e7-f890-4c61-b555-cd8b155964f1",
   "metadata": {},
   "source": [
    "This content is licensed under the <a href=\"https://creativecommons.org/licenses/by-nc-sa/4.0/\">Creative Commons Attribution-NonCommercial-ShareAlike 4.0 International License (CC BY-NC-SA 4.0)</a> and derived from the <a href=\"https://www.data8.org/\">Data 8: The Foundations of Data Science</a> offered by the University of California, Berkeley.\n",
    "\n",
    "<img src=\"./by-nc-sa.png\" width=100px>"
   ]
  },
  {
   "cell_type": "markdown",
   "id": "21fc2939",
   "metadata": {
    "deletable": false,
    "editable": false
   },
   "source": [
    "---\n",
    "\n",
    "To double-check your work, the cell below will rerun all of the autograder tests."
   ]
  },
  {
   "cell_type": "code",
   "execution_count": null,
   "id": "df8655cf",
   "metadata": {
    "deletable": false,
    "editable": false
   },
   "outputs": [],
   "source": [
    "grader.check_all()"
   ]
  }
 ],
 "metadata": {
  "kernelspec": {
   "display_name": "Python 3 (ipykernel)",
   "language": "python",
   "name": "python3"
  },
  "language_info": {
   "codemirror_mode": {
    "name": "ipython",
    "version": 3
   },
   "file_extension": ".py",
   "mimetype": "text/x-python",
   "name": "python",
   "nbconvert_exporter": "python",
   "pygments_lexer": "ipython3",
   "version": "3.11.9"
  },
  "otter": {
   "OK_FORMAT": true,
   "assignment_name": "project1_fa24",
   "tests": {
    "task_01": {
     "name": "task_01",
     "points": 4,
     "suites": [
      {
       "cases": [
        {
         "code": ">>> p_pop.labels == ('time', 'population_total')\nTrue",
         "failure_message": "❌ Check your column labels and spelling for p_pop",
         "hidden": false,
         "locked": false,
         "points": 1,
         "success_message": "✅ It seems like you have the correct columns in p_pop."
        },
        {
         "code": ">>> all(p_pop.sort('time').column('time') == np.arange(1900, 2021))\nTrue",
         "failure_message": "❌ The values for time should range from 1900 through 2020, inclusive.",
         "hidden": false,
         "locked": false,
         "points": 1,
         "success_message": "✅ It seems the you have the correct time values in p_pop"
        }
       ],
       "scored": true,
       "setup": "",
       "teardown": "",
       "type": "doctest"
      }
     ]
    },
    "task_02": {
     "name": "task_02",
     "points": 3,
     "suites": [
      {
       "cases": [
        {
         "code": ">>> first = round(p_five_growth.sort(0).column(2).item(0), 8)\n>>> 0.005 <= first <= 0.5\nTrue",
         "failure_message": "❌ We checked one of the values in p_five_growth, and it should be between 0.005 and 0.5",
         "hidden": false,
         "locked": false,
         "points": 0.5,
         "success_message": "✅ One of the values we checked in p_five_growth is between 0.005 and 0.05."
        },
        {
         "code": ">>> max(p_five_growth.column(2)) < 0.02\nTrue",
         "failure_message": "❌ Your largest growth rate should be less than 0.02.",
         "hidden": false,
         "locked": false,
         "points": 0.5,
         "success_message": "✅ It seems that your largest growth rate is less than 0.02."
        }
       ],
       "scored": true,
       "setup": "",
       "teardown": "",
       "type": "doctest"
      }
     ]
    },
    "task_05": {
     "name": "task_05",
     "points": 5,
     "suites": [
      {
       "cases": [
        {
         "code": ">>> fertility_over_time('usa', 2010).labels == ('Year', 'Children per woman')\nTrue",
         "failure_message": "❌ Your column labels are not correct. You might need to double check your spelling.",
         "hidden": false,
         "locked": false,
         "points": 1,
         "success_message": "✅ You seem to have the correct column labels!"
        },
        {
         "code": ">>> all(fertility_over_time('usa', 2010).column('Year') == np.arange(2010, 2021))\nTrue",
         "failure_message": "❌ It seems like you are missing some years in the Year column. Make sure to use the start year to determine the data range.",
         "hidden": false,
         "locked": false,
         "points": 1,
         "success_message": "✅ Your years seem to span the correct interval."
        },
        {
         "code": ">>> all(fertility_over_time('usa', 2005).column('Year') == np.arange(2005, 2021))\nTrue",
         "failure_message": "❌ It seems like you are missing some years in the Year column. Make sure to use the start year to determine the data range.",
         "hidden": false,
         "locked": false,
         "points": 1,
         "success_message": "✅ Your years seem to span the correct interval."
        }
       ],
       "scored": true,
       "setup": "",
       "teardown": "",
       "type": "doctest"
      }
     ]
    },
    "task_07": {
     "name": "task_07",
     "points": 8,
     "suites": [
      {
       "cases": [
        {
         "code": ">>> poland_since_1950.num_rows == 71\nTrue",
         "failure_message": "❌ Make sure you are using the date range 1950 - 2020, including 1950 and 2020.",
         "hidden": false,
         "locked": false,
         "points": 1,
         "success_message": "✅ It looks like you've covered the correct range of years."
        },
        {
         "code": ">>> all([label in poland_since_1950.labels for label in ['Children per woman', 'Child deaths per 1000 born']])\nTrue",
         "failure_message": "❌ Your labels in poland_since_1950 are not correct.",
         "hidden": false,
         "locked": false,
         "points": 1,
         "success_message": "✅ Your labels in poland_since_1950 seem correct."
        }
       ],
       "scored": true,
       "setup": "",
       "teardown": "",
       "type": "doctest"
      }
     ]
    },
    "task_09": {
     "name": "task_09",
     "points": 2,
     "suites": [
      {
       "cases": [
        {
         "code": ">>> import numpy as np\n>>> isinstance(fertility_statements, np.ndarray) and all((x in range(1, 7) for x in set(fertility_statements)))\nTrue",
         "failure_message": "❌ Make sure you are using make_array with numbers between 1 and 6, inclusive.",
         "hidden": false,
         "locked": false,
         "points": 1,
         "success_message": "✅ Great job formatting your answer as an array of integers."
        }
       ],
       "scored": true,
       "setup": "",
       "teardown": "",
       "type": "doctest"
      }
     ]
    },
    "task_11": {
     "name": "task_11",
     "points": 4,
     "suites": [
      {
       "cases": [
        {
         "code": ">>> t = stats_for_year(1990)\n>>> t.labels == ('geo', 'population_total', 'children_per_woman_total_fertility', 'child_mortality_under_5_per_1000_born')\nTrue",
         "failure_message": "❌ Your function generates a table, but the columns are not correct.",
         "hidden": false,
         "locked": false,
         "points": 1,
         "success_message": "✅ Your function generates a table with the correct columns."
        },
        {
         "code": ">>> t = stats_for_year(1990)\n>>> t.num_rows == 50\nTrue",
         "failure_message": "❌ Your function produces a table, but the number of rows are not correct.",
         "hidden": false,
         "locked": false,
         "points": 1,
         "success_message": "✅ Your function produces a table with the correct number of rows."
        },
        {
         "code": ">>> print(sum(stats_for_year(1960).sort('geo').take(np.arange(5, 50, 5)).column(2)))\n49.47\n",
         "failure_message": "❌ Your function didn't seem to create the right fertility values for the year 1960.",
         "hidden": false,
         "locked": false,
         "points": 1,
         "success_message": "✅ It seems like your function created the right fertility values for the year 1960."
        },
        {
         "code": ">>> print(sum(stats_for_year(2010).sort('geo').take(np.arange(3, 50, 5)).column(3)))\n533.54\n",
         "failure_message": "❌ Your function didn't seem to create the right child mortality values for the year 1960.",
         "hidden": false,
         "locked": false,
         "points": 1,
         "success_message": "✅ It seems like your function created the right child mortality values for the year 1960."
        }
       ],
       "scored": true,
       "setup": "",
       "teardown": "",
       "type": "doctest"
      }
     ]
    },
    "task_12": {
     "name": "task_12",
     "points": 7,
     "suites": [
      {
       "cases": [
        {
         "code": ">>> pop_by_decade.labels == ('decade', 'population')\nTrue",
         "failure_message": "❌ pop_by_decade doesn't have the correct labels.",
         "hidden": false,
         "locked": false,
         "points": 1,
         "success_message": "✅ pop_by_decade has the correct labels."
        },
        {
         "code": ">>> pop_by_decade.column(0).item(0) == 1960\nTrue",
         "failure_message": "❌ The first year of the 1960s should be 1960.",
         "hidden": false,
         "locked": false,
         "points": 1,
         "success_message": "✅ The first year of the 1960s is 1960."
        }
       ],
       "scored": true,
       "setup": "",
       "teardown": "",
       "type": "doctest"
      }
     ]
    },
    "task_12_pop_for_year_check": {
     "name": "task_12_pop_for_year_check",
     "points": 0,
     "suites": [
      {
       "cases": [
        {
         "code": ">>> pop_for_year(1972) == 3355562066\nTrue",
         "failure_message": "❌ The function doesn't seem to work correctly for 1972.",
         "hidden": false,
         "locked": false,
         "points": 0,
         "success_message": "✅ The function seems to work correctly for 1972."
        },
        {
         "code": ">>> pop_for_year(1989) == 4576679948\nTrue",
         "failure_message": "❌ The function doesn't seem to work correctly for 1989.",
         "hidden": false,
         "locked": false,
         "points": 0,
         "success_message": "✅ The function seems to work correctly for 1989."
        },
        {
         "code": ">>> pop_for_year(2020) == 5514129422\nFalse",
         "failure_message": "❌ The function doesn't seem to work correctly for 2002.",
         "hidden": false,
         "locked": false,
         "points": 0,
         "success_message": "✅ The function seems to work correctly for 2002."
        }
       ],
       "scored": true,
       "setup": "",
       "teardown": "",
       "type": "doctest"
      }
     ]
    },
    "task_13": {
     "name": "task_13",
     "points": 4,
     "suites": [
      {
       "cases": [
        {
         "code": ">>> region_counts.labels == ('region', 'count')\nTrue",
         "failure_message": "❌ region_counts doesn't contain the correct labels.",
         "hidden": false,
         "locked": false,
         "points": 1,
         "success_message": "✅ region_counts contains the correct labels."
        },
        {
         "code": ">>> sum(region_counts.column('count')) == 50\nTrue",
         "failure_message": "❌ The count sum should total 50.",
         "hidden": false,
         "locked": false,
         "points": 1,
         "success_message": "✅ The count sum totals 50 as expected."
        }
       ],
       "scored": true,
       "setup": "",
       "teardown": "",
       "type": "doctest"
      }
     ]
    },
    "task_14": {
     "name": "task_14",
     "points": null,
     "suites": [
      {
       "cases": [
        {
         "code": ">>> import numpy as np\n>>> isinstance(scatter_statements, np.ndarray) and all((x in range(1, 6) for x in set(scatter_statements)))\nTrue",
         "failure_message": "❌ You haven't provided an array of possible values.",
         "hidden": false,
         "locked": false,
         "points": 1,
         "success_message": "✅ You have provided an array of possible values."
        }
       ],
       "scored": true,
       "setup": "",
       "teardown": "",
       "type": "doctest"
      }
     ]
    },
    "task_15": {
     "name": "task_15",
     "points": 3,
     "suites": [
      {
       "cases": [
        {
         "code": ">>> latest_poverty.labels == ('geo', 'time', 'poverty_percent')\nTrue",
         "failure_message": "❌ The labels of latest_poverty are not correct.",
         "hidden": false,
         "locked": false,
         "points": 1,
         "success_message": "✅ The labels of latest_poverty are correct."
        },
        {
         "code": ">>> latest_poverty.num_rows == 168\nTrue",
         "failure_message": "❌ latest_poverty does not have the correct number of rows.",
         "hidden": false,
         "locked": false,
         "points": 1,
         "success_message": "✅ latest_poverty has the correct number of rows."
        }
       ],
       "scored": true,
       "setup": "",
       "teardown": "",
       "type": "doctest"
      }
     ]
    },
    "task_16": {
     "name": "task_16",
     "points": 4,
     "suites": [
      {
       "cases": [
        {
         "code": ">>> recent_poverty_total.labels == ('geo', 'poverty_percent', 'population_total', 'poverty_total')\nTrue",
         "failure_message": "❌ recent_poverty_total does not have the correct labels.",
         "hidden": false,
         "locked": false,
         "points": 1,
         "success_message": "✅ recent_poverty_total has the correct labels."
        },
        {
         "code": ">>> recent_poverty_total.where('geo', 'aus').column(2).item(0) == 22154687\nTrue",
         "failure_message": "❌ recent_poverty_total should show that Australia's population in 2010 is 22,154,687.",
         "hidden": false,
         "locked": false,
         "points": 1,
         "success_message": "✅ recent_poverty_total shows correctly that Australia's population in 2010 is 22,154,687."
        },
        {
         "code": ">>> float(recent_poverty_total.where('geo', 'aus').column(3).item(0)) == 110773\nTrue",
         "failure_message": "❌ The number of people estimated to be living in extreme poverty in Australia should be 110,773.",
         "hidden": false,
         "locked": false,
         "points": 1,
         "success_message": "✅ The number of people estimated to be living in extreme poverty in Australia is 110,773."
        }
       ],
       "scored": true,
       "setup": "",
       "teardown": "",
       "type": "doctest"
      }
     ]
    },
    "task_17": {
     "name": "task_17",
     "points": 2,
     "suites": [
      {
       "cases": [
        {
         "code": ">>> 10 <= poverty_percent <= 20\nTrue",
         "failure_message": "❌ poverty_precent should be between 10 and 20",
         "hidden": false,
         "locked": false,
         "points": 1,
         "success_message": "✅ poverty_percent is between 10 and 20."
        }
       ],
       "scored": true,
       "setup": "",
       "teardown": "",
       "type": "doctest"
      }
     ]
    },
    "task_18": {
     "name": "task_18",
     "points": 3,
     "suites": [
      {
       "cases": [
        {
         "code": ">>> poverty_map.labels == ('latitude', 'longitude', 'name', 'region', 'poverty_total')\nTrue",
         "failure_message": "❌ poverty_map does not have the correct labels.",
         "hidden": false,
         "locked": false,
         "points": 1,
         "success_message": "✅ poverty_map has the correct labels."
        },
        {
         "code": ">>> list(np.sort(np.unique(poverty_map.column('region'))))\n['africa', 'americas', 'asia', 'europe']",
         "failure_message": "❌ poverty_map does not have the correct region values.",
         "hidden": false,
         "locked": false,
         "points": 1,
         "success_message": "✅ poverty_map has the correct region values."
        }
       ],
       "scored": true,
       "setup": "",
       "teardown": "",
       "type": "doctest"
      }
     ]
    },
    "task_19": {
     "name": "task_19",
     "points": 4,
     "suites": [
      {
       "cases": [
        {
         "code": ">>> largest.labels == ('name', 'poverty_total')\nTrue",
         "failure_message": "❌ largest does not contain the correct labels.",
         "hidden": false,
         "locked": false,
         "points": 1,
         "success_message": "✅ largest contains the correct labels."
        },
        {
         "code": ">>> largest.column(0).item(0) == 'India'\nTrue",
         "failure_message": "❌ According to the data, India is the country with the largest number of people in extreme poverty.",
         "hidden": false,
         "locked": false,
         "points": 1,
         "success_message": "✅ largest correctly identifies (according to this data) India as the country with the largest number of people in extreme poverty."
        },
        {
         "code": ">>> largest.num_rows == 10\nTrue",
         "failure_message": "❌ largest should contain 10 rows.",
         "hidden": false,
         "locked": false,
         "points": 1,
         "success_message": "✅ largest contains 10 rows."
        }
       ],
       "scored": true,
       "setup": "",
       "teardown": "",
       "type": "doctest"
      }
     ]
    }
   }
  }
 },
 "nbformat": 4,
 "nbformat_minor": 5
}
