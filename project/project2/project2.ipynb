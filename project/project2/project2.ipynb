{
 "cells": [
  {
   "cell_type": "code",
   "execution_count": null,
   "id": "a7a9d912",
   "metadata": {
    "deletable": false,
    "editable": false
   },
   "outputs": [],
   "source": [
    "# Initialize Otter\n",
    "import otter\n",
    "grader = otter.Notebook(\"project2.ipynb\")"
   ]
  },
  {
   "cell_type": "markdown",
   "id": "5df85b89-52ae-4927-a97c-f39bf185b53f",
   "metadata": {},
   "source": [
    "<img src=\"./ccsf.png\" alt=\"CCSF Logo\" width=200px style=\"margin:0px -5px\">"
   ]
  },
  {
   "cell_type": "markdown",
   "id": "efa1e778-7e3e-489b-91ff-63cbbf63c6b2",
   "metadata": {},
   "source": [
    "# Project 2: Climate"
   ]
  },
  {
   "cell_type": "markdown",
   "id": "dbbb8cf7-03c6-4e03-b1f1-93e9b7dfdc7e",
   "metadata": {},
   "source": [
    "## 🎗️ Assignment Reminders"
   ]
  },
  {
   "cell_type": "markdown",
   "id": "75c851cb-9971-4702-846c-41971e394f60",
   "metadata": {},
   "source": [
    "- **Initialize Otter.** 🚨 Make sure to run the code cell at the top of this notebook that starts with `# Initialize Otter` to load the auto-grader.\n",
    "- **Complete the Tasks.** Your Tasks are categorized as auto-graded (📍) and manually graded (📍🔎).\n",
    "    - For all the auto-graded tasks:\n",
    "        - Replace the `...` in the provided code cell with your own code.\n",
    "        - Run the `grader.check` code cell to run some tests on your code.\n",
    "        - Keep in mind that for homework and project assignments, sometimes there are hidden tests that you will not be able to see the results of that we use for scoring the correctness of your response. **Passing the auto-grader does not guarantee that your answer is correct.**\n",
    "    - For all the manually graded tasks:\n",
    "        - You might need to provide your own response to the provided prompt. Do so by replacing the template text \"_Type your answer here, replacing this text._\" with your own words.\n",
    "        - You might need to produce a graphic or something else using code. Do so by replacing the `...` in the code cell to generate the image, table, etc.\n",
    "        - In either case, review the rubric on the associated <a href=\"https://ccsf.instructure.com\" target=\"_blank\">Canvas</a> Assignment page to understand the scoring criteria.\n",
    "- **Submit Checkpoint.** Since the project assignments span several weeks, we require you to submit a checkpoint assignment where we are looking for a reasonable attempt on a certain set of tasks by a posted deadline.\n",
    "- **[Optional] Project Partner.** \n",
    "    * For this assignment, you are allowed to complete this project with a partner, but you are not required to work with a partner.\n",
    "    * If you want to work with someone, you and your partner should set up a Canvas group with your instructor for this assignment.\n",
    "    * Keep in mind that for group assignments, one submission will count for the entire group in Canvas.\n",
    "- **Code Sharing.** Don't share your code directly with anybody but your partner. You are welcome to discuss questions with other students but don't share the answers. The experience of solving the problems in this project will prepare you for our exams and potentially for future work in this field. If someone asks you for the answer, resist! Instead, you can demonstrate how you would solve a similar problem or you can focus on a specific part of a task.\n",
    "- **Support.** You are not alone! Meet with your instructor or the tutors, post questions on Canvas or the student Discord channel, and talk to your classmates during our meetings. If you're ever feeling overwhelmed or don't know how to make progress, talk to your instructor or a tutor.\n",
    "- **Advice.** Develop your answers incrementally. To perform a complicated table manipulation, break it up into steps, perform each step on a different line, give a new name to each result, and check that each intermediate result is what you expect. You can add any additional names or functions you want to the provided cells. Make sure that you are using distinct and meaningful variable names throughout the notebook.\n",
    "- **Variable Names.** Throughout this assignment and all future ones, please be sure to not re-assign variables throughout the notebook! _For example, if you use `max_temperature` in your answer to one question, do not reassign it later on. Otherwise, you will fail tests that you thought you were passing previously!_\n",
    "- **Re-Submitting.** You may [submit](#Submit-Your-Assignment-to-Canvas) this assignment as many times as you want before the deadline. Your instructor will score the last version you submit once the deadline has passed.\n"
   ]
  },
  {
   "cell_type": "markdown",
   "id": "52808b0d-7cfc-4642-8afe-0a958cab5e60",
   "metadata": {},
   "source": [
    "---"
   ]
  },
  {
   "cell_type": "markdown",
   "id": "9a957959-cc17-4367-a658-5dce1cf4502e",
   "metadata": {},
   "source": [
    "## Configure the Notebook"
   ]
  },
  {
   "cell_type": "markdown",
   "id": "6899bee2-099e-475b-b43f-51e32a3e5e2d",
   "metadata": {},
   "source": [
    "Run the following cell to configure this Notebook."
   ]
  },
  {
   "cell_type": "code",
   "execution_count": null,
   "id": "1c4968dd-588f-4701-b30b-9e36dd8e6a47",
   "metadata": {},
   "outputs": [],
   "source": [
    "from datascience import *\n",
    "import numpy as np\n",
    "%matplotlib inline\n",
    "import matplotlib.pyplot as plt\n",
    "plt.style.use('fivethirtyeight')"
   ]
  },
  {
   "cell_type": "markdown",
   "id": "ee9b11c2-1a55-4984-b692-96d520c953f2",
   "metadata": {},
   "source": [
    "---"
   ]
  },
  {
   "cell_type": "markdown",
   "id": "84ab9981-195a-40ad-b79f-c2affd50f47c",
   "metadata": {},
   "source": [
    "## 🌡️ Part 1: Temperatures"
   ]
  },
  {
   "cell_type": "markdown",
   "id": "c050ed26-44bb-4b36-bf26-f792ecd2ff45",
   "metadata": {},
   "source": [
    "In the following analysis, we will investigate one of the 21st century's most prominent issues: climate change. While the details of climate science are beyond the scope of this course, we can start to learn about climate change just by analyzing public records of different cities' temperature and precipitation over time.\n",
    "\n",
    "We will analyze a collection of historical daily temperature and precipitation measurements from weather stations in 210 U.S. cities. The dataset was compiled by Yuchuan Lai and David Dzombak [1]; a description of the data from the original authors and the data itself is available [here](https://kilthub.cmu.edu/articles/dataset/Compiled_daily_temperature_and_precipitation_data_for_the_U_S_cities/7890488). \n",
    "\n",
    "[1] Lai, Yuchuan; Dzombak, David (2019): Compiled historical daily temperature and precipitation data for selected 210 U.S. cities. Carnegie Mellon University. Dataset."
   ]
  },
  {
   "cell_type": "markdown",
   "id": "4faf58b8-e032-45f8-b604-11d74719efba",
   "metadata": {},
   "source": [
    "---"
   ]
  },
  {
   "cell_type": "markdown",
   "id": "9d8043a4-d20e-4832-8abe-1a13e86290f4",
   "metadata": {
    "tags": []
   },
   "source": [
    "### 🌆 Section 1: Cities"
   ]
  },
  {
   "cell_type": "markdown",
   "id": "3ef0ffe9-7a14-41b8-9827-415d3b35afe2",
   "metadata": {},
   "source": [
    "---"
   ]
  },
  {
   "cell_type": "markdown",
   "id": "80aad662-ab84-44a9-9815-17faa787f6a1",
   "metadata": {},
   "source": [
    "Run the following cell to load information about the `cities` and preview the first few rows."
   ]
  },
  {
   "cell_type": "code",
   "execution_count": null,
   "id": "3bc287ea-b948-4ea9-b95b-6da180950cda",
   "metadata": {},
   "outputs": [],
   "source": [
    "cities = Table.read_table('city_info.csv').drop(0)\n",
    "cities.show(3)"
   ]
  },
  {
   "cell_type": "markdown",
   "id": "62907d27-9c1b-4217-9c40-cc7106a5928d",
   "metadata": {},
   "source": [
    "The `cities` table has one row per weather station and the following columns:\n",
    "\n",
    "1. `\"Name\"`: The name of the US city\n",
    "2. `\"ID\"`: The unique identifier for the US city\n",
    "3. `\"Lat\"`: The latitude of the US city (measured in degrees of latitude)\n",
    "4. `\"Lon\"`: The longitude of the US city (measured in degrees of longitude)\n",
    "4. `\"Stn.Name\"`: The name of the weather station in which the data was collected\n",
    "5. `\"Stn.stDate\"`: A string representing the date of the first recording at that particular station\n",
    "6. `\"Stn.edDate\"`: A string representing the date of the last recording at that particular station\n",
    "\n",
    "The data lists the weather stations at which temperature and precipitation data were collected. Note that although some cities have multiple weather stations, only one is collecting data for that city at any given point in time. Thus, we are able to just focus on the cities themselves."
   ]
  },
  {
   "cell_type": "markdown",
   "id": "610c3db6-3012-430a-9041-dcc9bacf55aa",
   "metadata": {},
   "source": [
    "---"
   ]
  },
  {
   "cell_type": "markdown",
   "id": "bd8e5f0d-9986-47bb-9d11-54263f424a44",
   "metadata": {
    "editable": true,
    "slideshow": {
     "slide_type": ""
    },
    "tags": []
   },
   "source": [
    "#### Task 01 📍🔎"
   ]
  },
  {
   "cell_type": "markdown",
   "id": "c1fb03b3-7295-43fe-92a1-83b913a1ead2",
   "metadata": {
    "deletable": false,
    "editable": false
   },
   "source": [
    "<!-- BEGIN QUESTION -->\n",
    "\n",
    "In the cell below, produce a scatter plot that plots the latitude and longitude of every city in the `cities` table so that the result places northern cities at the top and western cities at the left.\n",
    "\n",
    "*Note*: It's okay to plot the same point multiple times!\n",
    "\n",
    "_Points:_ 2"
   ]
  },
  {
   "cell_type": "code",
   "execution_count": null,
   "id": "9a1fb6be-01e5-4734-b54b-c27df1009d93",
   "metadata": {
    "tags": []
   },
   "outputs": [],
   "source": [
    "..."
   ]
  },
  {
   "cell_type": "markdown",
   "id": "d9645b74-763e-43e3-a3c1-4dfff4a48632",
   "metadata": {
    "deletable": false,
    "editable": false
   },
   "source": [
    "<!-- END QUESTION -->\n",
    "\n",
    "These cities are all within the continental U.S., and so the general shape of the U.S. should be visible in your plot. The shape will appear distorted compared to most maps for two reasons: the scatter plot is square even though the U.S. is wider than it is tall, and this scatter plot is an [equirectangular projection](https://en.wikipedia.org/wiki/Equirectangular_projection) of the spherical Earth. A geographical map of the same data uses the common [Pseudo-Mercator projection](https://en.wikipedia.org/wiki/Web_Mercator_projection)."
   ]
  },
  {
   "cell_type": "code",
   "execution_count": null,
   "id": "dbbc54eb-6071-4f1e-b408-eddc84220e10",
   "metadata": {
    "scrolled": true
   },
   "outputs": [],
   "source": [
    "# Just run this cell\n",
    "Marker.map_table(cities.select('Lat', 'Lon', 'Name').relabeled('Name', 'labels'))"
   ]
  },
  {
   "cell_type": "markdown",
   "id": "741933b1-eb0a-42fd-823f-7f949e6637cb",
   "metadata": {},
   "source": [
    "---"
   ]
  },
  {
   "cell_type": "markdown",
   "id": "3b18e8bb-6b8a-4fc0-97d9-daeb5a4ce881",
   "metadata": {},
   "source": [
    "#### Task 02 📍🔎"
   ]
  },
  {
   "cell_type": "markdown",
   "id": "ccdf4b8f-4490-47b4-8d10-85157041b8d1",
   "metadata": {
    "deletable": false,
    "editable": false
   },
   "source": [
    "<!-- BEGIN QUESTION -->\n",
    "\n",
    "Does it appear that these city locations are sampled uniformly at random from all the locations in the U.S.? Why or why not?\n",
    "\n",
    "_Points:_ 2"
   ]
  },
  {
   "cell_type": "markdown",
   "id": "160ebd42",
   "metadata": {},
   "source": [
    "_Type your answer here, replacing this text._"
   ]
  },
  {
   "cell_type": "markdown",
   "id": "577eb9e2-db38-4c0e-b8e6-8cbe9e9320e1",
   "metadata": {
    "deletable": false,
    "editable": false
   },
   "source": [
    "<!-- END QUESTION -->\n",
    "\n",
    "---"
   ]
  },
  {
   "cell_type": "markdown",
   "id": "1ab5b497-4756-4cea-8224-e41879bd1ff1",
   "metadata": {
    "tags": []
   },
   "source": [
    "#### Task 03 📍"
   ]
  },
  {
   "cell_type": "markdown",
   "id": "b21514ef-ea3a-443f-95fe-9b6fd288d0d2",
   "metadata": {
    "deletable": false,
    "editable": false
   },
   "source": [
    "Assign `num_unique_cities` to the number of unique cities that appear in the `cities` table.\n",
    "\n",
    "_Note: Keep in mind that it may be possible that there are two cities with the same name._\n",
    "\n",
    "_Points:_ 6"
   ]
  },
  {
   "cell_type": "code",
   "execution_count": null,
   "id": "edd5c09f-cb1e-4f5f-bdaa-653cf0060996",
   "metadata": {
    "tags": []
   },
   "outputs": [],
   "source": [
    "num_unique_cities = ...\n",
    "\n",
    "# Do not change this line\n",
    "print(f\"There are {num_unique_cities} unique cities that appear within our dataset.\")"
   ]
  },
  {
   "cell_type": "code",
   "execution_count": null,
   "id": "3bac4fba",
   "metadata": {
    "deletable": false,
    "editable": false
   },
   "outputs": [],
   "source": [
    "grader.check(\"task_03\")"
   ]
  },
  {
   "cell_type": "markdown",
   "id": "e8e5b38e-6e23-4623-8aa5-a6cd7e49a3aa",
   "metadata": {},
   "source": [
    "In order to investigate further, it will be helpful to determine what region of the United States each city was located in: Northeast, Northwest, Southeast, or Southwest. For our purposes, we will be using the following geographical boundaries:\n",
    "\n",
    "<img src= \"usa_coordinates.png\" alt=\"USA Coordinate Map\" width=\"600\"/>\n",
    "\n",
    "1. A station is located in the `\"Northeast\"` region if its latitude is above or equal to 40 degrees and its longtitude is greater than or equal to -100 degrees.\n",
    "2. A station is located in the `\"Northwest\"` region if its latitude is above or equal to 40 degrees and its longtitude is less than -100 degrees.\n",
    "3. A station is located in the `\"Southeast\"` region if its latitude is below 40 degrees and its longtitude is greater than or equal to -100 degrees.\n",
    "4. A station is located in the `\"Southwest\"` region if its latitude is below 40 degrees and its longtitude is less than -100 degrees."
   ]
  },
  {
   "cell_type": "markdown",
   "id": "75a1c15a-01ea-4835-a2ac-fb982dd22913",
   "metadata": {},
   "source": [
    "---"
   ]
  },
  {
   "cell_type": "markdown",
   "id": "ad769ff0-11ca-436c-ae2c-cd73a7efcfa0",
   "metadata": {
    "tags": []
   },
   "source": [
    "#### Task 04 📍"
   ]
  },
  {
   "cell_type": "markdown",
   "id": "5a2a4644-b4aa-4137-9462-75d382d57fce",
   "metadata": {
    "deletable": false,
    "editable": false
   },
   "source": [
    "Define the `coordinates_to_region` function below. It should take in two arguments, a city's latitude (`lat`) and longitude (`lon`) coordinates, and output a string representing the region it is located in.\n",
    "\n",
    "_Points:_ 4"
   ]
  },
  {
   "cell_type": "code",
   "execution_count": null,
   "id": "381bbada-dd05-442b-88ef-1ea34208f654",
   "metadata": {
    "tags": []
   },
   "outputs": [],
   "source": [
    "def coordinates_to_region(...):\n",
    "    ..."
   ]
  },
  {
   "cell_type": "code",
   "execution_count": null,
   "id": "92bdd2a6",
   "metadata": {
    "deletable": false,
    "editable": false
   },
   "outputs": [],
   "source": [
    "grader.check(\"task_04\")"
   ]
  },
  {
   "cell_type": "markdown",
   "id": "8864039b-169c-4f4c-ad67-ae9741a53cef",
   "metadata": {},
   "source": [
    "---"
   ]
  },
  {
   "cell_type": "markdown",
   "id": "7717aa66-1161-481d-b3a3-45b76a0e7b02",
   "metadata": {
    "tags": []
   },
   "source": [
    "#### Task 05 📍"
   ]
  },
  {
   "cell_type": "markdown",
   "id": "93369434-025e-4c7e-a1bd-f52cdc612a07",
   "metadata": {
    "deletable": false,
    "editable": false
   },
   "source": [
    "Add a new column in `cities` labeled `Region` that contains the region in which the city is located. For full credit, you must use the `coordinates_to_region` function you defined rather than re-implementing its logic.\n",
    "\n",
    "_Points:_ 6"
   ]
  },
  {
   "cell_type": "code",
   "execution_count": null,
   "id": "a7c82957-d54c-4bd7-a503-67a0fc92faf0",
   "metadata": {
    "tags": []
   },
   "outputs": [],
   "source": [
    "regions_array = ...\n",
    "cities = ...\n",
    "cities.show(5)"
   ]
  },
  {
   "cell_type": "code",
   "execution_count": null,
   "id": "c1ffda53",
   "metadata": {
    "deletable": false,
    "editable": false
   },
   "outputs": [],
   "source": [
    "grader.check(\"task_05\")"
   ]
  },
  {
   "cell_type": "markdown",
   "id": "b92d6979-a337-46d8-9054-e1327450466c",
   "metadata": {},
   "source": [
    "To confirm that you've defined your `coordinates_to_region` function correctly and successfully added the `Region` column to the `cities` table, run the following cell. Each region should have a different color in the result."
   ]
  },
  {
   "cell_type": "code",
   "execution_count": null,
   "id": "3882731b-6270-4380-811b-1240b4760793",
   "metadata": {},
   "outputs": [],
   "source": [
    "# Just run this cell\n",
    "cities.scatter(\"Lon\", \"Lat\", group=\"Region\")"
   ]
  },
  {
   "cell_type": "markdown",
   "id": "2a18ac92-7beb-4756-97ef-f65361936586",
   "metadata": {},
   "source": [
    "---"
   ]
  },
  {
   "cell_type": "markdown",
   "id": "623b2680-e0e7-454f-9321-ccd3fc6249d7",
   "metadata": {},
   "source": [
    "### 🌵 Section 2: Welcome to Phoenix, Arizona"
   ]
  },
  {
   "cell_type": "markdown",
   "id": "64a9527c-7738-4395-bcd2-e4ba89e65919",
   "metadata": {},
   "source": [
    "---"
   ]
  },
  {
   "cell_type": "markdown",
   "id": "e42d657b-aa15-4de7-aa8c-7e51d6e83522",
   "metadata": {},
   "source": [
    "Each city has a different CSV file full of daily temperature and precipitation measurements. The file for Phoenix, Arizona is included with this project as `phoenix.csv`. The files for other cities can be downloaded [here](https://kilthub.cmu.edu/articles/dataset/Compiled_daily_temperature_and_precipitation_data_for_the_U_S_cities/7890488) by matching them to the ID of the city in the `cities` table.\n",
    "\n",
    "Since Phoenix is located on the upper edge of the Sonoran Desert, it has some impressive temperatures.\n",
    "\n",
    "Run the following cell to load in the `phoenix` table. It has one row per day and the following columns:\n",
    "\n",
    "1. `\"Date\"`: The date (a string) representing the date of the recording in **YYYY-MM-DD** format\n",
    "2. `\"tmax\"`: The maximum temperature for the  day (°F)\n",
    "3. `\"tmin\"`: The minimum temperature for the day (°F)\n",
    "4. `\"prcp\"`: The recorded precipitation for the day (inches)"
   ]
  },
  {
   "cell_type": "code",
   "execution_count": null,
   "id": "c4943650-5136-4a23-9769-5c1f5ca06ed1",
   "metadata": {
    "scrolled": true
   },
   "outputs": [],
   "source": [
    "phoenix = Table.read_table(\"phoenix.csv\", index_col=0)\n",
    "phoenix.show(3)"
   ]
  },
  {
   "cell_type": "markdown",
   "id": "d705898f-fb30-41a0-bd05-fb038f09bb37",
   "metadata": {},
   "source": [
    "---"
   ]
  },
  {
   "cell_type": "markdown",
   "id": "4ab1d7d1-85c6-479a-8d58-3c356f28b05a",
   "metadata": {
    "tags": []
   },
   "source": [
    "#### Task 06 📍"
   ]
  },
  {
   "cell_type": "markdown",
   "id": "2bbc3309-7781-4df8-9abd-8319ac2dafc7",
   "metadata": {
    "deletable": false,
    "editable": false
   },
   "source": [
    "Assign the variable `largest_2010_range_date` to the date of the **largest temperature range** in Phoenix, Arizona for any day between January 1st, 2010 and December 31st, 2010. Your answer should be a string in the \"YYYY-MM-DD\" format. Feel free to use as many lines as you need. A temperature range is calculated as the difference between the max and min temperatures for the day.\n",
    "\n",
    "*Hint*: To limit the values in a column to only those that *contain* a certain string, pick the right `are.` predicate from the Python Reference Sheet.\n",
    "\n",
    "*Note:* Do **not** re-assign the `phoenix` variable; please use the `phoenix_with_ranges_2010` variable instead.\n",
    "\n",
    "_Points:_ 5"
   ]
  },
  {
   "cell_type": "code",
   "execution_count": null,
   "id": "29185ee9-32b3-4a50-b0de-8af9841d807f",
   "metadata": {
    "tags": []
   },
   "outputs": [],
   "source": [
    "...\n",
    "phoenix_with_ranges_2010 = ...\n",
    "largest_2010_range_date = ...\n",
    "largest_2010_range_date"
   ]
  },
  {
   "cell_type": "code",
   "execution_count": null,
   "id": "63ae6c39",
   "metadata": {
    "deletable": false,
    "editable": false
   },
   "outputs": [],
   "source": [
    "grader.check(\"task_06\")"
   ]
  },
  {
   "cell_type": "markdown",
   "id": "3f8f90d7-ada3-4f51-afcf-10e57af3c123",
   "metadata": {},
   "source": [
    "---"
   ]
  },
  {
   "cell_type": "markdown",
   "id": "7530cf00-4c0f-4fb0-85cc-727574c74507",
   "metadata": {},
   "source": [
    "We can look back to our `phoenix` table to check the temperature readings for our `largest_2010_range_date` to see if anything special is going on. Run the cell below to find the row of the `phoenix` table that corresponds to the date we found above. "
   ]
  },
  {
   "cell_type": "code",
   "execution_count": null,
   "id": "c673caf0-30c3-4495-aeb5-0b191d487915",
   "metadata": {},
   "outputs": [],
   "source": [
    "# Just run this cell\n",
    "phoenix.where(\"Date\", largest_2010_range_date)"
   ]
  },
  {
   "cell_type": "markdown",
   "id": "e4bf2acd-ef75-4213-9365-e59aecd3e7c8",
   "metadata": {},
   "source": [
    "ZOO WEE MAMA! Look at the maximum temperature for that day. That's hot."
   ]
  },
  {
   "cell_type": "markdown",
   "id": "3ebd357f-a491-4cca-b304-310005b86483",
   "metadata": {},
   "source": [
    "The function `extract_year_from_date` takes a date string in the **YYYY-MM-DD** format and returns an integer representing the **year**. The function `extract_month_from_date` takes a date string and returns a string describing the month. Run this cell, but you do not need to understand how this code works or edit it."
   ]
  },
  {
   "cell_type": "code",
   "execution_count": null,
   "id": "55cc5520-7874-43dd-ae02-9f405b073614",
   "metadata": {},
   "outputs": [],
   "source": [
    "# Just run this cell\n",
    "import calendar\n",
    "\n",
    "def extract_year_from_date(date):\n",
    "    \"\"\"Returns an integer corresponding to the year of the input string's date.\"\"\"\n",
    "    return int(date[:4])\n",
    "\n",
    "def extract_month_from_date(date):\n",
    "    \"Return an abbreviation of the name of the month for a string's date.\"\n",
    "    month = date[5:7]\n",
    "    return f'{month} ({calendar.month_abbr[int(date[5:7])]})'\n",
    "\n",
    "\n",
    "# Example\n",
    "print('2022-04-01 has year', extract_year_from_date('2022-04-01'),\n",
    "      'and month', extract_month_from_date('2022-04-01'))"
   ]
  },
  {
   "cell_type": "markdown",
   "id": "8b092f63-8c5b-44f6-84dd-39dea8d6ef94",
   "metadata": {},
   "source": [
    "---"
   ]
  },
  {
   "cell_type": "markdown",
   "id": "c68b4a08-e34e-47a8-8c2f-81272aeab570",
   "metadata": {
    "tags": []
   },
   "source": [
    "#### Task 07 📍"
   ]
  },
  {
   "cell_type": "markdown",
   "id": "d6ccf138-e429-4f9b-ad53-289a0e2f65cf",
   "metadata": {
    "deletable": false,
    "editable": false
   },
   "source": [
    "Add two new columns called `Year` and `Month` to the `phoenix` table that contain the year as an **integer** and the month as a **string** (such as `\"04 (Apr)\"`) for each day, respectively. \n",
    "\n",
    "*Note*: The functions above may be helpful!\n",
    "\n",
    "_Points:_ 6"
   ]
  },
  {
   "cell_type": "code",
   "execution_count": null,
   "id": "83d6e8c6-2951-494a-be92-a1db65d90dfa",
   "metadata": {
    "tags": []
   },
   "outputs": [],
   "source": [
    "years_array = ...\n",
    "months_array = ...\n",
    "...\n",
    "phoenix.show(5)"
   ]
  },
  {
   "cell_type": "code",
   "execution_count": null,
   "id": "9b1375f4",
   "metadata": {
    "deletable": false,
    "editable": false
   },
   "outputs": [],
   "source": [
    "grader.check(\"task_07\")"
   ]
  },
  {
   "cell_type": "markdown",
   "id": "5173bed5-0def-4b33-9582-a00de0983c14",
   "metadata": {},
   "source": [
    "---"
   ]
  },
  {
   "cell_type": "markdown",
   "id": "01cac9f2-8902-4479-9725-93e7ee4d1d07",
   "metadata": {},
   "source": [
    "#### Task 08 📍🔎"
   ]
  },
  {
   "cell_type": "markdown",
   "id": "82b56706-a559-405d-8a5d-b2775baccba3",
   "metadata": {
    "deletable": false,
    "editable": false
   },
   "source": [
    "<!-- BEGIN QUESTION -->\n",
    "\n",
    "Using the `phoenix` table, create an overlaid line plot of the **average maximum temperature** and **average minimum temperature** for each year between 1900 and 2020 (inclusive). \n",
    "\n",
    "*Hint:* To draw a line plot with more than one line, call `plot` on the column label of the x-axis values and all other columns will be treated as y-axis values.\n",
    "\n",
    "_Points:_ 2"
   ]
  },
  {
   "cell_type": "code",
   "execution_count": null,
   "id": "0e637c5c-62a1-4f47-bf09-4da4bfd61161",
   "metadata": {
    "tags": []
   },
   "outputs": [],
   "source": [
    "..."
   ]
  },
  {
   "cell_type": "markdown",
   "id": "85e62558-226f-4a9a-b40a-d92ba52f15a6",
   "metadata": {
    "deletable": false,
    "editable": false
   },
   "source": [
    "<!-- END QUESTION -->\n",
    "\n",
    "---"
   ]
  },
  {
   "cell_type": "markdown",
   "id": "aa532006-acf2-499d-b9d4-5e1648c99cc6",
   "metadata": {},
   "source": [
    "#### Task 09 📍🔎"
   ]
  },
  {
   "cell_type": "markdown",
   "id": "ad038290-d217-42f1-9d83-75787fedf42c",
   "metadata": {
    "deletable": false,
    "editable": false
   },
   "source": [
    "<!-- BEGIN QUESTION -->\n",
    "\n",
    "Although still hotly debated (pun intended), many climate scientists agree that the effects of climate change began to surface in the early 1960s as a result of elevated levels of greenhouse gas emissions. How does the graph you produced in Task 08 support the claim that modern-day global warming began in the early 1960s? \n",
    "\n",
    "_Points:_ 2"
   ]
  },
  {
   "cell_type": "markdown",
   "id": "4ec34091",
   "metadata": {},
   "source": [
    "_Type your answer here, replacing this text._"
   ]
  },
  {
   "cell_type": "markdown",
   "id": "2baa00e7-4b47-44d8-90d7-6a66343d74d1",
   "metadata": {
    "deletable": false,
    "editable": false
   },
   "source": [
    "<!-- END QUESTION -->\n",
    "\n",
    "---"
   ]
  },
  {
   "cell_type": "markdown",
   "id": "2b33323e-19c1-4780-8c01-c941534e9e19",
   "metadata": {},
   "source": [
    "Averaging temperatures across an entire year can obscure some effects of climate change. For example, if summers get hotter but winters get colder, the annual average may not change much. Let's investigate how average **monthly** maximum temperatures have changed over time in Phoenix. "
   ]
  },
  {
   "cell_type": "markdown",
   "id": "8826bf0c-2189-4602-8c24-8452205c0204",
   "metadata": {},
   "source": [
    "---"
   ]
  },
  {
   "cell_type": "markdown",
   "id": "14a8ac5b-db74-4398-b592-c23d5b18cb67",
   "metadata": {
    "tags": []
   },
   "source": [
    "#### Task 10 📍"
   ]
  },
  {
   "cell_type": "markdown",
   "id": "0fe17f5d-6b31-481c-9629-4548432e414a",
   "metadata": {
    "deletable": false,
    "editable": false
   },
   "source": [
    "Create a `monthly_increases` table with one row per month and the following four columns in order: \n",
    "1. `\"Month\"`: The month (such as `\"02 (Feb)\"`)\n",
    "2. `\"Past\"`: The average max temperature in that month from 1900-1960 (inclusive)\n",
    "3. `\"Present\"`: The average max temperature in that month from 2019-2021 (inclusive)\n",
    "4. `\"Increase\"`: The difference between the present and past average max temperatures in that month\n",
    "\n",
    "First make a copy of the `phoenix` table and add a new column containing the corresponding **period** for each row. You may find the `period` function helpful. Then, use this new table to construct `monthly_increases`. Feel free to use as many lines as you need.\n",
    "\n",
    "*Hint*: What table method can we use to get each **unique value** as its own column? \n",
    "\n",
    "*Note*: Please do **not** re-assign the `phoenix` variable!\n",
    "\n",
    "_Points:_ 5"
   ]
  },
  {
   "cell_type": "code",
   "execution_count": null,
   "id": "8dd01a09-f0a7-4a8b-8350-31a7db599506",
   "metadata": {
    "tags": []
   },
   "outputs": [],
   "source": [
    "def period(year):\n",
    "    \"Output if a year is in the Past, Present, or Other.\"\n",
    "    if 1900 <= year <= 1960:\n",
    "        return \"Past\"\n",
    "    elif 2019 <= year <= 2021:\n",
    "        return \"Present\"\n",
    "    else:\n",
    "        return \"Other\"\n",
    "    \n",
    "...\n",
    "monthly_increases = ...\n",
    "monthly_increases.show()"
   ]
  },
  {
   "cell_type": "code",
   "execution_count": null,
   "id": "2c66c8f4",
   "metadata": {
    "deletable": false,
    "editable": false
   },
   "outputs": [],
   "source": [
    "grader.check(\"task_10\")"
   ]
  },
  {
   "cell_type": "markdown",
   "id": "210b8729-69a9-42b9-85ac-270a1d9ffb8d",
   "metadata": {},
   "source": [
    "---"
   ]
  },
  {
   "cell_type": "markdown",
   "id": "c2e90b08-3e2f-46e2-a0a4-23dedf501abf",
   "metadata": {},
   "source": [
    "#### February in Phoenix"
   ]
  },
  {
   "cell_type": "markdown",
   "id": "146ce2cb-77ab-4374-a171-1b51aad6a4ac",
   "metadata": {},
   "source": [
    "The `\"Past\"` column values are averaged over many decades, and so they are reliable estimates of the average high temperatures in those months before the effects of modern climate change. However, the `\"Present\"` column is based on only three years of observations. February, the shortest month, has the fewest total observations: only 85 days. Run the following cell to see this."
   ]
  },
  {
   "cell_type": "code",
   "execution_count": null,
   "id": "bc0939a6-66a3-4e38-b732-134a04ce8914",
   "metadata": {},
   "outputs": [],
   "source": [
    "# Just run this cell\n",
    "feb_present = phoenix.where('Year', are.between_or_equal_to(2019, 2021)).where('Month', '02 (Feb)')\n",
    "feb_present.num_rows"
   ]
  },
  {
   "cell_type": "markdown",
   "id": "69ee0f50-0316-4599-ae87-42cb22b4a890",
   "metadata": {},
   "source": [
    "Look back to your `monthly_increases` table. Compared to the other months, the increase for the month of February is quite small; the February difference is very close to zero. Run the following cell to print out our observed difference."
   ]
  },
  {
   "cell_type": "code",
   "execution_count": null,
   "id": "43a4c729-b293-4430-9670-80bfd27c4bfe",
   "metadata": {},
   "outputs": [],
   "source": [
    "# Just run this cell\n",
    "print(f\"February Difference: {monthly_increases.row(1).item('Increase')}\")"
   ]
  },
  {
   "cell_type": "markdown",
   "id": "b9be9aec-8297-441b-8574-8b4841d082df",
   "metadata": {},
   "source": [
    "Perhaps that small difference is somehow due to chance! To investigate this idea requires a thought experiment.\n",
    "\n",
    "We can observe all of the February maximum temperatures from 2019 to 2021 (the present period), so we have access to the census; there's no random sampling involved. But, we can imagine that if more years pass with the same present-day climate, there would be different but similar maximum temperatures in future February days. From the data we observe, we can try to estimate the **average maximum February temperature** in this imaginary collection of all future February days that would occur in our modern climate, assuming the climate doesn't change any further and many years pass.\n",
    "\n",
    "We can also imagine that the maximum temperature each day is like a **random draw from a distribution of temperatures for that month**. Treating actual observations of natural events as if they were each *randomly* sampled from some unknown distribution is a simplifying assumption. These temperatures were not actually sampled at random-instead, they occurred due to the complex interactions of the Earth's climate-but treating them as if they were random abstracts away the details of this naturally occurring process and allows us to carry out statistical inference.  Conclusions are only as valid as the assumptions upon which they rest, but in this case, thinking of daily temperatures as random samples from some unknown climate distribution seems at least plausible.\n",
    "\n",
    "If we assume that the **actual temperatures were drawn at random from some large population of possible February days** in our modern climate, then we can not only estimate the population average of this distribution but also quantify our uncertainty about that estimate using a confidence interval."
   ]
  },
  {
   "cell_type": "markdown",
   "id": "d7ae85fa-f6be-4ce1-aef1-8d4fdf3de6e1",
   "metadata": {},
   "source": [
    "---"
   ]
  },
  {
   "cell_type": "markdown",
   "id": "6356a40b-5668-4a6e-8fdd-a5940876b04c",
   "metadata": {
    "tags": []
   },
   "source": [
    "#### Task 11 📍"
   ]
  },
  {
   "cell_type": "markdown",
   "id": "6eb1e73f-a264-49df-960d-3f7199c67406",
   "metadata": {
    "deletable": false,
    "editable": false
   },
   "source": [
    "Complete the implementation of the function `generate_ci`, which takes a one-column table `t` containing sample observations and a confidence `level` percentage such as 95 or 99. It returns an array that represents a confidence interval for the population mean constructed using 5,000 bootstrap resamples.\n",
    "\n",
    "After defining `generate_ci`, we have provided a line of code that calls `generate_ci` on the present-day February max temperatures to output the array representing a 99% confidence interval for the February average max temperature. The resulting array should be approximately (66 degrees, 72 degrees).\n",
    "\n",
    "_Points:_ 5"
   ]
  },
  {
   "cell_type": "code",
   "execution_count": null,
   "id": "6c483956-f217-4278-9a92-9a99e3b15cb3",
   "metadata": {
    "tags": []
   },
   "outputs": [],
   "source": [
    "def generate_ci(t, level):\n",
    "    '''Compute a level% confidence interval (as an array) of the \n",
    "    average of the population for which column 0 of Table t contains a sample.'''\n",
    "    \n",
    "    # Create an array (stats) of sample averages from 5,000 \n",
    "    # bootstrap resamples.\n",
    "    stats = make_array()\n",
    "    for k in np.arange(5000):\n",
    "        resampled_data =\n",
    "        stat = ...\n",
    "        stats = ...\n",
    "\n",
    "    # Create an array (ci) where the first element of the array\n",
    "    # is the lower bound of the interval and the second element is \n",
    "    # the upper bound.\n",
    "    \n",
    "    ci = ...\n",
    "   \n",
    "    return ci\n",
    "\n",
    "# Call generate_ci on the max temperatures in present-day February to find a 99% confidence interval.\n",
    "feb_present_ci = generate_ci(feb_present.select('tmax'), 99)\n",
    "feb_present_ci"
   ]
  },
  {
   "cell_type": "code",
   "execution_count": null,
   "id": "d017ba5e",
   "metadata": {
    "deletable": false,
    "editable": false
   },
   "outputs": [],
   "source": [
    "grader.check(\"task_11\")"
   ]
  },
  {
   "cell_type": "markdown",
   "id": "6278c0de-4e97-41f3-bc2d-54bb59b83470",
   "metadata": {},
   "source": [
    "---"
   ]
  },
  {
   "cell_type": "markdown",
   "id": "e7673ec6-2865-47eb-ae1e-26a792d744e1",
   "metadata": {},
   "source": [
    "#### Task 12 📍🔎"
   ]
  },
  {
   "cell_type": "markdown",
   "id": "10f69bcf-a270-449d-bb92-9d958b1a061f",
   "metadata": {
    "deletable": false,
    "editable": false
   },
   "source": [
    "<!-- BEGIN QUESTION -->\n",
    "\n",
    "The observed past February average maximum temperature of 68.8485 (from the `monthly_increases` table) is within the `feb_present_ci` 99% confidence interval. \n",
    "\n",
    "What conclusion can you draw about the effect of climate change on February's maximum temperatures in Phoenix from this information? Use a 1% p-value cutoff.\n",
    "\n",
    "*Note*: If you're stuck on this question, re-reading the paragraphs under the *February* heading (particularly the first few) may be helpful.\n",
    "\n",
    "_Points:_ 2"
   ]
  },
  {
   "cell_type": "markdown",
   "id": "dd3b73e5",
   "metadata": {},
   "source": [
    "_Type your answer here, replacing this text._"
   ]
  },
  {
   "cell_type": "markdown",
   "id": "57107c48-1d74-4ec8-b8c5-53079017ef33",
   "metadata": {
    "deletable": false,
    "editable": false
   },
   "source": [
    "<!-- END QUESTION -->\n",
    "\n",
    "---"
   ]
  },
  {
   "cell_type": "markdown",
   "id": "1afe42ee-6dcd-44ef-8a73-4ed25737024e",
   "metadata": {},
   "source": [
    "#### All Months"
   ]
  },
  {
   "cell_type": "markdown",
   "id": "799e91aa-57ae-452d-bcd3-121e58cdff67",
   "metadata": {
    "tags": []
   },
   "source": [
    "#### Task 13 📍"
   ]
  },
  {
   "cell_type": "markdown",
   "id": "786de894-afb4-4ead-b635-8982a488e826",
   "metadata": {
    "deletable": false,
    "editable": false
   },
   "source": [
    "Repeat the process of comparing the **past average** for each month with a **99% confidence interval**. For each month, print out the name of the month (e.g., `02 (Feb)`), the observed past average, and a confidence interval for the present average.\n",
    "\n",
    "Use the provided call to `print` in order to format the result as one line per month.\n",
    "\n",
    "*Hint*: Your code should follow the same format as our code from above (i.e. the *February* section).   \n",
    "\n",
    "_Points:_ 4"
   ]
  },
  {
   "cell_type": "code",
   "execution_count": null,
   "id": "86ed2ba9-b815-462d-818f-69073976bb1c",
   "metadata": {
    "tags": []
   },
   "outputs": [],
   "source": [
    "comparisons = make_array()\n",
    "months = ...\n",
    "for month in months:\n",
    "    past_average = ...\n",
    "    present_observations = ...\n",
    "    present_ci = ...\n",
    "    present_lower_bound = present_ci.item(0)\n",
    "    present_upper_bound = present_ci.item(1)\n",
    "    \n",
    "    # Do not change the code below this line\n",
    "    below = past_average < present_lower_bound\n",
    "    if present_lower_bound <= past_average <= present_upper_bound:\n",
    "        comparison = 'IN'\n",
    "    else:\n",
    "        comparison = 'NOT IN'\n",
    "    comparisons = np.append(comparisons, comparison)\n",
    "    \n",
    "    print('For', month, 'the past avg', round(past_average, 1), \n",
    "          'is', comparison, \n",
    "          'the 99% CI of the present avg', present_ci, '\\n')"
   ]
  },
  {
   "cell_type": "code",
   "execution_count": null,
   "id": "84bbb60c",
   "metadata": {
    "deletable": false,
    "editable": false
   },
   "outputs": [],
   "source": [
    "grader.check(\"task_13\")"
   ]
  },
  {
   "cell_type": "markdown",
   "id": "903c61a5-2297-44df-83a7-699d08983163",
   "metadata": {},
   "source": [
    "---"
   ]
  },
  {
   "cell_type": "markdown",
   "id": "264576d8-83d6-40ea-84e3-62d63924efe7",
   "metadata": {},
   "source": [
    "#### Task 14 📍🔎"
   ]
  },
  {
   "cell_type": "markdown",
   "id": "ad1ca38d-364f-41dd-8059-b51d93e50204",
   "metadata": {
    "deletable": false,
    "editable": false
   },
   "source": [
    "<!-- BEGIN QUESTION -->\n",
    "\n",
    "Summarize your findings. After comparing the past average to the 99% confidence interval for each month, what conclusions can we make about the monthly average maximum temperature in historical (1900-1960) vs. modern (2019-2021) times in the twelve months? In other words, what null hypothesis should you consider, and for which months would you reject or fail to reject the null hypothesis? Use a 1% p-value cutoff.\n",
    "\n",
    "*Hint*: Do you notice any seasonal patterns?\n",
    "\n",
    "_Points:_ 2"
   ]
  },
  {
   "cell_type": "markdown",
   "id": "2ec9cd5a",
   "metadata": {},
   "source": [
    "_Type your answer here, replacing this text._"
   ]
  },
  {
   "cell_type": "markdown",
   "id": "2a93536a-a445-4fc2-a14f-dcd5cedc76b5",
   "metadata": {
    "deletable": false,
    "editable": false
   },
   "source": [
    "<!-- END QUESTION -->\n",
    "\n",
    "---"
   ]
  },
  {
   "cell_type": "markdown",
   "id": "3857f99a-573c-46c4-9f7d-b3c3d7652fe6",
   "metadata": {
    "tags": []
   },
   "source": [
    "## 👋 Submit your Progress Check to Canvas"
   ]
  },
  {
   "cell_type": "markdown",
   "id": "ab6692f6-9dd5-4443-8f54-ca7432a80859",
   "metadata": {},
   "source": [
    "1. In the related Canvas Assignment page, check the requirements for a Complete score for this checkpoint.\n",
    "1. Run the following code cell that will run all of the auto-graders tests for the above tasks.\n",
    "2. Remember that Tasks 01, 02, 08, 09, 12, and 14 will need to be manually reviewed.\n",
    "4. Select the menu items \"File\", \"Save and Export Notebook As...\", and \"HTML (.html)\" in the notebook's Toolbar to download an HTML version of this notebook file.\n",
    "5. In the related Canvas Assignment page, click Start Assignment or New Attempt to upload the downloaded HTML file.\n",
    "\n",
    "**Keep in mind that the auto-grader does not always check for correctness. Sometimes it just checks for the format of your answer, so passing the auto-grader for a question does not mean you got the answer correct for that question.**"
   ]
  },
  {
   "cell_type": "markdown",
   "id": "bd17ada1-6da2-496a-a5d8-691e05141dd8",
   "metadata": {},
   "source": [
    "--- \n",
    "The cell below will re-run all of the autograder tests for Part 1 to double check your work."
   ]
  },
  {
   "cell_type": "code",
   "execution_count": null,
   "id": "9dfeb5cb-8b97-4d16-acd4-fee7d88cc7db",
   "metadata": {},
   "outputs": [],
   "source": [
    "try:\n",
    "    checkpoint_tests = [\"task_03\", \"task_04\", \"task_05\", \"task_06\", \n",
    "                        \"task_07\", \"task_10\", \"task_11\", \"task_13\"]\n",
    "    for test in checkpoint_tests:\n",
    "        display(grader.check(test))\n",
    "except NameError:\n",
    "    print('The auto-grader has not be initialized.')"
   ]
  },
  {
   "cell_type": "markdown",
   "id": "cf79148e-91bb-4247-be9b-02b7ea249841",
   "metadata": {},
   "source": [
    "---"
   ]
  },
  {
   "cell_type": "markdown",
   "id": "dd1514cd-73d2-4017-8b4d-db120f21fa4f",
   "metadata": {
    "tags": []
   },
   "source": [
    "## 💧 Part 2: Drought"
   ]
  },
  {
   "cell_type": "markdown",
   "id": "c1f5e085-d78b-482e-969e-b8077bd95834",
   "metadata": {},
   "source": [
    "---"
   ]
  },
  {
   "cell_type": "markdown",
   "id": "fe2a3fb4-0d82-4069-ba8f-79fd4f75d43e",
   "metadata": {},
   "source": [
    "According to the [United States Environmental Protection Agency](https://www.epa.gov/climate-indicators/southwest), \"Large portions of the Southwest have experienced drought conditions since weekly Drought Monitor records began in 2000. For extended periods from 2002 to 2005 and from 2012 to 2020, nearly the entire region was abnormally dry or even drier.\" \n",
    "\n",
    "Assessing the impact of drought is challenging with just city-level data because so much of the water that people use is transported from elsewhere, but we'll explore the data we have and see what we can learn.\n",
    "\n",
    "Let's first take a look at the precipitation data in the Southwest region. The `southwest.csv` file contains total annual precipitation for 13 cities in the southwestern United States for each year from 1960 to 2021. This dataset is aggregated from the daily data and includes only the Southwest cities from the original dataset that have consistent precipitation records back to 1960."
   ]
  },
  {
   "cell_type": "code",
   "execution_count": null,
   "id": "3189901b-a477-4660-a4b7-a496fc3e3e4e",
   "metadata": {},
   "outputs": [],
   "source": [
    "southwest = Table.read_table('southwest.csv')\n",
    "southwest.show(5)"
   ]
  },
  {
   "cell_type": "markdown",
   "id": "1bfa6d49-5b80-41a6-9980-c019c706c0cb",
   "metadata": {},
   "source": [
    "---"
   ]
  },
  {
   "cell_type": "markdown",
   "id": "a4999fde-5da5-49f3-9d52-c8d589b0dd3f",
   "metadata": {
    "tags": []
   },
   "source": [
    "### Task 15 📍"
   ]
  },
  {
   "cell_type": "markdown",
   "id": "7ba1a327-03eb-49dd-8215-b1e39c693f37",
   "metadata": {
    "deletable": false,
    "editable": false
   },
   "source": [
    "Create a table `totals` that has one row for each year in chronological order. It should contain the following columns:\n",
    "1. `\"Year\"`: The year (a number)\n",
    "2. `\"Precipitation\"`: The total precipitation in all 13 southwestern cities that year\n",
    "\n",
    "_Points:_ 5"
   ]
  },
  {
   "cell_type": "code",
   "execution_count": null,
   "id": "34cbfb0e-b53d-4850-a12b-2be85f76bc2c",
   "metadata": {
    "tags": []
   },
   "outputs": [],
   "source": [
    "totals = ...\n",
    "totals"
   ]
  },
  {
   "cell_type": "code",
   "execution_count": null,
   "id": "a4e05706",
   "metadata": {
    "deletable": false,
    "editable": false
   },
   "outputs": [],
   "source": [
    "grader.check(\"task_15\")"
   ]
  },
  {
   "cell_type": "markdown",
   "id": "2088ebec-9c54-497c-9218-1d872182a2a3",
   "metadata": {},
   "source": [
    "---"
   ]
  },
  {
   "cell_type": "markdown",
   "id": "4d8e6910-8ac3-4ce7-a9e8-391012137be2",
   "metadata": {},
   "source": [
    "Run the cell below to plot the total precipitation in these cities over time, so that we can try to spot the drought visually. As a reminder, the drought years given by the EPA were  (2002-2005) and (2012-2020)."
   ]
  },
  {
   "cell_type": "code",
   "execution_count": null,
   "id": "d31a36c3-c62d-4de3-9e9f-11d7d444c09e",
   "metadata": {},
   "outputs": [],
   "source": [
    "# Just run this cell\n",
    "totals.plot(\"Year\", \"Precipitation\")"
   ]
  },
  {
   "cell_type": "markdown",
   "id": "6ba6eec7-e230-4027-b3a6-73894f6cc574",
   "metadata": {},
   "source": [
    "This plot isn't very revealing. Each year has a different amount of precipitation, and there is quite a bit of variability across years, as if each year's precipitation is a random draw from a distribution of possible outcomes. \n",
    "\n",
    "Could it be that these so-called \"drought conditions\" from 2002-2005 and 2012-2020 can be explained by chance? In other words, could it be that the annual precipitation amounts in the Southwest for these drought years are like **random draws from the same underlying distribution** as for other years? Perhaps nothing about the Earth's precipitation patterns has really changed, and the Southwest U.S. just happened to experience a few dry years close together. \n",
    "\n",
    "To assess this idea, let's conduct an A/B test in which **each year's total precipitation** is an outcome, and the condition is **whether or not the year is in the EPA's drought period**."
   ]
  },
  {
   "cell_type": "markdown",
   "id": "8bd33960-2b75-473a-99e5-3f28becaa579",
   "metadata": {},
   "source": [
    "This `drought_label` function distinguishes between drought years as described in the U.S. EPA statement above (2002-2005 and 2012-2020) and other years. Note that the label \"other\" is perhaps misleading, since there were other droughts before 2000, such as the massive [1988 drought](https://en.wikipedia.org/wiki/1988%E2%80%9390_North_American_drought) that affected much of the U.S. However, if we're interested in whether these modern drought periods (2002-2005 and 2012-2020) are *normal* or *abnormal*, it makes sense to distinguish the years in this way. "
   ]
  },
  {
   "cell_type": "code",
   "execution_count": null,
   "id": "b921a6ab-c271-421d-a5ed-c42236b65a4e",
   "metadata": {},
   "outputs": [],
   "source": [
    "def drought_label(n):\n",
    "    \"\"\"Return the label for an input year n.\"\"\"\n",
    "    if 2002 <= n <= 2005 or 2012 <= n <= 2020:\n",
    "        return 'drought'\n",
    "    else:\n",
    "        return 'other'"
   ]
  },
  {
   "cell_type": "markdown",
   "id": "ff892c2a-e074-4343-9ba9-4a3ebc5d2f7c",
   "metadata": {},
   "source": [
    "---"
   ]
  },
  {
   "cell_type": "markdown",
   "id": "00560d6c-d123-462c-b12f-2ac3c3e0a35d",
   "metadata": {},
   "source": [
    "### Task 16 📍🔎"
   ]
  },
  {
   "cell_type": "markdown",
   "id": "10c3802d-4d57-4407-a999-89edfa61a40a",
   "metadata": {
    "deletable": false,
    "editable": false
   },
   "source": [
    "<!-- BEGIN QUESTION -->\n",
    "\n",
    "Define null and alternative hypotheses for an A/B test that investigates whether drought years are drier (have less precipitation) than other years.\n",
    "\n",
    "*Note:* Please format your answer using the following structure.\n",
    "\n",
    "- *Null hypothesis:* ...\n",
    "- *Alternative hypothesis:* ...\n",
    "\n",
    "_Points:_ 3"
   ]
  },
  {
   "cell_type": "markdown",
   "id": "b13e1345",
   "metadata": {},
   "source": [
    "_Type your answer here, replacing this text._"
   ]
  },
  {
   "cell_type": "markdown",
   "id": "d600168a-0e8d-4b62-a3e4-2568c09ec08d",
   "metadata": {
    "deletable": false,
    "editable": false
   },
   "source": [
    "<!-- END QUESTION -->\n",
    "\n",
    "---"
   ]
  },
  {
   "cell_type": "markdown",
   "id": "6daaeb03-3ab9-4429-82dc-928da0ebbf33",
   "metadata": {},
   "source": [
    "### Task 17 📍🔎"
   ]
  },
  {
   "cell_type": "markdown",
   "id": "50225bc6-0a80-4ea5-a182-225536371e38",
   "metadata": {
    "deletable": false,
    "editable": false
   },
   "source": [
    "<!-- BEGIN QUESTION -->\n",
    "\n",
    "First, define the table `drought`. It should contain one row per year and the following two columns:\n",
    "- `\"Label\"`: Denotes if a year is part of a `\"drought\"` year or an `\"other\"` year\n",
    "- `\"Precipitation\"`: The sum of the total precipitation in 13 Southwest cities that year\n",
    "\n",
    "Then, construct an overlaid histogram of two observed distributions: the total precipitation in drought years and the total precipitation in other years. \n",
    "\n",
    "*Note*: Use the provided `bins` when creating your histogram, and do not re-assign the `southwest` table. Feel free to use as many lines as you need!\n",
    "\n",
    "*Hint*: The optional `group` argument in a certain function might be helpful!\n",
    "\n",
    "_Points:_ 3"
   ]
  },
  {
   "cell_type": "code",
   "execution_count": null,
   "id": "644f57d2-d8e9-4d08-a446-b0b4d50619a7",
   "metadata": {
    "tags": []
   },
   "outputs": [],
   "source": [
    "bins = np.arange(85, 215+1, 13)\n",
    "drought = ...\n",
    "..."
   ]
  },
  {
   "cell_type": "markdown",
   "id": "4c4c5f33-9ab1-4461-ac53-59515f8f5df2",
   "metadata": {
    "deletable": false,
    "editable": false
   },
   "source": [
    "<!-- END QUESTION -->\n",
    "\n",
    "---"
   ]
  },
  {
   "cell_type": "markdown",
   "id": "22bcd267-8639-41b8-a75c-8620f68e7569",
   "metadata": {},
   "source": [
    "Before you continue, inspect the histogram you just created and try to guess the conclusion of the A/B test. Building intuition about the result of hypothesis testing from visualizations is quite useful for data science applications. "
   ]
  },
  {
   "cell_type": "markdown",
   "id": "1bb4d540-3aed-48a3-ab24-8602f57d1d76",
   "metadata": {},
   "source": [
    "---"
   ]
  },
  {
   "cell_type": "markdown",
   "id": "d1d5d747-9f49-45ef-a741-96b9cd0dd74c",
   "metadata": {
    "tags": []
   },
   "source": [
    "### Task 18 📍"
   ]
  },
  {
   "cell_type": "markdown",
   "id": "698a942a-dc72-436c-b2c3-3459e6a1f786",
   "metadata": {
    "deletable": false,
    "editable": false
   },
   "source": [
    "Our next step is to choose a test statistic based on a correct alternative hypothesis from Task 16 Which of the following options are valid choices for the test statistic? Assign `ab_test_stat` to an array of integers corresponding to valid choices. Assume averages and totals are taken over the total precipitation sums for each year.\n",
    "\n",
    "1. The **total** precipitation in **drought** years minus the **total** precipitation in **other** years.\n",
    "2. The **total** precipitation in **others** years minus the **total** precipitation in **drought** years.\n",
    "3. The **absolute** difference between the **total** precipitation in others years and the **total** precipitation in drought years.\n",
    "1. The difference between the **average** precipitation in **drought** years and the **average** precipitation in **other** years.\n",
    "2. The difference between the **average** precipitation in **others** years and the **average** precipitation in **drought** years.\n",
    "3. The **absolute** difference between the **average** precipitation in others years and the **average** precipitation in drought years.\n",
    "\n",
    "\n",
    "_Points:_ 5"
   ]
  },
  {
   "cell_type": "code",
   "execution_count": null,
   "id": "1236fcde-1649-4ef6-9482-e5545f07b3eb",
   "metadata": {
    "tags": []
   },
   "outputs": [],
   "source": [
    "ab_test_stat = ..."
   ]
  },
  {
   "cell_type": "code",
   "execution_count": null,
   "id": "dc0869ce",
   "metadata": {
    "deletable": false,
    "editable": false
   },
   "outputs": [],
   "source": [
    "grader.check(\"task_18\")"
   ]
  },
  {
   "cell_type": "markdown",
   "id": "cdb22b13-781d-4c9e-a21f-67c9d3f570c9",
   "metadata": {},
   "source": [
    "---"
   ]
  },
  {
   "cell_type": "markdown",
   "id": "8e1b772d-8ad3-4ddf-9067-b4db52d0bbad",
   "metadata": {},
   "source": [
    "### Task 19 📍🔎"
   ]
  },
  {
   "cell_type": "markdown",
   "id": "d225370b-8b87-42f4-8f72-42665e58cc51",
   "metadata": {
    "deletable": false,
    "editable": false
   },
   "source": [
    "<!-- BEGIN QUESTION -->\n",
    "\n",
    "Fellow climate scientists Olivia and Will point out that there are more **other** years than **drought** years, and so measuring the difference between total precipitation will always favor the **other** years. They conclude that all of the options above involving **total** precipitation are invalid test statistic choices. Do you agree with them? Why or why not?\n",
    "\n",
    "_Points:_ 2"
   ]
  },
  {
   "cell_type": "markdown",
   "id": "a93b2d90",
   "metadata": {},
   "source": [
    "_Type your answer here, replacing this text._"
   ]
  },
  {
   "cell_type": "markdown",
   "id": "d1ed4e46-2b26-4127-bfc4-c239172ca30c",
   "metadata": {
    "deletable": false,
    "editable": false
   },
   "source": [
    "<!-- END QUESTION -->\n",
    "\n",
    "Before going on, check your `drought` table. It should have two columns `Label` and `Precipitation` with 61 rows, 13 of which are for `\"drought\"` years."
   ]
  },
  {
   "cell_type": "code",
   "execution_count": null,
   "id": "4556f4e0-eb2e-4be1-a694-3895ff2b5ebd",
   "metadata": {},
   "outputs": [],
   "source": [
    "drought.show(3)"
   ]
  },
  {
   "cell_type": "code",
   "execution_count": null,
   "id": "f3675774-8b95-4556-95c6-c419b1306570",
   "metadata": {},
   "outputs": [],
   "source": [
    "drought.group('Label')"
   ]
  },
  {
   "cell_type": "markdown",
   "id": "5f3d8a16-4456-4821-a5fe-afbf017b3401",
   "metadata": {},
   "source": [
    "---"
   ]
  },
  {
   "cell_type": "markdown",
   "id": "9b81f5d6-1f36-42af-af0f-4f48a04842da",
   "metadata": {
    "tags": []
   },
   "source": [
    "### Task 20 📍"
   ]
  },
  {
   "cell_type": "markdown",
   "id": "14970ce4-165d-4e23-a232-a1ca694c0d7d",
   "metadata": {
    "deletable": false,
    "editable": false
   },
   "source": [
    "For our A/B test, we'll use the difference between the average precipitation in drought years and the average precipitation in other years as our test statistic:\n",
    "\n",
    "$$\\text{average precipitation in \"drought\" years} - \\text{average precipitation in \"other\" years}$$\n",
    "\n",
    "First, complete the function `test_statistic`. It should take in a two-column table `t` with one row per year and two columns:\n",
    "- `Label`: the label for that year (either `'drought'` or `'other'`)\n",
    "- `Precipitation`: the total precipitation in the 13 Southwest cities that year. \n",
    "\n",
    "Then, use the function you define to assign `observed_statistic` to the observed test statistic.\n",
    "\n",
    "_Points:_ 4"
   ]
  },
  {
   "cell_type": "code",
   "execution_count": null,
   "id": "f039d90a-764e-4643-b77c-82173bf714fe",
   "metadata": {
    "tags": []
   },
   "outputs": [],
   "source": [
    "def test_statistic(t):\n",
    "    ...\n",
    "\n",
    "observed_statistic = ...\n",
    "observed_statistic"
   ]
  },
  {
   "cell_type": "code",
   "execution_count": null,
   "id": "9c156dba",
   "metadata": {
    "deletable": false,
    "editable": false
   },
   "outputs": [],
   "source": [
    "grader.check(\"task_20\")"
   ]
  },
  {
   "cell_type": "markdown",
   "id": "bf58cd07-7fd6-44a3-8961-f0eee56bb744",
   "metadata": {},
   "source": [
    "---"
   ]
  },
  {
   "cell_type": "markdown",
   "id": "218e6d99-32d7-4998-a922-325aab171b0d",
   "metadata": {},
   "source": [
    "Now that we have defined our hypotheses and test statistic, we are ready to conduct our hypothesis test. We’ll start by defining a function to simulate the test statistic under the null hypothesis, and then call that function 5,000 times to construct an empirical distribution under the null hypothesis."
   ]
  },
  {
   "cell_type": "markdown",
   "id": "ef1f1651-1f46-4d7e-a64f-f3e74f4e8e05",
   "metadata": {},
   "source": [
    "---"
   ]
  },
  {
   "cell_type": "markdown",
   "id": "f8212437-03c2-4dce-a6f2-a6c6bb1b1eb0",
   "metadata": {
    "tags": []
   },
   "source": [
    "### Task 21 📍"
   ]
  },
  {
   "cell_type": "markdown",
   "id": "c0eca008-ee79-4174-8688-ccdbb57af0e8",
   "metadata": {
    "deletable": false,
    "editable": false
   },
   "source": [
    "Write a function to simulate the test statistic under the null hypothesis. The `simulate_precipitation_null` function should simulate the null hypothesis once (not 5,000 times) and return the value of the test statistic for that simulated sample.\n",
    "\n",
    "*Hint*: Using `t.with_column(...)` with a column name that already exists in a table `t` will replace that column with the newly specified values.\n",
    "\n",
    "_Points:_ 4"
   ]
  },
  {
   "cell_type": "code",
   "execution_count": null,
   "id": "7e5173c9-2768-4da8-a2c8-64fff3ba1443",
   "metadata": {
    "tags": []
   },
   "outputs": [],
   "source": [
    "def simulate_precipitation_null():\n",
    "    ...\n",
    "\n",
    "# Run your function a couple times to make sure that it works\n",
    "simulate_precipitation_null()"
   ]
  },
  {
   "cell_type": "code",
   "execution_count": null,
   "id": "0df83ad5",
   "metadata": {
    "deletable": false,
    "editable": false
   },
   "outputs": [],
   "source": [
    "grader.check(\"task_21\")"
   ]
  },
  {
   "cell_type": "markdown",
   "id": "7677c6bd-d6e8-480d-a091-2cc3864e374e",
   "metadata": {},
   "source": [
    "---"
   ]
  },
  {
   "cell_type": "markdown",
   "id": "7b68d069-6f6f-473c-9401-b4006c9c987c",
   "metadata": {
    "tags": []
   },
   "source": [
    "### Task 22 📍"
   ]
  },
  {
   "cell_type": "markdown",
   "id": "f23c7e1e-78ca-4d64-97fd-d199f3e4b47f",
   "metadata": {
    "deletable": false,
    "editable": false
   },
   "source": [
    "Fill in the blanks below to complete the simulation for the hypothesis test. Your simulation should compute 5,000 values of the test statistic under the null hypothesis and store the result in the array `sampled_stats`.\n",
    "\n",
    "*Hint:* You should use the `simulate_precipitation_null` function you wrote in the previous question!\n",
    "\n",
    "*Note:* Running this cell may take a few seconds. If it takes more than a minute, try to find a faster way to implement your `simulate_precipitation_null` function.\n",
    "\n",
    "_Points:_ 6"
   ]
  },
  {
   "cell_type": "code",
   "execution_count": null,
   "id": "11d88e28-7eb1-4dcd-9dae-3371c9ba478a",
   "metadata": {
    "tags": []
   },
   "outputs": [],
   "source": [
    "sampled_stats = ...\n",
    "\n",
    "repetitions = ...\n",
    "for i in np.arange(repetitions):\n",
    "    ...\n",
    "\n",
    "# Do not change these lines\n",
    "Table().with_column('Difference Between Means', sampled_stats).hist()\n",
    "plt.scatter(observed_statistic, 0, c=\"r\", s=50);\n",
    "plt.ylim(-0.01);"
   ]
  },
  {
   "cell_type": "code",
   "execution_count": null,
   "id": "7790e392",
   "metadata": {
    "deletable": false,
    "editable": false
   },
   "outputs": [],
   "source": [
    "grader.check(\"task_22\")"
   ]
  },
  {
   "cell_type": "markdown",
   "id": "83b09a0e-22cc-499e-ae53-ef43e564ccf0",
   "metadata": {},
   "source": [
    "---"
   ]
  },
  {
   "cell_type": "markdown",
   "id": "64b72b5b-9796-4a60-a4c5-f1b1a4a060b3",
   "metadata": {
    "tags": []
   },
   "source": [
    "### Task 23 📍"
   ]
  },
  {
   "cell_type": "markdown",
   "id": "0febfd2b-29a8-4c17-914b-47f7c20fd351",
   "metadata": {
    "deletable": false,
    "editable": false
   },
   "source": [
    "Compute the p-value for this hypothesis test, and assign it to the variable `precipitation_p_val`.\n",
    "\n",
    "_Points:_ 5"
   ]
  },
  {
   "cell_type": "code",
   "execution_count": null,
   "id": "d3269499-554a-41e4-9005-0e0f2f8956e5",
   "metadata": {
    "tags": []
   },
   "outputs": [],
   "source": [
    "precipitation_p_val = ...\n",
    "precipitation_p_val"
   ]
  },
  {
   "cell_type": "code",
   "execution_count": null,
   "id": "babb0586",
   "metadata": {
    "deletable": false,
    "editable": false
   },
   "outputs": [],
   "source": [
    "grader.check(\"task_23\")"
   ]
  },
  {
   "cell_type": "markdown",
   "id": "bcd485ea-efaa-4a57-a097-0960278c63a5",
   "metadata": {},
   "source": [
    "---"
   ]
  },
  {
   "cell_type": "markdown",
   "id": "8232c2f4-f17e-43e7-bf2b-e88a66c92a71",
   "metadata": {},
   "source": [
    "### Task 24 📍🔎"
   ]
  },
  {
   "cell_type": "markdown",
   "id": "8759f3eb-d746-4a38-ad75-f9eea84c3e80",
   "metadata": {
    "deletable": false,
    "editable": false
   },
   "source": [
    "<!-- BEGIN QUESTION -->\n",
    "\n",
    "State a conclusion from this test using a p-value cutoff of 5%. What have you learned about the EPA's statement on drought?\n",
    "\n",
    "_Points:_ 2"
   ]
  },
  {
   "cell_type": "markdown",
   "id": "3a1201e9",
   "metadata": {},
   "source": [
    "_Type your answer here, replacing this text._"
   ]
  },
  {
   "cell_type": "markdown",
   "id": "8d5a0a63-e2a0-4012-8d35-6863045b4239",
   "metadata": {
    "deletable": false,
    "editable": false
   },
   "source": [
    "<!-- END QUESTION -->\n",
    "\n",
    "---"
   ]
  },
  {
   "cell_type": "markdown",
   "id": "49a54299-c5c6-4d90-86dd-e3d067fb9970",
   "metadata": {},
   "source": [
    "### Task 25 📍🔎"
   ]
  },
  {
   "cell_type": "markdown",
   "id": "2ba6fa4f-047a-4b4d-86dc-cab9ea92d7a9",
   "metadata": {
    "deletable": false,
    "editable": false
   },
   "source": [
    "<!-- BEGIN QUESTION -->\n",
    "\n",
    "Does your conclusion from [Task 24](#Task-24-📍🔎) apply to the entire Southwest region of the U.S.? Why or why not?\n",
    "\n",
    "_Points:_ 2"
   ]
  },
  {
   "cell_type": "markdown",
   "id": "bf8a7dfd",
   "metadata": {},
   "source": [
    "_Type your answer here, replacing this text._"
   ]
  },
  {
   "cell_type": "markdown",
   "id": "c455bdfd-d611-4cab-85b9-b5b18c06f00d",
   "metadata": {
    "deletable": false,
    "editable": false
   },
   "source": [
    "<!-- END QUESTION -->\n",
    "\n",
    "---"
   ]
  },
  {
   "cell_type": "markdown",
   "id": "5b3b0e3b-9e5d-4324-878b-590fffa330e3",
   "metadata": {},
   "source": [
    "## 🌍 Conclusion"
   ]
  },
  {
   "cell_type": "markdown",
   "id": "47f4ba74-23f0-4a41-82e1-f3e8da3d6ab9",
   "metadata": {},
   "source": [
    "---"
   ]
  },
  {
   "cell_type": "markdown",
   "id": "3e12d728-b44a-4f24-88d0-d1bd309e5019",
   "metadata": {},
   "source": [
    "Data science plays a central role in climate change research because massive simulations of the Earth's climate are necessary to assess the implications of climate data recorded from weather stations, satellites, and other sensors. [Berkeley Earth](http://berkeleyearth.org/data/) is a common source of data for these kinds of projects.\n",
    "\n",
    "In this project, we found ways to apply our statistical inference technqiues that rely on random sampling even in situations where the data were not generated randomly, but instead by some complicated natural process that appeared random. We made assumptions about randomness and then came to conclusions based on those assumptions. Great care must be taken to choose assumptions that are realistic, so that the resulting conclusions are not misleading. However, making assumptions about data can be productive when doing so allows inference techniques to apply to novel situations."
   ]
  },
  {
   "cell_type": "markdown",
   "id": "23a19735-e1be-4261-b50d-bf1d8a3fe325",
   "metadata": {},
   "source": [
    "---"
   ]
  },
  {
   "cell_type": "markdown",
   "id": "bbd80f19-ced8-4670-8bba-b59fe070ffb7",
   "metadata": {},
   "source": [
    "## 🏁 Submit Your Assignment to Canvas"
   ]
  },
  {
   "cell_type": "markdown",
   "id": "18a8f7c4-3163-49df-89fa-a3b7102ab37c",
   "metadata": {},
   "source": [
    "Follow these steps to submit your project assignment:\n",
    "\n",
    "1. **Review the Rubric:** View the rubric on the associated Canvas Assignment page to understand the scoring criteria.\n",
    "2. **Run the Auto-Grader:** Ensure you have executed the code cell containing the command `grader.check_all()` to run all tests for auto-graded tasks marked with 📍. This command will execute all auto-grader tests sequentially.\n",
    "3. **Complete Manually Graded Tasks:** Verify that you have responded to all the manually graded tasks marked with 📍🔎.\n",
    "4. **Save Your Work:** In the notebook's Toolbar, go to `File -> Save Notebook` to save your work and create a checkpoint.\n",
    "5. **Download the Notebook:** In the notebook's Toolbar, go to `File -> Download IPYNB` to download the notebook (`.ipynb`) file.\n",
    "6. **Upload to Canvas:** On the Canvas Assignment page, click \"Start Assignment\" or \"New Attempt\" to upload the downloaded `.ipynb` file."
   ]
  },
  {
   "cell_type": "markdown",
   "id": "9bf00908-bd30-4095-9b70-9559395a2fc8",
   "metadata": {},
   "source": [
    "---"
   ]
  },
  {
   "cell_type": "markdown",
   "id": "ffdd51b7-5af2-49fd-8748-aa5d91d34ad8",
   "metadata": {
    "editable": true,
    "slideshow": {
     "slide_type": "notes"
    },
    "tags": []
   },
   "source": [
    "## Attribution"
   ]
  },
  {
   "cell_type": "markdown",
   "id": "706c3585-aac7-4155-9506-f47ebbdf7163",
   "metadata": {},
   "source": [
    "This content is licensed under the <a href=\"https://creativecommons.org/licenses/by-nc-sa/4.0/\">Creative Commons Attribution-NonCommercial-ShareAlike 4.0 International License (CC BY-NC-SA 4.0)</a> and derived from the <a href=\"https://www.data8.org/\">Data 8: The Foundations of Data Science</a> offered by the University of California, Berkeley.\n",
    "\n",
    "<img src=\"./by-nc-sa.png\" width=100px>"
   ]
  },
  {
   "cell_type": "markdown",
   "id": "e7b81c8f",
   "metadata": {
    "deletable": false,
    "editable": false
   },
   "source": [
    "---\n",
    "\n",
    "To double-check your work, the cell below will rerun all of the autograder tests."
   ]
  },
  {
   "cell_type": "code",
   "execution_count": null,
   "id": "eb180164",
   "metadata": {
    "deletable": false,
    "editable": false
   },
   "outputs": [],
   "source": [
    "grader.check_all()"
   ]
  }
 ],
 "metadata": {
  "kernelspec": {
   "display_name": "Python 3 (ipykernel)",
   "language": "python",
   "name": "python3"
  },
  "language_info": {
   "codemirror_mode": {
    "name": "ipython",
    "version": 3
   },
   "file_extension": ".py",
   "mimetype": "text/x-python",
   "name": "python",
   "nbconvert_exporter": "python",
   "pygments_lexer": "ipython3",
   "version": "3.11.9"
  },
  "otter": {
   "OK_FORMAT": true,
   "assignment_name": "project2_fa24",
   "tests": {
    "task_03": {
     "name": "task_03",
     "points": 6,
     "suites": [
      {
       "cases": [
        {
         "code": ">>> isinstance(num_unique_cities, (int, np.integer))\nTrue",
         "failure_message": "❌ ",
         "hidden": false,
         "locked": false,
         "points": 1,
         "success_message": "✅ "
        },
        {
         "code": ">>> num_unique_cities > 0\nTrue",
         "failure_message": "❌ ",
         "hidden": false,
         "locked": false,
         "points": 1,
         "success_message": "✅ "
        }
       ],
       "scored": true,
       "setup": "",
       "teardown": "",
       "type": "doctest"
      }
     ]
    },
    "task_04": {
     "name": "task_04",
     "points": 7,
     "suites": [
      {
       "cases": [
        {
         "code": ">>> isinstance(coordinates_to_region(50, 100), (str, np.str_))\nTrue",
         "failure_message": "❌ ",
         "hidden": false,
         "locked": false,
         "points": 1,
         "success_message": "✅ "
        }
       ],
       "scored": true,
       "setup": "",
       "teardown": "",
       "type": "doctest"
      }
     ]
    },
    "task_05": {
     "name": "task_05",
     "points": 6,
     "suites": [
      {
       "cases": [
        {
         "code": ">>> len(cities.labels) == 8\nTrue",
         "failure_message": "❌ ",
         "hidden": false,
         "locked": false,
         "points": 1,
         "success_message": "✅ "
        },
        {
         "code": ">>> cities.labels[-1] == 'Region'\nTrue",
         "failure_message": "❌ ",
         "hidden": false,
         "locked": false,
         "points": 1,
         "success_message": "✅ "
        },
        {
         "code": ">>> cities.row(0).item('Region') == 'Northwest'\nTrue",
         "failure_message": "❌ ",
         "hidden": false,
         "locked": false,
         "points": 1,
         "success_message": "✅ "
        }
       ],
       "scored": true,
       "setup": "",
       "teardown": "",
       "type": "doctest"
      }
     ]
    },
    "task_06": {
     "name": "task_06",
     "points": 5,
     "suites": [
      {
       "cases": [
        {
         "code": ">>> isinstance(largest_2010_range_date, (str, np.str_))\nTrue",
         "failure_message": "❌ ",
         "hidden": false,
         "locked": false,
         "points": 1,
         "success_message": "✅ "
        }
       ],
       "scored": true,
       "setup": "",
       "teardown": "",
       "type": "doctest"
      }
     ]
    },
    "task_07": {
     "name": "task_07",
     "points": 6,
     "suites": [
      {
       "cases": [
        {
         "code": ">>> phoenix.num_rows == 46021\nTrue",
         "failure_message": "❌ ",
         "hidden": false,
         "locked": false,
         "points": 1,
         "success_message": "✅ "
        },
        {
         "code": ">>> len(phoenix.labels) == 6\nTrue",
         "failure_message": "❌ ",
         "hidden": false,
         "locked": false,
         "points": 1,
         "success_message": "✅ "
        },
        {
         "code": ">>> phoenix.labels == ('Date', 'tmax', 'tmin', 'prcp', 'Year', 'Month')\nTrue",
         "failure_message": "❌ ",
         "hidden": false,
         "locked": false,
         "points": 1,
         "success_message": "✅ "
        }
       ],
       "scored": true,
       "setup": "",
       "teardown": "",
       "type": "doctest"
      }
     ]
    },
    "task_10": {
     "name": "task_10",
     "points": 5,
     "suites": [
      {
       "cases": [
        {
         "code": ">>> monthly_increases.num_rows == 12\nTrue",
         "failure_message": "❌ ",
         "hidden": false,
         "locked": false,
         "points": 1,
         "success_message": "✅ "
        },
        {
         "code": ">>> monthly_increases.labels == ('Month', 'Past', 'Present', 'Increase')\nTrue",
         "failure_message": "❌ ",
         "hidden": false,
         "locked": false,
         "points": 1,
         "success_message": "✅ "
        },
        {
         "code": ">>> monthly_increases.row(2).item('Month') == '03 (Mar)'\nTrue",
         "failure_message": "❌ ",
         "hidden": false,
         "locked": false,
         "points": 1,
         "success_message": "✅ "
        }
       ],
       "scored": true,
       "setup": "",
       "teardown": "",
       "type": "doctest"
      }
     ]
    },
    "task_11": {
     "name": "task_11",
     "points": 5,
     "suites": [
      {
       "cases": [
        {
         "code": ">>> isinstance(feb_present_ci, np.ndarray) and len(feb_present_ci) == 2\nTrue",
         "failure_message": "❌ generate_ci should produce a 2-element array.",
         "hidden": false,
         "locked": false,
         "points": 2.5,
         "success_message": "✅ generate_ci produces a 2-element array."
        },
        {
         "code": ">>> 66 <= feb_present_ci.item(0) and feb_present_ci.item(1) <= 72\nTrue",
         "failure_message": "❌ feb_present_ci does not seem like a possible confidence interval.",
         "hidden": false,
         "locked": false,
         "points": 2.5,
         "success_message": "✅ feb_present_ci seems like a possible confidence interval."
        }
       ],
       "scored": true,
       "setup": "",
       "teardown": "",
       "type": "doctest"
      }
     ]
    },
    "task_13": {
     "name": "task_13",
     "points": 4,
     "suites": [
      {
       "cases": [
        {
         "code": ">>> isinstance(months, np.ndarray)\nTrue",
         "failure_message": "❌ ",
         "hidden": false,
         "locked": false,
         "points": 1,
         "success_message": "✅ "
        }
       ],
       "scored": true,
       "setup": "",
       "teardown": "",
       "type": "doctest"
      }
     ]
    },
    "task_15": {
     "name": "task_15",
     "points": 5,
     "suites": [
      {
       "cases": [
        {
         "code": ">>> totals.num_rows == 61\nTrue",
         "failure_message": "❌ ",
         "hidden": false,
         "locked": false,
         "points": 1,
         "success_message": "✅ "
        },
        {
         "code": ">>> totals.labels == ('Year', 'Precipitation')\nTrue",
         "failure_message": "❌ ",
         "hidden": false,
         "locked": false,
         "points": 1,
         "success_message": "✅ "
        }
       ],
       "scored": true,
       "setup": "",
       "teardown": "",
       "type": "doctest"
      }
     ]
    },
    "task_18": {
     "name": "task_18",
     "points": 6,
     "suites": [
      {
       "cases": [
        {
         "code": ">>> isinstance(ab_test_stat, np.ndarray)\nTrue",
         "failure_message": "❌ ",
         "hidden": false,
         "locked": false,
         "points": 1,
         "success_message": "✅ "
        },
        {
         "code": ">>> all([1 <= option <= 6 for option in ab_test_stat])\nTrue",
         "failure_message": "❌ ",
         "hidden": false,
         "locked": false,
         "points": 1,
         "success_message": "✅ "
        },
        {
         "code": ">>> all([isinstance(option, (np.int_, int)) for option in list(ab_test_stat)])\nTrue",
         "failure_message": "❌ ",
         "hidden": false,
         "locked": false,
         "points": 1,
         "success_message": "✅ "
        }
       ],
       "scored": true,
       "setup": "",
       "teardown": "",
       "type": "doctest"
      }
     ]
    },
    "task_20": {
     "name": "task_20",
     "points": 4,
     "suites": [
      {
       "cases": [
        {
         "code": ">>> observed_statistic < 0\nTrue",
         "failure_message": "❌ ",
         "hidden": false,
         "locked": false,
         "points": 1,
         "success_message": "✅ "
        }
       ],
       "scored": true,
       "setup": "",
       "teardown": "",
       "type": "doctest"
      }
     ]
    },
    "task_21": {
     "name": "task_21",
     "points": 4,
     "suites": [
      {
       "cases": [
        {
         "code": ">>> -50 < simulate_precipitation_null() < 50\nTrue",
         "failure_message": "❌ ",
         "hidden": false,
         "locked": false,
         "points": 1,
         "success_message": "✅ "
        }
       ],
       "scored": true,
       "setup": "",
       "teardown": "",
       "type": "doctest"
      }
     ]
    },
    "task_22": {
     "name": "task_22",
     "points": 6,
     "suites": [
      {
       "cases": [
        {
         "code": ">>> len(sampled_stats) == 5000\nTrue",
         "failure_message": "❌ ",
         "hidden": false,
         "locked": false,
         "points": 1,
         "success_message": "✅ "
        },
        {
         "code": ">>> np.std(sampled_stats) > 0\nTrue",
         "failure_message": "❌ ",
         "hidden": false,
         "locked": false,
         "points": 1,
         "success_message": "✅ "
        }
       ],
       "scored": true,
       "setup": "",
       "teardown": "",
       "type": "doctest"
      }
     ]
    },
    "task_23": {
     "name": "task_23",
     "points": 5,
     "suites": [
      {
       "cases": [
        {
         "code": ">>> isinstance(precipitation_p_val, (float, np.float32, np.float64))\nTrue",
         "failure_message": "❌ ",
         "hidden": false,
         "locked": false,
         "points": 1,
         "success_message": "✅ "
        },
        {
         "code": ">>> 0 <= precipitation_p_val <= 1\nTrue",
         "failure_message": "❌ ",
         "hidden": false,
         "locked": false,
         "points": 1,
         "success_message": "✅ "
        }
       ],
       "scored": true,
       "setup": "",
       "teardown": "",
       "type": "doctest"
      }
     ]
    }
   }
  }
 },
 "nbformat": 4,
 "nbformat_minor": 5
}
