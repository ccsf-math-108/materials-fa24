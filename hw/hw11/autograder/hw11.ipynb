{
 "cells": [
  {
   "cell_type": "code",
   "execution_count": null,
   "id": "6c3f560d",
   "metadata": {
    "deletable": false,
    "editable": false
   },
   "outputs": [],
   "source": [
    "# Initialize Otter\n",
    "import otter\n",
    "grader = otter.Notebook(\"hw11.ipynb\")"
   ]
  },
  {
   "cell_type": "markdown",
   "id": "940ecda8-6b7b-4db7-896d-0a6dc8bad882",
   "metadata": {},
   "source": [
    "<img src=\"./ccsf.png\" alt=\"CCSF Logo\" width=200px style=\"margin:0px -5px\">"
   ]
  },
  {
   "cell_type": "markdown",
   "id": "b34d9d77-3c7d-46bd-9963-f9296c196091",
   "metadata": {},
   "source": [
    "# Homework 11: Regression"
   ]
  },
  {
   "cell_type": "markdown",
   "id": "b6200903-9532-41f3-94b3-793364778960",
   "metadata": {},
   "source": [
    "## References\n",
    "* [The Regression Line](https://www.inferentialthinking.com/chapters/15/2/Regression_Line.html)\n",
    "* [Method of Least Squares](https://www.inferentialthinking.com/chapters/15/3/Method_of_Least_Squares.html)\n",
    "* [Least Squares Regression](https://www.inferentialthinking.com/chapters/15/4/Least_Squares_Regression.html)\n",
    "* [Inference for Regression](https://inferentialthinking.com/chapters/16/Inference_for_Regression.html)\n",
    "* [`datascience` Documentation](https://datascience.readthedocs.io/)\n",
    "* [Python Quick Reference](https://ccsf-math-108.github.io/materials-fa24/resources/quick-reference.html)"
   ]
  },
  {
   "cell_type": "markdown",
   "id": "57fe510d-bbf9-42e3-9f44-1e5b99c1602f",
   "metadata": {},
   "source": [
    "---"
   ]
  },
  {
   "cell_type": "markdown",
   "id": "04d803c1-662a-4aec-be99-22e2fb84bbd1",
   "metadata": {},
   "source": [
    "## Assignment Reminders"
   ]
  },
  {
   "cell_type": "markdown",
   "id": "e5fd9aff-62d1-4f49-bc5b-2ad45fae6116",
   "metadata": {},
   "source": [
    "- 🚨 Make sure to run the code cell at the top of this notebook that starts with `# Initialize Otter` to load the auto-grader.\n",
    "- Your Tasks are categorized as auto-graded (📍) and manually graded (📍🔎).\n",
    "    - For all the auto-graded tasks:\n",
    "        - Replace the `...` in the provided code cell with your own code.\n",
    "        - Run the `grader.check` code cell to run some tests on your code.\n",
    "        - Keep in mind that for homework and project assignments, sometimes there are hidden tests that you will not be able to see the results of that we use for scoring the correctness of your response. **Passing the auto-grader does not guarantee that your answer is correct.**\n",
    "    - For all the manually graded tasks:\n",
    "        - You might need to provide your own response to the provided prompt. Do so by replacing the template text \"_Type your answer here, replacing this text._\" with your own words.\n",
    "        - You might need to produce a graphic or something else using code. Do so by replacing the `...` in the code cell to generate the image, table, etc.\n",
    "        - In either case, review the rubric on the associated <a href=\"https://ccsf.instructure.com\" target=\"_blank\">Canvas</a> Assignment page to understand the scoring criteria.\n",
    "- Throughout this assignment and all future ones, please be sure to not re-assign variables throughout the notebook! _For example, if you use `max_temperature` in your answer to one question, do not reassign it later on. Otherwise, you will fail tests that you thought you were passing previously!_\n",
    "- You may [submit](#Submit-Your-Assignment-to-Canvas) this assignment as many times as you want before the deadline. Your instructor will score the last version you submit once the deadline has passed.\n",
    "- We encourage you to discuss this assignment with others but make sure to write and submit your own code. Refer to the syllabus to learn more about how to learn cooperatively."
   ]
  },
  {
   "cell_type": "markdown",
   "id": "6949f429-7119-404c-99c7-412565cffebe",
   "metadata": {},
   "source": [
    "---"
   ]
  },
  {
   "cell_type": "markdown",
   "id": "c1ea5869-d0f6-4586-b805-e6a4c010b219",
   "metadata": {},
   "source": [
    "## Configure the Notebook"
   ]
  },
  {
   "cell_type": "markdown",
   "id": "a2e3aa10-540e-4016-a8c9-f316393a935e",
   "metadata": {},
   "source": [
    "Run the following cell to configure this Notebook."
   ]
  },
  {
   "cell_type": "code",
   "execution_count": 1,
   "id": "4cea7a2e-27a3-4f68-b8d4-f2fa63a97de4",
   "metadata": {
    "tags": []
   },
   "outputs": [],
   "source": [
    "from datascience import *\n",
    "import numpy as np\n",
    "%matplotlib inline\n",
    "import matplotlib.pyplot as plt\n",
    "plt.style.use('fivethirtyeight')"
   ]
  },
  {
   "cell_type": "markdown",
   "id": "003ffcec-db07-4c70-b812-d50b252e7ab6",
   "metadata": {},
   "source": [
    "---"
   ]
  },
  {
   "cell_type": "markdown",
   "id": "53c0fd7b-9fae-408a-a14e-512d9fcde8ec",
   "metadata": {},
   "source": [
    "## Linear Regression Setup"
   ]
  },
  {
   "cell_type": "markdown",
   "id": "b3c0b14c-e31c-4056-8db9-9be00f293011",
   "metadata": {},
   "source": [
    "---"
   ]
  },
  {
   "cell_type": "markdown",
   "id": "b3c32ff7-ebe9-4481-86d4-899ef085db13",
   "metadata": {},
   "source": [
    "When performing linear regression in this course, you will need to compute several important quantities which will be used throughout our analysis. Unless otherwise specified when asked to make a prediction please assume we are predicting $y$ from $x$ throughout this assignment. To help with our later analysis, we will begin by writing some of these functions and understanding what they can do for us."
   ]
  },
  {
   "cell_type": "markdown",
   "id": "3c60455a-a65d-48c2-a1d8-facc8ec65e32",
   "metadata": {},
   "source": [
    "---"
   ]
  },
  {
   "cell_type": "markdown",
   "id": "53ce776c-708b-4d14-82e9-29c219e07565",
   "metadata": {
    "tags": []
   },
   "source": [
    "### Task 01 📍"
   ]
  },
  {
   "cell_type": "markdown",
   "id": "0852ef8c-4e9b-4bf5-a45b-81c15316b6e8",
   "metadata": {
    "deletable": false,
    "editable": false
   },
   "source": [
    "Define a function `standard_units` that converts a given array to standard units.\n",
    "\n",
    "**Hint:** You may find the `np.mean` and `np.std` functions helpful.\n",
    "\n",
    "_Points:_ 2"
   ]
  },
  {
   "cell_type": "code",
   "execution_count": 2,
   "id": "6cab9c3b-60ca-4001-abe6-0e6d4ca296fe",
   "metadata": {
    "tags": [
     "otter_assign_solution_cell"
    ]
   },
   "outputs": [],
   "source": [
    "\"\"\" # BEGIN PROMPT\n",
    "def standard_units(data):\n",
    "    ...\n",
    "\"\"\"; # END PROMPT\n",
    "# BEGIN SOLUTION NO PROMPT\n",
    "def standard_units(data):\n",
    "    return (data - np.mean(data)) / np.std(data)\n",
    "# END SOLUTION"
   ]
  },
  {
   "cell_type": "code",
   "execution_count": null,
   "id": "83d7d650",
   "metadata": {
    "deletable": false,
    "editable": false
   },
   "outputs": [],
   "source": [
    "grader.check(\"task_01\")"
   ]
  },
  {
   "cell_type": "markdown",
   "id": "e6644f6d-5dc8-4d8e-9a05-dadfecc13ad5",
   "metadata": {},
   "source": [
    "---"
   ]
  },
  {
   "cell_type": "markdown",
   "id": "384d3142-bee1-4866-b9b0-453a88669dae",
   "metadata": {
    "tags": []
   },
   "source": [
    "### Task 02 📍"
   ]
  },
  {
   "cell_type": "markdown",
   "id": "d9903bcd-0f74-449e-b869-498103bb6891",
   "metadata": {
    "deletable": false,
    "editable": false
   },
   "source": [
    "Which of the following are true about standard units? Assume we have converted an array of data into standard units using the function above.\n",
    "\n",
    "1. The units of the data converted into standard units are the same as the units of the original data.\n",
    "2. The sum of the data converted into standard units is 0.\n",
    "3. The standard deviation of the data converted into standard units is 1.\n",
    "4. Adding 5 to the original data has no impact on the resultant data when converted to standard units.\n",
    "5. Multiplying the data by 5 has no impact on the resultant data when converted to standard units.\n",
    "\n",
    "Assign `standard_array` to an array of your selections.\n",
    "\n",
    "_Points:_ 2"
   ]
  },
  {
   "cell_type": "code",
   "execution_count": 7,
   "id": "1568b694-3d22-4bbc-9ecb-2bd98e499ef2",
   "metadata": {
    "tags": [
     "otter_assign_solution_cell"
    ]
   },
   "outputs": [],
   "source": [
    "\"\"\" # BEGIN PROMPT\n",
    "standard_array = make_array(...)\n",
    "\"\"\"; # END PROMPT\n",
    "# BEGIN SOLUTION NO PROMPT\n",
    "standard_array = make_array(2, 3, 4, 5)\n",
    "# END SOLUTION"
   ]
  },
  {
   "cell_type": "code",
   "execution_count": null,
   "id": "39695a51",
   "metadata": {
    "deletable": false,
    "editable": false
   },
   "outputs": [],
   "source": [
    "grader.check(\"task_02\")"
   ]
  },
  {
   "cell_type": "markdown",
   "id": "7e55cf32-fc35-4b22-ac28-51ef220b8fcb",
   "metadata": {},
   "source": [
    "---"
   ]
  },
  {
   "cell_type": "markdown",
   "id": "35df7e8e-b657-4193-8e30-6743c0776311",
   "metadata": {
    "tags": []
   },
   "source": [
    "### Task 03 📍"
   ]
  },
  {
   "cell_type": "markdown",
   "id": "90b069a8-e239-4e48-bef6-9d1e9dfbc356",
   "metadata": {
    "deletable": false,
    "editable": false
   },
   "source": [
    "Define a function `correlation` that computes the correlation between 2 arrays of data in original units.\n",
    "\n",
    "**Hint:** Consider using the `standard_units` function you have defined previously.\n",
    "\n",
    "_Points:_ 2"
   ]
  },
  {
   "cell_type": "code",
   "execution_count": 10,
   "id": "312bc4f4-0865-44c7-88d7-3f82bd4e1450",
   "metadata": {
    "tags": [
     "otter_assign_solution_cell"
    ]
   },
   "outputs": [],
   "source": [
    "\"\"\" # BEGIN PROMPT\n",
    "def correlation(x, y):\n",
    "    ...\n",
    "\"\"\"; # END PROMPT\n",
    "# BEGIN SOLUTION NO PROMPT\n",
    "def correlation(x, y):\n",
    "    return np.mean(standard_units(x) * standard_units(y))\n",
    "# END SOLUTION"
   ]
  },
  {
   "cell_type": "code",
   "execution_count": null,
   "id": "5102e7d7",
   "metadata": {
    "deletable": false,
    "editable": false
   },
   "outputs": [],
   "source": [
    "grader.check(\"task_03\")"
   ]
  },
  {
   "cell_type": "markdown",
   "id": "a1b6f0e6-9893-422b-909c-ee055bbbfd24",
   "metadata": {},
   "source": [
    "---"
   ]
  },
  {
   "cell_type": "markdown",
   "id": "fb00a76a-1f9b-461b-8eb0-a331820a19ee",
   "metadata": {
    "tags": []
   },
   "source": [
    "### Task 04 📍"
   ]
  },
  {
   "cell_type": "markdown",
   "id": "5c81fac2-0b4f-4a72-b97b-c052f454aed3",
   "metadata": {
    "deletable": false,
    "editable": false
   },
   "source": [
    "Which of the following statements are true about the correlation coefficient?\n",
    "\n",
    "1. The correlation coefficient measures the strength of a linear relationship.\n",
    "2. A correlation coefficient of 1.0 means an increase in one variable always means an increase in the other variable by the same amount.\n",
    "3. The correlation coefficient is the slope of the regression line in standard units.\n",
    "4. The correlation coefficient stays the same if we swap our x-axis and y-axis.\n",
    "5. If we add 5 to our original data, our correlation coefficient will increase by 5.\n",
    "\n",
    "Assign `r_array` to an array of your selections.\n",
    "\n",
    "_Points:_ 2"
   ]
  },
  {
   "cell_type": "code",
   "execution_count": 13,
   "id": "95cda937-7bac-4e23-81c1-2285ac34805a",
   "metadata": {
    "tags": [
     "otter_assign_solution_cell"
    ]
   },
   "outputs": [],
   "source": [
    "\"\"\" # BEGIN PROMPT\n",
    "r_array = make_array(...)\n",
    "\"\"\"; # END PROMPT\n",
    "# BEGIN SOLUTION NO PROMPT\n",
    "r_array = make_array(1, 3, 4)\n",
    "# END SOLUTION"
   ]
  },
  {
   "cell_type": "code",
   "execution_count": null,
   "id": "12b08b57",
   "metadata": {
    "deletable": false,
    "editable": false
   },
   "outputs": [],
   "source": [
    "grader.check(\"task_04\")"
   ]
  },
  {
   "cell_type": "markdown",
   "id": "cab026f6-6e6a-4ee3-b94f-46e1e756af13",
   "metadata": {},
   "source": [
    "---"
   ]
  },
  {
   "cell_type": "markdown",
   "id": "23b888e2-4147-487b-bf52-95e3d5acd880",
   "metadata": {
    "tags": []
   },
   "source": [
    "### Task 05 📍"
   ]
  },
  {
   "cell_type": "markdown",
   "id": "0cf05a23-e49c-439d-8b46-c6848d93f0bc",
   "metadata": {
    "deletable": false,
    "editable": false
   },
   "source": [
    "Define a function `slope` that computes the slope of our line of best fit (to predict y given x), given two arrays of data in original units. Assume we want to create a line of best fit in original units.\n",
    "\n",
    "**Hint:** Consider using the `correlation` function you have defined previously.\n",
    "\n",
    "_Points:_ 2"
   ]
  },
  {
   "cell_type": "code",
   "execution_count": 16,
   "id": "5688b458-beed-447d-8a54-70a9180ca939",
   "metadata": {
    "tags": [
     "otter_assign_solution_cell"
    ]
   },
   "outputs": [],
   "source": [
    "\"\"\" # BEGIN PROMPT\n",
    "def slope(x, y):\n",
    "    r = ...\n",
    "    ...\n",
    "\"\"\"; # END PROMPT\n",
    "# BEGIN SOLUTION NO PROMPT\n",
    "def slope(x, y):\n",
    "    r = correlation(x, y)\n",
    "    return r * np.std(y) / np.std(x)\n",
    "# END SOLUTION"
   ]
  },
  {
   "cell_type": "code",
   "execution_count": null,
   "id": "40a46df2",
   "metadata": {
    "deletable": false,
    "editable": false
   },
   "outputs": [],
   "source": [
    "grader.check(\"task_05\")"
   ]
  },
  {
   "cell_type": "markdown",
   "id": "ec251415-d7bb-484d-b835-233e5ed3aa96",
   "metadata": {},
   "source": [
    "---"
   ]
  },
  {
   "cell_type": "markdown",
   "id": "44867bb6-b6ec-4f9a-87b6-53408b7673d2",
   "metadata": {
    "tags": []
   },
   "source": [
    "### Task 06 📍"
   ]
  },
  {
   "cell_type": "markdown",
   "id": "2cb86050-ba1f-4494-8a0c-d9074184e0a7",
   "metadata": {
    "deletable": false,
    "editable": false
   },
   "source": [
    "Which of the following are true statements about the slope of our line of best fit? Assume $x$ refers to the value of one variable that we use to predict the value of y.\n",
    "\n",
    "1. In original units, the slope has the unit: unit of $x$ / unit of $y$.\n",
    "2. In standard units, the slope is unitless.\n",
    "3. In original units, the slope is unchanged by swapping $x$ and $y$.\n",
    "4. In standard units, a slope of 1 means our data is perfectly linearly correlated.\n",
    "5. In original units and standard units, the slope always has the same positive or negative sign.\n",
    " \n",
    "Assign `slope_array` to an array of your selections.\n",
    "\n",
    "_Points:_ 2"
   ]
  },
  {
   "cell_type": "code",
   "execution_count": 20,
   "id": "24e0d0c3-813f-419c-806e-c3c25621f2a1",
   "metadata": {
    "tags": [
     "otter_assign_solution_cell"
    ]
   },
   "outputs": [],
   "source": [
    "\"\"\" # BEGIN PROMPT\n",
    "slope_array = make_array(...)\n",
    "\"\"\"; # END PROMPT\n",
    "# BEGIN SOLUTION NO PROMPT\n",
    "slope_array = make_array(2, 4, 5)\n",
    "# END SOLUTION"
   ]
  },
  {
   "cell_type": "code",
   "execution_count": null,
   "id": "f64a484a",
   "metadata": {
    "deletable": false,
    "editable": false
   },
   "outputs": [],
   "source": [
    "grader.check(\"task_06\")"
   ]
  },
  {
   "cell_type": "markdown",
   "id": "dd21ff12-56e5-4ce2-adc1-6f1575362b63",
   "metadata": {},
   "source": [
    "---"
   ]
  },
  {
   "cell_type": "markdown",
   "id": "5a527314-3008-48e3-af83-53fb9c23b7ac",
   "metadata": {
    "tags": []
   },
   "source": [
    "### Task 07 📍"
   ]
  },
  {
   "cell_type": "markdown",
   "id": "e16d2aea-26d6-4228-93b5-9d624061f145",
   "metadata": {
    "deletable": false,
    "editable": false
   },
   "source": [
    "Define a function `intercept` that computes the intercept of our line of best fit (to predict `y` given `x`), given 2 arrays of data in original units. Assume we want to create a line of best fit in original units.\n",
    "\n",
    "**Hint:** Consider using slope function you have defined previously.\n",
    "\n",
    "_Points:_ 2"
   ]
  },
  {
   "cell_type": "code",
   "execution_count": 23,
   "id": "3d2b8f5f-d1dc-493c-ac04-97128869c0bb",
   "metadata": {
    "tags": [
     "otter_assign_solution_cell"
    ]
   },
   "outputs": [],
   "source": [
    "\"\"\" # BEGIN PROMPT\n",
    "def intercept(x, y):\n",
    "    ...\n",
    "\"\"\"; # END PROMPT\n",
    "# BEGIN SOLUTION NO PROMPT\n",
    "def intercept(x, y):\n",
    "    return np.mean(y) - slope(x, y) * np.mean(x)\n",
    "# END SOLUTION"
   ]
  },
  {
   "cell_type": "code",
   "execution_count": null,
   "id": "bf97ae1a",
   "metadata": {
    "deletable": false,
    "editable": false
   },
   "outputs": [],
   "source": [
    "grader.check(\"task_07\")"
   ]
  },
  {
   "cell_type": "markdown",
   "id": "508aa359-c941-4821-a102-8b6f3737badc",
   "metadata": {},
   "source": [
    "---"
   ]
  },
  {
   "cell_type": "markdown",
   "id": "7a41eab1-4f21-43fe-9517-7278ec2bfd5c",
   "metadata": {
    "tags": []
   },
   "source": [
    "### Task 08 📍"
   ]
  },
  {
   "cell_type": "markdown",
   "id": "112028f7-5823-4eba-a2d4-4632c40155fb",
   "metadata": {
    "deletable": false,
    "editable": false
   },
   "source": [
    "Which of the following are true about the intercept of our line of best fit? Assume $x$ refers to the value of one variable that we use to predict the value of $y$.\n",
    "\n",
    "1. In original units, the intercept has the same unit as the $y$ values.\n",
    "2. In original units, the intercept has the same unit as the $x$ values.\n",
    "3. In original units, the slope and intercept have the same unit.\n",
    "4. In standard units, the intercept for the regression line is 0.\n",
    "5. In both original and standard units, the intercept does not necessarily have the same numerical value.\n",
    "\n",
    "Assign `intercept_array` to an array of your selections.\n",
    "\n",
    "_Points:_ 2"
   ]
  },
  {
   "cell_type": "code",
   "execution_count": 27,
   "id": "406c483e-e4df-4a9e-bc3f-93ab80d355f5",
   "metadata": {
    "tags": [
     "otter_assign_solution_cell"
    ]
   },
   "outputs": [],
   "source": [
    "\"\"\" # BEGIN PROMPT\n",
    "intercept_array = make_array(...)\n",
    "\"\"\"; # END PROMPT\n",
    "# BEGIN SOLUTION NO PROMPT\n",
    "intercept_array = make_array(1, 4)\n",
    "# END SOLUTION"
   ]
  },
  {
   "cell_type": "code",
   "execution_count": null,
   "id": "31432c1e",
   "metadata": {
    "deletable": false,
    "editable": false
   },
   "outputs": [],
   "source": [
    "grader.check(\"task_08\")"
   ]
  },
  {
   "cell_type": "markdown",
   "id": "f66f0386-34b4-40b7-882c-784f0fd40dee",
   "metadata": {},
   "source": [
    "---"
   ]
  },
  {
   "cell_type": "markdown",
   "id": "8c31e196-f186-49cf-ba15-42c5b2670f16",
   "metadata": {
    "tags": []
   },
   "source": [
    "### Task 09 📍"
   ]
  },
  {
   "cell_type": "markdown",
   "id": "2e7496e9-7d3d-4794-b0e4-58cbdc60ffa6",
   "metadata": {
    "deletable": false,
    "editable": false
   },
   "source": [
    "Define a function `predict` that takes in a table and 2 column names, and returns an array of predictions. Keep the following in mind when you make this function:\n",
    "* The predictions should be created using a fitted regression line.\n",
    "* We are predicting `y_col` from `x_col`, both in original units.\n",
    "\n",
    "**Hint 1:** Consider using the `slope` and `intercept` functions you have defined previously.\n",
    "\n",
    "**Hint 2:** Re-reading [Section 15.2](https://inferentialthinking.com/chapters/15/2/Regression_Line.html) might be helpful here.\n",
    "\n",
    "**Note:** The public tests are quite comprehensive for this question, so passing them means that your function most likely works correctly.\n",
    "\n",
    "_Points:_ 3"
   ]
  },
  {
   "cell_type": "code",
   "execution_count": 30,
   "id": "3159d1f5-6614-46a9-bac2-cb2caf48a8ab",
   "metadata": {
    "tags": [
     "otter_assign_solution_cell"
    ]
   },
   "outputs": [],
   "source": [
    "\"\"\" # BEGIN PROMPT\n",
    "def predict(tbl, x_col, y_col):\n",
    "    x = ...\n",
    "    y = ...\n",
    "    ...\n",
    "\"\"\"; # END PROMPT\n",
    "# BEGIN SOLUTION NO PROMPT\n",
    "def predict(tbl, x_col, y_col):\n",
    "    x = tbl.column(x_col)\n",
    "    y = tbl.column(y_col)\n",
    "    return slope(x, y) * x + intercept(x, y)\n",
    "# END SOLUTION"
   ]
  },
  {
   "cell_type": "code",
   "execution_count": null,
   "id": "0019caf4",
   "metadata": {
    "deletable": false,
    "editable": false
   },
   "outputs": [],
   "source": [
    "grader.check(\"task_09\")"
   ]
  },
  {
   "cell_type": "markdown",
   "id": "7862f214-70b6-4562-b318-28c504591618",
   "metadata": {},
   "source": [
    "---"
   ]
  },
  {
   "cell_type": "markdown",
   "id": "878cf02f-fe16-4f3f-9ec0-48eadd595c80",
   "metadata": {},
   "source": [
    "## FIFA Predictions"
   ]
  },
  {
   "cell_type": "markdown",
   "id": "4c22b843-130c-46f9-b298-17ba29b9869c",
   "metadata": {},
   "source": [
    "---"
   ]
  },
  {
   "cell_type": "markdown",
   "id": "4942fcdf-8e8b-493f-9758-eadcd8d678ae",
   "metadata": {},
   "source": [
    "The following data was [scraped](https://en.wikipedia.org/wiki/Data_scraping) from [sofifa.com](https://sofifa.com/), a website dedicated to collecting information from FIFA video games. The dataset consists of all players in [FIFA 22](https://en.wikipedia.org/wiki/FIFA_22) and their corresponding attributes. We have truncated the dataset to a limited number of rows (100) to ease with our visualizations and analysis. \n",
    "\n",
    "**Since we're learning about linear regression, we will look specifically for a linear association between various player attributes. To help with understanding where the line of best fit generated in linear regression comes from please do not use the `.fit_line` argument in `.scatter` at any point on question 2 unless the code was provided for you.**\n",
    "\n",
    "Run the following cell to load the data and reduce the original data to a more manageable amount of information. (There are 110 columns in the original dataset!) "
   ]
  },
  {
   "cell_type": "code",
   "execution_count": 36,
   "id": "b79406ba-7d0a-46f5-a820-e79ff9eaf7c8",
   "metadata": {},
   "outputs": [
    {
     "data": {
      "text/html": [
       "<table border=\"1\" class=\"dataframe\">\n",
       "    <thead>\n",
       "        <tr>\n",
       "            <th>short_name</th> <th>overall</th> <th>value_eur</th> <th>wage_eur</th> <th>age</th> <th>pace</th> <th>shooting</th> <th>passing</th> <th>attacking_finishing</th>\n",
       "        </tr>\n",
       "    </thead>\n",
       "    <tbody>\n",
       "        <tr>\n",
       "            <td>L. Messi         </td> <td>93     </td> <td>78000000 </td> <td>320000  </td> <td>34  </td> <td>85  </td> <td>92      </td> <td>91     </td> <td>95                 </td>\n",
       "        </tr>\n",
       "        <tr>\n",
       "            <td>R. Lewandowski   </td> <td>92     </td> <td>119500000</td> <td>270000  </td> <td>32  </td> <td>78  </td> <td>92      </td> <td>79     </td> <td>95                 </td>\n",
       "        </tr>\n",
       "        <tr>\n",
       "            <td>Cristiano Ronaldo</td> <td>91     </td> <td>45000000 </td> <td>270000  </td> <td>36  </td> <td>87  </td> <td>94      </td> <td>80     </td> <td>95                 </td>\n",
       "        </tr>\n",
       "        <tr>\n",
       "            <td>Neymar Jr        </td> <td>91     </td> <td>129000000</td> <td>270000  </td> <td>29  </td> <td>91  </td> <td>83      </td> <td>86     </td> <td>83                 </td>\n",
       "        </tr>\n",
       "        <tr>\n",
       "            <td>K. De Bruyne     </td> <td>91     </td> <td>125500000</td> <td>350000  </td> <td>30  </td> <td>76  </td> <td>86      </td> <td>93     </td> <td>82                 </td>\n",
       "        </tr>\n",
       "    </tbody>\n",
       "</table>\n",
       "<p>... (95 rows omitted)</p>"
      ],
      "text/plain": [
       "<IPython.core.display.HTML object>"
      ]
     },
     "metadata": {},
     "output_type": "display_data"
    }
   ],
   "source": [
    "fifa = Table.read_table('fifa22.csv')\n",
    "fifa = fifa.select(\"short_name\", \"overall\", \"value_eur\", \n",
    "                   \"wage_eur\", \"age\", \"pace\", \"shooting\", \n",
    "                   \"passing\", \"attacking_finishing\")\n",
    "fifa.show(5)"
   ]
  },
  {
   "cell_type": "markdown",
   "id": "f9b238e0-7e1d-4179-b9ab-ec588e51d71b",
   "metadata": {},
   "source": [
    "---"
   ]
  },
  {
   "cell_type": "markdown",
   "id": "df7b101b-7c2f-44b2-a7c4-10b2d142c39f",
   "metadata": {
    "tags": []
   },
   "source": [
    "### Task 10 📍🔎"
   ]
  },
  {
   "cell_type": "markdown",
   "id": "af407593-3b00-408b-8ef9-e09b74fdbcc5",
   "metadata": {
    "deletable": false,
    "editable": false
   },
   "source": [
    "<!-- BEGIN QUESTION -->\n",
    "\n",
    "Before jumping into any statistical techniques, it's important to see what the data looks like, because data visualizations allow us to uncover patterns in our data that would have otherwise been much more difficult to see.\n",
    "\n",
    "Create a scatter plot with age on the x-axis (`\"age\"`), and the player's value in Euros (`\"value_eur\"`) on the y-axis.\n",
    "\n",
    "_Points:_ 2"
   ]
  },
  {
   "cell_type": "code",
   "execution_count": 37,
   "id": "dc40451a-b08b-4f87-b10b-a18576aac46b",
   "metadata": {
    "tags": [
     "otter_assign_solution_cell"
    ]
   },
   "outputs": [
    {
     "data": {
      "image/png": "[encoded data removed]",
      "text/plain": [
       "<Figure size 500x500 with 1 Axes>"
      ]
     },
     "metadata": {},
     "output_type": "display_data"
    }
   ],
   "source": [
    "fifa.scatter('age', 'value_eur') # SOLUTION"
   ]
  },
  {
   "cell_type": "markdown",
   "id": "6341e714-9246-4c2f-bf94-b2f3c37da4cb",
   "metadata": {
    "deletable": false,
    "editable": false
   },
   "source": [
    "<!-- END QUESTION -->\n",
    "\n",
    "---"
   ]
  },
  {
   "cell_type": "markdown",
   "id": "505bbbaf-5ef9-4583-9620-5288810a9327",
   "metadata": {
    "tags": []
   },
   "source": [
    "### Task 11 📍🔎"
   ]
  },
  {
   "cell_type": "markdown",
   "id": "afa226bb-990b-4a18-bcc9-94cd9abe8af4",
   "metadata": {
    "deletable": false,
    "editable": false
   },
   "source": [
    "<!-- BEGIN QUESTION -->\n",
    "\n",
    "Create a scatter plot with player age (`\"age\"`) along the x-axis and both real player value (`\"value_eur\"`) and predicted player value along the y-axis. \n",
    "\n",
    "* The predictions should be created using a fitted regression line.\n",
    "* The color of the dots for the real player values should be different from the color for the predicted player values.\n",
    "\n",
    "**Hint 1:** Consider using the `predict` function you have defined previously.\n",
    "\n",
    "**Hint 2:** [Section 15.2](https://inferentialthinking.com/chapters/15/2/Regression_Line.html) and [Section 7.3](https://inferentialthinking.com/chapters/07/3/Overlaid_Graphs.html) have examples of creating such scatter plots.\n",
    "\n",
    "_Points:_ 2"
   ]
  },
  {
   "cell_type": "code",
   "execution_count": 38,
   "id": "68f0e4eb-1296-4738-9448-c3585338788c",
   "metadata": {
    "tags": [
     "otter_assign_solution_cell"
    ]
   },
   "outputs": [
    {
     "data": {
      "image/png": "[encoded data removed]",
      "text/plain": [
       "<Figure size 500x500 with 1 Axes>"
      ]
     },
     "metadata": {},
     "output_type": "display_data"
    }
   ],
   "source": [
    "\"\"\" # BEGIN PROMPT\n",
    "predictions = ...\n",
    "fifa_with_predictions = ...\n",
    "...\n",
    "\"\"\"; # END PROMPT\n",
    "# BEGIN SOLUTION NO PROMPT\n",
    "predictions = predict(fifa, 'age', 'value_eur')\n",
    "fifa_with_predictions = fifa.with_column('pred_value_eur', predictions)\n",
    "fifa_with_predictions.select('age', 'value_eur', 'pred_value_eur').scatter('age')\n",
    "# END SOLUTION"
   ]
  },
  {
   "cell_type": "markdown",
   "id": "dfa9e837-7474-4415-a08c-b24574a9e8cb",
   "metadata": {
    "deletable": false,
    "editable": false
   },
   "source": [
    "<!-- END QUESTION -->\n",
    "\n",
    "---"
   ]
  },
  {
   "cell_type": "markdown",
   "id": "57f8a739-130d-4a34-9471-487507146b9c",
   "metadata": {
    "tags": []
   },
   "source": [
    "### Task 12 📍🔎"
   ]
  },
  {
   "cell_type": "markdown",
   "id": "8ca972a8-ee07-4c4c-b44d-f0f462175e2e",
   "metadata": {
    "deletable": false,
    "editable": false
   },
   "source": [
    "<!-- BEGIN QUESTION -->\n",
    "\n",
    "Looking at the scatter plot you produced above, is linear regression a good model to use? If so, what features or characteristics make this model reasonable? If not, what features or characteristics make it unreasonable?\n",
    "\n",
    "_Points:_ 2"
   ]
  },
  {
   "cell_type": "markdown",
   "id": "4e0a3a63",
   "metadata": {},
   "source": [
    "_Type your answer here, replacing this text._"
   ]
  },
  {
   "cell_type": "markdown",
   "id": "3af43e34-6ad7-4ab8-81f4-10f24f5574aa",
   "metadata": {
    "tags": [
     "otter_assign_solution_cell"
    ]
   },
   "source": [
    "#### Sample Solution"
   ]
  },
  {
   "cell_type": "markdown",
   "id": "bfcef3c6-6e23-4f00-9419-2785d852490b",
   "metadata": {
    "tags": [
     "otter_assign_solution_cell"
    ]
   },
   "source": [
    "Based on the scatter plot, linear regression is a somewhat good model to use. The line of predictions seems to follow the general pattern seen in the data. There are some concerns about the funneling pattern to the data. That is, the data is more spread out on the left side of the image compared to the right side. Additionally, there seem to be a few data values on the left side of the image that might be considered outliers. "
   ]
  },
  {
   "cell_type": "markdown",
   "id": "3921cb85-3a03-4a9f-aacb-26e16bd7d6a4",
   "metadata": {
    "deletable": false,
    "editable": false
   },
   "source": [
    "<!-- END QUESTION -->\n",
    "\n",
    "---"
   ]
  },
  {
   "cell_type": "markdown",
   "id": "c49bfec7-e095-405d-9ff0-b76eade954ac",
   "metadata": {
    "tags": []
   },
   "source": [
    "### Task 13 📍"
   ]
  },
  {
   "cell_type": "markdown",
   "id": "e08947a7-111c-433e-a903-05425c268fe8",
   "metadata": {
    "deletable": false,
    "editable": false
   },
   "source": [
    "Define a function `rmse` that takes in two arguments: a slope and an intercept for a potential regression line. The function should return the root mean squared error between the values predicted by a regression line with the given slope and intercept and the actual outcomes.\n",
    "\n",
    "**Note:** Assume we are still predicting `\"value_eur\"` from `\"age\"` in original units from the `fifa` table.\n",
    "\n",
    "_Points:_ 2"
   ]
  },
  {
   "cell_type": "code",
   "execution_count": 39,
   "id": "aebfc5a9-a2ce-4cf7-8e85-ffa9ba048d21",
   "metadata": {
    "tags": [
     "otter_assign_solution_cell"
    ]
   },
   "outputs": [],
   "source": [
    "\"\"\" # BEGIN PROMPT\n",
    "def rmse(slope, intercept):\n",
    "    predictions = ...\n",
    "    errors = ...\n",
    "    ...\n",
    "\"\"\"; # END PROMPT\n",
    "# BEGIN SOLUTION NO PROMPT\n",
    "def rmse(slope, intercept):\n",
    "    observations = fifa.column('value_eur')\n",
    "    predictions = slope * fifa.column('age') + intercept\n",
    "    errors = observations - predictions\n",
    "    return np.sqrt(np.mean(errors ** 2))\n",
    "# END SOLUTION"
   ]
  },
  {
   "cell_type": "code",
   "execution_count": null,
   "id": "0eea4c92",
   "metadata": {
    "deletable": false,
    "editable": false
   },
   "outputs": [],
   "source": [
    "grader.check(\"task_13\")"
   ]
  },
  {
   "cell_type": "markdown",
   "id": "769558f8-bac2-4571-bb4c-02b504dbd5e2",
   "metadata": {},
   "source": [
    "---"
   ]
  },
  {
   "cell_type": "markdown",
   "id": "a99743e0-1060-4d89-9c43-ebe65fe9e7c9",
   "metadata": {
    "tags": []
   },
   "source": [
    "### Task 14 📍🔎"
   ]
  },
  {
   "cell_type": "markdown",
   "id": "57d68c51-4615-4ead-a5fe-e8f8e3cb5e64",
   "metadata": {
    "deletable": false,
    "editable": false
   },
   "source": [
    "<!-- BEGIN QUESTION -->\n",
    "\n",
    "1. Use the `rmse` function you defined along with `minimize` to find the least-squares regression parameters predicting player value from player age. Review the [example of using the `minimize` function from the textbook](https://inferentialthinking.com/chapters/15/3/Method_of_Least_Squares.html#numerical-optimization).\n",
    "2. Then set `lsq_slope` and `lsq_intercept` to be the least-squares regression line slope and intercept, respectively.\n",
    "3. Finally, create a scatter plot like you did in Task 11 with player age (`\"age\"`) along the x-axis and both real player value (`\"value_eur\"`) and predicted player value along the y-axis. Be sure to use your least-squares regression line to compute the predicted values. The color of the dots for the real player values should be different from the color for the predicted player values.\n",
    "\n",
    "**Note:** Your solution should **not** make any calls to the slope or intercept functions defined earlier. You are demonstrating a different method for creating the line in this task.\n",
    "\n",
    "**Hint:** Your call to `minimize` will return an array of argument values that minimize the return value of the function passed to minimize.\n",
    "\n",
    "_Points:_ 2"
   ]
  },
  {
   "cell_type": "code",
   "execution_count": 43,
   "id": "ab527d9a-13cf-40ee-856b-33d5c82c5e7b",
   "metadata": {
    "tags": [
     "otter_assign_solution_cell"
    ]
   },
   "outputs": [
    {
     "name": "stdout",
     "output_type": "stream",
     "text": [
      "Slope: -6.41462e+06 | Intercept: 2.55525e+08\n"
     ]
    },
    {
     "data": {
      "image/png": "[encoded data removed]",
      "text/plain": [
       "<Figure size 500x500 with 1 Axes>"
      ]
     },
     "metadata": {},
     "output_type": "display_data"
    }
   ],
   "source": [
    "\"\"\" # BEGIN PROMPT\n",
    "minimized_parameters = ...\n",
    "lsq_slope = ...\n",
    "lsq_intercept = ...\n",
    "\n",
    "# This just prints your slope and intercept\n",
    "print(\"Slope: {:g} | Intercept: {:g}\".format(lsq_slope, lsq_intercept))\n",
    "\n",
    "lsq_predictions = ...\n",
    "fifa_with_lsq_predictions = ...\n",
    "...\n",
    "\"\"\"; # END PROMPT\n",
    "# BEGIN SOLUTION NO PROMPT\n",
    "minimized_parameters = minimize(rmse)\n",
    "lsq_slope = minimized_parameters.item(0)\n",
    "lsq_intercept = minimized_parameters.item(1)\n",
    "\n",
    "# This just prints your slope and intercept\n",
    "print(\"Slope: {:g} | Intercept: {:g}\".format(lsq_slope, lsq_intercept))\n",
    "\n",
    "lsq_predictions = lsq_slope * fifa.column('age') + lsq_intercept\n",
    "fifa_with_lsq_predictions = fifa.with_column('minimized_predicted_value_eur', lsq_predictions)\n",
    "fifa_with_lsq_predictions.select('age', 'value_eur', 'minimized_predicted_value_eur').scatter('age')\n",
    "# END SOLUTION"
   ]
  },
  {
   "cell_type": "markdown",
   "id": "92a0e94a-1305-42b6-9eb0-e383ee162b54",
   "metadata": {
    "deletable": false,
    "editable": false
   },
   "source": [
    "<!-- END QUESTION -->\n",
    "\n",
    "---"
   ]
  },
  {
   "cell_type": "markdown",
   "id": "62268393-7a8f-4683-a442-92ae10924de7",
   "metadata": {
    "tags": []
   },
   "source": [
    "### Task 15 📍🔎"
   ]
  },
  {
   "cell_type": "markdown",
   "id": "635e3794-9129-4f87-8ac1-06b9bfff1917",
   "metadata": {
    "deletable": false,
    "editable": false
   },
   "source": [
    "<!-- BEGIN QUESTION -->\n",
    "\n",
    "What do you notice about the visuals produced in Task 11 and Task 14, and what can you conclude about the two different methods you used to create those two lines of gold dots, the predicted values? In your response, make sure to reference [Section 15.3](https://inferentialthinking.com/chapters/15/3/Method_of_Least_Squares.html) of the textbook to justify what you write.\n",
    "\n",
    "_Points:_ 2"
   ]
  },
  {
   "cell_type": "markdown",
   "id": "d079fa86",
   "metadata": {},
   "source": [
    "_Type your answer here, replacing this text._"
   ]
  },
  {
   "cell_type": "markdown",
   "id": "0b8263a7-d8da-405b-9d25-99dc38f92c7a",
   "metadata": {
    "tags": [
     "otter_assign_solution_cell"
    ]
   },
   "source": [
    "#### Sample Solution"
   ]
  },
  {
   "cell_type": "markdown",
   "id": "9569436d-4d23-44ec-b69d-9003bae945c4",
   "metadata": {
    "tags": [
     "otter_assign_solution_cell"
    ]
   },
   "source": [
    "It turns out that the regression line is the only line that makes the mean squared error as small as possible. According to Section 15.3, \"The regression line is the unique straight line that minimizes the mean squared error of estimation among all straight lines.\" The predictions in the image in Task 11 came from the equations of the regression line, and the predictions from the image in Task 14 came from the minimization function. Both ways give us the same (approximately) slope and intercept for the line used to make the predictions!"
   ]
  },
  {
   "cell_type": "markdown",
   "id": "9a22753b-320e-4df4-b95d-1e6ce1372b4a",
   "metadata": {
    "deletable": false,
    "editable": false
   },
   "source": [
    "<!-- END QUESTION -->\n",
    "\n",
    "---"
   ]
  },
  {
   "cell_type": "markdown",
   "id": "a210578a-810b-4660-8bf3-d9d403556306",
   "metadata": {},
   "source": [
    "## Regression Inference"
   ]
  },
  {
   "cell_type": "markdown",
   "id": "fe3dd49c-548a-497f-90f5-0a91be8a152f",
   "metadata": {},
   "source": [
    "---"
   ]
  },
  {
   "cell_type": "markdown",
   "id": "93418c7c-e5e9-4e97-b254-b46a5c0c2e84",
   "metadata": {},
   "source": [
    "Previously, you've used confidence intervals to quantify uncertainty about estimates. You can also run hypothesis tests using a confidence interval under the following procedure:\n",
    "\n",
    "1. Define a null and alternative hypothesis (they must be of the form \"The parameter is X\" and \"The parameter is not X\").\n",
    "2. Choose a p-value cutoff, and call it $q$.\n",
    "3. Construct a $(100-q)\\%$ interval using bootstrap sampling (for example, if your p-value cutoff is 0.01, or 1%, then construct a 99% confidence interval).\n",
    "4. Using the confidence interval, determine if your data are more consistent with your null or alternative hypothesis:\n",
    "   * If the null hypothesis parameter X is in your confidence interval, the data are more consistent with the null hypothesis.\n",
    "   * If the null hypothesis parameter X is *not* in your confidence interval, the data are more consistent with the alternative hypothesis.\n",
    "\n",
    "More recently, we've discussed the use of linear regression to make predictions based on correlated variables. For example, we can predict the height of children based on the heights of their parents.\n",
    "\n",
    "We can combine these two topics to make powerful statements about our population by using the following techniques:\n",
    "\n",
    "- Bootstrapped interval for the true slope\n",
    "- Bootstrapped prediction interval for y (given a particular value of x)\n",
    "\n",
    "This part of the homework explores constructing an interval for the true slope."
   ]
  },
  {
   "cell_type": "markdown",
   "id": "4399931f-ebc1-45c7-916e-4701bb1086c6",
   "metadata": {},
   "source": [
    "---"
   ]
  },
  {
   "cell_type": "markdown",
   "id": "7468e8fb-0284-467d-9e56-bcd9106a09e6",
   "metadata": {},
   "source": [
    "### The Data"
   ]
  },
  {
   "cell_type": "markdown",
   "id": "5fa98c82-26d0-4eb5-b2c4-d19835ee38e1",
   "metadata": {},
   "source": [
    "The [Snowy Plover](https://www.audubon.org/field-guide/bird/snowy-plover) is a tiny bird that lives on the coast in parts of California and elsewhere. It is so small that it is vulnerable to many predators, including people and dogs that don't look where they are stepping when they go to the beach. It is considered endangered in many parts of the U.S.\n",
    "\n",
    "The data are about the eggs and newly-hatched chicks of the Snowy Plover. Here's a picture of [a parent bird incubating its eggs](http://cescos.fau.edu/jay/eps/articles/snowyplover.html).\n",
    "\n",
    "<img src=\"plover_and_eggs.jpeg\" alt=\"Plover and Eggs\">\n",
    "\n",
    "The data were collected at the Point Reyes National Seashore by a former [student at Berkeley](https://openlibrary.org/books/OL2038693M/BLSS_the_Berkeley_interactive_statistical_system). The goal was to see how the size of an egg could be used to predict the weight of the resulting chick. The bigger the newly-hatched chick, the more likely it is to survive.\n",
    "\n",
    "<img src=\"plover_and_chick.jpeg\" alt=\"Plover and Chick\">\n",
    "\n",
    "Each row of the table below corresponds to one Snowy Plover egg and the resulting chick. Note how tiny the bird is:\n",
    "\n",
    "- `Egg Length` and `Egg Breadth` (widest diameter) are measured in millimeters\n",
    "- `Egg Weight` and `Bird Weight` are measured in grams; for comparison, a standard paper clip weighs about one gram"
   ]
  },
  {
   "cell_type": "code",
   "execution_count": 44,
   "id": "f833c1bd-a8cf-4c7b-a559-3b72424077e1",
   "metadata": {},
   "outputs": [
    {
     "data": {
      "text/html": [
       "<table border=\"1\" class=\"dataframe\">\n",
       "    <thead>\n",
       "        <tr>\n",
       "            <th>Egg Length</th> <th>Egg Breadth</th> <th>Egg Weight</th> <th>Bird Weight</th>\n",
       "        </tr>\n",
       "    </thead>\n",
       "    <tbody>\n",
       "        <tr>\n",
       "            <td>28.8      </td> <td>21.84      </td> <td>7.4       </td> <td>5.2        </td>\n",
       "        </tr>\n",
       "        <tr>\n",
       "            <td>29.04     </td> <td>22.45      </td> <td>7.7       </td> <td>5.4        </td>\n",
       "        </tr>\n",
       "        <tr>\n",
       "            <td>29.36     </td> <td>22.48      </td> <td>7.9       </td> <td>5.6        </td>\n",
       "        </tr>\n",
       "        <tr>\n",
       "            <td>30.1      </td> <td>21.71      </td> <td>7.5       </td> <td>5.3        </td>\n",
       "        </tr>\n",
       "        <tr>\n",
       "            <td>30.17     </td> <td>22.75      </td> <td>8.3       </td> <td>5.9        </td>\n",
       "        </tr>\n",
       "        <tr>\n",
       "            <td>30.34     </td> <td>22.84      </td> <td>8.5       </td> <td>5.8        </td>\n",
       "        </tr>\n",
       "        <tr>\n",
       "            <td>30.36     </td> <td>22.5       </td> <td>8.2       </td> <td>5.8        </td>\n",
       "        </tr>\n",
       "        <tr>\n",
       "            <td>30.46     </td> <td>22.72      </td> <td>8.3       </td> <td>6          </td>\n",
       "        </tr>\n",
       "        <tr>\n",
       "            <td>30.54     </td> <td>23.31      </td> <td>9         </td> <td>6.1        </td>\n",
       "        </tr>\n",
       "        <tr>\n",
       "            <td>30.62     </td> <td>22.94      </td> <td>8.5       </td> <td>6.2        </td>\n",
       "        </tr>\n",
       "    </tbody>\n",
       "</table>\n",
       "<p>... (34 rows omitted)</p>"
      ],
      "text/plain": [
       "Egg Length | Egg Breadth | Egg Weight | Bird Weight\n",
       "28.8       | 21.84       | 7.4        | 5.2\n",
       "29.04      | 22.45       | 7.7        | 5.4\n",
       "29.36      | 22.48       | 7.9        | 5.6\n",
       "30.1       | 21.71       | 7.5        | 5.3\n",
       "30.17      | 22.75       | 8.3        | 5.9\n",
       "30.34      | 22.84       | 8.5        | 5.8\n",
       "30.36      | 22.5        | 8.2        | 5.8\n",
       "30.46      | 22.72       | 8.3        | 6\n",
       "30.54      | 23.31       | 9          | 6.1\n",
       "30.62      | 22.94       | 8.5        | 6.2\n",
       "... (34 rows omitted)"
      ]
     },
     "execution_count": 44,
     "metadata": {},
     "output_type": "execute_result"
    }
   ],
   "source": [
    "birds = Table.read_table('snowy_plover.csv')\n",
    "birds"
   ]
  },
  {
   "cell_type": "markdown",
   "id": "83f52c37-39fa-4c79-b51c-f5568ee8a661",
   "metadata": {},
   "source": [
    "In this investigation, we will be using the egg weight to predict bird weight. Run the cell below to create a scatter plot of the egg weights and bird weights, along with their line of best fit."
   ]
  },
  {
   "cell_type": "code",
   "execution_count": 45,
   "id": "e35fc150-a0ae-4d84-b54f-b9b695c8aca1",
   "metadata": {},
   "outputs": [
    {
     "data": {
      "image/png": "[encoded data removed]",
      "text/plain": [
       "<Figure size 500x500 with 1 Axes>"
      ]
     },
     "metadata": {},
     "output_type": "display_data"
    }
   ],
   "source": [
    "# Just run this cell and examine the scatter plot.\n",
    "birds.scatter('Egg Weight', \"Bird Weight\", fit_line=True)"
   ]
  },
  {
   "cell_type": "markdown",
   "id": "e62da665-e918-4a5e-9e01-1f1ac1ea3d32",
   "metadata": {},
   "source": [
    "### Residual Plot"
   ]
  },
  {
   "cell_type": "markdown",
   "id": "c516a53b-bc07-4eb5-b419-08c2d6540fed",
   "metadata": {},
   "source": [
    "It seems like a linear model might be appropriate to apply to this situation, but you should check the residual plot before moving forward. You'll likely find the following functions useful."
   ]
  },
  {
   "cell_type": "code",
   "execution_count": 46,
   "id": "00453c31-9e50-413f-ae73-731765583d0b",
   "metadata": {},
   "outputs": [],
   "source": [
    "def standard_units(data):\n",
    "    return (data - np.mean(data)) / np.std(data)\n",
    "\n",
    "def correlation(tbl, x_col, y_col):\n",
    "    return np.mean(standard_units(tbl.column(x_col)) * standard_units(tbl.column(y_col)))"
   ]
  },
  {
   "cell_type": "markdown",
   "id": "04fd4156-fe4c-4e33-bb83-7e704b331d71",
   "metadata": {
    "tags": []
   },
   "source": [
    "#### Task 16 📍"
   ]
  },
  {
   "cell_type": "markdown",
   "id": "97108a52-ba92-4888-b979-6e5b972bdb94",
   "metadata": {
    "deletable": false,
    "editable": false
   },
   "source": [
    "Create a function called `fit_line`.  It should take a table (e.g. `birds`) and the column names associated with *x* and *y* as its arguments and return an *array* containing the slope and intercept of the regression line (in that order) that predicts the *y* column in the table using the *x* column.\n",
    "\n",
    "_Points:_ 3"
   ]
  },
  {
   "cell_type": "code",
   "execution_count": 47,
   "id": "dfc39eae-0b03-4999-b225-acfe7090abea",
   "metadata": {
    "tags": [
     "otter_assign_solution_cell"
    ]
   },
   "outputs": [
    {
     "data": {
      "text/plain": [
       "array([ 0.71851534, -0.05827226])"
      ]
     },
     "execution_count": 47,
     "metadata": {},
     "output_type": "execute_result"
    }
   ],
   "source": [
    "\"\"\" # BEGIN PROMPT\n",
    "def fit_line(tbl, x_col, y_col):\n",
    "    r = ...\n",
    "    slope = ...\n",
    "    intercept = ...\n",
    "    return make_array(slope, intercept)\n",
    "\n",
    "fit_line(birds, \"Egg Weight\", \"Bird Weight\")\n",
    "\"\"\"; # END PROMPT\n",
    "# BEGIN SOLUTION NO PROMPT\n",
    "def fit_line(tbl, x_col, y_col):\n",
    "    r = correlation(tbl, x_col, y_col)\n",
    "    slope = r * np.std(tbl.column(y_col)) / np.std(tbl.column(x_col))\n",
    "    intercept = np.mean(tbl.column(y_col)) - slope * np.mean(tbl.column(x_col))\n",
    "    return make_array(slope, intercept)\n",
    "\n",
    "fit_line(birds, \"Egg Weight\", \"Bird Weight\")\n",
    "# END SOLUTION"
   ]
  },
  {
   "cell_type": "code",
   "execution_count": null,
   "id": "3832a33b",
   "metadata": {
    "deletable": false,
    "editable": false
   },
   "outputs": [],
   "source": [
    "grader.check(\"task_16\")"
   ]
  },
  {
   "cell_type": "markdown",
   "id": "3b3840f2-cace-4619-ba7b-a051c9b36bbb",
   "metadata": {},
   "source": [
    "Now, run the following cell to plot the line produced by calling `fit_line` on the `birds` table.\n",
    "\n",
    "**Note:** You are not responsible for the code in the cell below, but make sure that your `fit_line` function generates a reasonable line for the data. Compare the line with the line produced in the scatter plot above with the `fit_line=True` parameter."
   ]
  },
  {
   "cell_type": "code",
   "execution_count": 53,
   "id": "2c710586-dae3-4b53-a843-10d4abdefe08",
   "metadata": {},
   "outputs": [
    {
     "data": {
      "image/png": "[encoded data removed]",
      "text/plain": [
       "<Figure size 500x500 with 1 Axes>"
      ]
     },
     "metadata": {},
     "output_type": "display_data"
    }
   ],
   "source": [
    "# Just run this cell\n",
    "slope, intercept = fit_line(birds, \"Egg Weight\", \"Bird Weight\")\n",
    "birds.scatter(\"Egg Weight\", \"Bird Weight\")\n",
    "plt.plot([min(birds.column(\"Egg Weight\")), \n",
    "          max(birds.column(\"Egg Weight\"))], \n",
    "         [slope*min(birds.column(\"Egg Weight\"))+intercept, \n",
    "          slope*max(birds.column(\"Egg Weight\"))+intercept])\n",
    "plt.show()"
   ]
  },
  {
   "cell_type": "markdown",
   "id": "e7dab465-7483-4932-85ea-28f0700f0a91",
   "metadata": {
    "tags": []
   },
   "source": [
    "#### Task 17 📍"
   ]
  },
  {
   "cell_type": "markdown",
   "id": "32a19b17-b5bb-4ad5-b538-7bf9b9b43dc6",
   "metadata": {
    "deletable": false,
    "editable": false
   },
   "source": [
    "With a linear regression model, update the `birds` table with a column of predicted birth weights using the regression line and the associated residuals.\n",
    "\n",
    "1. Create an array called `predicted_bird_weights` that contains the predicted bird weights from the regression line.\n",
    "2. Create an array called `residuals` that contains the residuals associated with those predictions.\n",
    "3. Update the `birds` table to include columns `'Predicted Bird Weight'` and `'Residual'` with their respective data.\n",
    "\n",
    "_Points:_ 3"
   ]
  },
  {
   "cell_type": "code",
   "execution_count": 54,
   "id": "47206a06-9dbb-4c16-bde9-e97f39584a3b",
   "metadata": {
    "tags": [
     "otter_assign_solution_cell"
    ]
   },
   "outputs": [],
   "source": [
    "\"\"\" # BEGIN PROMPT\n",
    "predicted_bird_weights = ...\n",
    "residuals = ...\n",
    "birds = birds.with_columns(\n",
    "    'Predicted Bird Weight', ...,\n",
    "    'Residual', ...)\n",
    "\"\"\"; # END PROMPT\n",
    "# BEGIN SOLUTION NO PROMPT\n",
    "predicted_bird_weights = slope * birds.column('Egg Weight') + intercept\n",
    "residuals = birds.column('Bird Weight') - predicted_bird_weights\n",
    "birds = birds.with_columns(\n",
    "    'Predicted Bird Weight', predicted_bird_weights,\n",
    "    'Residual', residuals)\n",
    "# END SOLUTION"
   ]
  },
  {
   "cell_type": "code",
   "execution_count": null,
   "id": "2083660a",
   "metadata": {
    "deletable": false,
    "editable": false
   },
   "outputs": [],
   "source": [
    "grader.check(\"task_17\")"
   ]
  },
  {
   "cell_type": "markdown",
   "id": "09364583-819c-48fb-8428-3dab0dc8c0db",
   "metadata": {
    "tags": []
   },
   "source": [
    "#### Task 18 📍🔎"
   ]
  },
  {
   "cell_type": "markdown",
   "id": "56f5c833-dd2e-401f-ac01-1060abfe4bae",
   "metadata": {
    "deletable": false,
    "editable": false
   },
   "source": [
    "<!-- BEGIN QUESTION -->\n",
    "\n",
    "Now that you have the residuals for these predictions:\n",
    "1. Create a residual plot showing egg weights on the horizontal axis and the residuals on the vertical axis.\n",
    "2. In the space provided, provide a short justification as to why it is reasonable to predict bird weight from egg weight using the linear model. Make sure to point out features from the residual plot relevant to [Section 15.5](https://inferentialthinking.com/chapters/15/5/Visual_Diagnostics.html#regression-diagnostics) that back up your justification. Additionally, it is reasonable to express concerns about applying a model to a given situation, so you are welcome to point out any concerns in relation to the content from Section 15.5.\n",
    "\n",
    "_Points:_ 2"
   ]
  },
  {
   "cell_type": "markdown",
   "id": "5fd59018",
   "metadata": {},
   "source": [
    "_Type your answer here, replacing this text._"
   ]
  },
  {
   "cell_type": "code",
   "execution_count": 60,
   "id": "735b1002-873b-479e-8f16-42f123a09fc0",
   "metadata": {
    "tags": [
     "otter_assign_solution_cell"
    ]
   },
   "outputs": [
    {
     "data": {
      "image/png": "[encoded data removed]",
      "text/plain": [
       "<Figure size 500x500 with 1 Axes>"
      ]
     },
     "metadata": {},
     "output_type": "display_data"
    }
   ],
   "source": [
    "# Generate the residual plot here\n",
    "birds.scatter('Egg Weight', 'Residual')"
   ]
  },
  {
   "cell_type": "markdown",
   "id": "b83c6cd6-8b91-4c38-ab4c-fb8d8b265355",
   "metadata": {
    "tags": [
     "otter_assign_solution_cell"
    ]
   },
   "source": [
    "#### Sample Solution"
   ]
  },
  {
   "cell_type": "markdown",
   "id": "2362d41e-e055-4723-9580-4d8886fa4181",
   "metadata": {
    "tags": [
     "otter_assign_solution_cell"
    ]
   },
   "source": [
    "According to Section 15.5, the residual plot should show no pattern and the points should be centered vertically around 0. A valid concern about applying linear regression is the lack of heteroscedasticity. The spread is much smaller below egg weights of 8.0 and above 9.5."
   ]
  },
  {
   "cell_type": "markdown",
   "id": "7590cfac-a58e-4011-a3a5-8aef46576416",
   "metadata": {
    "deletable": false,
    "editable": false
   },
   "source": [
    "<!-- END QUESTION -->\n",
    "\n",
    "### Finding the Bootstrap Confidence Interval for the True Slope"
   ]
  },
  {
   "cell_type": "code",
   "execution_count": 61,
   "id": "6b9e869b-e097-473e-9e37-b4a2b0f88fe8",
   "metadata": {},
   "outputs": [
    {
     "data": {
      "image/png": "[encoded data removed]",
      "text/plain": [
       "<Figure size 500x500 with 1 Axes>"
      ]
     },
     "metadata": {},
     "output_type": "display_data"
    }
   ],
   "source": [
    "# Just run this cell\n",
    "birds.scatter('Egg Weight', \"Bird Weight\", fit_line=True)"
   ]
  },
  {
   "cell_type": "markdown",
   "id": "87dfefd9-08e0-4220-a437-0a8eac256780",
   "metadata": {},
   "source": [
    "Looking at the scatter plot of our sample, we observe a linear relationship between egg weight and bird weight. However, relationships that appear in a sample might not exist in the population from which the sample was taken.\n",
    "\n",
    "We want to know if there truly exists a linear relationship between egg weight and bird weight for Snowy Plovers. If there is no linear relationship between the two variables, then we'd expect a correlation of 0. Consequently, the slope of the regression line would also be 0. \n",
    "\n",
    "We highly recommend reviewing section [16.2](https://inferentialthinking.com/chapters/16/2/Inference_for_the_True_Slope.html) before attempting this part of the homework"
   ]
  },
  {
   "cell_type": "markdown",
   "id": "8b1cf511-5edb-4395-bb6d-77bfbbce4bc3",
   "metadata": {},
   "source": [
    "#### Task 19 📍"
   ]
  },
  {
   "cell_type": "markdown",
   "id": "64db0cd9-2649-4c88-8b4e-453498696e3f",
   "metadata": {
    "deletable": false,
    "editable": false
   },
   "source": [
    "Let's run a hypothesis test using confidence intervals to see if there is a linear relationship between egg weight and bird weight. Define the null and alternative hypotheses that will allow you to conduct this test.\n",
    "\n",
    "- **Null Hypothesis: The true slope of the regression line relating egg weight and bird weight for Snowy Plovers is ____.**\n",
    "- **Alternative Hypothesis: The true slope of the regression line relating egg weight and bird weight for Snowy Plovers is not ____.**\n",
    "\n",
    "Assign `slope_null_value` to the numerical value that completes both of the above statements to form an appropriate pair of hypotheses for this test.\n",
    "\n",
    "_Points:_ 2"
   ]
  },
  {
   "cell_type": "code",
   "execution_count": 62,
   "id": "3013fbe8-a52d-4cac-9b3a-ae335920ade7",
   "metadata": {
    "tags": [
     "otter_assign_solution_cell"
    ]
   },
   "outputs": [],
   "source": [
    "slope_null_value = 0 # SOLUTION"
   ]
  },
  {
   "cell_type": "code",
   "execution_count": null,
   "id": "95864523",
   "metadata": {
    "deletable": false,
    "editable": false
   },
   "outputs": [],
   "source": [
    "grader.check(\"task_19\")"
   ]
  },
  {
   "cell_type": "markdown",
   "id": "b766c919-4e1d-4e3e-a7bc-34473a345401",
   "metadata": {},
   "source": [
    "Next, you will create a confidence interval that quantifies our uncertainty about the true relationship between egg weight and bird weight."
   ]
  },
  {
   "cell_type": "markdown",
   "id": "947e9c20-8605-4566-9352-a7cf975dbd25",
   "metadata": {
    "tags": []
   },
   "source": [
    "#### Task 20 📍"
   ]
  },
  {
   "cell_type": "markdown",
   "id": "c1f17d7a-4d69-4e9b-aea7-2d1a9a5001ef",
   "metadata": {
    "deletable": false,
    "editable": false
   },
   "source": [
    "Create an array called `resampled_slopes` that contains the slope of the best fit line for 1,000 bootstrap resamples of `birds`. Plot the distribution of these slopes.\n",
    "\n",
    "_Points:_ 2"
   ]
  },
  {
   "cell_type": "code",
   "execution_count": 65,
   "id": "dc557814-edd9-494d-975a-2f07a9a11567",
   "metadata": {
    "tags": [
     "otter_assign_solution_cell"
    ]
   },
   "outputs": [
    {
     "data": {
      "image/png": "[encoded data removed]",
      "text/plain": [
       "<Figure size 600x400 with 1 Axes>"
      ]
     },
     "metadata": {},
     "output_type": "display_data"
    }
   ],
   "source": [
    "\"\"\" # BEGIN PROMPT\n",
    "resampled_slopes = ...\n",
    "\n",
    "for i in np.arange(1_000): \n",
    "    birds_bootstrap = ...\n",
    "    bootstrap_line = ...\n",
    "    bootstrap_slope = ...\n",
    "    resampled_slopes = ...\n",
    "    \n",
    "# DO NOT CHANGE THIS LINE\n",
    "Table().with_column(\"Slope estimate\", resampled_slopes).hist()\n",
    "\"\"\"; # END PROMPT\n",
    "# BEGIN SOLUTION NO PROMPT\n",
    "resampled_slopes = make_array()\n",
    "\n",
    "for i in np.arange(1_000): \n",
    "    birds_bootstrap = birds.sample()\n",
    "    bootstrap_line = fit_line(birds_bootstrap, \"Egg Weight\", \"Bird Weight\")\n",
    "    bootstrap_slope = bootstrap_line.item(0)\n",
    "    resampled_slopes = np.append(resampled_slopes, bootstrap_slope)\n",
    "    \n",
    "# DO NOT CHANGE THIS LINE\n",
    "Table().with_column(\"Slope estimate\", resampled_slopes).hist()\n",
    "# END SOLUTION"
   ]
  },
  {
   "cell_type": "code",
   "execution_count": null,
   "id": "f9e0fe3c",
   "metadata": {
    "deletable": false,
    "editable": false
   },
   "outputs": [],
   "source": [
    "grader.check(\"task_20\")"
   ]
  },
  {
   "cell_type": "markdown",
   "id": "fac28c70-9f1d-46e0-a5f4-a64a260805f3",
   "metadata": {
    "tags": []
   },
   "source": [
    "#### Task 21 📍"
   ]
  },
  {
   "cell_type": "markdown",
   "id": "ce1006f9-3156-493f-9cb5-0f348d09c255",
   "metadata": {
    "deletable": false,
    "editable": false
   },
   "source": [
    "Use your resampled slopes to construct an 95% confidence interval for the true value of the slope.\n",
    "\n",
    "_Points:_ 3"
   ]
  },
  {
   "cell_type": "code",
   "execution_count": 68,
   "id": "7beb0a19-cca6-45a8-ab10-2cc997c50821",
   "metadata": {
    "tags": [
     "otter_assign_solution_cell"
    ]
   },
   "outputs": [
    {
     "name": "stdout",
     "output_type": "stream",
     "text": [
      "95% confidence interval for slope: [0.601022, 0.819141]\n"
     ]
    }
   ],
   "source": [
    "\"\"\" # BEGIN PROMPT\n",
    "lower_end = ...\n",
    "upper_end = ...\n",
    "print(\"95% confidence interval for slope: [{:g}, {:g}]\".format(lower_end, upper_end))\n",
    "\"\"\"; # END PROMPT\n",
    "# BEGIN SOLUTION NO PROMPT\n",
    "lower_end = percentile(2.5, resampled_slopes)\n",
    "upper_end = percentile(97.5, resampled_slopes)\n",
    "print(\"95% confidence interval for slope: [{:g}, {:g}]\".format(lower_end, upper_end))\n",
    "# END SOLUTION"
   ]
  },
  {
   "cell_type": "code",
   "execution_count": null,
   "id": "c08f9e2f",
   "metadata": {
    "deletable": false,
    "editable": false
   },
   "outputs": [],
   "source": [
    "grader.check(\"task_21\")"
   ]
  },
  {
   "cell_type": "markdown",
   "id": "22e19aac-46d6-4603-b537-ea04569b9276",
   "metadata": {},
   "source": [
    "#### Task 22 📍🔎"
   ]
  },
  {
   "cell_type": "markdown",
   "id": "003c0493-55ac-4765-9a2f-f416fb37106e",
   "metadata": {
    "deletable": false,
    "editable": false
   },
   "source": [
    "<!-- BEGIN QUESTION -->\n",
    "\n",
    "In your response, make to address the following:\n",
    "1. Based on your confidence interval, would you **reject** or **fail to reject** the null hypothesis that the true slope is 0? \n",
    "2. Provide an explanation Why?  \n",
    "3. What p-value cutoff are you using?\n",
    "\n",
    "**Hint:** Re-read the [Regression Inference section](#Regression-Inference) of this homework.\n",
    "\n",
    "_Points:_ 2"
   ]
  },
  {
   "cell_type": "markdown",
   "id": "390a0663",
   "metadata": {},
   "source": [
    "_Type your answer here, replacing this text._"
   ]
  },
  {
   "cell_type": "markdown",
   "id": "07e72bc5-9545-4896-97bb-a854f3a22a1c",
   "metadata": {
    "tags": [
     "otter_assign_solution_cell"
    ]
   },
   "source": [
    "#### Sample Solution"
   ]
  },
  {
   "cell_type": "markdown",
   "id": "4f476375-68c6-494d-a652-7c22f6378f0b",
   "metadata": {
    "tags": [
     "otter_assign_solution_cell"
    ]
   },
   "source": [
    "1. Based on this confidence interval, I would reject the null hypothesis that the true slope is 0.\n",
    "2. I came to this conclusions since the hypothesized slope value of 0 is not in the 95% confidence interval estimate for the true slope that I just produced (e.g. [0.609212, 0.811845])\n",
    "3. With a 95% confidence interval, I'm using a p-value cutoff of 5%."
   ]
  },
  {
   "cell_type": "markdown",
   "id": "88bec006-2d32-40bc-aefa-d2b6b1088914",
   "metadata": {
    "deletable": false,
    "editable": false
   },
   "source": [
    "<!-- END QUESTION -->\n",
    "\n",
    "---"
   ]
  },
  {
   "cell_type": "markdown",
   "id": "ae0de7e7-45a7-4d2a-860a-337e1e30f93c",
   "metadata": {},
   "source": [
    "## Submit Your Assignment to Canvas"
   ]
  },
  {
   "cell_type": "markdown",
   "id": "4151561b-ff87-4615-ae35-9f3b8623c3a4",
   "metadata": {},
   "source": [
    "Follow these steps to submit your homework assignment:\n",
    "\n",
    "1. **Review the Rubric:** View the rubric on the associated Canvas Assignment page to understand the scoring criteria.\n",
    "2. **Run the Auto-Grader:** Ensure you have executed the code cell containing the command `grader.check_all()` to run all tests for auto-graded tasks marked with 📍. This command will execute all auto-grader tests sequentially.\n",
    "3. **Complete Manually Graded Tasks:** Verify that you have responded to all the manually graded tasks marked with 📍🔎.\n",
    "4. **Save Your Work:** In the notebook's Toolbar, go to `File -> Save Notebook` to save your work and create a checkpoint.\n",
    "5. **Download the Notebook:** In the notebook's Toolbar, go to `File -> Download IPYNB` to download the notebook (`.ipynb`) file.\n",
    "6. **Upload to Canvas:** On the Canvas Assignment page, click \"Start Assignment\" or \"New Attempt\" to upload the downloaded `.ipynb` file."
   ]
  },
  {
   "cell_type": "markdown",
   "id": "680a7228-e998-4896-80a3-04ed8a412fc8",
   "metadata": {},
   "source": [
    "---"
   ]
  },
  {
   "cell_type": "markdown",
   "id": "def4c13a-b86b-446a-99c5-e2b859d7debc",
   "metadata": {
    "editable": true,
    "slideshow": {
     "slide_type": "notes"
    },
    "tags": []
   },
   "source": [
    "## Attribution"
   ]
  },
  {
   "cell_type": "markdown",
   "id": "6670fdd2-67bd-4d02-a5b9-ced9bd2b8590",
   "metadata": {},
   "source": [
    "This content is licensed under the <a href=\"https://creativecommons.org/licenses/by-nc-sa/4.0/\">Creative Commons Attribution-NonCommercial-ShareAlike 4.0 International License (CC BY-NC-SA 4.0)</a> and derived from the <a href=\"https://www.data8.org/\">Data 8: The Foundations of Data Science</a> offered by the University of California, Berkeley.\n",
    "\n",
    "<img src=\"./by-nc-sa.png\" width=100px>"
   ]
  },
  {
   "cell_type": "markdown",
   "id": "a53e32a7",
   "metadata": {
    "deletable": false,
    "editable": false
   },
   "source": [
    "---\n",
    "\n",
    "To double-check your work, the cell below will rerun all of the autograder tests."
   ]
  },
  {
   "cell_type": "code",
   "execution_count": null,
   "id": "ed87ab93",
   "metadata": {
    "deletable": false,
    "editable": false
   },
   "outputs": [],
   "source": [
    "grader.check_all()"
   ]
  }
 ],
 "metadata": {
  "kernelspec": {
   "display_name": "Python 3 (ipykernel)",
   "language": "python",
   "name": "python3"
  },
  "language_info": {
   "codemirror_mode": {
    "name": "ipython",
    "version": 3
   },
   "file_extension": ".py",
   "mimetype": "text/x-python",
   "name": "python",
   "nbconvert_exporter": "python",
   "pygments_lexer": "ipython3",
   "version": "3.11.9"
  },
  "otter": {
   "OK_FORMAT": true,
   "assignment_name": "hw11_fa24",
   "tests": {
    "task_01": {
     "name": "task_01",
     "points": 2,
     "suites": [
      {
       "cases": [
        {
         "code": ">>> standard_units(make_array(1, 2, 3, 4, 5))\narray([-1.41421356, -0.70710678,  0.        ,  0.70710678,  1.41421356])",
         "failure_message": "❌ standard_units doesn't work for the test data we provided.",
         "hidden": false,
         "locked": false,
         "points": 0.5,
         "success_message": "✅ standard_units works for the test data we provided."
        },
        {
         "code": ">>> np.isclose(np.mean(standard_units([1, 2, 3, 4, 5])), 0)\nTrue",
         "failure_message": "❌ The mean of the standardized test data should be 0.",
         "hidden": false,
         "locked": false,
         "points": 0.25,
         "success_message": "✅ The mean of the standardized test data is 0."
        },
        {
         "code": ">>> np.isclose(np.std(standard_units([1, 2, 3, 4, 5])), 0.9999999999999999)\nTrue",
         "failure_message": "❌ The standard deviation of the standardized test data should be 1.",
         "hidden": false,
         "locked": false,
         "points": 0.25,
         "success_message": "✅ The standard deviation of the standardized test data is 1."
        },
        {
         "code": ">>> standard_units([-3, -2, 1, 0, 1, 2, 3])\narray([-1.65988202, -1.15470054,  0.36084392, -0.14433757,  0.36084392,\n        0.8660254 ,  1.37120689])",
         "hidden": true,
         "locked": false,
         "points": 1
        }
       ],
       "scored": true,
       "setup": "",
       "teardown": "",
       "type": "doctest"
      }
     ]
    },
    "task_02": {
     "name": "task_02",
     "points": 2,
     "suites": [
      {
       "cases": [
        {
         "code": ">>> set(standard_array).issubset({1, 2, 3, 4, 5})\nTrue",
         "failure_message": "❌ standard_array should contain some of the integers 1, 2, 3, 4, or 5.",
         "hidden": false,
         "locked": false,
         "points": 1,
         "success_message": "✅ standard_array contains some of the integers 1, 2, 3, 4, or 5."
        },
        {
         "code": ">>> set(standard_array) == {2, 3, 4, 5}\nTrue",
         "hidden": true,
         "locked": false,
         "points": 1
        }
       ],
       "scored": true,
       "setup": "",
       "teardown": "",
       "type": "doctest"
      }
     ]
    },
    "task_03": {
     "name": "task_03",
     "points": 2,
     "suites": [
      {
       "cases": [
        {
         "code": ">>> np.isclose(correlation([1, 2, 3], [4, 5, 6]), 0.9999999999999999)\nTrue",
         "failure_message": "❌ correlation should show that linear data has a coefficient of 1.",
         "hidden": false,
         "locked": false,
         "points": 1,
         "success_message": "✅ correlation shows that linear data has a coefficient of 1."
        },
        {
         "code": ">>> np.isclose(correlation([-3, 0, 3], [-3, 0, 3]), 1.0000000000000002)\nTrue",
         "hidden": true,
         "locked": false,
         "points": 1
        }
       ],
       "scored": true,
       "setup": "",
       "teardown": "",
       "type": "doctest"
      }
     ]
    },
    "task_04": {
     "name": "task_04",
     "points": 2,
     "suites": [
      {
       "cases": [
        {
         "code": ">>> set(r_array).issubset({1, 2, 3, 4, 5})\nTrue",
         "failure_message": "❌ r_array should contain some of the integers 1, 2, 3, 4, or 5.",
         "hidden": false,
         "locked": false,
         "points": 1,
         "success_message": "✅ r_array contains some of the integers 1, 2, 3, 4, or 5."
        },
        {
         "code": ">>> set(r_array) == {1, 3, 4}\nTrue",
         "hidden": true,
         "locked": false,
         "points": 1
        }
       ],
       "scored": true,
       "setup": "",
       "teardown": "",
       "type": "doctest"
      }
     ]
    },
    "task_05": {
     "name": "task_05",
     "points": 2,
     "suites": [
      {
       "cases": [
        {
         "code": ">>> test_data = make_array(1, 2, 3, 4)\n>>> np.isclose(slope(test_data, 2 * test_data), 2)\nTrue",
         "failure_message": "❌ slope did not produce the correct result for our test data set.",
         "hidden": false,
         "locked": false,
         "points": 1,
         "success_message": "✅ slope produced the correct result for our test data set."
        },
        {
         "code": ">>> np.isclose(slope(make_array(1, -20, 1, 2), make_array(1, 20, 3, 4)), -0.8070175438596492)\nTrue",
         "hidden": true,
         "locked": false,
         "points": 0.5
        },
        {
         "code": ">>> np.isclose(slope(make_array(1, 2, 3, 4), make_array(-1, -2, -3, -4)), -1)\nTrue",
         "hidden": true,
         "locked": false,
         "points": 0.5
        }
       ],
       "scored": true,
       "setup": "",
       "teardown": "",
       "type": "doctest"
      }
     ]
    },
    "task_06": {
     "name": "task_06",
     "points": 2,
     "suites": [
      {
       "cases": [
        {
         "code": ">>> set(slope_array).issubset({1, 2, 3, 4, 5})\nTrue",
         "failure_message": "❌ slope_array should contain some of the integers 1, 2, 3, 4, or 5.",
         "hidden": false,
         "locked": false,
         "points": 1,
         "success_message": "✅ slope_array contains some of the integers 1, 2, 3, 4, or 5."
        },
        {
         "code": ">>> set(slope_array) == {1, 2, 4, 5}\nFalse",
         "hidden": true,
         "locked": false,
         "points": 1
        }
       ],
       "scored": true,
       "setup": "",
       "teardown": "",
       "type": "doctest"
      }
     ]
    },
    "task_07": {
     "name": "task_07",
     "points": 2,
     "suites": [
      {
       "cases": [
        {
         "code": ">>> test_data = make_array(1, 2, 3, 4)\n>>> np.isclose(intercept(test_data, 2 * test_data), 0)\nTrue",
         "failure_message": "❌ intercept did not produce the correct result for our test data set.",
         "hidden": false,
         "locked": false,
         "points": 1,
         "success_message": "✅ intercept produced the correct result for our test data set."
        },
        {
         "code": ">>> np.isclose(intercept(make_array(1, -20, 1, 2), make_array(1, 20, 3, 4)), 3.7719298245614032)\nTrue",
         "hidden": true,
         "locked": false,
         "points": 0.5
        },
        {
         "code": ">>> np.isclose(intercept(make_array(1, 2, 3, 4), make_array(-1, -2, -3, -4)), 0)\nTrue",
         "hidden": true,
         "locked": false,
         "points": 0.5
        }
       ],
       "scored": true,
       "setup": "",
       "teardown": "",
       "type": "doctest"
      }
     ]
    },
    "task_08": {
     "name": "task_08",
     "points": 2,
     "suites": [
      {
       "cases": [
        {
         "code": ">>> set(intercept_array).issubset({1, 2, 3, 4, 5})\nTrue",
         "failure_message": "❌ intercept_array should contain some of the integers 1, 2, 3, 4, or 5.",
         "hidden": false,
         "locked": false,
         "points": 1,
         "success_message": "✅ intercept_array contains some of the integers 1, 2, 3, 4, or 5."
        },
        {
         "code": ">>> set(intercept_array) == {1, 4}\nTrue",
         "hidden": true,
         "locked": false,
         "points": 1
        }
       ],
       "scored": true,
       "setup": "",
       "teardown": "",
       "type": "doctest"
      }
     ]
    },
    "task_09": {
     "name": "task_09",
     "points": 3,
     "suites": [
      {
       "cases": [
        {
         "code": ">>> test_data = make_array(1, 2, 3, 4)\n>>> test_tbl = Table().with_columns('x_col', test_data, 'y_col', 2 * test_data)\n>>> test_prediction = predict(test_tbl, 'x_col', 'y_col')\n>>> isinstance(test_prediction, np.ndarray)\nTrue",
         "failure_message": "❌ predict should return an array.",
         "hidden": false,
         "locked": false,
         "points": 0.5,
         "success_message": "✅ predict returns an array."
        },
        {
         "code": ">>> test_data = make_array(1, 2, 3, 4)\n>>> test_tbl = Table().with_columns('x_col', test_data, 'y_col', 2 * test_data)\n>>> predict(test_tbl, 'x_col', 'y_col')\narray([ 2.,  4.,  6.,  8.])",
         "failure_message": "❌ predict seems to work correctly on the test data we used.",
         "hidden": false,
         "locked": false,
         "points": 0.5,
         "success_message": "✅ predict seems to work correctly on the test data we used."
        },
        {
         "code": ">>> test_data = make_array(-2, -1, 1, 2)\n>>> test_tbl = Table().with_columns('x_col', test_data, 'y_col', test_data)\n>>> predict(test_tbl, 'x_col', 'y_col')\narray([-2., -1.,  1.,  2.])",
         "failure_message": "❌ predict seems to work correctly on the test data we used.",
         "hidden": false,
         "locked": false,
         "points": 0.5,
         "success_message": "✅ predict seems to work correctly on the test data we used."
        },
        {
         "code": ">>> test_data = make_array(-2, -1, 1, 2)\n>>> test_tbl = Table().with_columns('x_col', test_data, 'y_col', -1 * test_data)\n>>> predict(test_tbl, 'x_col', 'y_col')\narray([ 2.,  1., -1., -2.])",
         "failure_message": "❌ predict seems to work correctly on the test data we used.",
         "hidden": false,
         "locked": false,
         "points": 0.5,
         "success_message": "✅ predict seems to work correctly on the test data we used."
        },
        {
         "code": ">>> test_tbl = Table().with_columns('x_col', make_array(-20, -1, 11, 2), 'y_col', make_array(2, -100, 21, 22))\n>>> predict(test_tbl, 'x_col', 'y_col')\narray([-21.69117647, -13.30882353,  -8.01470588, -11.98529412])",
         "hidden": true,
         "locked": false,
         "points": 1
        }
       ],
       "scored": true,
       "setup": "",
       "teardown": "",
       "type": "doctest"
      }
     ]
    },
    "task_13": {
     "name": "task_13",
     "points": 2,
     "suites": [
      {
       "cases": [
        {
         "code": ">>> max_value_eur = np.max(fifa.column('value_eur'))\n>>> min_value_eur = np.min(fifa.column('value_eur'))\n>>> max_age = np.max(fifa.column('age'))\n>>> min_age = np.min(fifa.column('age'))\n>>> test_slope = (max_value_eur - min_value_eur) / (max_age - min_age)\n>>> test_intercept = 1.2 * 100000000.0\n>>> test_rmse = rmse(test_slope, test_intercept)\n>>> isinstance(test_rmse, (float, np.float32, np.float64))\nTrue",
         "failure_message": "❌ rmse should return a float.",
         "hidden": false,
         "locked": false,
         "points": 0.5,
         "success_message": "✅ rmse returns a float."
        },
        {
         "code": ">>> max_value_eur = np.max(fifa.column('value_eur'))\n>>> min_value_eur = np.min(fifa.column('value_eur'))\n>>> max_age = np.max(fifa.column('age'))\n>>> min_age = np.min(fifa.column('age'))\n>>> test_slope = (max_value_eur - min_value_eur) / (max_age - min_age)\n>>> test_intercept = 1.2 * 100000000.0\n>>> np.isclose(rmse(test_slope, test_intercept), 346627863.32058465)\nTrue",
         "failure_message": "❌ rmse does not seem to work on our test data.",
         "hidden": false,
         "locked": false,
         "points": 0.5,
         "success_message": "✅ rmse seems to work on our test data."
        },
        {
         "code": ">>> fit_slope = slope(fifa.column('age'), fifa.column('value_eur'))\n>>> fit_intercept = intercept(fifa.column('age'), fifa.column('value_eur'))\n>>> np.isclose(rmse(fit_slope, fit_intercept), 23095130.84371943)\nTrue",
         "hidden": true,
         "locked": false,
         "points": 1
        }
       ],
       "scored": true,
       "setup": "",
       "teardown": "",
       "type": "doctest"
      }
     ]
    },
    "task_16": {
     "name": "task_16",
     "points": 3,
     "suites": [
      {
       "cases": [
        {
         "code": ">>> type(fit_line(Table().with_columns('x', make_array(0, 1), 'y', make_array(1, 3)), 'x', 'y')) == np.ndarray\nTrue",
         "failure_message": "❌ Your fit_line function should produce an array.",
         "hidden": false,
         "locked": false,
         "points": 0.5,
         "success_message": "✅ Your fit_line function produces an array."
        },
        {
         "code": ">>> len(fit_line(Table().with_columns('x', make_array(0, 1), 'y', make_array(1, 3)), 'x', 'y')) == 2\nTrue",
         "failure_message": "❌ The array from your fit_line function should contain 2 items.",
         "hidden": false,
         "locked": false,
         "points": 0.5,
         "success_message": "✅ The array from your fit_line function contains 2 items."
        },
        {
         "code": ">>> np.allclose(np.round(fit_line(Table().with_columns('x', make_array(0, 1), 'y', make_array(1, 3)), 'x', 'y'), 5), np.array([2, 1]))\nTrue",
         "failure_message": "❌ Your fit_line function did not produce the correct two values for our test data.",
         "hidden": false,
         "locked": false,
         "points": 1,
         "success_message": "✅ Your fit_line function produced the correct two values for our test data."
        },
        {
         "code": ">>> np.isclose(fit_line(birds, 'Egg Weight', 'Bird Weight').item(0), 0.71851534)\nTrue",
         "hidden": true,
         "locked": false,
         "points": 0.5
        },
        {
         "code": ">>> np.isclose(fit_line(birds, 'Egg Weight', 'Bird Weight').item(1), -0.05827226)\nTrue",
         "hidden": true,
         "locked": false,
         "points": 0.5
        }
       ],
       "scored": true,
       "setup": "",
       "teardown": "",
       "type": "doctest"
      }
     ]
    },
    "task_17": {
     "name": "task_17",
     "points": 3,
     "suites": [
      {
       "cases": [
        {
         "code": ">>> set(birds.labels) == {'Egg Length', 'Egg Breadth', 'Egg Weight', 'Bird Weight', 'Predicted Bird Weight', 'Residual'}\nTrue",
         "failure_message": "❌ The birds table does not have the correct labels.",
         "hidden": false,
         "locked": false,
         "points": 0.5,
         "success_message": "✅ The birds table has the correct labels."
        },
        {
         "code": ">>> np.isclose(np.sum(predicted_bird_weights), 270.4000000000001)\nTrue",
         "failure_message": "❌ The sum of your predicted bird weights doesn't seem correct.",
         "hidden": false,
         "locked": false,
         "points": 0.5,
         "success_message": "✅ The sum of your predicted bird weights seems correct."
        },
        {
         "code": ">>> np.isclose(np.average(residuals), 0)\nTrue",
         "failure_message": "❌ The average residual calculated from your array residuals should be (approximately) 0.",
         "hidden": false,
         "locked": false,
         "points": 0.5,
         "success_message": "✅ The average residual calculated from your array residuals is (approximately) 0."
        },
        {
         "code": ">>> np.isclose(correlation(birds, 'Egg Weight', 'Residual'), 0)\nTrue",
         "failure_message": "❌ The correlation between the egg weights and residuals calculated from your birds table should be (approximately) 0.",
         "hidden": false,
         "locked": false,
         "points": 0.5,
         "success_message": "✅ The correlation between the egg weights and residuals calculated from your birds table is (approximately) 0."
        },
        {
         "code": ">>> birds.sort('Residual')\nEgg Length | Egg Breadth | Egg Weight | Bird Weight | Predicted Bird Weight | Residual\n32.14      | 22.87       | 8.9        | 5.8         | 6.33651               | -0.536514\n31.18      | 22.92       | 8.6        | 5.6         | 6.12096               | -0.52096\n31.14      | 23.7        | 8.9        | 6           | 6.33651               | -0.336514\n30.54      | 23.31       | 9          | 6.1         | 6.40837               | -0.308366\n32.72      | 23.25       | 9.2        | 6.3         | 6.55207               | -0.252069\n30.34      | 22.84       | 8.5        | 5.8         | 6.04911               | -0.249108\n32.16      | 23.34       | 9.2        | 6.4         | 6.55207               | -0.152069\n32.78      | 23.23       | 9.2        | 6.4         | 6.55207               | -0.152069\n31.56      | 22.54       | 8.5        | 5.9         | 6.04911               | -0.149108\n30.71      | 22.51       | 8.2        | 5.7         | 5.83355               | -0.133554\n... (34 rows omitted)",
         "hidden": true,
         "locked": false,
         "points": 1
        }
       ],
       "scored": true,
       "setup": "",
       "teardown": "",
       "type": "doctest"
      }
     ]
    },
    "task_19": {
     "name": "task_19",
     "points": 2,
     "suites": [
      {
       "cases": [
        {
         "code": ">>> isinstance(slope_null_value, (int, np.float32, np.float64))\nTrue",
         "failure_message": "❌ slope_null_value should be assigned to a number.",
         "hidden": false,
         "locked": false,
         "points": 1,
         "success_message": "✅ slope_null_value is assigned to a number."
        },
        {
         "code": ">>> slope_null_value == 0\nTrue",
         "hidden": true,
         "locked": false,
         "points": 1
        }
       ],
       "scored": true,
       "setup": "",
       "teardown": "",
       "type": "doctest"
      }
     ]
    },
    "task_20": {
     "name": "task_20",
     "points": 2,
     "suites": [
      {
       "cases": [
        {
         "code": ">>> isinstance(resampled_slopes, np.ndarray)\nTrue",
         "failure_message": "❌ resampled_slopes should be an array.",
         "hidden": false,
         "locked": false,
         "points": 1,
         "success_message": "✅ resampled_slopes is an array."
        },
        {
         "code": ">>> isinstance(resampled_slopes[0], (int, np.float32, np.float64)) and len(resampled_slopes) == 1000\nTrue",
         "failure_message": "❌ resampled_slopes should contain 1,000 numerical values.",
         "hidden": false,
         "locked": false,
         "points": 1,
         "success_message": "✅ resampled_slopes contains 1,000 numerical values."
        }
       ],
       "scored": true,
       "setup": "",
       "teardown": "",
       "type": "doctest"
      }
     ]
    },
    "task_21": {
     "name": "task_21",
     "points": 3,
     "suites": [
      {
       "cases": [
        {
         "code": ">>> lower_end > 0\nTrue",
         "failure_message": "❌ The lower_end value should be greater than 0.",
         "hidden": false,
         "locked": false,
         "points": 0.5,
         "success_message": "✅ The lower_end value is greater than 0."
        },
        {
         "code": ">>> upper_end < 4\nTrue",
         "failure_message": "❌ The upper_end value should be less than 4.",
         "hidden": false,
         "locked": false,
         "points": 0.5,
         "success_message": "✅ The upper_end value is less than 4."
        },
        {
         "code": ">>> lower_end == percentile(2.5, resampled_slopes)\nTrue",
         "hidden": true,
         "locked": false,
         "points": 1
        },
        {
         "code": ">>> upper_end == percentile(97.5, resampled_slopes)\nTrue",
         "hidden": true,
         "locked": false,
         "points": 1
        }
       ],
       "scored": true,
       "setup": "",
       "teardown": "",
       "type": "doctest"
      }
     ]
    }
   }
  }
 },
 "nbformat": 4,
 "nbformat_minor": 5
}
